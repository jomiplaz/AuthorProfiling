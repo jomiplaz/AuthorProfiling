{
  "nbformat": 4,
  "nbformat_minor": 0,
  "metadata": {
    "colab": {
      "name": "Lenguaje Natural y TextMining_v1.ipynb",
      "version": "0.3.2",
      "provenance": [],
      "collapsed_sections": []
    },
    "kernelspec": {
      "name": "python3",
      "display_name": "Python 3"
    },
    "accelerator": "TPU"
  },
  "cells": [
    {
      "cell_type": "markdown",
      "metadata": {
        "id": "0SB1XTWd9wCy",
        "colab_type": "text"
      },
      "source": [
        "# 1. Preparación de entorno"
      ]
    },
    {
      "cell_type": "code",
      "metadata": {
        "id": "enIpI7hl-swp",
        "colab_type": "code",
        "outputId": "60c82078-7615-423a-95c1-d94f95317009",
        "colab": {
          "base_uri": "https://localhost:8080/",
          "height": 615
        }
      },
      "source": [
        "#@title Preparar entorno Python\n",
        "#NLTK\n",
        "!pip install nltk\n",
        "import nltk\n",
        "nltk.download('punkt')\n",
        "\n",
        "#PyArabic\n",
        "!pip install PyArabic\n",
        "import pyarabic.araby as araby\n",
        "import pyarabic.number as number\n",
        "\n",
        "#Emoji\n",
        "!pip install emoji\n",
        "\n",
        "#Pickle\n",
        "!pip install pickle-mixin\n",
        "import pickle\n",
        "\n",
        "#Matplotlib\n",
        "import matplotlib.pyplot as plt\n",
        "\n",
        "#Numpy\n",
        "import numpy as np\n",
        "\n",
        "#TensorFlow\n",
        "import tensorflow as tf\n",
        "\n",
        "#Keras\n",
        "import keras\n",
        "\n"
      ],
      "execution_count": 0,
      "outputs": [
        {
          "output_type": "stream",
          "text": [
            "Requirement already satisfied: nltk in /usr/local/lib/python3.6/dist-packages (3.2.5)\n",
            "Requirement already satisfied: six in /usr/local/lib/python3.6/dist-packages (from nltk) (1.12.0)\n",
            "[nltk_data] Downloading package punkt to /root/nltk_data...\n",
            "[nltk_data]   Unzipping tokenizers/punkt.zip.\n",
            "Collecting PyArabic\n",
            "\u001b[?25l  Downloading https://files.pythonhosted.org/packages/c6/e2/64c8b4605286b477c2f85963d58da8f97f24b0d0766e893e6817816fae63/PyArabic-0.6.5-py3-none-any.whl (110kB)\n",
            "\u001b[K     |████████████████████████████████| 112kB 8.3MB/s \n",
            "\u001b[?25hInstalling collected packages: PyArabic\n",
            "Successfully installed PyArabic-0.6.5\n",
            "Collecting emoji\n",
            "\u001b[?25l  Downloading https://files.pythonhosted.org/packages/6c/ee/8cc0af26113508c8513dac40b1990b21d1d0136b3981a8b7b8a231a56c8d/emoji-0.5.2-py3-none-any.whl (41kB)\n",
            "\u001b[K     |████████████████████████████████| 51kB 4.6MB/s \n",
            "\u001b[?25hInstalling collected packages: emoji\n",
            "Successfully installed emoji-0.5.2\n",
            "Collecting pickle-mixin\n",
            "  Downloading https://files.pythonhosted.org/packages/02/77/9d5eb2201bbc130e2a5cc41fc949e4ab0da74b619107eac1c511be3af7a7/pickle-mixin-1.0.2.tar.gz\n",
            "Building wheels for collected packages: pickle-mixin\n",
            "  Building wheel for pickle-mixin (setup.py) ... \u001b[?25l\u001b[?25hdone\n",
            "  Stored in directory: /root/.cache/pip/wheels/cd/05/42/71de70fa36b9cbb7657bb5793a16f8028c1cdc1bdd3b8e1ac3\n",
            "Successfully built pickle-mixin\n",
            "Installing collected packages: pickle-mixin\n",
            "Successfully installed pickle-mixin-1.0.2\n"
          ],
          "name": "stdout"
        },
        {
          "output_type": "stream",
          "text": [
            "Using TensorFlow backend.\n"
          ],
          "name": "stderr"
        }
      ]
    },
    {
      "cell_type": "code",
      "metadata": {
        "id": "mEYBQ1eb__E6",
        "colab_type": "code",
        "outputId": "7630c72c-adef-4591-e189-321c8e6e0ed9",
        "colab": {
          "base_uri": "https://localhost:8080/",
          "height": 299
        }
      },
      "source": [
        "#@title Conexión con Google Drive\n",
        "from google.colab import drive\n",
        "drive.mount('/content/drive')"
      ],
      "execution_count": 0,
      "outputs": [
        {
          "output_type": "stream",
          "text": [
            "Go to this URL in a browser: https://accounts.google.com/o/oauth2/auth?client_id=947318989803-6bn6qk8qdgf4n4g3pfee6491hc0brc4i.apps.googleusercontent.com&redirect_uri=urn%3Aietf%3Awg%3Aoauth%3A2.0%3Aoob&scope=email%20https%3A%2F%2Fwww.googleapis.com%2Fauth%2Fdocs.test%20https%3A%2F%2Fwww.googleapis.com%2Fauth%2Fdrive%20https%3A%2F%2Fwww.googleapis.com%2Fauth%2Fdrive.photos.readonly%20https%3A%2F%2Fwww.googleapis.com%2Fauth%2Fpeopleapi.readonly&response_type=code\n",
            "\n",
            "Enter your authorization code:\n",
            "··········\n",
            "Mounted at /content/drive\n"
          ],
          "name": "stdout"
        }
      ]
    },
    {
      "cell_type": "markdown",
      "metadata": {
        "id": "0LOvEzqS_5cS",
        "colab_type": "text"
      },
      "source": [
        "# 2. Carga de datos"
      ]
    },
    {
      "cell_type": "code",
      "metadata": {
        "id": "AZgc1HEHfNkU",
        "colab_type": "code",
        "colab": {}
      },
      "source": [
        "#@title Establecer entorno de lectura de datos\n",
        "import os\n",
        "import emoji\n",
        "import re\n",
        "from lxml import etree\n",
        "import xml.etree.ElementTree as ElementTree\n",
        "\n",
        "\n",
        "path_directory = \"/content/drive/My Drive/TextMining\" #@param {type:\"string\"}\n",
        "path_training = path_directory + \"/xml/\"\n",
        "path_test = path_directory + \"/xmltest/\"\n",
        "\n",
        "\n",
        "\n",
        "\n",
        "RE_EMOJI = re.compile('[\\U00010000-\\U0010ffff]', flags=re.UNICODE)\n",
        "\n",
        "def remove_emoji(str):\n",
        "    return RE_EMOJI.sub(r'', str)\n",
        "\n",
        "  \n",
        "def extract_emojis(str):\n",
        "  return ''.join(c for c in str if c in emoji.UNICODE_EMOJI)"
      ],
      "execution_count": 0,
      "outputs": []
    },
    {
      "cell_type": "code",
      "metadata": {
        "id": "ko-IdNa3F_vt",
        "colab_type": "code",
        "colab": {}
      },
      "source": [
        "#@title Leer XML y guardar en variables\n",
        "#Se eliminan las variables\n",
        "if 'author' in locals():\n",
        "  del author\n",
        "\n",
        "if 'dataText' in locals():\n",
        "  del dataText\n",
        "\n",
        "if 'emojiText' in locals():\n",
        "  del emojiText\n",
        "  \n",
        "if 'nTweet' in locals():\n",
        "  del nTweet\n",
        "\n",
        "author = [None]*2500\n",
        "dataText = [None]*2500\n",
        "emojiText = [None]*2500\n",
        "nTweet = [None]*2500\n",
        "\n",
        "i = 0\n",
        "for root, dirs, files in os.walk(path_training):\n",
        "  files.sort()\n",
        "  for filename in files:\n",
        "    if (filename.find(\".xml\") != -1):\n",
        "\n",
        "      if (i > 2500):\n",
        "        author.append(\"\")\n",
        "        dataText.append(\"\")\n",
        "        emojiText.append(\"\")\n",
        "        nTweet.append(\"\")\n",
        "\n",
        "\n",
        "      author[i] = filename[0:-4]\n",
        "      print(str(i+1) + \". \" + author[i])\n",
        "\n",
        "\n",
        "      data = \"\"\n",
        "      dataText[i] = \"\"\n",
        "      emojiText[i] = \"\"\n",
        "      nTweet[i] = 0\n",
        "\n",
        "\n",
        "      root = ElementTree.parse(path_training + filename).getroot()\n",
        "      for tweet in root.iter('document'):\n",
        "        data = data + tweet.text\n",
        "        nTweet[i] = nTweet[i] + 1\n",
        "\n",
        "\n",
        "      #Extraer los emojis  \n",
        "      emojiText[i] = extract_emojis(data)\n",
        "\n",
        "\n",
        "      #Se eliminan las url y menciones\n",
        "      for j in range(len(data)):\n",
        "          dataText[i] = \" \".join([word for word in data.split()\n",
        "                                      if 'http' not in word and '@' not in word and '<' not in word])\n",
        "\n",
        "      #Se eliminan los emojis\n",
        "      dataText[i] = remove_emoji(dataText[i])\n",
        "\n",
        "      \n",
        "      i = i + 1\n",
        "\n",
        "        \n",
        "\n"
      ],
      "execution_count": 0,
      "outputs": []
    },
    {
      "cell_type": "code",
      "metadata": {
        "id": "3clwd5l35_dJ",
        "colab_type": "code",
        "colab": {}
      },
      "source": [
        "#@title Guardar las variables generadas con Pickle\n",
        "n_author = i\n",
        "with open(path_directory + \"/\" + 'trainVariables.pickle', 'wb') as f:\n",
        "  pickle.dump([author, dataText, emojiText, nTweet, n_author], f)\n"
      ],
      "execution_count": 0,
      "outputs": []
    },
    {
      "cell_type": "code",
      "metadata": {
        "id": "Pg9d__ll7NIL",
        "colab_type": "code",
        "colab": {}
      },
      "source": [
        "#@title Cargar datos con Pickle (si es necesario)\n",
        "with open(path_directory + \"/\" + 'trainVariables.pickle', 'rb') as f:\n",
        "    author, dataText, emojiText, nTweet, n_author = pickle.load(f)\n",
        "\n",
        "#Solución temporal, se guardó mal\n",
        "n_author = n_author + 1\n"
      ],
      "execution_count": 0,
      "outputs": []
    },
    {
      "cell_type": "markdown",
      "metadata": {
        "id": "z_xlc4cT9-Pk",
        "colab_type": "text"
      },
      "source": [
        "# 3. Relacionar los datos de Train con el fichero \"truth.txt\""
      ]
    },
    {
      "cell_type": "code",
      "metadata": {
        "id": "txMXabLE7lZO",
        "colab_type": "code",
        "colab": {}
      },
      "source": [
        "#@title Leer fichero truth.txt\n",
        "file = open(path_training + \"truth.txt\",\"r\")\n",
        "\n",
        "if 'authorTruth' in locals():\n",
        "  del authorTruth\n",
        "\n",
        "if 'genderTruth' in locals():\n",
        "  del genderTruth\n",
        "\n",
        "if 'ageTruth' in locals():\n",
        "  del ageTruth\n",
        "\n",
        "if 'varietyTruth' in locals():\n",
        "  del varietyTruth\n",
        "\n",
        "authorTruth = [None]*n_author\n",
        "genderTruth = [None]*n_author\n",
        "ageTruth = [None]*n_author\n",
        "varietyTruth = [None]*n_author\n",
        "\n",
        "i = 0\n",
        "for line in file:\n",
        "    \n",
        "  fields = line.split(\":::\")\n",
        "  \n",
        "  #Se extraen los campos\n",
        "  authorTruth[i] = fields[0]\n",
        "  genderTruth[i] = fields[1]\n",
        "  ageTruth[i] = fields[2]\n",
        "  varietyTruth[i] = fields[3]\n",
        "  \n",
        "  #print(str(i+1) + \" de \" + str(n_author))\n",
        "  i = i +1\n",
        "file.close()"
      ],
      "execution_count": 0,
      "outputs": []
    },
    {
      "cell_type": "code",
      "metadata": {
        "id": "YlT9m73l-I9l",
        "colab_type": "code",
        "colab": {}
      },
      "source": [
        "#@title Relacionar con las variables del train\n",
        "realGender = [None]*n_author\n",
        "realAge = [None]*n_author\n",
        "realVariety = [None]*n_author\n",
        "\n",
        "\n",
        "for i in range(0, (n_author)):\n",
        "  for j in range(0, (n_author)):\n",
        "    if (author[i] == authorTruth[j]):\n",
        "      realGender[i] = genderTruth[j]\n",
        "      realAge[i] = ageTruth[j]\n",
        "      realVariety[i] = varietyTruth[j]\n",
        "      #print(str(i+1) + \" de \" + str(n_author))\n",
        "      \n",
        "                 "
      ],
      "execution_count": 0,
      "outputs": []
    },
    {
      "cell_type": "code",
      "metadata": {
        "id": "tXFqP4RKoS4c",
        "colab_type": "code",
        "colab": {}
      },
      "source": [
        "#@title Guardar en Pickle las variables completas\n",
        "with open(path_directory + \"/\" + 'trainVariablesComplete.pickle', 'wb') as f:\n",
        "  pickle.dump([author, dataText, emojiText, nTweet, realGender, realAge, realVariety, n_author], f)"
      ],
      "execution_count": 0,
      "outputs": []
    },
    {
      "cell_type": "code",
      "metadata": {
        "id": "BLtMXEoSo74d",
        "colab_type": "code",
        "colab": {}
      },
      "source": [
        "#@title Cargar en Pickle las variables completas (si es necesario)\n",
        "with open(path_directory + \"/\" + 'trainVariablesComplete.pickle', 'rb') as f:\n",
        "    author, dataText, emojiText, nTweet, realGender, realAge, realVariety, n_author = pickle.load(f)"
      ],
      "execution_count": 0,
      "outputs": []
    },
    {
      "cell_type": "markdown",
      "metadata": {
        "id": "wrJnrs4wpYU3",
        "colab_type": "text"
      },
      "source": [
        "# 4. Tratar datos para modelar Pt. I (Relación de los emojis con el género y el año)"
      ]
    },
    {
      "cell_type": "code",
      "metadata": {
        "id": "DeyYBtXnpgTT",
        "colab_type": "code",
        "outputId": "5542e8fc-7e9a-4bde-8b4b-ca726ba6f1d2",
        "colab": {
          "base_uri": "https://localhost:8080/",
          "height": 545
        }
      },
      "source": [
        "#@title Relación entre el número de emojis y el género\n",
        "\n",
        "#Relación con el género\n",
        "if 'nEmojiMale' in locals():\n",
        "  del nEmojiMale\n",
        "nEmojiMale = [0]\n",
        "if 'nEmojiFemale' in locals():\n",
        "  del nEmojiFemale\n",
        "nEmojiFemale = [0]\n",
        "\n",
        "j=0\n",
        "k=0\n",
        "for i in range(0, (n_author)):\n",
        "  if (realGender[i] == \"Male\"):\n",
        "    if (j > 0):\n",
        "      nEmojiMale.append(0)\n",
        "    nEmojiMale[j]=len(emojiText[i])/nTweet[i]\n",
        "    j=j+1\n",
        "  else:\n",
        "    if (k > 0):\n",
        "      nEmojiFemale.append(0)\n",
        "    nEmojiFemale[k]=len(emojiText[i])/nTweet[i]\n",
        "    k=k+1\n",
        "\n",
        "data = [nEmojiMale,nEmojiFemale] \n",
        "fig1, ax1 = plt.subplots()\n",
        "ax1.set_title('Emoji-Gender Relation')\n",
        "ax1.set_ylabel('Number of emoji by tweet')\n",
        "ax1.boxplot(data)\n",
        "ax1.set_xticklabels(['Male', 'Female'])\n",
        "ax1.grid(True, linestyle='--', axis='y')\n",
        "fig1.savefig(path_directory + \"/\" + 'fig1.png',dpi=300)\n",
        "\n",
        "fig2, ax2 = plt.subplots()\n",
        "ax2.set_title('Emoji-Gender Relation')\n",
        "ax2.set_ylabel('Mean of number of emoji by tweet')\n",
        "ax2.bar(['Male', 'Female'], [np.mean(nEmojiMale),np.mean(nEmojiFemale)])\n",
        "ax2.grid(True, linestyle='--', axis='y')\n",
        "fig2.savefig(path_directory + \"/\" + 'fig2.png',dpi=300)\n",
        "\n",
        "\n"
      ],
      "execution_count": 0,
      "outputs": [
        {
          "output_type": "display_data",
          "data": {
            "image/png": "[encoded data removed]",
            "text/plain": [
              "<Figure size 432x288 with 1 Axes>"
            ]
          },
          "metadata": {
            "tags": []
          }
        },
        {
          "output_type": "display_data",
          "data": {
            "image/png": "[encoded data removed]",
            "text/plain": [
              "<Figure size 432x288 with 1 Axes>"
            ]
          },
          "metadata": {
            "tags": []
          }
        }
      ]
    },
    {
      "cell_type": "code",
      "metadata": {
        "id": "k7YZqVq91Dad",
        "colab_type": "code",
        "outputId": "0169be01-2476-4e31-cf4f-793e145952a0",
        "colab": {
          "base_uri": "https://localhost:8080/",
          "height": 545
        }
      },
      "source": [
        "#@title Relación entre el número de emojis y la edad\n",
        "\n",
        "#Relación con el género\n",
        "if 'nEmojiAbove' in locals():\n",
        "  del nEmojiAbove\n",
        "nEmojiAbove = [0]\n",
        "if 'nEmojiBetween' in locals():\n",
        "  del nEmojiBetween\n",
        "nEmojiBetween = [0]\n",
        "if 'nEmojiUnder' in locals():\n",
        "  del nEmojiUnder\n",
        "nEmojiUnder = [0]\n",
        "\n",
        "j=0\n",
        "k=0\n",
        "l=0\n",
        "for i in range(0, (n_author)):\n",
        "  if (realAge[i] == \"Above\"):\n",
        "    if (j > 0):\n",
        "      nEmojiAbove.append(0)\n",
        "    nEmojiAbove[j]=len(emojiText[i])/nTweet[i]\n",
        "    j=j+1\n",
        "  elif (realAge[i] == \"Between\"):\n",
        "    if (k > 0):\n",
        "      nEmojiBetween.append(0)\n",
        "    nEmojiBetween[k]=len(emojiText[i])/nTweet[i]\n",
        "    k=k+1\n",
        "  else:\n",
        "    if (l > 0):\n",
        "      nEmojiUnder.append(0)\n",
        "    nEmojiUnder[l]=len(emojiText[i])/nTweet[i]\n",
        "    l=l+1\n",
        "\n",
        "data = [nEmojiAbove,nEmojiBetween,nEmojiUnder] \n",
        "fig3, ax3 = plt.subplots()\n",
        "ax3.set_title('Emoji-Age Relation')\n",
        "ax3.set_ylabel('Number of emoji by tweet')\n",
        "ax3.boxplot(data)\n",
        "ax3.set_xticklabels(['Above', 'Between', 'Under'])\n",
        "ax3.grid(True, linestyle='--', axis='y')\n",
        "fig3.savefig(path_directory + \"/\" + 'fig3.png',dpi=300)\n",
        "\n",
        "fig4, ax4 = plt.subplots()\n",
        "ax4.set_title('Emoji-Age Relation')\n",
        "ax4.set_ylabel('Mean of number of emoji by tweet')\n",
        "ax4.bar(['Above', 'Between', 'Under'], [np.mean(nEmojiAbove),np.mean(nEmojiBetween),np.mean(nEmojiUnder)])\n",
        "ax4.grid(True, linestyle='--', axis='y')\n",
        "fig4.savefig(path_directory + \"/\" + 'fig4.png',dpi=300)\n"
      ],
      "execution_count": 0,
      "outputs": [
        {
          "output_type": "display_data",
          "data": {
            "image/png": "[encoded data removed]",
            "text/plain": [
              "<Figure size 432x288 with 1 Axes>"
            ]
          },
          "metadata": {
            "tags": []
          }
        },
        {
          "output_type": "display_data",
          "data": {
            "image/png": "[encoded data removed]",
            "text/plain": [
              "<Figure size 432x288 with 1 Axes>"
            ]
          },
          "metadata": {
            "tags": []
          }
        }
      ]
    },
    {
      "cell_type": "code",
      "metadata": {
        "id": "MeW_-IyV4Qab",
        "colab_type": "code",
        "colab": {}
      },
      "source": [
        "#@title Generar variable característica del número de emoji por tweet\n",
        "if 'nEmoji' in locals():\n",
        "  del nEmoji\n",
        "nEmoji = [0]\n",
        "\n",
        "for i in range(0, (n_author)):\n",
        "  if (i > 0):\n",
        "    nEmoji.append(0)\n",
        "  nEmoji[i]=len(emojiText[i])/nTweet[i]\n",
        "  i=i+1\n"
      ],
      "execution_count": 0,
      "outputs": []
    },
    {
      "cell_type": "markdown",
      "metadata": {
        "id": "qDKcZd_F7k-o",
        "colab_type": "text"
      },
      "source": [
        "# 5. Tratar datos para modelar Pt. II (Tokenizar y frecuenciar el texto y los emojis)"
      ]
    },
    {
      "cell_type": "code",
      "metadata": {
        "id": "9Q_ZnZwH8AOH",
        "colab_type": "code",
        "colab": {}
      },
      "source": [
        "#@title Tokenizar los emojis\n",
        "from nltk.tokenize.casual import TweetTokenizer\n",
        "\n",
        "if 'emojiTok' in locals():\n",
        "  del emojiTok\n",
        "emojiTok = [0]\n",
        "\n",
        "\n",
        "for i in range(0, (n_author)):\n",
        "  if (i > 0):\n",
        "    emojiTok.append(0)\n",
        "\n",
        "  emojiTok[i] = TweetTokenizer().tokenize(emojiText[i])"
      ],
      "execution_count": 0,
      "outputs": []
    },
    {
      "cell_type": "code",
      "metadata": {
        "id": "6BMranzU9INv",
        "colab_type": "code",
        "colab": {}
      },
      "source": [
        "#@title Frecuenciar los emojis\n",
        "from nltk.probability import FreqDist\n",
        "\n",
        "if 'emojiFrec' in locals():\n",
        "  del emojiFrec\n",
        "emojiFrec = [0]\n",
        "\n",
        "for i in range(0, (n_author)):\n",
        "  if (i > 0):\n",
        "    emojiFrec.append(0)\n",
        "    \n",
        "  fdist = FreqDist(emojiText[i])\n",
        "  j=0\n",
        "  freqWord = [\"\"]\n",
        "  for word, frequency in fdist.most_common(100):\n",
        "    if (j == 0):\n",
        "      freqWord[0]=word\n",
        "    else:\n",
        "      freqWord.append(word)\n",
        "    j=j+1\n",
        "    \n",
        "  emojiFrec[i] = freqWord"
      ],
      "execution_count": 0,
      "outputs": []
    },
    {
      "cell_type": "code",
      "metadata": {
        "id": "HcgmfEnL6izY",
        "colab_type": "code",
        "colab": {}
      },
      "source": [
        "#@title Tokenizar el texto\n",
        "if 'textTok' in locals():\n",
        "  del textTok\n",
        "textTok = [0]\n",
        "\n",
        "for i in range(0, (n_author)):\n",
        "  if (i > 0):\n",
        "    textTok.append(0)\n",
        "\n",
        "  textTok[i] = araby.tokenize(dataText[i])"
      ],
      "execution_count": 0,
      "outputs": []
    },
    {
      "cell_type": "code",
      "metadata": {
        "id": "e5QM2el8-oNQ",
        "colab_type": "code",
        "colab": {}
      },
      "source": [
        "#@title Frecuenciar el texto\n",
        "from nltk.probability import FreqDist\n",
        "\n",
        "if 'textFrec' in locals():\n",
        "  del textFrec\n",
        "textFrec = [0]\n",
        "\n",
        "for i in range(0, (n_author)):\n",
        "  if (i > 0):\n",
        "    textFrec.append(0)\n",
        "    \n",
        "  fdist = FreqDist(textTok[i])\n",
        "  j=0\n",
        "  freqWord = [\"\"]\n",
        "  for word, frequency in fdist.most_common(100):\n",
        "    if (j == 0):\n",
        "      freqWord[0]=word\n",
        "    else:\n",
        "      freqWord.append(word)\n",
        "    j=j+1\n",
        "    \n",
        "  textFrec[i] = freqWord"
      ],
      "execution_count": 0,
      "outputs": []
    },
    {
      "cell_type": "markdown",
      "metadata": {
        "id": "vf4oPzja_QP9",
        "colab_type": "text"
      },
      "source": [
        "# 6. Tratar datos para modelar Pt. III"
      ]
    },
    {
      "cell_type": "code",
      "metadata": {
        "id": "rPP3ATTrSLT7",
        "colab_type": "code",
        "colab": {}
      },
      "source": [
        "#@title Eliminar signos de puntuación del texto tokenizado\n",
        "import re\n",
        "\n",
        "if 'textTokPunc' in locals():\n",
        "  del textTokPunc\n",
        "textTokPunc = [0]\n",
        "\n",
        "for i in range(0, (n_author)):\n",
        "  if (i > 0):\n",
        "    textTokPunc.append(0)\n",
        "  \n",
        "  textTokPunc[i] = re.sub(r'[^\\w\\s]','',dataText[i])\n",
        "  textTokPunc[i] = araby.tokenize(textTokPunc[i])"
      ],
      "execution_count": 0,
      "outputs": []
    },
    {
      "cell_type": "code",
      "metadata": {
        "id": "CWvwveR1UCbm",
        "colab_type": "code",
        "colab": {}
      },
      "source": [
        "#@title Frecuenciar el texto sin signos de puntuación\n",
        "from nltk.probability import FreqDist\n",
        "\n",
        "if 'textFrecPunc' in locals():\n",
        "  del textFrecPunc\n",
        "textFrecPunc = [0]\n",
        "\n",
        "for i in range(0, (n_author)):\n",
        "  if (i > 0):\n",
        "    textFrecPunc.append(0)\n",
        "  \n",
        "  \n",
        "  fdist = FreqDist(textTokPunc[i])\n",
        "  j=0\n",
        "  freqWord = [\"\"]\n",
        "  for word, frequency in fdist.most_common(100):\n",
        "    if (j == 0):\n",
        "      freqWord[0]=word\n",
        "    else:\n",
        "      freqWord.append(word)\n",
        "    j=j+1\n",
        "    \n",
        "  textFrecPunc[i] = freqWord\n",
        "  "
      ],
      "execution_count": 0,
      "outputs": []
    },
    {
      "cell_type": "code",
      "metadata": {
        "id": "prbCvAi6D5Tk",
        "colab_type": "code",
        "outputId": "403ebaab-0e85-421b-abdb-9b54fc804b0c",
        "colab": {
          "base_uri": "https://localhost:8080/",
          "height": 51
        }
      },
      "source": [
        "#@title Descargar y Cargar StopWordsLittle\n",
        "nltk.download('stopwords')\n",
        "from nltk.corpus import stopwords\n",
        "stopwords_arabic=set(stopwords.words(\"arabic\"))"
      ],
      "execution_count": 0,
      "outputs": [
        {
          "output_type": "stream",
          "text": [
            "[nltk_data] Downloading package stopwords to /root/nltk_data...\n",
            "[nltk_data]   Package stopwords is already up-to-date!\n"
          ],
          "name": "stdout"
        }
      ]
    },
    {
      "cell_type": "code",
      "metadata": {
        "id": "ljpMfbEDL1dJ",
        "colab_type": "code",
        "colab": {}
      },
      "source": [
        "#@title Descargar y Cargar StopWordsFull\n",
        "file = open(path_directory + \"/\" + \"stopwordslist.txt\",\"r\")\n",
        "stopwordsfull_arabic = stopwords_arabic.copy()\n",
        "for line in file:\n",
        "  stopwordsfull_arabic.add(line.strip('\\n'))\n",
        "file.close()"
      ],
      "execution_count": 0,
      "outputs": []
    },
    {
      "cell_type": "code",
      "metadata": {
        "id": "212BqfxvEMKl",
        "colab_type": "code",
        "colab": {}
      },
      "source": [
        "#@title Eliminar StopWordsLittle\n",
        "if 'textTokSTL' in locals():\n",
        "  del textTokSTL\n",
        "textTokSTL = [0]\n",
        "\n",
        "for i in range(0, (n_author)):\n",
        "  if (i > 0):\n",
        "    textTokSTL.append(0)\n",
        "  \n",
        "  j = 0\n",
        "  filtered_sent = [\"\"]\n",
        "  for w in textTokPunc[i]:\n",
        "    if w not in stopwords_arabic:\n",
        "      if (j == 0):\n",
        "        filtered_sent[0] = w\n",
        "      else:\n",
        "        filtered_sent.append(w)\n",
        "      j = j + 1\n",
        "        \n",
        "  textTokSTL[i] = filtered_sent\n"
      ],
      "execution_count": 0,
      "outputs": []
    },
    {
      "cell_type": "code",
      "metadata": {
        "id": "GTpdUTfeLhM1",
        "colab_type": "code",
        "colab": {}
      },
      "source": [
        "#@title Eliminar StopWordsFull\n",
        "if 'textTokSTF' in locals():\n",
        "  del textTokSTF\n",
        "textTokSTF = [0]\n",
        "\n",
        "for i in range(0, (n_author)):\n",
        "  if (i > 0):\n",
        "    textTokSTF.append(0)\n",
        "    \n",
        "  j = 0\n",
        "  filtered_sent = [\"\"]\n",
        "  for w in textTokPunc[i]:\n",
        "    if w not in stopwordsfull_arabic:\n",
        "      if (j == 0):\n",
        "        filtered_sent[0] = w\n",
        "      else:\n",
        "        filtered_sent.append(w)\n",
        "      j = j + 1\n",
        "        \n",
        "  textTokSTF[i] = filtered_sent\n"
      ],
      "execution_count": 0,
      "outputs": []
    },
    {
      "cell_type": "code",
      "metadata": {
        "id": "Km2l-cgVPSGj",
        "colab_type": "code",
        "colab": {}
      },
      "source": [
        "#@title Frecuenciar el texto sin StopWordsLittle\n",
        "from nltk.probability import FreqDist\n",
        "\n",
        "if 'textFrecSTL' in locals():\n",
        "  del textFrecSTL\n",
        "textFrecSTL = [0]\n",
        "\n",
        "for i in range(0, (n_author)):\n",
        "  if (i > 0):\n",
        "    textFrecSTL.append(0)\n",
        "    \n",
        "  fdist = FreqDist(textTokSTL[i])\n",
        "  j=0\n",
        "  freqWord = [\"\"]\n",
        "  for word, frequency in fdist.most_common(100):\n",
        "    if (j == 0):\n",
        "      freqWord[0]=word\n",
        "    else:\n",
        "      freqWord.append(word)\n",
        "    j=j+1\n",
        "    \n",
        "  textFrecSTL[i] = freqWord"
      ],
      "execution_count": 0,
      "outputs": []
    },
    {
      "cell_type": "code",
      "metadata": {
        "id": "JtwSPIxPQkcJ",
        "colab_type": "code",
        "colab": {}
      },
      "source": [
        "#@title Frecuenciar el texto sin StopWordsFull\n",
        "from nltk.probability import FreqDist\n",
        "\n",
        "if 'textFrecSTF' in locals():\n",
        "  del textFrecSTF\n",
        "textFrecSTF = [0]\n",
        "\n",
        "for i in range(0, (n_author)):\n",
        "  if (i > 0):\n",
        "    textFrecSTF.append(0)\n",
        "    \n",
        "  fdist = FreqDist(textTokSTF[i])\n",
        "  j=0\n",
        "  freqWord = [\"\"]\n",
        "  for word, frequency in fdist.most_common(100):\n",
        "    if (j == 0):\n",
        "      freqWord[0]=word\n",
        "    else:\n",
        "      freqWord.append(word)\n",
        "    j=j+1\n",
        "    \n",
        "  textFrecSTF[i] = freqWord\n",
        "  \n"
      ],
      "execution_count": 0,
      "outputs": []
    },
    {
      "cell_type": "markdown",
      "metadata": {
        "id": "TtAncmtlDWQB",
        "colab_type": "text"
      },
      "source": [
        "# 7. Tratar datos para modelar Pt. IV (Variables agregadas)"
      ]
    },
    {
      "cell_type": "code",
      "metadata": {
        "id": "k_XabTPtDhYj",
        "colab_type": "code",
        "colab": {}
      },
      "source": [
        "#@title Generar tokenización de texto completo y frecuenciar a partir de STF\n",
        "from nltk.probability import FreqDist\n",
        "\n",
        "if 'fullTextTokSTF' in locals():\n",
        "  del fullTextTokSTF\n",
        "fullTextTokSTF = [\"\"]\n",
        "\n",
        "if 'fullTextFrecSTF' in locals():\n",
        "  del fullTextFrecSTF\n",
        "fullTextFrecSTF = \"\"\n",
        "\n",
        "\n",
        "for i in range(0, (n_author)):\n",
        "  fullTextTokSTF = fullTextTokSTF + textTokSTF[i]\n",
        "  #print(str(i+1) + \" de \" + str(n_author))\n",
        "  \n",
        "fullTextTokSTF.remove('')\n",
        "\n",
        "fdist = FreqDist(fullTextTokSTF)\n",
        "j=0\n",
        "freqWord = [\"\"]\n",
        "for word, frequency in fdist.most_common(1000):\n",
        "  if (j == 0):\n",
        "    freqWord[0]=word\n",
        "  else:\n",
        "    freqWord.append(word)\n",
        "  j=j+1\n",
        "\n",
        "fullTextFrecSTF = freqWord"
      ],
      "execution_count": 0,
      "outputs": []
    },
    {
      "cell_type": "code",
      "metadata": {
        "id": "TbBy7sFvK-rM",
        "colab_type": "code",
        "colab": {}
      },
      "source": [
        "#@title Generar tokenización de texto completo y frecuenciar a partir de STF\n",
        "from nltk.probability import FreqDist\n",
        "\n",
        "if 'fullTextTok' in locals():\n",
        "  del fullTextTok\n",
        "fullTextTok = [\"\"]\n",
        "\n",
        "if 'fullTextFrec' in locals():\n",
        "  del fullTextFrec\n",
        "fullTextFrec = \"\"\n",
        "\n",
        "\n",
        "for i in range(0, (n_author)):\n",
        "  fullTextTok = fullTextTok + textTok[i]\n",
        "  #print(str(i+1) + \" de \" + str(n_author))\n",
        "  \n",
        "fullTextTok.remove('')\n",
        "\n",
        "fdist = FreqDist(fullTextTok)\n",
        "j=0\n",
        "freqWord = [\"\"]\n",
        "for word, frequency in fdist.most_common(1000):\n",
        "  if (j == 0):\n",
        "    freqWord[0]=word\n",
        "  else:\n",
        "    freqWord.append(word)\n",
        "  j=j+1\n",
        "\n",
        "fullTextFrec = freqWord"
      ],
      "execution_count": 0,
      "outputs": []
    },
    {
      "cell_type": "code",
      "metadata": {
        "id": "9EdwStbwEecV",
        "colab_type": "code",
        "colab": {}
      },
      "source": [
        "#@title Generar tokenización de todos los emojis y frecuenciar\n",
        "from nltk.probability import FreqDist\n",
        "\n",
        "if 'fullEmojiTok' in locals():\n",
        "  del fullEmojiTok\n",
        "fullEmojiTok = [\"\"]\n",
        "\n",
        "\n",
        "if 'fullEmojiFrec' in locals():\n",
        "  del fullEmojiFrec\n",
        "fullEmojiFrec = \"\"\n",
        "\n",
        "\n",
        "for i in range(0, (n_author)):\n",
        "  fullEmojiTok = fullEmojiTok + emojiTok[i]\n",
        "    \n",
        "fullEmojiTok.remove('')\n",
        "    \n",
        "fdist = FreqDist(fullEmojiTok)\n",
        "j=0\n",
        "freqWord = [\"\"]\n",
        "for word, frequency in fdist.most_common(100):\n",
        "  if (j == 0):\n",
        "    freqWord[0]=word\n",
        "  else:\n",
        "    freqWord.append(word)\n",
        "  j=j+1\n",
        "\n",
        "fullEmojiFrec = freqWord"
      ],
      "execution_count": 0,
      "outputs": []
    },
    {
      "cell_type": "markdown",
      "metadata": {
        "id": "W5V0KJYOKnnk",
        "colab_type": "text"
      },
      "source": [
        "# 8. Tratar datos para modelar Pt. V (BoW y TF-IDF)"
      ]
    },
    {
      "cell_type": "code",
      "metadata": {
        "id": "1iPAx5OCLRSQ",
        "colab_type": "code",
        "colab": {}
      },
      "source": [
        "#@title Generar BoW para fullTexFrecSTF\n",
        "def Bow(allsentences,vocab):\n",
        "  bag_vector = np.zeros((len(allsentences), len(vocab)))\n",
        "  # For each sentence\n",
        "  for j in range(len(allsentences)):\n",
        "      # For each word within the sentence\n",
        "      for w in allsentences[j]:\n",
        "          # For each word within the vocabulary\n",
        "          for i,word in enumerate(vocab):\n",
        "              # If the word is in vocabulary, add 1 in position\n",
        "              if word == w: \n",
        "                  bag_vector[j,i] += 1\n",
        "  return bag_vector\n",
        "\n",
        "BoWText = Bow(textTokSTF,fullTextFrecSTF)"
      ],
      "execution_count": 0,
      "outputs": []
    },
    {
      "cell_type": "code",
      "metadata": {
        "id": "em5oxn1pLO0W",
        "colab_type": "code",
        "colab": {}
      },
      "source": [
        "#@title Generar BoW para fullTexFrec sin StopWords\n",
        "BoWTextNOST = Bow(textTok,fullTextFrec)"
      ],
      "execution_count": 0,
      "outputs": []
    },
    {
      "cell_type": "code",
      "metadata": {
        "id": "wnuaF3bjWy27",
        "colab_type": "code",
        "colab": {}
      },
      "source": [
        "#@title Generar TextTFIDF para BoWText\n",
        "\n",
        "#La deficinión de TF-IDF es la siguiente:\n",
        "#  TF-IDF(term) = TF(term in a document) * IDF(term)\n",
        "#  TF(term) = # of times the term appears in document / total # of terms in document\n",
        "#  IDF(term) = log(total # of documents / # of documents with term in it)\n",
        "\n",
        "#Preallocate\n",
        "def TFIDF(BoW):\n",
        "  TF = np.zeros((len(BoW), len(BoW[0])))\n",
        "  IDF = np.zeros((len(BoW), len(BoW[0])))\n",
        "  TFIDF = np.zeros((len(BoW), len(BoW[0])))\n",
        "  df = np.zeros(len(BoW[0]))\n",
        "  \n",
        "\n",
        "  for i in range(len(BoW)):\n",
        "    for j in range(len(BoW[i])):\n",
        "      df[j] = 0\n",
        "      if (BoW[i][j] != 0):\n",
        "        df[j] = df[j] + 1\n",
        "  \n",
        "  for i in range(len(BoW)):\n",
        "    for j in range(len(BoW[i])):\n",
        "      \n",
        "      if (sum(BoW[i]) == 0):\n",
        "        TF[i,j] = 0\n",
        "      else:\n",
        "        TF[i,j]=BoW[i,j]/sum(BoW[i])\n",
        "      \n",
        "      if (df[j] == 0):\n",
        "        IDF[i,j] = 0\n",
        "      else:\n",
        "        IDF[i,j]=np.log(len(BoW)/df[j])\n",
        "\n",
        "      TFIDF[i,j] = TF[i,j]*IDF[i,j]\n",
        "  return TFIDF\n",
        "\n",
        "TextTFIDF = TFIDF(BoWText)"
      ],
      "execution_count": 0,
      "outputs": []
    },
    {
      "cell_type": "code",
      "metadata": {
        "id": "k4OTLORwfeI7",
        "colab_type": "code",
        "colab": {}
      },
      "source": [
        "#@title Generar BoW para fullEmojiTok\n",
        "BoWEmoji = Bow(emojiTok,fullEmojiFrec)"
      ],
      "execution_count": 0,
      "outputs": []
    },
    {
      "cell_type": "code",
      "metadata": {
        "id": "AB7ZMhPzfud3",
        "colab_type": "code",
        "colab": {}
      },
      "source": [
        "#@title Generar EmojiTFIDF para BoWEmoji\n",
        "EmojiTFIDF = TFIDF(BoWEmoji)"
      ],
      "execution_count": 0,
      "outputs": []
    },
    {
      "cell_type": "markdown",
      "metadata": {
        "id": "DN7LhPWKnGel",
        "colab_type": "text"
      },
      "source": [
        "# 11. Tratar datos para modelar Pt. VI (BiGramas y TriGramas)"
      ]
    },
    {
      "cell_type": "code",
      "metadata": {
        "id": "43-Ueb2unTDV",
        "colab_type": "code",
        "colab": {}
      },
      "source": [
        "#@title Generar tokenización de texto completo y frecuenciar a partir de STF con bigramas y trigramas\n",
        "from nltk.probability import FreqDist\n",
        "\n",
        "biwordFull = [b for b in nltk.bigrams(fullTextTokSTF)]\n",
        "triwordFull = [t for t in nltk.trigrams(fullTextTokSTF)]\n",
        "\n",
        "\n",
        "fdist = FreqDist(biwordFull)\n",
        "j=0\n",
        "freqWord = [\"\"]\n",
        "for word, frequency in fdist.most_common(1000):\n",
        "  if (j == 0):\n",
        "    freqWord[0]=word\n",
        "  else:\n",
        "    freqWord.append(word)\n",
        "  j=j+1\n",
        "\n",
        "biwordFrecFull = freqWord\n",
        "\n",
        "\n",
        "fdist = FreqDist(triwordFull)\n",
        "j=0\n",
        "freqWord = [\"\"]\n",
        "for word, frequency in fdist.most_common(1000):\n",
        "  if (j == 0):\n",
        "    freqWord[0]=word\n",
        "  else:\n",
        "    freqWord.append(word)\n",
        "  j=j+1\n",
        "\n",
        "triwordFrecFull = freqWord\n"
      ],
      "execution_count": 0,
      "outputs": []
    },
    {
      "cell_type": "code",
      "metadata": {
        "id": "xh6YqZvMq52Z",
        "colab_type": "code",
        "colab": {}
      },
      "source": [
        "#@title Generar tokenización de emoji completo y frecuenciar a partir de STF con bigramas y trigramas\n",
        "from nltk.probability import FreqDist\n",
        "\n",
        "biemojiFull = [b for b in nltk.bigrams(fullEmojiTok)]\n",
        "triemojiFull = [t for t in nltk.trigrams(fullEmojiTok)]\n",
        "\n",
        "\n",
        "fdist = FreqDist(biemojiFull)\n",
        "j=0\n",
        "freqWord = [\"\"]\n",
        "for word, frequency in fdist.most_common(1000):\n",
        "  if (j == 0):\n",
        "    freqWord[0]=word\n",
        "  else:\n",
        "    freqWord.append(word)\n",
        "  j=j+1\n",
        "\n",
        "biemojiFrecFull = freqWord\n",
        "\n",
        "\n",
        "fdist = FreqDist(triemojiFull)\n",
        "j=0\n",
        "freqWord = [\"\"]\n",
        "for word, frequency in fdist.most_common(1000):\n",
        "  if (j == 0):\n",
        "    freqWord[0]=word\n",
        "  else:\n",
        "    freqWord.append(word)\n",
        "  j=j+1\n",
        "\n",
        "triemojiFrecFull = freqWord\n",
        "\n"
      ],
      "execution_count": 0,
      "outputs": []
    },
    {
      "cell_type": "code",
      "metadata": {
        "id": "hIRom6ZZrx4b",
        "colab_type": "code",
        "colab": {}
      },
      "source": [
        "#@title Generar BoW para biwordFrecFull\n",
        "if 'biword' in locals():\n",
        "  del biword\n",
        "biword = [0]\n",
        "\n",
        "for i in range(0, (n_author)):\n",
        "  if (i > 0):\n",
        "    biword.append(0)\n",
        "    \n",
        "  biword[i] = [b for b in nltk.bigrams(textTokSTF[i])]\n",
        "\n",
        "BoWTextBi = Bow(biword,biwordFrecFull)"
      ],
      "execution_count": 0,
      "outputs": []
    },
    {
      "cell_type": "code",
      "metadata": {
        "id": "NhgNYGYxuZdT",
        "colab_type": "code",
        "colab": {}
      },
      "source": [
        "#@title Generar BoW para triwordFrecFull\n",
        "if 'triword' in locals():\n",
        "  del triword\n",
        "triword = [0]\n",
        "\n",
        "for i in range(0, (n_author)):\n",
        "  if (i > 0):\n",
        "    triword.append(0)\n",
        "    \n",
        "  triword[i] = [b for b in nltk.trigrams(textTokSTF[i])]\n",
        "\n",
        "BoWTextTri = Bow(triword,triwordFrecFull)"
      ],
      "execution_count": 0,
      "outputs": []
    },
    {
      "cell_type": "code",
      "metadata": {
        "id": "5mv4QYAmu95Z",
        "colab_type": "code",
        "colab": {}
      },
      "source": [
        "#@title Generar TextBiTFIDF para BoWTextBi\n",
        "TextBiTFIDF = TFIDF(BoWTextBi)"
      ],
      "execution_count": 0,
      "outputs": []
    },
    {
      "cell_type": "code",
      "metadata": {
        "id": "3csIYzbIvFtG",
        "colab_type": "code",
        "colab": {}
      },
      "source": [
        "#@title Generar TextTriTFIDF para BoWTextTri\n",
        "TextTriTFIDF = TFIDF(BoWTextTri)"
      ],
      "execution_count": 0,
      "outputs": []
    },
    {
      "cell_type": "code",
      "metadata": {
        "id": "T83YRDWGwVe4",
        "colab_type": "code",
        "colab": {}
      },
      "source": [
        "#@title Generar BoW para biemojiFrecFull\n",
        "if 'biemoji' in locals():\n",
        "  del biemoji\n",
        "biemoji = [0]\n",
        "\n",
        "for i in range(0, (n_author)):\n",
        "  if (i > 0):\n",
        "    biemoji.append(0)\n",
        "    \n",
        "  biemoji[i] = [b for b in nltk.bigrams(emojiTok[i])]\n",
        "\n",
        "BoWEmojiBi = Bow(biemoji,biemojiFrecFull)"
      ],
      "execution_count": 0,
      "outputs": []
    },
    {
      "cell_type": "code",
      "metadata": {
        "id": "SWepXSPgwtA8",
        "colab_type": "code",
        "colab": {}
      },
      "source": [
        "#@title Generar BoW para triemojiFrecFull\n",
        "if 'triemoji' in locals():\n",
        "  del triemoji\n",
        "triemoji = [0]\n",
        "\n",
        "for i in range(0, (n_author)):\n",
        "  if (i > 0):\n",
        "    triemoji.append(0)\n",
        "    \n",
        "  triemoji[i] = [b for b in nltk.trigrams(emojiTok[i])]\n",
        "\n",
        "BoWEmojiTri = Bow(triemoji,triemojiFrecFull)"
      ],
      "execution_count": 0,
      "outputs": []
    },
    {
      "cell_type": "code",
      "metadata": {
        "id": "r9xyPT2PxUxU",
        "colab_type": "code",
        "colab": {}
      },
      "source": [
        "#@title Generar EmojiBiTFIDF para BoWEmojiBi\n",
        "EmojiBiTFIDF = TFIDF(BoWEmojiBi)"
      ],
      "execution_count": 0,
      "outputs": []
    },
    {
      "cell_type": "code",
      "metadata": {
        "id": "ZlbqlKYqxJC7",
        "colab_type": "code",
        "colab": {}
      },
      "source": [
        "#@title Generar EmojiTriTFIDF para BoWEmojiTri\n",
        "EmojiTriTFIDF = TFIDF(BoWEmojiTri)"
      ],
      "execution_count": 0,
      "outputs": []
    },
    {
      "cell_type": "code",
      "metadata": {
        "id": "J30NGIYtngEM",
        "colab_type": "code",
        "outputId": "82fb1175-20f3-4fd0-875c-03c3f30f6362",
        "colab": {
          "base_uri": "https://localhost:8080/",
          "height": 2371
        }
      },
      "source": [
        "#@title Ejemplo de variables hasta ahora\n",
        "i=12\n",
        "\n",
        "print(\"Input Train\")\n",
        "print(\"author[i]: \", author[i])\n",
        "print(\"dataText[i]: \", dataText[i])\n",
        "print(\"emojiText[i]: \", emojiText[i])\n",
        "print(\"nTweet[i]: \", nTweet[i])\n",
        "print(\"realGender[i]: \", realGender[i])\n",
        "print(\"realAge[i]: \", realAge[i])\n",
        "print(\"realVariety[i]: \", realVariety[i])\n",
        "\n",
        "\n",
        "print(\"\")\n",
        "print(\"Numéricas\")\n",
        "print(\"nEmoji[i]: \", nEmoji[i])\n",
        "\n",
        "print(\"\")\n",
        "print(\"Tokenized\")\n",
        "print(\"emojiTok[i]: \", emojiTok[i])\n",
        "print(\"textTok[i]: \", textTok[i])\n",
        "print(\"textTokPunc[i]: \", textTokPunc[i])\n",
        "print(\"textTokSTL[i]: \", textTokSTL[i])\n",
        "print(\"textTokSTF[i]: \", textTokSTF[i])\n",
        "\n",
        "print(\"\")\n",
        "print(\"Frequency\")\n",
        "print(\"emojiFrec[i]: \", emojiFrec[i])\n",
        "print(\"textFrec[i]: \", textFrec[i])\n",
        "print(\"textFrecPunc[i]: \", textFrecPunc[i])\n",
        "print(\"textFrecSTL[i]: \", textFrecSTL[i])\n",
        "print(\"textFrecSTF[i]: \", textFrecSTF[i])\n",
        "\n",
        "\n",
        "print(\"\")\n",
        "print(\"Agregadas\")\n",
        "print(\"fullEmojiFrec: \", fullEmojiFrec)\n",
        "print(\"fullTextFrec: \", fullTextFrec)\n",
        "print(\"fullTextFrecSTF: \", fullTextFrecSTF)\n",
        "print(\"fullEmojiTok: \", fullEmojiTok[:100])\n",
        "print(\"fullTextTok: \", fullTextTok[:100])\n",
        "print(\"fullTextTokSTF: \", fullTextTokSTF[:100])\n",
        "print(\"biemojiFrecFull: \", biemojiFrecFull)\n",
        "print(\"triemojiFrecFull: \", triemojiFrecFull)\n",
        "print(\"biwordFrecFull: \", biwordFrecFull)\n",
        "print(\"triwordFrecFull: \", triwordFrecFull)\n",
        "print(\"biemojiFull: \", biemojiFull[:10])\n",
        "print(\"triemojiFull: \", triemojiFull[:10])\n",
        "print(\"biwordFull: \", biwordFull[:10])\n",
        "print(\"triwordFull: \", triwordFull[:10])\n",
        "\n",
        "print(\"\")\n",
        "print(\"BoW\")\n",
        "print(\"BoWEmoji: \", BoWEmoji)\n",
        "print(\"BoWEmojiBi: \", BoWEmojiBi)\n",
        "print(\"BoWEmojiTri: \", BoWEmojiTri)\n",
        "print(\"BoWText: \", BoWText)\n",
        "print(\"BoWTextNOST: \", BoWTextNOST)\n",
        "print(\"BoWTextBi: \", BoWTextBi)\n",
        "print(\"BoWTextTri: \", BoWTextTri)\n",
        "\n",
        "\n",
        "print(\"\")\n",
        "print(\"TFIDF\")\n",
        "print(\"EmojiTFIDF: \",EmojiTFIDF)\n",
        "print(\"EmojiBiTFIDF: \",EmojiBiTFIDF)\n",
        "print(\"EmojiTriTFIDF: \",EmojiTriTFIDF)\n",
        "print(\"TextTFIDF: \",TextTFIDF)\n",
        "print(\"TextBiTFIDF: \",TextBiTFIDF)\n",
        "print(\"TextTriTFIDF: \",TextTriTFIDF)"
      ],
      "execution_count": 0,
      "outputs": [
        {
          "output_type": "stream",
          "text": [
            "Input Train\n",
            "author[i]:  012a4a2abfaebc0a411d65a0e72fc9fc\n",
            "dataText[i]:  مبرووووووووك ما جاكي يتربي في عزك منور امين فديت قلبك منووور ياعمار احلا منووور عمارنا الله يسعدككل عام وانت الاجمل وكل عام وانت الافضل وكل سنه وانت اجمل ما حصل في في الفن اليمني كل سنه وانت نجم عالي في سماء الفن العالمي ... كل عام وانت بالف خير يا سفير اليمن يارب سنه سعيده عليك تتحقق كل احلامك يارب ❤ اذا ترجع هذي الاغنيه عشق لا ينتهي . وكمان دلوع اكثر غنيتين معلقين معي وبشكل عام الالبوم فووووق الوصف الله يسعدك يا ابن اليمن غالي شرفت اليمن والفن اليمني . #كلام_ابيض ابدع يا وائل موفق يارب من نجاح الى نجاح اخي تسلم الايادي الغنى المُطلق أن تعيش الحياة على منهج ، أنا جنتي في صدري ، فترى في نفسك الواسعة مُبتدأ السرور ومنتهاه لا تؤمن بالانتقام ولا رد الوجع بالوجع ثق بان هذه الدنيا صغيره وسريع دورانها. يب يب خهههههههه مي هاتوهم نعمل جروب بدل الضبح تدوم والله مدري عاشق انا الذي اعرفو الحمد الله هلا فيك كيفك اها سلم على العريس هههههههه اتوسطلك وباقي عصابه ال الشلح فينهم ويسعدك ياااارب خيو فين الباقي نعمل جروب هنا كمان ايوه هههههه شفت وانت في وجهي واصل الله يبارك الشوق  #عيوب_الحب_هينايم العصر  #من_سهركغنى غنى #عمار_العزكي الف الف مبرووووك يا نجم اليمن البوم موفق جدا بداية قوووويه لك داما رافع راس اليمن فوووق غنيه في قمه الرؤؤؤعه احساس ولا اروع #استمع الى ”Etha Terjaa“ من عمار العزكي على #أنغامي منتضرين مشكله لما تحس إنك قاعد تعيش بفتره أنت بنفسك تعبت منها كثير بنفس الوقت مو قادر تغير شيء ولا هالفتره راضيه تعدي . #غني_غني- ﻟﻤﺎ ﺍﺣﻄﻚ ﺑﺎﻟﻤﻜﺎﻥ ﺍﻟﻠﻲ ﻳﻨﺒﺾ بيه ! ﻟﻤﺎ ﺍكول ﺍﻧﻚ ﺷﻲ ﻳﺴﻌﺪﻧﻲ ﻭﺷﻲ ﻳﻔﺮﺣﻨﻲ ﺍﻣّﺎﻧﻪ ﻋﻠﻴﻚ ﻻ ﺗﺨﻠﻴﻨﻲ ﺃﻧﺪﻡ ✋ تستهل اكثر عمارنا  #عمار_العزكي #غني_غني #اول غنية من البومه الجديدسيأتي دور أيامك الجميلة، وأحلامك الحُلوة، إحتظن ظنونك الطيبة، لن تنتظر طويلًا، عش متعة الترقب، رُبما تبدأ اليوم وربما غدًا. #غني_غنيليست آلرجُوله بـ آن تُحبك كل النسآء و لكن الرجوله آن تعشق و تخلص لانسآنه واحده و تجعلهآ فوق كُل النسآء ❤️ . #غني_غنيأعٌشُـقُ ذِلَکْ آلَشُـخِـصّ آلَذِي يشُـعٌرنِي بًـ أنِنِي شُـيء يخِـصّـهّ فُـقُطِ #غني_غني- رَبِيّ ، لَمْ أَتَمَنىَّ يَوْماً شَراً لأَحَدْ . . فَ إِكْفِنيَّ شَّرَ خَلْقِكَّ ❤ #غني_غني⠀⠀⠀⠀⠀ ⠀⠀⠀ ⠀⠀⠀⠀⠀⠀⠀⠀⠀⠀⠀⠀ ⠀⠀ ⠀ ⠀⠀⠀⠀⠀⠀⠀⠀⠀⠀⠀⠀⠀ ⠀ ⠀⠀ ـ لا تركض ورا شخص عشان تذكّره يهتم فيك لا تعاتبه لمّا تشوفه مهملك ، خلّك دايم على ثقة بأن هالأشياء إذا ماجت من القلب مو حلوة لما تجي بعد العتب \". #غني_غنيˇ لا شيء يمرّ عبثاً ، حتى تعثراتك الصغيرة كانت لأجل أن تعرف شيئاً ما ، لأجل أن تعي ، لأجل أن يتسّع أفقك و تضيق توقعاتك.♥ #غني_غنيأشكر هالحياهِ لأنها أنقذت قلبّي بشخص لايق ليّ بكثيييير♥️♥️. \"بمرور السنوات تكتسب شيء جديد، لن تبالي اذا غادر أحدهم حياتك، لن تحارب من أجل أي علاقة، لا تتلهف لقدوم شيء ولن تنصدم.\" يارب تضحك لنا الأيام بكُل ما أوتيت من قوه. #غني_غنيغنى غنى جعل ما غيرك يغني  أرأيتـــم كيف تشرق الشمس بعد حلكة الليل ؟كذلك الفـــرج .. لا يأتي إلينا إلا بعد أن يشتد بنا الألم .. فاصبـــر ، و لا تيأس ، و لا تحـزن حاجه حُلوه تجي فجأة من اللاشيء تكسر الروتين وتخلينا مبسوطين إلى مالا نِهاية يارب. و إني لأوصيك بروحي فهي تسافر إليك أكثر مما تستقر لدي. ” كم وردة نبتت في القلب ، وكانت جذورها رسالة .؟ “ #غني_غني #كلام_ابيض #عمار_العزكيإذا شعرتِ بالحاجة إلى يد دافئة فأمسكِ بيدكِ الأخرى فلن يُهزم شخصٌ يؤمن بنفسه #غني_غني #كلام_ابيض ” بتبقى عُمري الحلو بتبقى المقصُود بكل الحكّي♥️!!..“ #غني_غني #كلام_ابيض فعلا اغنيه موفق وذوق ولا احسن كلنا موجودين ان شاء الله اغنيه موفق شكرا على اهتمامكم صباحكم صوت ولا اروع اغنيه ولا احسن صباحكم #غني_غني #كلام_ابيض موفق عمارنا اغنيه ولا ارووووووعه حظ موقف واختيار موفق تم كلنا ان شاء جعل ما احد يغني غير يا عمار وااااااااااااااااااااا ولا ارررررررووووووع فديت صوتك وذوقك يا ابن اليمن صباح النور حركات ربي يسعدكم صدقت فديتك خواوه فايز انت الذي مبرووووك صدقت صباحك تفائل واحنا الله يتقبل منها ايه والله سيئتي السلام وان طال الحرب جدا حلووووه موفقه يا يووووو فدوه منووووورينشكرا من قلبي عشان عرفت انو الخاين مالو لزمه في حياتي  #سطر_فضفضهاني صرت افكر بعقلي اكثر من قلبي اني صرت احب نفسي اكثير من الاشخاص الذي حولي ❤ #احلا_شي_سويته#حمله_مليون_مستغفر #حمله_مليون_مستغفر استغفرالله استغفرالله استغفرالله استغفرالله استغفرالله استغفرالله استغفرالله من كل ذنب يعقب حسره ويورث الندامه ويحبس الرزق ويرد ايه والله ياعمار الدنيا لسه فيها خير ربي يسعدك فدوه فايز انت اخي الغالي الذي ما اقدر استغني عنو صباح النور يا أفضل صباحك فديتو قلبك ياقلبو ولو عمار يستهل أكثر من كدا سلامات ايش في مش عاجبك ليش في أحد مايحب ايه اللله انا إلى الآن لما اشوف هذي الاغنيه ابكي معك مدري ليش ✋وربي انك فرحه وطن وفرحتي انا بذات يسلمو عمار على احلا لايك مافي احلا من شعور ان الشخص الذي داما تكتب عشان يشوف ويقرأ شكرا عمار ✋ #راس_السنه #عمار_العزكي_معشوق_الملايين الله يجعلو عام خير وسعاده يارب#اول_تغريده_لعام_2018 لك الحمد ربي حمداً يليق بجلال وجهك وعظيم سلطانك . الحمد اللهكل عام وانت فرحه كل يمني وكل عام وانت فرحه لوطنك وسعاده لنا سنه مرت وكنت فيها نجم صاطع في سماء الفن وعام اقبل بإذن الله ستكون أفضل وافضل شكرا من كل قلوبنا انك مثلت اليمن أفضل تمثيل شكرا الانك فرحه وطن ❤ #عمار_عزكي كانت سنه وجع وتعب يارب سنه الجايه احلا روعاتك شاعرنا مبروووووووك هههههه والله اني رحمت عمار من بدأ يتعلم الرسم يبدأ بوجه عمار مله كيف يا عمار شوف لك حل مع الرسامين هذول هههههبس رسمك احلا من حق ان شاء الله بكره احلا يارب#الوقت_هذا_ودك اقول له اشتقتلك وحشتني ايامي معك #غرد_بدعوه_لامك_وابيك ربي احفظ ابي وامي من كل شر تصوير ولا اروع يب يب اكيد ابن اليمن وكلو عز وشموخ عمار بكل لبسو يجننن ربي يحميك يا ابن اليمن يارب يكون عام خير وبركه 'منووووور عمارنا الصوره ههههههه عمار العزكي حب همسه اهم شي اليدات نفس اليدات الباقي مش مهم هههههههه اتقي الله يا شيخه كرهتي الرجال في نفسو \n",
            "emojiText[i]:  😍😍😍😍😍😍😍😍😍😍😍😍😍❤💝😍😍😍😍😍😍😘😘😘😘😍😍💛😖😊😊😊😂😂😂😂😂😂😂😂😂😂😂😍😍😍😭😭😭😂😂😂😂😂😍😍😍😊😊😊😍😍😍😍😍👌✋😍😍😍😍😍👆😍❤❤♥♥♥🖇😍😍😍😍😍😍♥💭😍😍😍😍😍😍😍😍😍😍😍😍😍😍😍😍😍😍😍😍😍😘🖐❤💐😍💖💖😭😭😭✋😍😍😍😍💖😭✋🍃💭😍❤🎉🎊💖😂😂😂😂💔😊😍😍😍😍😍😍😘😘😘😂😂😂😂😂🖐😂😂😂😂😂😂\n",
            "nTweet[i]:  100\n",
            "realGender[i]:  Female\n",
            "realAge[i]:  Under\n",
            "realVariety[i]:  Yemen\n",
            "\n",
            "\n",
            "Numéricas\n",
            "nEmoji[i]:  1.61\n",
            "\n",
            "Tokenized\n",
            "emojiTok[i]:  ['😍', '😍', '😍', '❤', '💝', '😍', '😍', '😍', '😘', '😘', '😘', '😍', '😍', '💛', '😖', '😊', '😊', '😊', '😂', '😂', '😂', '😍', '😍', '😍', '😭', '😭', '😭', '😂', '😂', '😂', '😍', '😍', '😍', '😊', '😊', '😊', '😍', '😍', '😍', '👌', '✋', '😍', '😍', '😍', '👆', '😍', '❤', '❤', '♥', '♥', '♥', '🖇', '😍', '😍', '😍', '♥', '💭', '😍', '😍', '😍', '😘', '🖐', '❤', '💐', '😍', '💖', '💖', '😭', '😭', '😭', '✋', '😍', '😍', '😍', '💖', '😭', '✋', '🍃', '💭', '😍', '❤', '🎉', '🎊', '💖', '😂', '😂', '😂', '💔', '😊', '😍', '😍', '😍', '😘', '😘', '😘', '😂', '😂', '😂', '🖐', '😂', '😂', '😂']\n",
            "textTok[i]:  ['مبرووووووووك', 'ما', 'جاكي', 'يتربي', 'في', 'عزك', 'منور', 'امين', 'فديت', 'قلبك', 'منووور', 'ياعمار', 'احلا', 'منووور', 'عمارنا', 'الله', 'يسعدككل', 'عام', 'وانت', 'الاجمل', 'وكل', 'عام', 'وانت', 'الافضل', 'وكل', 'سنه', 'وانت', 'اجمل', 'ما', 'حصل', 'في', 'في', 'الفن', 'اليمني', 'كل', 'سنه', 'وانت', 'نجم', 'عالي', 'في', 'سماء', 'الفن', 'العالمي', '...', 'كل', 'عام', 'وانت', 'بالف', 'خير', 'يا', 'سفير', 'اليمن', 'يارب', 'سنه', 'سعيده', 'عليك', 'تتحقق', 'كل', 'احلامك', 'يارب', '❤', 'اذا', 'ترجع', 'هذي', 'الاغنيه', 'عشق', 'لا', 'ينتهي', '.', 'وكمان', 'دلوع', 'اكثر', 'غنيتين', 'معلقين', 'معي', 'وبشكل', 'عام', 'الالبوم', 'فووووق', 'الوصف', 'الله', 'يسعدك', 'يا', 'ابن', 'اليمن', 'غالي', 'شرفت', 'اليمن', 'والفن', 'اليمني', '.#', 'كلام_ابيض', 'ابدع', 'يا', 'وائل', 'موفق', 'يارب', 'من', 'نجاح', 'الى', 'نجاح', 'اخي', 'تسلم', 'الايادي', 'الغنى', 'المُطلق', 'أن', 'تعيش', 'الحياة', 'على', 'منهج', '،', 'أنا', 'جنتي', 'في', 'صدري', '،', 'فترى', 'في', 'نفسك', 'الواسعة', 'مُبتدأ', 'السرور', 'ومنتهاه', 'لا', 'تؤمن', 'بالانتقام', 'ولا', 'رد', 'الوجع', 'بالوجع', 'ثق', 'بان', 'هذه', 'الدنيا', 'صغيره', 'وسريع', 'دورانها', '.', 'يب', 'يب', 'خهههههههه', 'مي', 'هاتوهم', 'نعمل', 'جروب', 'بدل', 'الضبح', 'تدوم', 'والله', 'مدري', 'عاشق', 'انا', 'الذي', 'اعرفو', 'الحمد', 'الله', 'هلا', 'فيك', 'كيفك', 'اها', 'سلم', 'على', 'العريس', 'هههههههه', 'اتوسطلك', 'وباقي', 'عصابه', 'ال', 'الشلح', 'فينهم', 'ويسعدك', 'ياااارب', 'خيو', 'فين', 'الباقي', 'نعمل', 'جروب', 'هنا', 'كمان', 'ايوه', 'هههههه', 'شفت', 'وانت', 'في', 'وجهي', 'واصل', 'الله', 'يبارك', 'الشوق', '#', 'عيوب_الحب_هينايم', 'العصر', '#', 'من_سهركغنى', 'غنى', '#', 'عمار_العزكي', 'الف', 'الف', 'مبرووووك', 'يا', 'نجم', 'اليمن', 'البوم', 'موفق', 'جدا', 'بداية', 'قوووويه', 'لك', 'داما', 'رافع', 'راس', 'اليمن', 'فوووق', 'غنيه', 'في', 'قمه', 'الرؤؤؤعه', 'احساس', 'ولا', 'اروع', '#', 'استمع', 'الى', '”', 'Etha', 'Terjaa', '“', 'من', 'عمار', 'العزكي', 'على', '#', 'أنغامي', 'منتضرين', 'مشكله', 'لما', 'تحس', 'إنك', 'قاعد', 'تعيش', 'بفتره', 'أنت', 'بنفسك', 'تعبت', 'منها', 'كثير', 'بنفس', 'الوقت', 'مو', 'قادر', 'تغير', 'شيء', 'ولا', 'هالفتره', 'راضيه', 'تعدي', '.#', 'غني_غني', '-', 'ﻟﻤﺎ', 'ﺍﺣﻄﻚ', 'ﺑﺎﻟﻤﻜﺎﻥ', 'ﺍﻟﻠﻲ', 'ﻳﻨﺒﺾ', 'بيه', '!', 'ﻟﻤﺎ', 'ﺍكول', 'ﺍﻧﻚ', 'ﺷﻲ', 'ﻳﺴﻌﺪﻧﻲ', 'ﻭﺷﻲ', 'ﻳﻔﺮﺣﻨﻲ', 'ﺍﻣّﺎﻧﻪ', 'ﻋﻠﻴﻚ', 'ﻻ', 'ﺗﺨﻠﻴﻨﻲ', 'ﺃﻧﺪﻡ', '✋', 'تستهل', 'اكثر', 'عمارنا', '#', 'عمار_العزكي', '#', 'غني_غني', '#', 'اول', 'غنية', 'من', 'البومه', 'الجديدسيأتي', 'دور', 'أيامك', 'الجميلة', '،', 'وأحلامك', 'الحُلوة', '،', 'إحتظن', 'ظنونك', 'الطيبة', '،', 'لن', 'تنتظر', 'طويلًا', '،', 'عش', 'متعة', 'الترقب', '،', 'رُبما', 'تبدأ', 'اليوم', 'وربما', 'غدًا', '.#', 'غني_غنيليست', 'آلرجُوله', 'بـ', 'آن', 'تُحبك', 'كل', 'النسآء', 'و', 'لكن', 'الرجوله', 'آن', 'تعشق', 'و', 'تخلص', 'لانسآنه', 'واحده', 'و', 'تجعلهآ', 'فوق', 'كُل', 'النسآء', '❤️.#', 'غني_غنيأعٌشُـقُ', 'ذِلَکْ', 'آلَشُـخِـصّ', 'آلَذِي', 'يشُـعٌرنِي', 'بًـ', 'أنِنِي', 'شُـيء', 'يخِـصّـهّ', 'فُـقُطِ', '#', 'غني_غني', '-', 'رَبِيّ', '،', 'لَمْ', 'أَتَمَنىَّ', 'يَوْماً', 'شَراً', 'لأَحَدْ', '..', 'فَ', 'إِكْفِنيَّ', 'شَّرَ', 'خَلْقِكَّ', '❤#', 'غني_غني', '⠀⠀⠀⠀⠀⠀⠀⠀⠀⠀⠀⠀⠀⠀⠀⠀⠀⠀⠀⠀⠀⠀⠀⠀⠀⠀⠀⠀⠀⠀⠀⠀⠀⠀⠀⠀⠀⠀⠀', 'ـ', 'لا', 'تركض', 'ورا', 'شخص', 'عشان', 'تذكّره', 'يهتم', 'فيك', 'لا', 'تعاتبه', 'لمّا', 'تشوفه', 'مهملك', '،', 'خلّك', 'دايم', 'على', 'ثقة', 'بأن', 'هالأشياء', 'إذا', 'ماجت', 'من', 'القلب', 'مو', 'حلوة', 'لما', 'تجي', 'بعد', 'العتب', '\".#', 'غني_غنيˇ', 'لا', 'شيء', 'يمرّ', 'عبثاً', '،', 'حتى', 'تعثراتك', 'الصغيرة', 'كانت', 'لأجل', 'أن', 'تعرف', 'شيئاً', 'ما', '،', 'لأجل', 'أن', 'تعي', '،', 'لأجل', 'أن', 'يتسّع', 'أفقك', 'و', 'تضيق', 'توقعاتك', '.♥#', 'غني_غنيأشكر', 'هالحياهِ', 'لأنها', 'أنقذت', 'قلبّي', 'بشخص', 'لايق', 'ليّ', 'بكثيييير', '♥️♥️.\"', 'بمرور', 'السنوات', 'تكتسب', 'شيء', 'جديد', '،', 'لن', 'تبالي', 'اذا', 'غادر', 'أحدهم', 'حياتك', '،', 'لن', 'تحارب', 'من', 'أجل', 'أي', 'علاقة', '،', 'لا', 'تتلهف', 'لقدوم', 'شيء', 'ولن', 'تنصدم', '.\"', 'يارب', 'تضحك', 'لنا', 'الأيام', 'بكُل', 'ما', 'أوتيت', 'من', 'قوه', '.#', 'غني_غنيغنى', 'غنى', 'جعل', 'ما', 'غيرك', 'يغني', 'أرأيتـــم', 'كيف', 'تشرق', 'الشمس', 'بعد', 'حلكة', 'الليل', '؟', 'كذلك', 'الفـــرج', '..', 'لا', 'يأتي', 'إلينا', 'إلا', 'بعد', 'أن', 'يشتد', 'بنا', 'الألم', '..', 'فاصبـــر', '،', 'و', 'لا', 'تيأس', '،', 'و', 'لا', 'تحـزن', 'حاجه', 'حُلوه', 'تجي', 'فجأة', 'من', 'اللاشيء', 'تكسر', 'الروتين', 'وتخلينا', 'مبسوطين', 'إلى', 'مالا', 'نِهاية', 'يارب', '.', 'و', 'إني', 'لأوصيك', 'بروحي', 'فهي', 'تسافر', 'إليك', 'أكثر', 'مما', 'تستقر', 'لدي', '.”', 'كم', 'وردة', 'نبتت', 'في', 'القلب', '،', 'وكانت', 'جذورها', 'رسالة', '.؟“#', 'غني_غني', '#', 'كلام_ابيض', '#', 'عمار_العزكيإذا', 'شعرتِ', 'بالحاجة', 'إلى', 'يد', 'دافئة', 'فأمسكِ', 'بيدكِ', 'الأخرى', 'فلن', 'يُهزم', 'شخصٌ', 'يؤمن', 'بنفسه', '#', 'غني_غني', '#', 'كلام_ابيض', '”', 'بتبقى', 'عُمري', 'الحلو', 'بتبقى', 'المقصُود', 'بكل', 'الحكّي', '♥️!!..“#', 'غني_غني', '#', 'كلام_ابيض', 'فعلا', 'اغنيه', 'موفق', 'وذوق', 'ولا', 'احسن', 'كلنا', 'موجودين', 'ان', 'شاء', 'الله', 'اغنيه', 'موفق', 'شكرا', 'على', 'اهتمامكم', 'صباحكم', 'صوت', 'ولا', 'اروع', 'اغنيه', 'ولا', 'احسن', 'صباحكم', '#', 'غني_غني', '#', 'كلام_ابيض', 'موفق', 'عمارنا', 'اغنيه', 'ولا', 'ارووووووعه', 'حظ', 'موقف', 'واختيار', 'موفق', 'تم', 'كلنا', 'ان', 'شاء', 'جعل', 'ما', 'احد', 'يغني', 'غير', 'يا', 'عمار', 'وااااااااااااااااااااا', 'ولا', 'ارررررررووووووع', 'فديت', 'صوتك', 'وذوقك', 'يا', 'ابن', 'اليمن', 'صباح', 'النور', 'حركات', 'ربي', 'يسعدكم', 'صدقت', 'فديتك', 'خواوه', 'فايز', 'انت', 'الذي', 'مبرووووك', 'صدقت', 'صباحك', 'تفائل', 'واحنا', 'الله', 'يتقبل', 'منها', 'ايه', 'والله', 'سيئتي', 'السلام', 'وان', 'طال', 'الحرب', 'جدا', 'حلووووه', 'موفقه', 'يا', 'يووووو', 'فدوه', 'منووووورينشكرا', 'من', 'قلبي', 'عشان', 'عرفت', 'انو', 'الخاين', 'مالو', 'لزمه', 'في', 'حياتي', '#', 'سطر_فضفضهاني', 'صرت', 'افكر', 'بعقلي', 'اكثر', 'من', 'قلبي', 'اني', 'صرت', 'احب', 'نفسي', 'اكثير', 'من', 'الاشخاص', 'الذي', 'حولي', '❤#', 'احلا_شي_سويته', '#', 'حمله_مليون_مستغفر', '#', 'حمله_مليون_مستغفر', 'استغفرالله', 'استغفرالله', 'استغفرالله', 'استغفرالله', 'استغفرالله', 'استغفرالله', 'استغفرالله', 'من', 'كل', 'ذنب', 'يعقب', 'حسره', 'ويورث', 'الندامه', 'ويحبس', 'الرزق', 'ويرد', 'ايه', 'والله', 'ياعمار', 'الدنيا', 'لسه', 'فيها', 'خير', 'ربي', 'يسعدك', 'فدوه', 'فايز', 'انت', 'اخي', 'الغالي', 'الذي', 'ما', 'اقدر', 'استغني', 'عنو', 'صباح', 'النور', 'يا', 'أفضل', 'صباحك', 'فديتو', 'قلبك', 'ياقلبو', 'ولو', 'عمار', 'يستهل', 'أكثر', 'من', 'كدا', 'سلامات', 'ايش', 'في', 'مش', 'عاجبك', 'ليش', 'في', 'أحد', 'مايحب', 'ايه', 'اللله', 'انا', 'إلى', 'الآن', 'لما', 'اشوف', 'هذي', 'الاغنيه', 'ابكي', 'معك', 'مدري', 'ليش', '✋', 'وربي', 'انك', 'فرحه', 'وطن', 'وفرحتي', 'انا', 'بذات', 'يسلمو', 'عمار', 'على', 'احلا', 'لايك', 'مافي', 'احلا', 'من', 'شعور', 'ان', 'الشخص', 'الذي', 'داما', 'تكتب', 'عشان', 'يشوف', 'ويقرأ', 'شكرا', 'عمار', '✋#', 'راس_السنه', '#', 'عمار_العزكي_معشوق_الملايين', 'الله', 'يجعلو', 'عام', 'خير', 'وسعاده', 'يارب', '#', 'اول_تغريده_لعام_2018', 'لك', 'الحمد', 'ربي', 'حمداً', 'يليق', 'بجلال', 'وجهك', 'وعظيم', 'سلطانك', '.', 'الحمد', 'اللهكل', 'عام', 'وانت', 'فرحه', 'كل', 'يمني', 'وكل', 'عام', 'وانت', 'فرحه', 'لوطنك', 'وسعاده', 'لنا', 'سنه', 'مرت', 'وكنت', 'فيها', 'نجم', 'صاطع', 'في', 'سماء', 'الفن', 'وعام', 'اقبل', 'بإذن', 'الله', 'ستكون', 'أفضل', 'وافضل', 'شكرا', 'من', 'كل', 'قلوبنا', 'انك', 'مثلت', 'اليمن', 'أفضل', 'تمثيل', 'شكرا', 'الانك', 'فرحه', 'وطن', '❤#', 'عمار_عزكي', 'كانت', 'سنه', 'وجع', 'وتعب', 'يارب', 'سنه', 'الجايه', 'احلا', 'روعاتك', 'شاعرنا', 'مبروووووووك', 'هههههه', 'والله', 'اني', 'رحمت', 'عمار', 'من', 'بدأ', 'يتعلم', 'الرسم', 'يبدأ', 'بوجه', 'عمار', 'مله', 'كيف', 'يا', 'عمار', 'شوف', 'لك', 'حل', 'مع', 'الرسامين', 'هذول', 'هههههبس', 'رسمك', 'احلا', 'من', 'حق', 'ان', 'شاء', 'الله', 'بكره', 'احلا', 'يارب', '#', 'الوقت_هذا_ودك', 'اقول', 'له', 'اشتقتلك', 'وحشتني', 'ايامي', 'معك', '#', 'غرد_بدعوه_لامك_وابيك', 'ربي', 'احفظ', 'ابي', 'وامي', 'من', 'كل', 'شر', 'تصوير', 'ولا', 'اروع', 'يب', 'يب', 'اكيد', 'ابن', 'اليمن', 'وكلو', 'عز', 'وشموخ', 'عمار', 'بكل', 'لبسو', 'يجننن', 'ربي', 'يحميك', 'يا', 'ابن', 'اليمن', 'يارب', 'يكون', 'عام', 'خير', 'وبركه', \"'منووووور\", 'عمارنا', 'الصوره', 'ههههههه', 'عمار', 'العزكي', 'حب', 'همسه', 'اهم', 'شي', 'اليدات', 'نفس', 'اليدات', 'الباقي', 'مش', 'مهم', 'هههههههه', 'اتقي', 'الله', 'يا', 'شيخه', 'كرهتي', 'الرجال', 'في', 'نفسو']\n",
            "textTokPunc[i]:  ['مبرووووووووك', 'ما', 'جاكي', 'يتربي', 'في', 'عزك', 'منور', 'امين', 'فديت', 'قلبك', 'منووور', 'ياعمار', 'احلا', 'منووور', 'عمارنا', 'الله', 'يسعدككل', 'عام', 'وانت', 'الاجمل', 'وكل', 'عام', 'وانت', 'الافضل', 'وكل', 'سنه', 'وانت', 'اجمل', 'ما', 'حصل', 'في', 'في', 'الفن', 'اليمني', 'كل', 'سنه', 'وانت', 'نجم', 'عالي', 'في', 'سماء', 'الفن', 'العالمي', 'كل', 'عام', 'وانت', 'بالف', 'خير', 'يا', 'سفير', 'اليمن', 'يارب', 'سنه', 'سعيده', 'عليك', 'تتحقق', 'كل', 'احلامك', 'يارب', 'اذا', 'ترجع', 'هذي', 'الاغنيه', 'عشق', 'لا', 'ينتهي', 'وكمان', 'دلوع', 'اكثر', 'غنيتين', 'معلقين', 'معي', 'وبشكل', 'عام', 'الالبوم', 'فووووق', 'الوصف', 'الله', 'يسعدك', 'يا', 'ابن', 'اليمن', 'غالي', 'شرفت', 'اليمن', 'والفن', 'اليمني', 'كلام_ابيض', 'ابدع', 'يا', 'وائل', 'موفق', 'يارب', 'من', 'نجاح', 'الى', 'نجاح', 'اخي', 'تسلم', 'الايادي', 'الغنى', 'المطلق', 'أن', 'تعيش', 'الحياة', 'على', 'منهج', 'أنا', 'جنتي', 'في', 'صدري', 'فترى', 'في', 'نفسك', 'الواسعة', 'مبتدأ', 'السرور', 'ومنتهاه', 'لا', 'تؤمن', 'بالانتقام', 'ولا', 'رد', 'الوجع', 'بالوجع', 'ثق', 'بان', 'هذه', 'الدنيا', 'صغيره', 'وسريع', 'دورانها', 'يب', 'يب', 'خهههههههه', 'مي', 'هاتوهم', 'نعمل', 'جروب', 'بدل', 'الضبح', 'تدوم', 'والله', 'مدري', 'عاشق', 'انا', 'الذي', 'اعرفو', 'الحمد', 'الله', 'هلا', 'فيك', 'كيفك', 'اها', 'سلم', 'على', 'العريس', 'هههههههه', 'اتوسطلك', 'وباقي', 'عصابه', 'ال', 'الشلح', 'فينهم', 'ويسعدك', 'ياااارب', 'خيو', 'فين', 'الباقي', 'نعمل', 'جروب', 'هنا', 'كمان', 'ايوه', 'هههههه', 'شفت', 'وانت', 'في', 'وجهي', 'واصل', 'الله', 'يبارك', 'الشوق', 'عيوب_الحب_هينايم', 'العصر', 'من_سهركغنى', 'غنى', 'عمار_العزكي', 'الف', 'الف', 'مبرووووك', 'يا', 'نجم', 'اليمن', 'البوم', 'موفق', 'جدا', 'بداية', 'قوووويه', 'لك', 'داما', 'رافع', 'راس', 'اليمن', 'فوووق', 'غنيه', 'في', 'قمه', 'الرؤؤؤعه', 'احساس', 'ولا', 'اروع', 'استمع', 'الى', 'Etha', 'Terjaa', 'من', 'عمار', 'العزكي', 'على', 'أنغامي', 'منتضرين', 'مشكله', 'لما', 'تحس', 'إنك', 'قاعد', 'تعيش', 'بفتره', 'أنت', 'بنفسك', 'تعبت', 'منها', 'كثير', 'بنفس', 'الوقت', 'مو', 'قادر', 'تغير', 'شيء', 'ولا', 'هالفتره', 'راضيه', 'تعدي', 'غني_غني', 'ﻟﻤﺎ', 'ﺍﺣﻄﻚ', 'ﺑﺎﻟﻤﻜﺎﻥ', 'ﺍﻟﻠﻲ', 'ﻳﻨﺒﺾ', 'بيه', 'ﻟﻤﺎ', 'ﺍكول', 'ﺍﻧﻚ', 'ﺷﻲ', 'ﻳﺴﻌﺪﻧﻲ', 'ﻭﺷﻲ', 'ﻳﻔﺮﺣﻨﻲ', 'ﺍﻣﺎﻧﻪ', 'ﻋﻠﻴﻚ', 'ﻻ', 'ﺗﺨﻠﻴﻨﻲ', 'ﺃﻧﺪﻡ', 'تستهل', 'اكثر', 'عمارنا', 'عمار_العزكي', 'غني_غني', 'اول', 'غنية', 'من', 'البومه', 'الجديدسيأتي', 'دور', 'أيامك', 'الجميلة', 'وأحلامك', 'الحلوة', 'إحتظن', 'ظنونك', 'الطيبة', 'لن', 'تنتظر', 'طويلا', 'عش', 'متعة', 'الترقب', 'ربما', 'تبدأ', 'اليوم', 'وربما', 'غدا', 'غني_غنيليست', 'آلرجوله', 'بـ', 'آن', 'تحبك', 'كل', 'النسآء', 'و', 'لكن', 'الرجوله', 'آن', 'تعشق', 'و', 'تخلص', 'لانسآنه', 'واحده', 'و', 'تجعلهآ', 'فوق', 'كل', 'النسآء', 'غني_غنيأعشـق', 'ذلک', 'آلشـخـص', 'آلذي', 'يشـعرني', 'بـ', 'أنني', 'شـيء', 'يخـصـه', 'فـقط', 'غني_غني', 'ربي', 'لم', 'أتمنى', 'يوما', 'شرا', 'لأحد', 'ف', 'إكفني', 'شر', 'خلقك', 'غني_غني', 'ـ', 'لا', 'تركض', 'ورا', 'شخص', 'عشان', 'تذكره', 'يهتم', 'فيك', 'لا', 'تعاتبه', 'لما', 'تشوفه', 'مهملك', 'خلك', 'دايم', 'على', 'ثقة', 'بأن', 'هالأشياء', 'إذا', 'ماجت', 'من', 'القلب', 'مو', 'حلوة', 'لما', 'تجي', 'بعد', 'العتب', 'غني_غنيˇ', 'لا', 'شيء', 'يمر', 'عبثا', 'حتى', 'تعثراتك', 'الصغيرة', 'كانت', 'لأجل', 'أن', 'تعرف', 'شيئا', 'ما', 'لأجل', 'أن', 'تعي', 'لأجل', 'أن', 'يتسع', 'أفقك', 'و', 'تضيق', 'توقعاتك', 'غني_غنيأشكر', 'هالحياه', 'لأنها', 'أنقذت', 'قلبي', 'بشخص', 'لايق', 'لي', 'بكثيييير', 'بمرور', 'السنوات', 'تكتسب', 'شيء', 'جديد', 'لن', 'تبالي', 'اذا', 'غادر', 'أحدهم', 'حياتك', 'لن', 'تحارب', 'من', 'أجل', 'أي', 'علاقة', 'لا', 'تتلهف', 'لقدوم', 'شيء', 'ولن', 'تنصدم', 'يارب', 'تضحك', 'لنا', 'الأيام', 'بكل', 'ما', 'أوتيت', 'من', 'قوه', 'غني_غنيغنى', 'غنى', 'جعل', 'ما', 'غيرك', 'يغني', 'أرأيتـــم', 'كيف', 'تشرق', 'الشمس', 'بعد', 'حلكة', 'الليل', 'كذلك', 'الفـــرج', 'لا', 'يأتي', 'إلينا', 'إلا', 'بعد', 'أن', 'يشتد', 'بنا', 'الألم', 'فاصبـــر', 'و', 'لا', 'تيأس', 'و', 'لا', 'تحـزن', 'حاجه', 'حلوه', 'تجي', 'فجأة', 'من', 'اللاشيء', 'تكسر', 'الروتين', 'وتخلينا', 'مبسوطين', 'إلى', 'مالا', 'نهاية', 'يارب', 'و', 'إني', 'لأوصيك', 'بروحي', 'فهي', 'تسافر', 'إليك', 'أكثر', 'مما', 'تستقر', 'لدي', 'كم', 'وردة', 'نبتت', 'في', 'القلب', 'وكانت', 'جذورها', 'رسالة', 'غني_غني', 'كلام_ابيض', 'عمار_العزكيإذا', 'شعرت', 'بالحاجة', 'إلى', 'يد', 'دافئة', 'فأمسك', 'بيدك', 'الأخرى', 'فلن', 'يهزم', 'شخص', 'يؤمن', 'بنفسه', 'غني_غني', 'كلام_ابيض', 'بتبقى', 'عمري', 'الحلو', 'بتبقى', 'المقصود', 'بكل', 'الحكي', 'غني_غني', 'كلام_ابيض', 'فعلا', 'اغنيه', 'موفق', 'وذوق', 'ولا', 'احسن', 'كلنا', 'موجودين', 'ان', 'شاء', 'الله', 'اغنيه', 'موفق', 'شكرا', 'على', 'اهتمامكم', 'صباحكم', 'صوت', 'ولا', 'اروع', 'اغنيه', 'ولا', 'احسن', 'صباحكم', 'غني_غني', 'كلام_ابيض', 'موفق', 'عمارنا', 'اغنيه', 'ولا', 'ارووووووعه', 'حظ', 'موقف', 'واختيار', 'موفق', 'تم', 'كلنا', 'ان', 'شاء', 'جعل', 'ما', 'احد', 'يغني', 'غير', 'يا', 'عمار', 'وااااااااااااااااااااا', 'ولا', 'ارررررررووووووع', 'فديت', 'صوتك', 'وذوقك', 'يا', 'ابن', 'اليمن', 'صباح', 'النور', 'حركات', 'ربي', 'يسعدكم', 'صدقت', 'فديتك', 'خواوه', 'فايز', 'انت', 'الذي', 'مبرووووك', 'صدقت', 'صباحك', 'تفائل', 'واحنا', 'الله', 'يتقبل', 'منها', 'ايه', 'والله', 'سيئتي', 'السلام', 'وان', 'طال', 'الحرب', 'جدا', 'حلووووه', 'موفقه', 'يا', 'يووووو', 'فدوه', 'منووووورينشكرا', 'من', 'قلبي', 'عشان', 'عرفت', 'انو', 'الخاين', 'مالو', 'لزمه', 'في', 'حياتي', 'سطر_فضفضهاني', 'صرت', 'افكر', 'بعقلي', 'اكثر', 'من', 'قلبي', 'اني', 'صرت', 'احب', 'نفسي', 'اكثير', 'من', 'الاشخاص', 'الذي', 'حولي', 'احلا_شي_سويتهحمله_مليون_مستغفر', 'حمله_مليون_مستغفر', 'استغفرالله', 'استغفرالله', 'استغفرالله', 'استغفرالله', 'استغفرالله', 'استغفرالله', 'استغفرالله', 'من', 'كل', 'ذنب', 'يعقب', 'حسره', 'ويورث', 'الندامه', 'ويحبس', 'الرزق', 'ويرد', 'ايه', 'والله', 'ياعمار', 'الدنيا', 'لسه', 'فيها', 'خير', 'ربي', 'يسعدك', 'فدوه', 'فايز', 'انت', 'اخي', 'الغالي', 'الذي', 'ما', 'اقدر', 'استغني', 'عنو', 'صباح', 'النور', 'يا', 'أفضل', 'صباحك', 'فديتو', 'قلبك', 'ياقلبو', 'ولو', 'عمار', 'يستهل', 'أكثر', 'من', 'كدا', 'سلامات', 'ايش', 'في', 'مش', 'عاجبك', 'ليش', 'في', 'أحد', 'مايحب', 'ايه', 'اللله', 'انا', 'إلى', 'الآن', 'لما', 'اشوف', 'هذي', 'الاغنيه', 'ابكي', 'معك', 'مدري', 'ليش', 'وربي', 'انك', 'فرحه', 'وطن', 'وفرحتي', 'انا', 'بذات', 'يسلمو', 'عمار', 'على', 'احلا', 'لايك', 'مافي', 'احلا', 'من', 'شعور', 'ان', 'الشخص', 'الذي', 'داما', 'تكتب', 'عشان', 'يشوف', 'ويقرأ', 'شكرا', 'عمار', 'راس_السنه', 'عمار_العزكي_معشوق_الملايين', 'الله', 'يجعلو', 'عام', 'خير', 'وسعاده', 'يارباول_تغريده_لعام_2018', 'لك', 'الحمد', 'ربي', 'حمدا', 'يليق', 'بجلال', 'وجهك', 'وعظيم', 'سلطانك', 'الحمد', 'اللهكل', 'عام', 'وانت', 'فرحه', 'كل', 'يمني', 'وكل', 'عام', 'وانت', 'فرحه', 'لوطنك', 'وسعاده', 'لنا', 'سنه', 'مرت', 'وكنت', 'فيها', 'نجم', 'صاطع', 'في', 'سماء', 'الفن', 'وعام', 'اقبل', 'بإذن', 'الله', 'ستكون', 'أفضل', 'وافضل', 'شكرا', 'من', 'كل', 'قلوبنا', 'انك', 'مثلت', 'اليمن', 'أفضل', 'تمثيل', 'شكرا', 'الانك', 'فرحه', 'وطن', 'عمار_عزكي', 'كانت', 'سنه', 'وجع', 'وتعب', 'يارب', 'سنه', 'الجايه', 'احلا', 'روعاتك', 'شاعرنا', 'مبروووووووك', 'هههههه', 'والله', 'اني', 'رحمت', 'عمار', 'من', 'بدأ', 'يتعلم', 'الرسم', 'يبدأ', 'بوجه', 'عمار', 'مله', 'كيف', 'يا', 'عمار', 'شوف', 'لك', 'حل', 'مع', 'الرسامين', 'هذول', 'هههههبس', 'رسمك', 'احلا', 'من', 'حق', 'ان', 'شاء', 'الله', 'بكره', 'احلا', 'ياربالوقت_هذا_ودك', 'اقول', 'له', 'اشتقتلك', 'وحشتني', 'ايامي', 'معك', 'غرد_بدعوه_لامك_وابيك', 'ربي', 'احفظ', 'ابي', 'وامي', 'من', 'كل', 'شر', 'تصوير', 'ولا', 'اروع', 'يب', 'يب', 'اكيد', 'ابن', 'اليمن', 'وكلو', 'عز', 'وشموخ', 'عمار', 'بكل', 'لبسو', 'يجننن', 'ربي', 'يحميك', 'يا', 'ابن', 'اليمن', 'يارب', 'يكون', 'عام', 'خير', 'وبركه', 'منووووور', 'عمارنا', 'الصوره', 'ههههههه', 'عمار', 'العزكي', 'حب', 'همسه', 'اهم', 'شي', 'اليدات', 'نفس', 'اليدات', 'الباقي', 'مش', 'مهم', 'هههههههه', 'اتقي', 'الله', 'يا', 'شيخه', 'كرهتي', 'الرجال', 'في', 'نفسو']\n",
            "textTokSTL[i]:  ['مبرووووووووك', 'جاكي', 'يتربي', 'عزك', 'منور', 'امين', 'فديت', 'قلبك', 'منووور', 'ياعمار', 'احلا', 'منووور', 'عمارنا', 'الله', 'يسعدككل', 'عام', 'وانت', 'الاجمل', 'وكل', 'عام', 'وانت', 'الافضل', 'وكل', 'سنه', 'وانت', 'اجمل', 'حصل', 'الفن', 'اليمني', 'سنه', 'وانت', 'نجم', 'عالي', 'سماء', 'الفن', 'العالمي', 'عام', 'وانت', 'بالف', 'خير', 'سفير', 'اليمن', 'يارب', 'سنه', 'سعيده', 'تتحقق', 'احلامك', 'يارب', 'اذا', 'ترجع', 'الاغنيه', 'عشق', 'ينتهي', 'وكمان', 'دلوع', 'اكثر', 'غنيتين', 'معلقين', 'معي', 'وبشكل', 'عام', 'الالبوم', 'فووووق', 'الوصف', 'الله', 'يسعدك', 'ابن', 'اليمن', 'غالي', 'شرفت', 'اليمن', 'والفن', 'اليمني', 'كلام_ابيض', 'ابدع', 'وائل', 'موفق', 'يارب', 'نجاح', 'الى', 'نجاح', 'اخي', 'تسلم', 'الايادي', 'الغنى', 'المطلق', 'تعيش', 'الحياة', 'منهج', 'جنتي', 'صدري', 'فترى', 'نفسك', 'الواسعة', 'مبتدأ', 'السرور', 'ومنتهاه', 'تؤمن', 'بالانتقام', 'رد', 'الوجع', 'بالوجع', 'ثق', 'بان', 'الدنيا', 'صغيره', 'وسريع', 'دورانها', 'يب', 'يب', 'خهههههههه', 'مي', 'هاتوهم', 'نعمل', 'جروب', 'بدل', 'الضبح', 'تدوم', 'والله', 'مدري', 'عاشق', 'انا', 'اعرفو', 'الحمد', 'الله', 'فيك', 'كيفك', 'اها', 'سلم', 'العريس', 'هههههههه', 'اتوسطلك', 'وباقي', 'عصابه', 'ال', 'الشلح', 'فينهم', 'ويسعدك', 'ياااارب', 'خيو', 'فين', 'الباقي', 'نعمل', 'جروب', 'كمان', 'ايوه', 'هههههه', 'شفت', 'وانت', 'وجهي', 'واصل', 'الله', 'يبارك', 'الشوق', 'عيوب_الحب_هينايم', 'العصر', 'من_سهركغنى', 'غنى', 'عمار_العزكي', 'الف', 'الف', 'مبرووووك', 'نجم', 'اليمن', 'البوم', 'موفق', 'جدا', 'بداية', 'قوووويه', 'داما', 'رافع', 'راس', 'اليمن', 'فوووق', 'غنيه', 'قمه', 'الرؤؤؤعه', 'احساس', 'اروع', 'استمع', 'الى', 'Etha', 'Terjaa', 'عمار', 'العزكي', 'أنغامي', 'منتضرين', 'مشكله', 'تحس', 'إنك', 'قاعد', 'تعيش', 'بفتره', 'بنفسك', 'تعبت', 'كثير', 'بنفس', 'الوقت', 'مو', 'قادر', 'تغير', 'شيء', 'هالفتره', 'راضيه', 'تعدي', 'غني_غني', 'ﻟﻤﺎ', 'ﺍﺣﻄﻚ', 'ﺑﺎﻟﻤﻜﺎﻥ', 'ﺍﻟﻠﻲ', 'ﻳﻨﺒﺾ', 'بيه', 'ﻟﻤﺎ', 'ﺍكول', 'ﺍﻧﻚ', 'ﺷﻲ', 'ﻳﺴﻌﺪﻧﻲ', 'ﻭﺷﻲ', 'ﻳﻔﺮﺣﻨﻲ', 'ﺍﻣﺎﻧﻪ', 'ﻋﻠﻴﻚ', 'ﻻ', 'ﺗﺨﻠﻴﻨﻲ', 'ﺃﻧﺪﻡ', 'تستهل', 'اكثر', 'عمارنا', 'عمار_العزكي', 'غني_غني', 'اول', 'غنية', 'البومه', 'الجديدسيأتي', 'دور', 'أيامك', 'الجميلة', 'وأحلامك', 'الحلوة', 'إحتظن', 'ظنونك', 'الطيبة', 'تنتظر', 'طويلا', 'عش', 'متعة', 'الترقب', 'ربما', 'تبدأ', 'اليوم', 'وربما', 'غدا', 'غني_غنيليست', 'آلرجوله', 'بـ', 'آن', 'تحبك', 'النسآء', 'و', 'الرجوله', 'آن', 'تعشق', 'و', 'تخلص', 'لانسآنه', 'واحده', 'و', 'تجعلهآ', 'فوق', 'النسآء', 'غني_غنيأعشـق', 'ذلک', 'آلشـخـص', 'آلذي', 'يشـعرني', 'بـ', 'أنني', 'شـيء', 'يخـصـه', 'فـقط', 'غني_غني', 'ربي', 'أتمنى', 'يوما', 'شرا', 'لأحد', 'ف', 'إكفني', 'شر', 'خلقك', 'غني_غني', 'ـ', 'تركض', 'ورا', 'شخص', 'عشان', 'تذكره', 'يهتم', 'فيك', 'تعاتبه', 'تشوفه', 'مهملك', 'خلك', 'دايم', 'ثقة', 'بأن', 'هالأشياء', 'ماجت', 'القلب', 'مو', 'حلوة', 'تجي', 'العتب', 'غني_غنيˇ', 'شيء', 'يمر', 'عبثا', 'تعثراتك', 'الصغيرة', 'كانت', 'لأجل', 'تعرف', 'شيئا', 'لأجل', 'تعي', 'لأجل', 'يتسع', 'أفقك', 'و', 'تضيق', 'توقعاتك', 'غني_غنيأشكر', 'هالحياه', 'لأنها', 'أنقذت', 'قلبي', 'بشخص', 'لايق', 'بكثيييير', 'بمرور', 'السنوات', 'تكتسب', 'شيء', 'جديد', 'تبالي', 'اذا', 'غادر', 'أحدهم', 'حياتك', 'تحارب', 'أجل', 'علاقة', 'تتلهف', 'لقدوم', 'شيء', 'ولن', 'تنصدم', 'يارب', 'تضحك', 'الأيام', 'بكل', 'أوتيت', 'قوه', 'غني_غنيغنى', 'غنى', 'جعل', 'غيرك', 'يغني', 'أرأيتـــم', 'تشرق', 'الشمس', 'حلكة', 'الليل', 'الفـــرج', 'يأتي', 'إلينا', 'يشتد', 'الألم', 'فاصبـــر', 'و', 'تيأس', 'و', 'تحـزن', 'حاجه', 'حلوه', 'تجي', 'فجأة', 'اللاشيء', 'تكسر', 'الروتين', 'وتخلينا', 'مبسوطين', 'مالا', 'نهاية', 'يارب', 'و', 'إني', 'لأوصيك', 'بروحي', 'فهي', 'تسافر', 'تستقر', 'لدي', 'وردة', 'نبتت', 'القلب', 'وكانت', 'جذورها', 'رسالة', 'غني_غني', 'كلام_ابيض', 'عمار_العزكيإذا', 'شعرت', 'بالحاجة', 'يد', 'دافئة', 'فأمسك', 'بيدك', 'الأخرى', 'فلن', 'يهزم', 'شخص', 'يؤمن', 'بنفسه', 'غني_غني', 'كلام_ابيض', 'بتبقى', 'عمري', 'الحلو', 'بتبقى', 'المقصود', 'بكل', 'الحكي', 'غني_غني', 'كلام_ابيض', 'فعلا', 'اغنيه', 'موفق', 'وذوق', 'احسن', 'كلنا', 'موجودين', 'ان', 'شاء', 'الله', 'اغنيه', 'موفق', 'شكرا', 'اهتمامكم', 'صباحكم', 'صوت', 'اروع', 'اغنيه', 'احسن', 'صباحكم', 'غني_غني', 'كلام_ابيض', 'موفق', 'عمارنا', 'اغنيه', 'ارووووووعه', 'حظ', 'موقف', 'واختيار', 'موفق', 'تم', 'كلنا', 'ان', 'شاء', 'جعل', 'احد', 'يغني', 'عمار', 'وااااااااااااااااااااا', 'ارررررررووووووع', 'فديت', 'صوتك', 'وذوقك', 'ابن', 'اليمن', 'صباح', 'النور', 'حركات', 'ربي', 'يسعدكم', 'صدقت', 'فديتك', 'خواوه', 'فايز', 'انت', 'مبرووووك', 'صدقت', 'صباحك', 'تفائل', 'واحنا', 'الله', 'يتقبل', 'ايه', 'والله', 'سيئتي', 'السلام', 'وان', 'طال', 'الحرب', 'جدا', 'حلووووه', 'موفقه', 'يووووو', 'فدوه', 'منووووورينشكرا', 'قلبي', 'عشان', 'عرفت', 'انو', 'الخاين', 'مالو', 'لزمه', 'حياتي', 'سطر_فضفضهاني', 'صرت', 'افكر', 'بعقلي', 'اكثر', 'قلبي', 'اني', 'صرت', 'احب', 'نفسي', 'اكثير', 'الاشخاص', 'حولي', 'احلا_شي_سويتهحمله_مليون_مستغفر', 'حمله_مليون_مستغفر', 'استغفرالله', 'استغفرالله', 'استغفرالله', 'استغفرالله', 'استغفرالله', 'استغفرالله', 'استغفرالله', 'ذنب', 'يعقب', 'حسره', 'ويورث', 'الندامه', 'ويحبس', 'الرزق', 'ويرد', 'ايه', 'والله', 'ياعمار', 'الدنيا', 'لسه', 'خير', 'ربي', 'يسعدك', 'فدوه', 'فايز', 'انت', 'اخي', 'الغالي', 'اقدر', 'استغني', 'عنو', 'صباح', 'النور', 'أفضل', 'صباحك', 'فديتو', 'قلبك', 'ياقلبو', 'عمار', 'يستهل', 'كدا', 'سلامات', 'ايش', 'مش', 'عاجبك', 'ليش', 'أحد', 'مايحب', 'ايه', 'اللله', 'انا', 'الآن', 'اشوف', 'الاغنيه', 'ابكي', 'معك', 'مدري', 'ليش', 'وربي', 'انك', 'فرحه', 'وطن', 'وفرحتي', 'انا', 'بذات', 'يسلمو', 'عمار', 'احلا', 'لايك', 'مافي', 'احلا', 'شعور', 'ان', 'الشخص', 'داما', 'تكتب', 'عشان', 'يشوف', 'ويقرأ', 'شكرا', 'عمار', 'راس_السنه', 'عمار_العزكي_معشوق_الملايين', 'الله', 'يجعلو', 'عام', 'خير', 'وسعاده', 'يارباول_تغريده_لعام_2018', 'الحمد', 'ربي', 'حمدا', 'يليق', 'بجلال', 'وجهك', 'وعظيم', 'سلطانك', 'الحمد', 'اللهكل', 'عام', 'وانت', 'فرحه', 'يمني', 'وكل', 'عام', 'وانت', 'فرحه', 'لوطنك', 'وسعاده', 'سنه', 'مرت', 'وكنت', 'نجم', 'صاطع', 'سماء', 'الفن', 'وعام', 'اقبل', 'بإذن', 'الله', 'ستكون', 'أفضل', 'وافضل', 'شكرا', 'قلوبنا', 'انك', 'مثلت', 'اليمن', 'أفضل', 'تمثيل', 'شكرا', 'الانك', 'فرحه', 'وطن', 'عمار_عزكي', 'كانت', 'سنه', 'وجع', 'وتعب', 'يارب', 'سنه', 'الجايه', 'احلا', 'روعاتك', 'شاعرنا', 'مبروووووووك', 'هههههه', 'والله', 'اني', 'رحمت', 'عمار', 'بدأ', 'يتعلم', 'الرسم', 'يبدأ', 'بوجه', 'عمار', 'مله', 'عمار', 'شوف', 'حل', 'الرسامين', 'هذول', 'هههههبس', 'رسمك', 'احلا', 'حق', 'ان', 'شاء', 'الله', 'بكره', 'احلا', 'ياربالوقت_هذا_ودك', 'اقول', 'اشتقتلك', 'وحشتني', 'ايامي', 'معك', 'غرد_بدعوه_لامك_وابيك', 'ربي', 'احفظ', 'ابي', 'وامي', 'شر', 'تصوير', 'اروع', 'يب', 'يب', 'اكيد', 'ابن', 'اليمن', 'وكلو', 'عز', 'وشموخ', 'عمار', 'بكل', 'لبسو', 'يجننن', 'ربي', 'يحميك', 'ابن', 'اليمن', 'يارب', 'يكون', 'عام', 'خير', 'وبركه', 'منووووور', 'عمارنا', 'الصوره', 'ههههههه', 'عمار', 'العزكي', 'حب', 'همسه', 'اهم', 'شي', 'اليدات', 'نفس', 'اليدات', 'الباقي', 'مش', 'مهم', 'هههههههه', 'اتقي', 'الله', 'شيخه', 'كرهتي', 'الرجال', 'نفسو']\n",
            "textTokSTF[i]:  ['مبرووووووووك', 'جاكي', 'يتربي', 'عزك', 'منور', 'امين', 'فديت', 'قلبك', 'منووور', 'ياعمار', 'احلا', 'منووور', 'عمارنا', 'الله', 'يسعدككل', 'وانت', 'الاجمل', 'وكل', 'وانت', 'الافضل', 'وكل', 'سنه', 'وانت', 'اجمل', 'حصل', 'الفن', 'اليمني', 'سنه', 'وانت', 'نجم', 'عالي', 'سماء', 'الفن', 'العالمي', 'وانت', 'بالف', 'خير', 'سفير', 'اليمن', 'يارب', 'سنه', 'سعيده', 'تتحقق', 'احلامك', 'يارب', 'ترجع', 'الاغنيه', 'عشق', 'ينتهي', 'وكمان', 'دلوع', 'غنيتين', 'معلقين', 'معي', 'وبشكل', 'الالبوم', 'فووووق', 'الوصف', 'الله', 'يسعدك', 'ابن', 'اليمن', 'غالي', 'شرفت', 'اليمن', 'والفن', 'اليمني', 'كلام_ابيض', 'ابدع', 'وائل', 'موفق', 'يارب', 'نجاح', 'نجاح', 'اخي', 'تسلم', 'الايادي', 'الغنى', 'المطلق', 'تعيش', 'الحياة', 'منهج', 'جنتي', 'صدري', 'فترى', 'نفسك', 'الواسعة', 'مبتدأ', 'السرور', 'ومنتهاه', 'تؤمن', 'بالانتقام', 'رد', 'الوجع', 'بالوجع', 'ثق', 'الدنيا', 'صغيره', 'وسريع', 'دورانها', 'يب', 'يب', 'خهههههههه', 'مي', 'هاتوهم', 'نعمل', 'جروب', 'بدل', 'الضبح', 'تدوم', 'والله', 'مدري', 'عاشق', 'انا', 'اعرفو', 'الحمد', 'الله', 'فيك', 'كيفك', 'اها', 'سلم', 'العريس', 'هههههههه', 'اتوسطلك', 'وباقي', 'عصابه', 'ال', 'الشلح', 'فينهم', 'ويسعدك', 'ياااارب', 'خيو', 'فين', 'الباقي', 'نعمل', 'جروب', 'كمان', 'ايوه', 'هههههه', 'شفت', 'وانت', 'وجهي', 'واصل', 'الله', 'يبارك', 'الشوق', 'عيوب_الحب_هينايم', 'العصر', 'من_سهركغنى', 'غنى', 'عمار_العزكي', 'مبرووووك', 'نجم', 'اليمن', 'البوم', 'موفق', 'بداية', 'قوووويه', 'داما', 'رافع', 'راس', 'اليمن', 'فوووق', 'غنيه', 'قمه', 'الرؤؤؤعه', 'احساس', 'اروع', 'استمع', 'Etha', 'Terjaa', 'عمار', 'العزكي', 'أنغامي', 'منتضرين', 'مشكله', 'تحس', 'إنك', 'قاعد', 'تعيش', 'بفتره', 'بنفسك', 'تعبت', 'كثير', 'بنفس', 'مو', 'قادر', 'تغير', 'شيء', 'هالفتره', 'راضيه', 'تعدي', 'غني_غني', 'ﻟﻤﺎ', 'ﺍﺣﻄﻚ', 'ﺑﺎﻟﻤﻜﺎﻥ', 'ﺍﻟﻠﻲ', 'ﻳﻨﺒﺾ', 'بيه', 'ﻟﻤﺎ', 'ﺍكول', 'ﺍﻧﻚ', 'ﺷﻲ', 'ﻳﺴﻌﺪﻧﻲ', 'ﻭﺷﻲ', 'ﻳﻔﺮﺣﻨﻲ', 'ﺍﻣﺎﻧﻪ', 'ﻋﻠﻴﻚ', 'ﻻ', 'ﺗﺨﻠﻴﻨﻲ', 'ﺃﻧﺪﻡ', 'تستهل', 'عمارنا', 'عمار_العزكي', 'غني_غني', 'غنية', 'البومه', 'الجديدسيأتي', 'دور', 'أيامك', 'الجميلة', 'وأحلامك', 'الحلوة', 'إحتظن', 'ظنونك', 'الطيبة', 'تنتظر', 'طويلا', 'عش', 'متعة', 'الترقب', 'ربما', 'تبدأ', 'وربما', 'غني_غنيليست', 'آلرجوله', 'بـ', 'آن', 'تحبك', 'النسآء', 'الرجوله', 'آن', 'تعشق', 'تخلص', 'لانسآنه', 'واحده', 'تجعلهآ', 'النسآء', 'غني_غنيأعشـق', 'ذلک', 'آلشـخـص', 'آلذي', 'يشـعرني', 'بـ', 'أنني', 'شـيء', 'يخـصـه', 'فـقط', 'غني_غني', 'ربي', 'أتمنى', 'يوما', 'شرا', 'لأحد', 'إكفني', 'شر', 'خلقك', 'غني_غني', 'تركض', 'ورا', 'شخص', 'عشان', 'تذكره', 'يهتم', 'فيك', 'تعاتبه', 'تشوفه', 'مهملك', 'خلك', 'دايم', 'ثقة', 'بأن', 'هالأشياء', 'ماجت', 'القلب', 'مو', 'حلوة', 'تجي', 'العتب', 'غني_غنيˇ', 'شيء', 'يمر', 'عبثا', 'تعثراتك', 'الصغيرة', 'لأجل', 'تعرف', 'شيئا', 'لأجل', 'تعي', 'لأجل', 'يتسع', 'أفقك', 'تضيق', 'توقعاتك', 'غني_غنيأشكر', 'هالحياه', 'لأنها', 'أنقذت', 'قلبي', 'بشخص', 'لايق', 'بكثيييير', 'بمرور', 'السنوات', 'تكتسب', 'شيء', 'جديد', 'تبالي', 'أحدهم', 'حياتك', 'تحارب', 'علاقة', 'تتلهف', 'لقدوم', 'شيء', 'ولن', 'تنصدم', 'يارب', 'تضحك', 'الأيام', 'بكل', 'أوتيت', 'قوه', 'غني_غنيغنى', 'غنى', 'غيرك', 'يغني', 'أرأيتـــم', 'تشرق', 'الشمس', 'حلكة', 'الليل', 'الفـــرج', 'يأتي', 'إلينا', 'يشتد', 'الألم', 'فاصبـــر', 'تيأس', 'تحـزن', 'حاجه', 'حلوه', 'تجي', 'فجأة', 'اللاشيء', 'تكسر', 'الروتين', 'وتخلينا', 'مبسوطين', 'مالا', 'يارب', 'إني', 'لأوصيك', 'بروحي', 'فهي', 'تسافر', 'تستقر', 'وردة', 'نبتت', 'القلب', 'جذورها', 'رسالة', 'غني_غني', 'كلام_ابيض', 'عمار_العزكيإذا', 'شعرت', 'بالحاجة', 'يد', 'دافئة', 'فأمسك', 'بيدك', 'الأخرى', 'فلن', 'يهزم', 'شخص', 'يؤمن', 'بنفسه', 'غني_غني', 'كلام_ابيض', 'بتبقى', 'عمري', 'الحلو', 'بتبقى', 'المقصود', 'بكل', 'الحكي', 'غني_غني', 'كلام_ابيض', 'فعلا', 'اغنيه', 'موفق', 'وذوق', 'احسن', 'كلنا', 'موجودين', 'شاء', 'الله', 'اغنيه', 'موفق', 'شكرا', 'اهتمامكم', 'صباحكم', 'صوت', 'اروع', 'اغنيه', 'احسن', 'صباحكم', 'غني_غني', 'كلام_ابيض', 'موفق', 'عمارنا', 'اغنيه', 'ارووووووعه', 'حظ', 'موقف', 'واختيار', 'موفق', 'كلنا', 'شاء', 'يغني', 'عمار', 'وااااااااااااااااااااا', 'ارررررررووووووع', 'فديت', 'صوتك', 'وذوقك', 'ابن', 'اليمن', 'النور', 'حركات', 'ربي', 'يسعدكم', 'صدقت', 'فديتك', 'خواوه', 'فايز', 'انت', 'مبرووووك', 'صدقت', 'صباحك', 'تفائل', 'واحنا', 'الله', 'يتقبل', 'ايه', 'والله', 'سيئتي', 'السلام', 'طال', 'الحرب', 'حلووووه', 'موفقه', 'يووووو', 'فدوه', 'منووووورينشكرا', 'قلبي', 'عشان', 'عرفت', 'انو', 'الخاين', 'مالو', 'لزمه', 'حياتي', 'سطر_فضفضهاني', 'صرت', 'افكر', 'بعقلي', 'قلبي', 'اني', 'صرت', 'احب', 'نفسي', 'اكثير', 'الاشخاص', 'حولي', 'احلا_شي_سويتهحمله_مليون_مستغفر', 'حمله_مليون_مستغفر', 'استغفرالله', 'استغفرالله', 'استغفرالله', 'استغفرالله', 'استغفرالله', 'استغفرالله', 'استغفرالله', 'ذنب', 'يعقب', 'حسره', 'ويورث', 'الندامه', 'ويحبس', 'الرزق', 'ويرد', 'ايه', 'والله', 'ياعمار', 'الدنيا', 'لسه', 'خير', 'ربي', 'يسعدك', 'فدوه', 'فايز', 'انت', 'اخي', 'الغالي', 'اقدر', 'استغني', 'عنو', 'النور', 'أفضل', 'صباحك', 'فديتو', 'قلبك', 'ياقلبو', 'عمار', 'يستهل', 'كدا', 'سلامات', 'ايش', 'مش', 'عاجبك', 'ليش', 'مايحب', 'ايه', 'اللله', 'انا', 'اشوف', 'الاغنيه', 'ابكي', 'معك', 'مدري', 'ليش', 'وربي', 'انك', 'فرحه', 'وطن', 'وفرحتي', 'انا', 'بذات', 'يسلمو', 'عمار', 'احلا', 'لايك', 'مافي', 'احلا', 'شعور', 'الشخص', 'داما', 'تكتب', 'عشان', 'يشوف', 'ويقرأ', 'شكرا', 'عمار', 'راس_السنه', 'عمار_العزكي_معشوق_الملايين', 'الله', 'يجعلو', 'خير', 'وسعاده', 'يارباول_تغريده_لعام_2018', 'الحمد', 'ربي', 'يليق', 'بجلال', 'وجهك', 'وعظيم', 'سلطانك', 'الحمد', 'اللهكل', 'وانت', 'فرحه', 'يمني', 'وكل', 'وانت', 'فرحه', 'لوطنك', 'وسعاده', 'سنه', 'مرت', 'وكنت', 'نجم', 'صاطع', 'سماء', 'الفن', 'وعام', 'اقبل', 'بإذن', 'الله', 'أفضل', 'وافضل', 'شكرا', 'قلوبنا', 'انك', 'مثلت', 'اليمن', 'أفضل', 'تمثيل', 'شكرا', 'الانك', 'فرحه', 'وطن', 'عمار_عزكي', 'سنه', 'وجع', 'وتعب', 'يارب', 'سنه', 'الجايه', 'احلا', 'روعاتك', 'شاعرنا', 'مبروووووووك', 'هههههه', 'والله', 'اني', 'رحمت', 'عمار', 'بدأ', 'يتعلم', 'الرسم', 'يبدأ', 'بوجه', 'عمار', 'مله', 'عمار', 'شوف', 'حل', 'الرسامين', 'هذول', 'هههههبس', 'رسمك', 'احلا', 'حق', 'شاء', 'الله', 'بكره', 'احلا', 'ياربالوقت_هذا_ودك', 'اقول', 'اشتقتلك', 'وحشتني', 'ايامي', 'معك', 'غرد_بدعوه_لامك_وابيك', 'ربي', 'احفظ', 'ابي', 'وامي', 'شر', 'تصوير', 'اروع', 'يب', 'يب', 'اكيد', 'ابن', 'اليمن', 'وكلو', 'عز', 'وشموخ', 'عمار', 'بكل', 'لبسو', 'يجننن', 'ربي', 'يحميك', 'ابن', 'اليمن', 'يارب', 'خير', 'وبركه', 'منووووور', 'عمارنا', 'الصوره', 'ههههههه', 'عمار', 'العزكي', 'حب', 'همسه', 'اهم', 'شي', 'اليدات', 'اليدات', 'الباقي', 'مش', 'مهم', 'هههههههه', 'اتقي', 'الله', 'شيخه', 'كرهتي', 'الرجال', 'نفسو']\n",
            "\n",
            "Frequency\n",
            "emojiFrec[i]:  ['😍', '😂', '😘', '😊', '😭', '❤', '♥', '💖', '✋', '💭', '🖐', '💝', '💛', '😖', '👌', '👆', '🖇', '💐', '🍃', '🎉', '🎊', '💔']\n",
            "textFrec[i]:  ['#', '،', 'من', 'في', 'يا', 'الله', 'عمار', 'اليمن', 'يارب', 'لا', 'ولا', 'عام', 'وانت', 'كل', 'غني_غني', 'ما', 'و', 'استغفرالله', 'احلا', 'سنه', 'موفق', 'على', 'كلام_ابيض', 'أن', 'الذي', 'ربي', 'عمارنا', 'خير', '.', 'ابن', '.#', 'يب', 'والله', 'شيء', 'اغنيه', 'ان', 'شكرا', 'فرحه', 'وكل', 'الفن', 'نجم', 'اكثر', 'انا', 'الحمد', 'لك', 'اروع', 'لما', 'لن', '..', '❤#', 'عشان', 'بعد', 'لأجل', 'إلى', 'شاء', 'ايه', 'أفضل', 'فديت', 'قلبك', 'منووور', 'ياعمار', 'اليمني', 'سماء', 'اذا', 'هذي', 'الاغنيه', 'يسعدك', 'نجاح', 'الى', 'اخي', 'تعيش', 'الدنيا', 'نعمل', 'جروب', 'مدري', 'فيك', 'هههههههه', 'الباقي', 'هههههه', 'غنى', 'عمار_العزكي', 'الف', 'مبرووووك', 'جدا', 'داما', '”', 'العزكي', 'منها', 'مو', '-', 'ﻟﻤﺎ', '✋', 'آن', 'النسآء', 'القلب', 'تجي', 'كانت', 'لنا', 'جعل', 'يغني']\n",
            "textFrecPunc[i]:  ['من', 'في', 'يا', 'الله', 'عمار', 'كل', 'اليمن', 'لا', 'ولا', 'عام', 'وانت', 'غني_غني', 'ما', 'يارب', 'و', 'استغفرالله', 'احلا', 'سنه', 'موفق', 'على', 'ربي', 'كلام_ابيض', 'أن', 'الذي', 'عمارنا', 'خير', 'ابن', 'يب', 'والله', 'لما', 'شيء', 'اغنيه', 'ان', 'شكرا', 'فرحه', 'وكل', 'الفن', 'نجم', 'اكثر', 'انا', 'الحمد', 'لك', 'اروع', 'لن', 'عشان', 'بعد', 'لأجل', 'قلبي', 'بكل', 'إلى', 'شاء', 'ايه', 'أفضل', 'فديت', 'قلبك', 'منووور', 'ياعمار', 'اليمني', 'سماء', 'اذا', 'هذي', 'الاغنيه', 'يسعدك', 'نجاح', 'الى', 'اخي', 'تعيش', 'الدنيا', 'نعمل', 'جروب', 'مدري', 'فيك', 'هههههههه', 'الباقي', 'هههههه', 'غنى', 'عمار_العزكي', 'الف', 'مبرووووك', 'جدا', 'داما', 'العزكي', 'منها', 'مو', 'ﻟﻤﺎ', 'بـ', 'آن', 'النسآء', 'شر', 'شخص', 'القلب', 'تجي', 'كانت', 'لنا', 'جعل', 'يغني', 'كيف', 'أكثر', 'بتبقى', 'احسن']\n",
            "textFrecSTL[i]:  ['الله', 'عمار', 'اليمن', 'عام', 'وانت', 'غني_غني', 'يارب', 'و', 'استغفرالله', 'احلا', 'سنه', 'موفق', 'ربي', 'كلام_ابيض', 'عمارنا', 'خير', 'ابن', 'يب', 'والله', 'شيء', 'اغنيه', 'ان', 'شكرا', 'فرحه', 'وكل', 'الفن', 'نجم', 'اكثر', 'انا', 'الحمد', 'اروع', 'عشان', 'لأجل', 'قلبي', 'بكل', 'شاء', 'ايه', 'أفضل', 'فديت', 'قلبك', 'منووور', 'ياعمار', 'اليمني', 'سماء', 'اذا', 'الاغنيه', 'يسعدك', 'نجاح', 'الى', 'اخي', 'تعيش', 'الدنيا', 'نعمل', 'جروب', 'مدري', 'فيك', 'هههههههه', 'الباقي', 'هههههه', 'غنى', 'عمار_العزكي', 'الف', 'مبرووووك', 'جدا', 'داما', 'العزكي', 'مو', 'ﻟﻤﺎ', 'بـ', 'آن', 'النسآء', 'شر', 'شخص', 'القلب', 'تجي', 'كانت', 'جعل', 'يغني', 'بتبقى', 'احسن', 'كلنا', 'صباحكم', 'صباح', 'النور', 'صدقت', 'فايز', 'انت', 'صباحك', 'فدوه', 'صرت', 'اني', 'مش', 'ليش', 'معك', 'انك', 'وطن', 'وسعاده', 'اليدات', 'مبرووووووووك', 'جاكي']\n",
            "textFrecSTF[i]:  ['الله', 'عمار', 'اليمن', 'وانت', 'غني_غني', 'يارب', 'استغفرالله', 'احلا', 'سنه', 'موفق', 'ربي', 'كلام_ابيض', 'عمارنا', 'خير', 'ابن', 'يب', 'والله', 'شيء', 'اغنيه', 'شكرا', 'فرحه', 'وكل', 'الفن', 'نجم', 'انا', 'الحمد', 'اروع', 'عشان', 'لأجل', 'قلبي', 'بكل', 'شاء', 'ايه', 'أفضل', 'فديت', 'قلبك', 'منووور', 'ياعمار', 'اليمني', 'سماء', 'الاغنيه', 'يسعدك', 'نجاح', 'اخي', 'تعيش', 'الدنيا', 'نعمل', 'جروب', 'مدري', 'فيك', 'هههههههه', 'الباقي', 'هههههه', 'غنى', 'عمار_العزكي', 'مبرووووك', 'داما', 'العزكي', 'مو', 'ﻟﻤﺎ', 'بـ', 'آن', 'النسآء', 'شر', 'شخص', 'القلب', 'تجي', 'يغني', 'بتبقى', 'احسن', 'كلنا', 'صباحكم', 'النور', 'صدقت', 'فايز', 'انت', 'صباحك', 'فدوه', 'صرت', 'اني', 'مش', 'ليش', 'معك', 'انك', 'وطن', 'وسعاده', 'اليدات', 'مبرووووووووك', 'جاكي', 'يتربي', 'عزك', 'منور', 'امين', 'يسعدككل', 'الاجمل', 'الافضل', 'اجمل', 'حصل', 'عالي', 'العالمي']\n",
            "\n",
            "Agregadas\n",
            "fullEmojiFrec:  ['😂', '❤', '😍', '💔', '😭', '🙏', '🌹', '💙', '🤣', '😘', '😅', '😁', '♥', '👏', '👌', '♀', '😊', '💕', '🙂', '👍', '🤔', '🤦', '😌', '😢', '😉', '🌸', '💛', '✌', '🙄', '😒', '💜', '🌚', '🔥', '♂', '😏', '😎', '💚', '☺', '😔', '✨', '🌷', '👇', '💪', '✋', '💃', '😹', '🙈', '🙌', '💐', '😜', '💗', '😩', '😀', '😑', '🏃', '😆', '🖤', '😄', '🎶', '🚶', '😳', '🍃', '👊', '☹', '🤗', '🤷', '🌺', '😡', '😕', '💋', '🎉', '💞', '😴', '💖', '😃', '😋', '😷', '🌼', '😐', '😱', '💓', '🙃', '🕊', '😝', '😻', '🐸', '😪', '😞', '🤓', '🙊', '😬', '💘', '😤', '😛', '😇', '😙', '😥', '💦', '🌿', '👋']\n",
            "fullTextFrec:  ['#', 'من', 'في', 'و', '،', '..', '.', 'على', 'الله', 'ما', 'لا', 'يا', 'كل', '...', '\"', '؟', 'عن', 'ولا', 'بس', ':', 'مع', 'ان', 'انا', 'اللي', 'هذا', 'أن', 'هو', '!', 'كان', 'والله', 'مش', 'لي', 'بعد', 'انت', 'اللهم', 'شي', 'لو', 'حتى', 'اليوم', '-', 'الي', 'غير', 'هي', 'الناس', 'يوم', '(', 'او', 'علي', '❤️', 'فيه', 'لك', 'اي', 'ع', 'واحد', 'التي', 'لم', ')', 'فيها', 'يعني', 'قبل', 'الذي', 'الا', 'خير', 'هذه', 'لكن', 'يارب', 'عليه', 'إلى', 'ربي', 'بين', 'له', 'اذا', 'الى', '.#', 'صباح', 'أو', 'عليك', 'شاء', 'ف', 'أنا', 'عشان', 'كنت', 'الخير', 'كيف', 'يكون', 'محمد', 'لما', 'العالم', 'عام', 'بن', 'كانت', 'انه', 'دي', 'اني', '…', 'مو', 'إلا', 'شكرا', 'لله', '!!', 'قلبي', 'مبروك', 'ده', 'قطر', 'إن', ',', 'تكون', '/', 'شيء', '،،', 'مثل', 'حد', 'وانا', 'فقط', '....', 'هل', 'وانت', 'لنا', 'وين', 'ناس', 'ممكن', 'رب', 'شو', 'ومن', 'قد', 'فيك', 'بعض', 'الشعب', 'ليش', 'قال', 'عند', 'هم', 'الف', 'وما', 'تونس', 'عندي', 'الحياة', 'صح', 'مرة', '❤', 'اليمن', 'لازم', 'عليها', 'انتي', 'لن', 'نفس', 'سنة', 'ب', 'بكل', 'السعودية', 'شخص', 'اكثر', 'به', 'لها', 'اول', '..#', 'علينا', 'راح', 'جدا', 'ولكن', 'الدنيا', 'لكل', 'حاجة', 'بالله', 'شنو', 'م', 'وكل', 'لهم', 'ليس', 'انك', 'أي', 'لكم', 'انو', 'شكراً', 'الحمد', 'ي', 'ايه', 'دا', 'عم', 'بخير', 'حق', 'أكثر', 'أنت', '؛', 'وهو', 'كما', 'هناك', 'طيب', 'وقت', 'زي', 'إذا', 'نحن', 'ال', 'بها', 'امين', 'ذلك', 'يمكن', 'الحب', 'باش', 'منها', 'مصر', 'رمضان', 'ضد', 'الحمدلله', 'منك', 'هنا', 'نفسي', 'عليهم', 'عليكم', 'بدون', 'لان', 'بل', 'الوطن', 'عادي', 'فى', 'كم', 'جميل', 'يبارك', 'منه', 'بلا', 'احنا', 'ليه', 'القلب', 'كله', 'عندك', 'تحت', 'كتير', 'ابو', 'ثم', 'تم', 'الشيخ', 'الكلام', 'كلها', 'احد', 'هذي', 'يقول', 'اما', 'صار', 'ام', 'ل', 'عندما', 'أحد', '3', 'وفي', 'منهم', 'الوقت', 'العرب', 'دولة', 'رح', 'كلام', 'لمن', '*', 'خلاص', '؟؟', 'هاد', 'العربية', 'العام', 'حول', 'تويتر', 'خلال', 'دون', 'بك', 'ربنا', 'نعم', 'جديد', 'صحيح', 'هيك', 'حبيبتي', 'العراق', 'احسن', 'رئيس', 'اخر', 'تقول', 'الموضوع', 'كبير', '؟!', 'نفسك', ':\"', 'كي', 'كده', 'كمان', 'بما', 'انها', 'حلو', 'الحوثي', 'جميع', 'المغرب', 'السلام', 'مليون', 'اكيد', 'الكل', 'الذين', 'العربي', 'جداً', 'الدولة', 'حبيبي', 'عاد', 'ههههه', 'هههههه', 'هاي', 'بي', 'قلت', 'الكويت', 'ليك', 'حب', 'قلبك', 'قناة', 'ماشي', 'نفسه', 'العظيم', 'بنت', 'الجزائر', 'فوق', 'بسبب', 'زايد', 'احلى', 'مين', 'ديال', 'وليس', 'وعلى', 'كلمة', 'صوت', 'شعب', '\\u200d♀️', 'وان', 'عمل', 'حياتي', 'معك', 'أول', 'الجميع', '!!!', 'ولو', 'المهم', 'مره', 'ألف', '!#', 'فعلا', '...#', 'شهر', 'وهذا', 'لأن', 'آمين', 'برنامج', 'إني', 'مكان', 'آخر', 'ابن', 'قلب', 'مساء', 'اكبر', 'الإمارات', 'الان', 'الساعة', 'هههه', 'عيد', 'الواحد', 'مني', 'وهي', 'الدين', 'الملك', 'لبنان', 'حدا', 'عبر', 'الامارات', 'صورة', 'يلي', 'الحق', 'أنه', '2', 'الشباب', 'وش', '+', 'سوريا', 'فلا', 'العمل', 'اصلا', 'فيهم', 'تعرف', 'بأن', 'مافي', 'ههههههه', '1', 'المرأة', 'الحكومة', 'الآن', 'عندنا', 'عنه', 'مهما', 'دول', 'ونعم', 'أفضل', 'حال', ':)', 'عبد', 'متى', 'عمري', 'طول', 'عمر', 'مب', 'أجمل', '؟#', 'منو', 'تسلم', 'قوة', 'طبعا', 'يجب', 'أما', 'الليلة', 'حين', 'صلاح', 'ساعة', 'رغم', 'كلنا', 'راه', 'وحدة', 'اخي', 'اه', 'أم', 'منذ', 'جديدة', 'بشكل', 'معاك', 'الرئيس', 'دائما', 'الثاني', 'باقي', 'شكرًا', 'البلد', 'شوية', 'افضل', 'عنده', 'المجتمع', 'ولم', 'سعيد', 'عبدالله', 'ولد', 'خالد', 'حساب', 'أكبر', 'يلا', 'حاجه', 'صالح', 'حسن', 'عارف', 'سنوات', 'عندهم', '.....', '♥️', 'السعودي', 'ايام', 'كثير', 'يسعد', 'ليبيا', 'زمان', 'روحي', 'الوطني', 'شوي', '2018', 'حلوة', 'اكتر', 'واش', 'جماعة', 'عدد', 'اعرف', '❤️#', 'وانتي', 'هههههههه', 'ترى', 'ليست', 'السودان', 'صاحب', 'بالتوفيق', 'فريق', 'مجلس', 'زين', 'كلهم', 'الجديد', '4', 'فكرة', 'انهم', 'الحين', 'عليا', '5', 'تاني', 'كبيرة', 'طلع', 'وحده', 'بيها', 'الصورة', 'حيث', 'مبارك', 'يعرف', 'لانه', 'ماذا', 'المسلمين', 'بـ', 'الجنة', 'يرحمه', 'الكثير', 'بعيد', 'ليا', 'حياتك', 'فلسطين', 'النظام', 'جميلة', 'عدم', '٣', 'سنين', 'النور', 'سبحان', 'احمد', 'كدا', 'التاريخ', 'لـ', 'يتم', 'ايش', 'شفت', 'نهار', 'الرجال', 'لاعب', 'الحرب', 'الأول', 'يحفظك', 'اجمل', 'التوفيق', 'عدن', 'وزير', 'شر', 'شوف', 'هلا', 'وأنا', 'سبب', 'كامل', 'قريب', 'عمان', 'العمر', 'انتم', 'وسلم', 'داخل', 'الوحيد', 'يصير', 'د', 'مدينة', 'الغالي', 'كذا', 'الاول', 'قانون', 'بقى', 'روح', 'إلي', 'السعادة', 'الجيش', 'بإذن', 'اخوي', 'عنها', '.\"', 'فينا', 'البيت', 'واضح', 'كلامك', 'رجل', '10', 'نص', 'دكتور', 'واحدة', 'رجال', 'الموت', 'البلاد', 'حسب', 'via', 'سنه', 'صباحك', 'دور', 'حياة', 'الدول', 'الجمعة', 'اقول', 'بيه', 'أحمد', 'القدس', 'بو', 'دائماً', 'الأرض', 'يبقى', 'اسمه', '\"#', 'تاريخ', 'عنا', 'وإن', 'هادي', 'اهم', 'سلمان', 'ريال', 'إليه', 'العالمين', 'وهم', 'غلط', \"'\", 'وأنت', 'خاصة', 'منا', 'انتو', 'مشروع', 'بالنسبة', 'مسلسل', 'اختي', 'محد', 'الصباح', 'قاعد', 'علاش', 'رد', 'بداية', 'مشكلة', 'طريق', 'عيني', 'المشكلة', 'الورد', 'تلك', 'كانوا', 'الليل', 'حل', 'العين', 'الرجل', '|', 'تحب', 'دار', 'معي', 'رحمة', 'مجرد', 'وجه', 'عيب', 'اسم', 'يسعدك', 'أهل', 'كريم', 'حرام', 'موضوع', 'باب', 'بيت', 'يستحق', 'عنك', 'الصبر', 'تستاهل', 'المفروض', 'اهل', 'الشخص', 'ياخي', 'زول', 'ثاني', 'يجي', 'بعدين', 'صنعاء', '✨', 'مال', 'بالف', 'مباراة', 'شباب', '❤️❤️', 'الحقيقة', 'بلاد', 'كثر', 'قليل', 'الفيديو', 'معه', 'طلعت', 'الخليج', 'الوكيل', '6', '%', 'جد', 'اليه', 'مما', 'عني', 'زمن', 'جمال', 'لماذا', 'كنا', 'فيديو', 'الصبح', 'قصة', 'أخرى', 'فين', 'موجود', 'الجنوب', 'عالم', 'وزارة', 'ها', 'الكبير', 'الجميل', 'نقول', 'علشان', 'سيدي', 'سؤال', 'النساء', 'البشر', 'لحد', 'خبر', 'أجل', 'حزب', 'تبقى', 'الإنسان', 'أمام', 'الريال', 'اشوف', 'سلام', 'الوضع', 'بلد', 'الشكر', 'اتمنى', 'واللي', '\".', 'عندو', 'حسين', 'صور', 'حنا', 'حتي', 'دخل', 'الطريق', 'السنة', 'السيسي', 'علم', 'السيد', 'نعمة', 'حسبي', 'كأس', 'صديقي', 'بلادي', 'قول', 'يرحم', 'البعض', 'يسلمك', 'بزاف', 'أبو', 'بألف', 'غادي', 'غيرك', '✌', '؟؟؟', 'وطن', 'الفساد', 'ولي', 'الارض', 'ميسي', '٢', 'عندها', 'يحب', 'والا', 'اليمني', 'وسط', 'شكون', 'نادي', 'مدريد', 'حبيب', 'مهم', 'ههههههههه', 'عين', 'ديما', 'صعب', 'فترة', 'منكم', 'الأمن', 'أيام', 'ونحن', 'فقد', 'فرنسا', 'الأولى', 'الوطنية', 'قلوبنا', 'قالت', 'فما', 'ولن', 'ترامب', 'مثلا', '١', 'متل', 'كن', 'شلون', 'لهذا', 'قرار', 'يالله', 'للأسف', 'عربي', 'كتاب', 'للجميع', 'الحكم', 'حلقة', 'العيد', 'حالة', 'يطلع', 'صارت', 'نظام', 'أمي', 'امي', 'تعلم', 'لأنه', 'لين', 'حمد', 'عمرك', 'وانتم', 'بارك', 'ترا', 'رائع', 'فهو', 'يعمل', 'أنك', 'تو', 'الدكتور', '.-', 'يوسف', 'علاقة', 'حرب', 'خارج', 'نور', 'إله', 'آل', 'أحسن', 'السبب', 'القانون', '\\u200d♂️', 'الواقع', 'إنه', 'احب', 'ايران', 'ارحم', 'للاسف', 'راجعون', 'جاي', 'بيك', 'دايما', ';', 'روحك', 'الثانية', 'صدق', 'حكم', 'وصلت', 'الانسان', 'دبي', 'نشوف', 'السؤال', 'الشهيد', 'جميعا', 'كون', 'شعور', 'الموسم', 'كلمات', 'توا', 'بحب', 'الجمال', 'الحلقة', 'العلم', 'سوف', 'شن', 'بدي', 'النوم', 'بنات', 'المجلس', 'يوجد', 'الفريق', 'بهذا', 'رقم', 'وكان', 'خلص', 'ساعات', '✋', 'مرات', 'طب', 'بعدها', 'فلوس', 'ضمن', 'لذلك', 'كرة', 'خاص', 'نهاية', '٤', 'امام', 'معاه', 'ابي', 'قضية', 'صباحكم', 'موش', 'يوفقك', 'طبيعي', 'العدوان', 'نعرف', '7', 'فرق', 'الفوز', 'ماهو', 'المواطن', 'جزء', 'راسي', 'دولار', 'قتل', 'الجديدة', 'الفرق', 'التحالف', 'الانتخابات', 'الأيام', 'هما', 'السياسي', '_', 'تمام', 'واذا', 'وأن', 'البحر', 'ٰ', 'وجود', 'اجل', 'حي', 'العزيز', 'أني', 'تعمل', 'ذا', 'ههه', 'قوي', 'ومش', 'الحقيقي', 'خلق', 'إنك', 'مستحيل', 'التواصل', 'مات', 'القدم', 'سوى', 'يريد', 'معاهم', 'شغل', 'انسان', 'هكذا', 'بدل', 'الشي', 'الكريم', 'الدولي', 'الدوري', 'لينا', 'الشهداء', 'الصحة', 'الخميس', '8', 'فيني', 'أحلى', 'فرصة', 'إليك', 'بطل', 'نفسها', 'المنتخب', 'البنات', 'مستوى', 'حكومة', '..!', 'غالي', 'دعم', 'وبعد', 'الاتحاد', 'شركة', 'الطيب', 'ليلة', 'قدر', 'بالخير', 'شخصية', 'فيكم', '2017', 'الخاص', 'طيبة', 'الحوثيين', 'بقي', 'استاذ', 'الرياض', 'معهم', 'ليها', 'عرفت', 'أنها', '&', 'سعود', 'للي', 'النجاح', 'معنى', 'شئ', 'المتحدة', 'تجي', 'بالضبط', 'هههههههههه', 'بالك', 'النفس', ':#', 'تميم', 'عظيم', 'ا', 'فسيح', 'اعتقد', 'لحظة', 'كدة', 'الروح', 'رسالة', 'متاع', 'اللى', 'كاين', 'عظم', 'ماشاء', 'قدام']\n",
            "fullTextFrecSTF:  ['الله', 'انا', 'اللي', 'والله', 'مش', 'انت', 'شي', 'اللهم', 'الناس', 'شكرا', 'خير', 'يعني', 'ربي', 'يارب', 'شاء', 'كنت', 'محمد', 'عشان', 'الخير', 'العالم', 'اني', 'دي', 'مو', 'لله', 'قلبي', 'مبروك', 'ده', 'شيء', 'قطر', 'وانت', 'رب', 'حد', 'وانا', 'ناس', 'وين', 'فيك', 'ممكن', 'شو', 'مرة', 'الشعب', 'ليش', 'عندي', 'الحياة', 'صح', 'لازم', 'انتي', 'اليمن', 'شخص', 'بكل', 'تونس', 'الدنيا', 'السعودية', 'علينا', 'لكل', 'وكل', 'حاجة', 'بالله', 'انك', 'شنو', 'انو', 'الحمد', 'عم', 'حق', 'ايه', 'بخير', 'دا', 'الحب', 'طيب', 'وقت', 'زي', 'باش', 'منك', 'ال', 'امين', 'دائما', 'رمضان', 'بدون', 'مصر', 'عليهم', 'عليكم', 'لان', 'نفسي', 'يبارك', 'كله', 'الوطن', 'عادي', 'بلا', 'القلب', 'جميل', 'عندك', 'احنا', 'ابو', 'الحمدلله', 'ليه', 'كتير', 'كلها', 'الشيخ', 'الكلام', 'فعلا', 'يقول', 'ام', 'لمن', 'منهم', 'رح', 'العرب', 'دولة', 'كلام', 'هاد', 'ربنا', 'العربية', 'تويتر', 'خلاص', 'العام', 'جديد', 'هيك', 'احسن', 'العراق', 'اخر', 'رئيس', 'صحيح', 'تقول', 'حبيبتي', 'نفسك', 'السلام', 'حب', 'كبير', 'الموضوع', 'كده', 'حلو', 'الحوثي', 'كمان', 'الكل', 'اكيد', 'المغرب', 'العربي', 'طبعا', 'قلت', 'الدولة', 'إني', 'هههههه', 'حبيبي', 'ههههه', 'قلبك', 'ليك', 'قناة', 'هاي', 'الكويت', 'ماشي', 'العظيم', 'اصلا', 'بنت', 'صوت', 'ديال', 'زايد', 'احلى', 'قلب', 'كلمة', 'الجزائر', 'عمل', 'مين', 'شعب', 'الجميع', 'معك', 'مني', 'مره', 'المهم', 'حياتي', 'شهر', 'ابن', 'برنامج', 'مكان', 'آخر', 'الساعة', 'اكبر', 'الملك', 'الإمارات', 'آمين', 'الدين', 'بأن', 'عبر', 'عيد', 'هههه', '3', 'حدا', 'الحق', 'الواحد', 'تعرف', 'صورة', 'وش', 'الشباب', 'لبنان', 'فيهم', 'الامارات', 'عمر', 'العمل', 'سوريا', 'ههههههه', 'مافي', 'عمري', 'المرأة', 'دول', 'ونعم', 'عندنا', 'أفضل', 'الحكومة', 'عبد', 'طول', 'أجمل', 'حال', 'منو', 'مب', 'تسلم', 'رغم', 'يجب', 'صلاح', 'عمان', 'ساعة', 'راه', 'حسن', 'الليلة', 'وحدة', 'اخي', 'معاك', 'اه', 'كلنا', 'جديدة', 'حساب', 'عنده', 'الرئيس', 'البلد', 'أكبر', 'ولد', 'افضل', 'يلا', 'شوية', 'باقي', 'سعيد', 'المجتمع', 'عبدالله', 'عارف', 'يسعد', 'خالد', 'حاجه', 'عندهم', 'صالح', 'السعودي', 'زمان', 'كثير', 'جميعا', 'الوطني', 'روحي', 'حلوة', 'صاحب', 'اعرف', 'ترى', 'اكتر', 'وانتي', 'عليا', 'شوي', 'ليبيا', 'واش', 'بـ', 'جماعة', 'الجنة', 'يعرف', 'فريق', 'هههههههه', 'مجلس', 'انهم', 'زين', 'طلع', 'شر', 'فكرة', 'مبارك', 'كبيرة', 'بالتوفيق', 'كلهم', 'الجديد', 'بيها', 'وسلم', 'ليا', 'الحين', 'بعيد', 'لانه', 'وأنت', 'وحده', 'الصورة', 'يرحمه', 'جميلة', 'السودان', 'الكثير', 'حياتك', 'يتم', 'تاني', 'سنين', 'النظام', 'النور', 'احمد', 'الأول', 'يوما', 'التاريخ', 'عنا', 'لاعب', 'العمر', 'نهار', 'ايش', 'شفت', 'فلسطين', 'قريب', 'الرجال', 'كدا', 'لـ', 'يحفظك', 'اجمل', 'الحرب', 'شوف', 'روح', 'التوفيق', 'منا', 'المسلمين', 'وزير', 'وأنا', 'الأرض', 'الوحيد', 'السعادة', 'داخل', 'سبب', 'كامل', 'دايما', 'صل', 'بإذن', 'رجل', 'مدينة', 'عدن', 'يصير', 'انتم', 'واحدة', 'بقى', 'كلامك', 'الجيش', 'اخوي', 'الغالي', 'رجال', 'دور', 'قانون', 'البيت', 'واضح', 'الجمعة', 'حياة', 'تحب', 'نص', 'صباحك', 'كنا', 'via', 'سنه', 'فينا', 'مثلا', 'الموت', 'اقول', 'البلاد', 'بيه', 'الدول', 'بو', 'دكتور', 'الليل', 'اسمه', 'وهم', 'أحمد', 'يبقى', '2018', 'الصباح', 'القدس', 'تاريخ', 'وجه', 'هادي', 'مجرد', 'اهم', 'حل', 'رحمة', 'إليه', 'عيني', 'أهل', 'سلمان', 'الورد', 'محد', 'عنك', 'قاعد', 'طريق', 'باب', 'كانوا', 'رد', 'مسلسل', 'غلط', 'بالنسبة', 'بداية', 'اختي', 'معي', 'مشروع', 'دار', 'انتو', 'العين', 'مشكلة', 'علاش', 'الصبر', 'اسم', 'الرجل', 'كريم', 'يسعدك', 'بيت', 'المشكلة', 'حرام', 'الشخص', 'قريبا', 'يستحق', 'موضوع', 'كثر', 'عني', 'اهل', 'تستاهل', 'المفروض', 'يجي', 'زول', 'عيب', 'بالف', 'بعدين', 'مال', 'الصبح', 'مباراة', 'زمن', 'بلاد', 'شباب', 'تبقى', 'ياخي', '٣', 'عالم', 'سلام', 'قليل', '2', 'الفيديو', 'الحقيقة', 'قصة', 'طلعت', 'جد', 'سيدي', 'نعمة', 'الجنوب', 'صنعاء', 'الكبير', 'الخليج', 'علشان', 'موجود', 'جمال', 'لحد', 'الإنسان', 'العالمين', 'حزب', 'أخرى', 'قول', 'أمي', 'النساء', 'وزارة', 'نقول', 'الوكيل', 'الجميل', 'إله', 'فيديو', 'خبر', 'البشر', 'الشكر', 'فين', 'أنك', 'السنة', 'اشوف', 'صور', 'يحب', 'عندو', 'حنا', 'الريال', 'الطريق', 'لماذا', 'كأس', '10', 'حتي', 'دخل', 'يرحم', 'واللي', 'اتمنى', 'بألف', 'بلادي', 'السيد', 'الوضع', 'بلد', 'صديقي', 'السيسي', 'يسلمك', 'حسين', 'غادي', 'بزاف', 'ونحن', 'والا', 'وسط', 'بدي', 'قلوبنا', 'وطن', 'تعلم', 'عندها', 'صعب', 'الفساد', '5', 'ولي', 'الارض', 'نور', 'ميسي', 'ديما', 'نادي', 'سؤال', 'حسبي', 'لأنه', '4', 'أيام', 'فما', 'منكم', 'مهم', 'اليمني', 'غيرك', 'شكون', 'مدريد', 'البعض', 'لين', 'الوطنية', 'فترة', 'ههههههههه', 'ولن', 'الأمن', 'عمرك', 'صارت', 'كتاب', 'الحكم', 'يطلع', 'متل', 'قالت', 'إنك', 'بارك', '1', 'شلون', 'الأولى', 'يعمل', 'تو', 'رائع', 'قرار', 'العيد', 'حالة', 'وانتم', 'نظام', 'حلقة', 'يوسف', 'فرنسا', 'حرب', 'خارج', 'كون', 'عربي', 'حمد', 'أحسن', 'امي', 'للجميع', 'ارحم', 'أني', 'حكم', 'علاقة', 'الدكتور', 'بيك', 'روحك', 'تماما', 'ترامب', 'العلم', 'ترا', 'جاي', 'وصلت', 'صدق', 'الشهيد', 'احب', 'بحب', 'الواقع', 'خلق', 'السبب', 'نشوف', 'للأسف', 'الموسم', 'يوجد', 'ايران', 'القانون', 'دبي', 'شن', 'توا', 'حي', 'الحلقة', 'خلص', 'الجمال', 'شعور', 'للاسف', 'راجعون', 'شيئا', 'كلمات', 'مرات', 'أحب', 'جزء', 'رقم', 'السؤال', 'خيرا', 'فرق', 'قضية', 'ابدا', 'قتل', 'يريد', 'يالله', 'كرة', 'المجلس', 'فلوس', 'بنات', 'موش', 'خاص', 'النوم', 'النبي', 'الفوز', 'نعرف', 'الفريق', 'الأيام', 'العدوان', 'تقريبا', 'ساعات', 'يوفقك', 'بطل', 'بعدها', 'الانسان', 'السياسي', 'طب', 'بدل', 'الجديدة', 'معاه', 'قدر', 'ابي', 'ماهو', 'الفرق', 'وجود', 'التحالف', 'البحر', 'تعمل', 'قوي', 'ومش', 'راسي', 'حكومة', 'الانتخابات', 'الحقيقي', 'تمام', 'صباحكم', 'الصحة', 'التواصل', 'الدولي', 'الكريم', 'واذا', 'لينا', 'طبيعي', 'الدوري', 'المواطن', 'معاهم', 'شغل', 'انسان', 'الطيب', 'الروح', 'فرصة', 'طيبة', 'النفس', 'الشي', 'ليلة', 'السماء', 'العزيز', 'ههه', 'للي', 'عظم', 'أنها', 'مستوى', 'مات', 'المنتخب', 'عرفت', 'وبعد', 'القدم', 'مستحيل', 'فيكم', 'الاتحاد', 'ولك', 'قدام', 'يكن', 'الشهداء', 'دعم', 'الخميس', 'شركة', 'نفسها', 'استاذ', 'الخاص', 'شئ', 'شخصية', 'البنات', 'معنى', 'سعود', 'أحلى', 'بني', 'الحوثيين', 'ليها', 'فيني', 'باذن', 'فسيح', 'المتحدة', 'معهم', 'بقي', 'الرياض', 'بالك', 'تجي', 'متاع', 'اللى', 'لحظة', 'خلي', 'عظيم', 'بالخير', 'النجاح', '6', 'سعادة', 'لسه', 'طريقة', 'ماشاء', 'تقدر', 'النظر', 'نحب', 'بش', 'هههههههههه', 'كدة', 'معنا', 'تميم', 'أخي', 'كلش', 'فعل', 'تشوف', 'الجميلة', 'الأمر', 'كاين', 'اجعل', 'عنهم', 'وجهك', 'حصل', 'العالمي', 'اعتقد', 'الجو', 'دليل', 'هيدا', 'تا', 'يقدر', 'رسالة', 'غالي', 'حقيقة', 'وشكرا', 'المصري', 'هدف', 'وصل', 'جمهور', 'قالوا', 'موقع', 'الايام', 'الزمن', 'القلوب', 'برشلونة', 'قيمة', 'القادم', 'اله', 'الزعيم', 'بالضبط', 'إنسان', 'جو', 'اسمها', 'الجامعة', 'برضو', 'نحنا', 'تعيش', 'مرحبا', 'اقل', 'داعش', 'واليوم', 'الاردن', 'شكر', 'غريب', 'ودي', 'كاس', 'كتب', 'يلعب', 'حبي', 'حبك', 'وبعدين', 'تطلع', 'رحمه', 'تدخل', 'الأردن', 'النار', 'حلوه', 'سمو', 'الشارع', '_', 'بغداد', 'شاءالله', 'بالي', 'فيا', '100', 'كلو', 'حقوق', 'روسيا', 'رونالدو', 'تاع', 'شكلك', 'الفنان', 'تركيا', 'يستاهل', 'الشمس', 'لانو', 'شكله', 'معايا', 'سعد', 'يعطيك', 'عندكم', 'نكون', 'تحية', '٤', 'حفل', 'يخليك', 'الاعلام', 'دوري', 'موقف', 'الشهر', 'إنو', 'الخبر', 'المستقبل', 'وطني', 'المملكة', 'القادمة', 'الكتاب', 'اكون', 'قلوب', 'رسول', 'راشد', 'أهم', 'نتمنى', 'السعوديه', 'الحال', 'كيما', 'غزة', 'يد', 'احفظ', 'إيران', 'بكرا', 'هاذي', 'قادر', 'يأتي', 'بمناسبة', 'ياخ', 'شديد', 'انشالله', 'خدمة', 'تكن', 'المباراة', 'تريد', 'صوتك', 'سواء', 'اسبوع', 'العراقي', 'بعرف', 'راس', 'بلوك', 'وضع', 'فخر', 'مالي', 'مالك', 'أكيد', 'السبت', 'الصلاة', 'ربما', 'الحبيب', 'يكتب', 'احس', 'فـ', 'أمل', 'تعالى', 'القرار', 'البرنامج', 'التعليم', 'للناس', 'السياسية', 'الحل', 'جامعة', 'ملك', 'امريكا', 'اش', 'اكتب', 'حرية', 'عامل', 'الثقة', 'المال', 'مركز', 'أغنية', 'كويس', 'شيخ', 'صلى', 'ههههههههههه', 'شرف', 'خاطر', 'الفرح', 'نسيت', 'لقيت', 'اين', 'الحزن', 'ماله', 'سيد', 'تستحق', 'لعب', 'معانا', 'بكون', 'المكان', 'اغنية', 'فيلم', '١٠', 'مرحلة', 'وايد', 'une', 'يموت', 'يومين', 'قل', 'سيدنا', 'ربك', 'وربي', 'ولاد', 'حبيت', 'يحتاج', 'بحق', 'التونسي', 'الأطفال', 'بناء', 'vidéo', 'اكل', 'برشا', 'القوات', 'صديق', 'حملة', 'يرجع', 'شكل', 'مباركة', 'مفيش', 'بينما', 'الثورة', 'عيونك', 'عزيزي', 'كلشي', 'صغير', 'كانو', 'العقل', 'سعيدة', 'نجاح', '2017', 'عملية', 'غيره', 'الرابط', 'أمر', 'الداخلية', 'العفو', 'تصير', 'بجد', 'خويا', 'دين', 'يعلم', 'الدفاع', 'لقد', 'عفاش', 'النصر', 'الشعوب', 'ويا', 'صحة', 'ارض', 'حر', 'استغفر', 'ورا', 'الخاصة', 'بكره', 'مر', 'الآخرين', 'تغير', 'قمة', 'يحفظ', 'فهم', 'رفع', '٢', 'فهمت', 'الدعم', 'تحكي', 'العامة', 'شهداء', 'فرح']\n",
            "fullEmojiTok:  ['😂', '😂', '😂', '❤', '😭', '😭', '😭', '😂', '🙌', '😭', '😭', '😂', '😭', '😭', '😂', '🙏', '😭', '😂', '😂', '😂', '😛', '😛', '😛', '😂', '😂', '😂', '😩', '😭', '😭', '😭', '😂', '😂', '😂', '😭', '😭', '😭', '🙏', '😭', '😂', '😂', '😂', '😘', '😂', '😭', '😭', '😭', '😂', '😍', '😍', '😍', '😭', '😂', '😭', '😂', '😂', '😂', '😍', '😭', '😏', '☺', '😍', '😍', '😭', '😭', '😍', '😂', '😂', '😂', '😭', '😭', '😭', '😂', '😂', '😂', '😭', '😭', '😭', '😌', '😘', '😭', '😭', '😭', '😂', '😂', '😂', '😩', '👐', '👐', '😂', '😂', '😆', '❤', '❤', '❤', '😍', '🔥', '😂', '😂', '😂', '😏']\n",
            "fullTextTok:  ['زبّالة', 'ميريكان', 'كون', 'كانت', 'بنادم', 'مشاو', 'ما', 'أفين', 'يبا', 'سفيان', 'فين', 'هاد', 'الغبور', 'رجوع', 'لله', 'و', 'نعلي', 'الشيطان', 'مشيتي', 'بعيد', '❤️', 'بحال', 'هادي', 'غايلحسها', 'بسبرديلتها', 'رجع', 'ليك', 'عاوتاني', 'شحال', 'هادي', 'ماقلتيها', 'لي', 'ولد', 'القحبة', 'الجملة', 'قريتها', 'اليوم', 'أنتي', 'ديالنا', 'هانية', 'الحمد', 'لله', 'على', 'نعمة', 'الإقصاء', 'إنا', 'بنت', '؟', 'كوٌر', 'و', 'عطي', 'لعور', 'واش', 'كاتسنا', 'من', 'واحد', 'مريقي', 'فRadio', 'Mars', 'حمار', 'هاداك', '#', 'ARG', 'مقدين', 'الرخاء', 'هاد', 'العام', '،', 'غير', 'لي', 'بغاوش', 'يديوها', '5', 'سنين', 'MAX', 'مع', 'الإستئنافولاد', 'القحبات', 'هاذ', 'المخزن', 'ديال', 'الزبوايلي', 'على', '20', 'عام', '؟', 'بغيت', 'لمكم', 'الزلزال', 'بحالي', 'واخة', 'داك', 'التعليق', 'ديال', 'ZDF', 'كايجيب', 'ليا', 'النعاس', 'مرة', 'مرة']\n",
            "fullTextTokSTF:  ['زبالة', 'ميريكان', 'كون', 'بنادم', 'مشاو', 'أفين', 'يبا', 'سفيان', 'فين', 'هاد', 'الغبور', 'رجوع', 'لله', 'نعلي', 'الشيطان', 'مشيتي', 'بعيد', 'بحال', 'هادي', 'غايلحسها', 'بسبرديلتها', 'ليك', 'عاوتاني', 'شحال', 'هادي', 'ماقلتيها', 'ولد', 'القحبة', 'الجملة', 'قريتها', 'أنتي', 'ديالنا', 'هانية', 'الحمد', 'لله', 'نعمة', 'الإقصاء', 'بنت', 'كور', 'عطي', 'لعور', 'واش', 'كاتسنا', 'مريقي', 'فRadio', 'Mars', 'حمار', 'هاداكARG', 'مقدين', 'الرخاء', 'هاد', 'العام', 'بغاوش', 'يديوها', '5', 'سنين', 'MAX', 'الإستئنافولاد', 'القحبات', 'هاذ', 'المخزن', 'ديال', 'الزبوايلي', '20', 'بغيت', 'لمكم', 'الزلزال', 'بحالي', 'واخة', 'داك', 'التعليق', 'ديال', 'ZDF', 'كايجيب', 'ليا', 'النعاس', 'مرة', 'مرة', 'تعليقاتهم', 'كلها', 'عامرة', 'كره', 'أنانية', 'كايكرهوك', 'فكورةبغاو', 'يشوفوه', 'يهز', 'الكأس', 'مايموتو', 'بلوكي', 'والديهم', 'مرايقية', 'كلهم', 'بغاو', 'رونار', 'يستاقل', 'حيت', 'بالنسبة', 'ليهم', 'فشل']\n",
            "biemojiFrecFull:  [('😂', '😂'), ('❤', '❤'), ('😍', '😍'), ('😭', '😭'), ('❤', '😂'), ('😂', '❤'), ('🤣', '🤣'), ('😂', '💔'), ('💔', '💔'), ('💔', '😂'), ('😘', '😘'), ('😂', '😍'), ('🌹', '🌹'), ('😍', '❤'), ('😍', '😂'), ('😂', '😭'), ('🤦', '♀'), ('😭', '😂'), ('💙', '💙'), ('❤', '😍'), ('👏', '👏'), ('🙏', '🙏'), ('♥', '♥'), ('😁', '😁'), ('😅', '😅'), ('😅', '😂'), ('😂', '🤣'), ('🤣', '😂'), ('😂', '😅'), ('😁', '😂'), ('🙏', '❤'), ('😂', '😁'), ('❤', '🙏'), ('🤦', '♂'), ('♀', '😂'), ('💙', '😂'), ('😢', '😢'), ('💕', '💕'), ('😹', '😹'), ('🔥', '🔥'), ('💃', '💃'), ('😂', '🤦'), ('🤔', '🤔'), ('🌹', '❤'), ('❤', '🌹'), ('😭', '💔'), ('😍', '😘'), ('👇', '👇'), ('👍', '👍'), ('😘', '❤'), ('😭', '❤'), ('❤', '😘'), ('😊', '😊'), ('😂', '👌'), ('💔', '❤'), ('💛', '💛'), ('😂', '🙂'), ('🙂', '😂'), ('😂', '💙'), ('👌', '👌'), ('✌', '✌'), ('😌', '😂'), ('💔', '😭'), ('🌸', '🌸'), ('🙄', '😂'), ('🌷', '🌷'), ('🤔', '😂'), ('😒', '😒'), ('😂', '🤔'), ('🌚', '😂'), ('❤', '💙'), ('🙂', '🙂'), ('🙏', '😂'), ('😂', '🙄'), ('😉', '😂'), ('😂', '🙏'), ('💜', '💜'), ('😂', '😉'), ('❤', '😭'), ('👌', '😂'), ('❤', '💔'), ('😂', '🌚'), ('😂', '😒'), ('😂', '♥'), ('😂', '😌'), ('♥', '😂'), ('😒', '😂'), ('💙', '❤'), ('😂', '😘'), ('🤷', '♀'), ('♂', '😂'), ('😘', '😍'), ('👏', '😂'), ('💚', '💚'), ('😊', '😂'), ('🚶', '♀'), ('😘', '😂'), ('😂', '😊'), ('😌', '😌'), ('😂', '👏'), ('🙂', '💔'), ('😂', '👍'), ('😏', '😂'), ('🙄', '🙄'), ('🌹', '😂'), ('💐', '💐'), ('😉', '😉'), ('😂', '😏'), ('😏', '😏'), ('😂', '✌'), ('👍', '😂'), ('♀', '🤦'), ('🤷', '♂'), ('💕', '😂'), ('😎', '😂'), ('😂', '😎'), ('😂', '🌹'), ('🙈', '🙈'), ('💪', '💪'), ('😎', '😎'), ('😂', '✋'), ('❤', '💛'), ('😂', '😢'), ('😂', '😜'), ('🙌', '🙌'), ('💗', '💗'), ('😘', '🙏'), ('😜', '😜'), ('🏃', '♂'), ('😜', '😂'), ('😍', '😭'), ('😭', '😍'), ('☺', '😂'), ('✌', '😂'), ('😳', '😳'), ('🌚', '💔'), ('✋', '😂'), ('😆', '😆'), ('😂', '🔥'), ('💔', '😍'), ('💛', '❤'), ('😂', '💕'), ('😄', '😄'), ('💋', '💋'), ('😀', '😀'), ('☺', '☺'), ('😡', '😡'), ('🖤', '🖤'), ('😩', '😩'), ('🔥', '😂'), ('🙏', '😍'), ('🙈', '😂'), ('😢', '😂'), ('😂', '🙈'), ('😂', '😔'), ('💔', '🙂'), ('😔', '😔'), ('😂', '😆'), ('😂', '☺'), ('😔', '😂'), ('🏃', '♀'), ('❤', '💚'), ('😂', '🚶'), ('🌚', '🌚'), ('❤', '🙂'), ('🙏', '🌹'), ('💙', '😍'), ('😍', '🙏'), ('😱', '😱'), ('😍', '💙'), ('👊', '👊'), ('🙏', '😘'), ('😑', '😑'), ('👏', '❤'), ('💛', '😂'), ('❤', '💕'), ('😂', '🙌'), ('🎉', '🎉'), ('😂', '💜'), ('👌', '❤'), ('😂', '👊'), ('😢', '💔'), ('💚', '❤'), ('🙏', '💙'), ('😂', '💪'), ('💕', '❤'), ('♂', '🤦'), ('😔', '💔'), ('❤', '👍'), ('❤', '😊'), ('😅', '❤'), ('❤', '😅'), ('🏃', '🏃'), ('🙌', '😂'), ('🌹', '🙏'), ('😊', '❤'), ('😂', '🤷'), ('😆', '😂'), ('💖', '💖'), ('😂', '💃'), ('👍', '❤'), ('❤', '👏'), ('😂', '💛'), ('💔', '🌚'), ('😍', '👌'), ('😍', '🌹'), ('😷', '😷'), ('✌', '❤'), ('🌺', '🌺'), ('❤', '👌'), ('💙', '🙏'), ('💃', '😂'), ('❤', '🌸'), ('🌹', '😍'), ('🌼', '🌼'), ('💞', '💞'), ('💜', '😂'), ('😂', '😑'), ('❤', '😉'), ('😂', '🏃'), ('💔', '😔'), ('😍', '👏'), ('✨', '✨'), ('💔', '💙'), ('😑', '😂'), ('😂', '😀'), ('💦', '💦'), ('🙋', '♂'), ('❤', '✨'), ('😋', '😋'), ('🌸', '😂'), ('😛', '😛'), ('🎶', '🎶'), ('💪', '😂'), ('💔', '😢'), ('❤', '😌'), ('😀', '😂'), ('😕', '😕'), ('❤', '✌'), ('🤣', '❤'), ('🌹', '😘'), ('🌸', '❤'), ('💓', '💓'), ('😝', '😝'), ('😤', '😤'), ('😹', '💔'), ('👊', '😂'), ('😂', '🌸'), ('✋', '✋'), ('😙', '😙'), ('🙂', '❤'), ('💛', '💙'), ('🎶', '😂'), ('✨', '❤'), ('🐸', '😂'), ('😅', '😍'), ('😂', '😩'), ('😍', '♥'), ('😐', '😂'), ('💘', '💘'), ('😁', '😍'), ('💔', '🌹'), ('😌', '❤'), ('❤', '💋'), ('😂', '🎶'), ('✋', '😍'), ('😻', '😻'), ('😂', '😄'), ('👍', '😍'), ('😢', '😭'), ('🐸', '🐸'), ('❤', '💜'), ('🍃', '🍃'), ('❤', '🙌'), ('😘', '🌹'), ('😉', '❤'), ('👌', '😍'), ('😂', '😐'), ('😳', '😂'), ('😍', '🔥'), ('😴', '😴'), ('💚', '😂'), ('💪', '❤'), ('❤', '🌷'), ('🙋', '♀'), ('😃', '😃'), ('😍', '👍'), ('😂', '😹'), ('😂', '☹'), ('😊', '😍'), ('🙌', '❤'), ('😍', '✌'), ('🚶', '♂'), ('👏', '😍'), ('😂', '👇'), ('❤', '✋'), ('😍', '💕'), ('❤', '♥'), ('❤', '☺'), ('😔', '❤'), ('😩', '😂'), ('😄', '😂'), ('💕', '😍'), ('😂', '🐸'), ('😂', '😳'), ('👍', '👏'), ('😍', '😅'), ('😂', '😝'), ('❤', '🤣'), ('😕', '😂'), ('♀', '💔'), ('\\U0001f92a', '\\U0001f92a'), ('♂', '🏃'), ('😭', '💙'), ('🍬', '🍬'), ('👇', '😂'), ('❤', '🌚'), ('😍', '😊'), ('😠', '😠'), ('✨', '😂'), ('🌷', '❤'), ('😂', '😋'), ('♀', '🏃'), ('😂', '🙊'), ('😉', '😍'), ('❤', '💪'), ('😢', '❤'), ('❤', '😁'), ('🌹', '💔'), ('🖤', '😂'), ('🤗', '🤗'), ('💜', '❤'), ('💙', '💛'), ('👎', '👎'), ('😅', '💔'), ('👏', '👍'), ('🌸', '🕊'), ('😍', '💃'), ('😹', '😂'), ('😍', '💪'), ('☺', '❤'), ('✌', '😍'), ('😁', '❤'), ('🚶', '😂'), ('❤', '😢'), ('😂', '😃'), ('❤', '🤦'), ('😍', '💔'), ('💔', '🙏'), ('👍', '🙏'), ('😱', '😂'), ('😝', '😂'), ('🙏', '💐'), ('👏', '🌹'), ('❤', '💐'), ('🖤', '❤'), ('❤', '🤔'), ('💙', '💔'), ('❤', '😔'), ('🌹', '👏'), ('😩', '❤'), ('😂', '💚'), ('😂', '🖤'), ('🌷', '🌹'), ('😂', '🙆'), ('💋', '❤'), ('🤣', '😍'), ('🔥', '❤'), ('🌹', '🌷'), ('😡', '😂'), ('🙃', '😂'), ('🎂', '🎂'), ('😥', '😥'), ('😍', '😁'), ('🚶', '🚶'), ('🌸', '🌹'), ('♥', '❤'), ('😅', '🤣'), ('😨', '😨'), ('💔', '💕'), ('💔', '🤦'), ('😂', '🤗'), ('😋', '😂'), ('😃', '😂'), ('😂', '😕'), ('😐', '😐'), ('🌹', '🌸'), ('🎉', '🎊'), ('🤗', '😂'), ('😂', '🙃'), ('💗', '😂'), ('✨', '🙏'), ('❤', '🙄'), ('🙏', '💔'), ('☹', '😂'), ('♥', '😭'), ('😈', '😂'), ('😈', '😈'), ('😬', '😬'), ('❤', '🖤'), ('☹', '💔'), ('😍', '😙'), ('😍', '🤣'), ('🙏', '👍'), ('💔', '😅'), ('💜', '🙏'), ('🙊', '😂'), ('☹', '❤'), ('♀', '😭'), ('💐', '❤'), ('😂', '✨'), ('💙', '🙂'), ('😍', '💜'), ('♀', '🚶'), ('🍫', '🍫'), ('💐', '🙏'), ('😍', '🌷'), ('🙏', '😊'), ('😭', '♥'), ('💙', '✨'), ('✋', '❤'), ('😊', '🙏'), ('♥', '😍'), ('💜', '😍'), ('🌸', '🍃'), ('❤', '😩'), ('💙', '😭'), ('♀', '❤'), ('💔', '🙄'), ('🌷', '😂'), ('💛', '😍'), ('😂', '🤓'), ('😭', '🙏'), ('🎶', '❤'), ('😂', '😪'), ('❤', '☹'), ('👇', '❤'), ('😪', '😪'), ('🤔', '😍'), ('🕊', '🌸'), ('❤', '🔥'), ('😁', '🤣'), ('😁', '😊'), ('😷', '😂'), ('🌷', '😍'), ('😂', '💗'), ('👋', '😂'), ('♥', '🙏'), ('🙆', '♂'), ('☹', '☹'), ('🙈', '❤'), ('💔', '🚶'), ('😪', '😂'), ('💖', '😂'), ('🙆', '♀'), ('👌', '👍'), ('🙏', '💕'), ('🎊', '🎉'), ('😂', '😷'), ('🙏', '✨'), ('♂', '❤'), ('💪', '😍'), ('❤', '💗'), ('😊', '😁'), ('🌹', '😊'), ('🤔', '❤'), ('😊', '😉'), ('🤣', '😅'), ('🙏', '💚'), ('😂', '👋'), ('🙏', '♥'), ('😥', '😂'), ('🌿', '🌿'), ('❤', '🤗'), ('🤗', '❤'), ('💕', '🌸'), ('😎', '❤'), ('😎', '😍'), ('😂', '😴'), ('💔', '😹'), ('🏃', '😂'), ('😇', '😂'), ('😊', '🌹'), ('😍', '💛'), ('👍', '👌'), ('😞', '😂'), ('💔', '♥'), ('😍', '😉'), ('😢', '😍'), ('😂', '🌷'), ('😍', '🤔'), ('😌', '😍'), ('😒', '❤'), ('💔', '☹'), ('😞', '😞'), ('😘', '💕'), ('😂', '😡'), ('😔', '😭'), ('😂', '😇'), ('♀', '😍'), ('👑', '👑'), ('😭', '💕'), ('🙏', '💜'), ('🍭', '🍭'), ('🔥', '😍'), ('😴', '😂'), ('🌸', '😍'), ('😒', '😍'), ('💔', '👌'), ('🙄', '❤'), ('❤', '😎'), ('✨', '♥'), ('😭', '😢'), ('❤', '🙈'), ('😅', '👌'), ('💟', '💟'), ('💛', '💔'), ('😩', '💔'), ('💦', '😂'), ('🤓', '😂'), ('😍', '😢'), ('♂', '💔'), ('💙', '💚'), ('❤', '🕊'), ('😂', '\\U0001f92d'), ('\\U0001f92d', '😂'), ('🌹', '🍃'), ('😂', '😈'), ('💕', '💔'), ('💚', '🙏'), ('🙏', '😭'), ('😬', '😂'), ('💔', '🤔'), ('💕', '🌹'), ('😂', '😬'), ('🌹', '👍'), ('👨', '👩'), ('😅', '😊'), ('💙', '♥'), ('😲', '😲'), ('😂', '😱'), ('💁', '♀'), ('😂', '💦'), ('🙇', '♀'), ('🦋', '🦋'), ('🍯', '🍯'), ('❤', '😒'), ('👏', '👌'), ('😓', '😓'), ('♥', '💙'), ('💕', '😭'), ('✨', '💙'), ('❤', '🎶'), ('🌚', '❤'), ('👀', '😂'), ('😏', '❤'), ('💜', '💛'), ('😨', '😂'), ('💗', '❤'), ('🙃', '🙃'), ('✌', '🌹'), ('💕', '🙏'), ('😂', '😛'), ('😅', '😁'), ('😁', '😅'), ('🙏', '💛'), ('😍', '🙈'), ('😍', '😌'), ('❤', '👇'), ('💃', '😍'), ('🙏', '🌸'), ('😍', '🌸'), ('😂', '💖'), ('🎈', '🎈'), ('😜', '❤'), ('👌', '😅'), ('💔', '💛'), ('💔', '💜'), ('♥', '💔'), ('👌', '🙏'), ('😉', '😁'), ('💙', '💜'), ('💛', '♥'), ('🤔', '🤣'), ('❤', '😴'), ('😂', '💐'), ('😂', '😞'), ('💔', '😒'), ('♀', '😅'), ('😅', '😭'), ('👌', '👏'), ('😒', '💔'), ('😫', '😫'), ('♥', '😘'), ('😍', '😎'), ('💚', '💙'), ('👌', '😌'), ('♀', '🙂'), ('👌', '🌹'), ('🙏', '😅'), ('🙈', '😍'), ('😁', '🤔'), ('🤔', '😁'), ('👍', '🌹'), ('😘', '😊'), ('❤', '😏'), ('🍃', '🌸'), ('😂', '😤'), ('💓', '😂'), ('\\U0001f92a', '😂'), ('😉', '😊'), ('😍', '😏'), ('💔', '😌'), ('🎼', '🎼'), ('😇', '😇'), ('🤣', '😁'), ('👏', '🙏'), ('💙', '💕'), ('💘', '😂'), ('💛', '🖤'), ('😭', '💜'), ('🌹', '✌'), ('🎶', '🎵'), ('🌼', '🌹'), ('❤', '😄'), ('😍', '😒'), ('😅', '🙏'), ('😛', '😂'), ('🌚', '😍'), ('🕊', '🕊'), ('👌', '💔'), ('😠', '😂'), ('🏆', '🏆'), ('❤', '😀'), ('♂', '😍'), ('👩', '👨'), ('😊', '😅'), ('😭', '😅'), ('😭', '🤦'), ('🙂', '😭'), ('🌸', '💕'), ('🔴', '🔴'), ('⚽', '⚽'), ('😤', '😂'), ('👀', '👀'), ('🙌', '😍'), ('👋', '👋'), ('😭', '😔'), ('🙏', '🌷'), ('🙏', '👏'), ('🙌', '😭'), ('😩', '😭'), ('☺', '😍'), ('😴', '❤'), ('❤', '😹'), ('🌹', '💐'), ('🌺', '🌹'), ('😍', '☺'), ('♀', '💙'), ('❤', '💘'), ('😣', '😣'), ('💥', '💥'), ('🤣', '💔'), ('😚', '😚'), ('💔', '🤣'), ('♀', '🤷'), ('♥', '🙂'), ('😭', '💞'), ('😏', '😍'), ('🌹', '🍀'), ('😂', '\\U0001f92a'), ('🤣', '😉'), ('🙆', '🙆'), ('💔', '😊'), ('🌸', '🙏'), ('👏', '💙'), ('😁', '😘'), ('🙄', '😍'), ('🙄', '💔'), ('💔', '✋'), ('❤', '💃'), ('✋', '💔'), ('😂', '👀'), ('♥', '🌹'), ('😍', '💚'), ('😟', '😟'), ('♀', '🙄'), ('🕊', '❤'), ('😭', '😒'), ('😁', '😉'), ('😭', '🔥'), ('🌷', '🙏'), ('🌹', '🌺'), ('💜', '💙'), ('💁', '♂'), ('👈', '👈'), ('🔵', '🔵'), ('😭', '🙌'), ('🙆', '😂'), ('🙄', '😅'), ('🍪', '🍪'), ('😀', '😍'), ('👺', '👉'), ('💃', '❤'), ('😌', '✋'), ('🌻', '🌻'), ('😅', '😏'), ('💔', '🔥'), ('😰', '😰'), ('🌹', '💕'), ('👌', '💙'), ('😍', '✋'), ('💚', '💔'), ('🙂', '😍'), ('💛', '🙏'), ('🙄', '🤦'), ('😌', '👌'), ('🌹', '👌'), ('👌', '✌'), ('😍', '😔'), ('😶', '😂'), ('😉', '🙏'), ('♥', '✨'), ('🖤', '💛'), ('🤔', '😎'), ('😊', '😘'), ('🤣', '😭'), ('🤔', '🙄'), ('🙂', '💙'), ('😂', '🤚'), ('🙊', '❤'), ('🌧', '🌧'), ('😭', '😌'), ('💐', '🌹'), ('😅', '👍'), ('💋', '😂'), ('💔', '👍'), ('😅', '🙄'), ('😍', '🤗'), ('😂', '😨'), ('🙏', '👌'), ('😌', '😒'), ('🤣', '🤔'), ('😁', '😏'), ('😘', '♥'), ('😂', '💘'), ('😮', '😮'), ('🌸', '✨'), ('🙄', '😒'), ('😂', '😶'), ('🌹', '👇'), ('😁', '🌹'), ('🙌', '💕'), ('😔', '😍'), ('🌹', '♥'), ('😖', '😖'), ('💕', '😘'), ('☝', '😂'), ('😍', '🙄'), ('🤗', '😍'), ('✌', '👌'), ('😂', '💞'), ('😸', '😸'), ('😂', '💓'), ('💔', '😁'), ('😂', '😥'), ('😙', '❤'), ('🤦', '🤦'), ('😌', '😭'), ('😌', '💙'), ('🤣', '🙏'), ('💔', '😑'), ('😍', '🎶'), ('😘', '💙'), ('😭', '🙄'), ('🤔', '😅'), ('💐', '😂'), ('💙', '👏'), ('😂', '😻'), ('💕', '✨'), ('☺', '😊'), ('😅', '🤦'), ('🔥', '😭'), ('☹', '♥'), ('🤣', '🤦'), ('💗', '💕'), ('😻', '❤'), ('😉', '🤣'), ('🎶', '😍'), ('🤤', '🤤'), ('😭', '💘'), ('👐', '👐'), ('😩', '😍'), ('😅', '😌'), ('💔', '☺'), ('🙏', '😌'), ('✨', '😍'), ('💛', '😭'), ('🙏', '🤣'), ('🙏', '☺'), ('💣', '💣'), ('🙏', '😉'), ('🙄', '🤔'), ('😭', '😁'), ('😒', '😭'), ('😃', '❤'), ('😘', '💔'), ('😊', '💔'), ('❤', '😜'), ('😍', '🙌'), ('😍', '💋'), ('👇', '🌹'), ('🙁', '😂'), ('😅', '🤔'), ('😊', '👍'), ('😁', '😎'), ('♀', '🤣'), ('💔', '😘'), ('🍃', '🌹'), ('♂', '🤷'), ('🔴', '⚫'), ('🌾', '🌾'), ('🌺', '❤'), ('🌙', '🌙'), ('🙊', '🙊'), ('😅', '😢'), ('👌', '🤣'), ('🤔', '😉'), ('👍', '😊'), ('💕', '💙'), ('🌚', '🙂'), ('💜', '💔'), ('😭', '💛'), ('\\U0001f928', '\\U0001f928'), ('♀', '🙋'), ('💚', '😍'), ('👌', '😉'), ('😍', '🙂'), ('👌', '😁'), ('😂', '\\U0001f928'), ('✌', '🙏'), ('💙', '👍'), ('🍃', '😂'), ('💙', '🌹'), ('🤔', '🤦'), ('💔', '🌸'), ('✋', '😌'), ('😉', '😅'), ('😉', '😘'), ('🎊', '🎊'), ('🎉', '😂'), ('😄', '😍'), ('♥', '🌸'), ('😅', '💙'), ('❤', '🌺'), ('😣', '😂'), ('✌', '💔'), ('🙇', '♂'), ('☺', '🌹'), ('😍', '😋'), ('🤓', '🤓'), ('😭', '🙂'), ('😂', '💁'), ('❤', '💥'), ('❤', '😑'), ('😂', '🙁'), ('🍃', '❤'), ('🍀', '🌼'), ('👌', '😭'), ('🤣', '👍'), ('💪', '✌'), ('😂', '🎉'), ('💞', '😂'), ('😙', '😍'), ('😒', '😁'), ('💸', '💸'), ('❤', '😕'), ('☺', '♥'), ('😉', '👌'), ('😟', '😂'), ('✔', '✔'), ('😒', '😌'), ('💅', '😂'), ('🙄', '😭'), ('💜', '😭'), ('❤', '👑'), ('💛', '💚'), ('😠', '😡'), ('♀', '♥'), ('😘', '👌'), ('😀', '❤'), ('😑', '💔'), ('😁', '🙄'), ('💙', '👌'), ('😢', '😁'), ('😉', '👍'), ('🌸', '💙'), ('🌟', '🌟'), ('🌙', '✨'), ('🌚', '💙'), ('👍', '✌'), ('😢', '🙏'), ('🤔', '😢'), ('👆', '👆'), ('😆', '❤'), ('❤', '😆'), ('💔', '🖤'), ('💐', '👍'), ('😍', '😄'), ('👍', '😁'), ('💕', '🙂'), ('🙃', '💔'), ('♀', '🌚'), ('😍', '🤦'), ('😂', '😣'), ('🙂', '🤦'), ('😘', '🌷'), ('❤', '💞'), ('😞', '💔'), ('😏', '😌'), ('😌', '😅'), ('💩', '💩'), ('😂', '😠'), ('😘', '😁'), ('😎', '🤣'), ('😻', '😂'), ('😌', '🙄'), ('🌺', '🌸'), ('💕', '💜'), ('👌', '😘'), ('👇', '😍'), ('🙄', '😁'), ('😂', '😓'), ('😉', '😎'), ('✨', '💕'), ('❤', '😻'), ('🤣', '😎'), ('🤦', '😂'), ('💙', '😌'), ('💔', '👏'), ('💔', '😴'), ('\\U0001f928', '😂'), ('🌹', '💙'), ('😅', '✌'), ('💗', '😍'), ('😘', '😭'), ('😂', '👐'), ('💛', '✨'), ('😫', '😂'), ('😉', '🤔'), ('🌹', '😁'), ('💐', '😍'), ('👌', '💕'), ('😁', '👍'), ('😭', '😩'), ('👍', '💔'), ('🔫', '🔫'), ('😊', '☺'), ('☺', '💔'), ('😜', '😍'), ('🤣', '♥'), ('💪', '🙏'), ('🔥', '💔'), ('🤔', '😊'), ('💫', '💫'), ('😍', '💓'), ('🤣', '🌹'), ('❤', '❗'), ('✨', '🌸'), ('😏', '🤔'), ('😂', '😟'), ('💞', '😭'), ('🤔', '😭'), ('😁', '✌'), ('✊', '✊'), ('😆', '😍'), ('😪', '💔'), ('💔', '😪'), ('💕', '💗'), ('😑', '😍'), ('💙', '💐'), ('💖', '❤'), ('👏', '💃'), ('😍', '💞'), ('🙂', '😁'), ('😍', '👇'), ('💔', '😐'), ('😏', '😁'), ('😒', '🙄'), ('😍', '🌚'), ('💙', '😉'), ('♂', '😅'), ('🌺', '😂'), ('❤', '🍃'), ('🤚', '😂'), ('👌', '😊'), ('💔', '😩'), ('🙂', '💕'), ('😂', '👎'), ('😍', '💗')]\n",
            "triemojiFrecFull:  [('😂', '😂', '😂'), ('❤', '❤', '❤'), ('❤', '😂', '😂'), ('😍', '😍', '😍'), ('😂', '😂', '❤'), ('😭', '😭', '😭'), ('😂', '😂', '💔'), ('😂', '😂', '😍'), ('💔', '😂', '😂'), ('😍', '😂', '😂'), ('😂', '😂', '😭'), ('🤣', '🤣', '🤣'), ('❤', '❤', '😂'), ('😭', '😂', '😂'), ('😂', '❤', '❤'), ('😂', '😭', '😭'), ('😂', '💔', '😂'), ('😭', '😭', '😂'), ('💔', '💔', '💔'), ('😂', '😍', '😍'), ('😘', '😘', '😘'), ('😂', '❤', '😂'), ('😍', '❤', '❤'), ('😍', '😍', '😂'), ('😅', '😂', '😂'), ('😂', '😂', '😅'), ('🌹', '🌹', '🌹'), ('😂', '😂', '🤣'), ('❤', '❤', '😍'), ('🤣', '😂', '😂'), ('😍', '😍', '❤'), ('👏', '👏', '👏'), ('😁', '😂', '😂'), ('💙', '💙', '💙'), ('😂', '😂', '😁'), ('😂', '🤦', '♀'), ('💙', '😂', '😂'), ('🤦', '♀', '😂'), ('😂', '🤣', '🤣'), ('😂', '😂', '🤦'), ('😂', '💔', '💔'), ('🙏', '🙏', '🙏'), ('😂', '😭', '😂'), ('♀', '😂', '😂'), ('❤', '😍', '😍'), ('🤣', '🤣', '😂'), ('😌', '😂', '😂'), ('😂', '😍', '😂'), ('😂', '😂', '👌'), ('😂', '😂', '😉'), ('🙄', '😂', '😂'), ('💔', '💔', '😂'), ('♀', '🤦', '♀'), ('😂', '😂', '🙂'), ('😂', '😂', '🤔'), ('♥', '♥', '♥'), ('😉', '😂', '😂'), ('❤', '😍', '❤'), ('😁', '😁', '😁'), ('😂', '😂', '😌'), ('🤔', '😂', '😂'), ('😂', '😂', '💙'), ('😂', '😂', '😒'), ('😂', '😂', '🙄'), ('😭', '❤', '❤'), ('🤦', '♀', '🤦'), ('👌', '😂', '😂'), ('🙏', '😂', '😂'), ('😂', '😂', '😘'), ('😒', '😂', '😂'), ('❤', '😂', '❤'), ('🙂', '😂', '😂'), ('♂', '😂', '😂'), ('😊', '😂', '😂'), ('😂', '😅', '😂'), ('😂', '😂', '😊'), ('😹', '😹', '😹'), ('😘', '😂', '😂'), ('🙏', '❤', '❤'), ('💃', '💃', '💃'), ('😂', '😂', '🌚'), ('😂', '🤣', '😂'), ('👏', '😂', '😂'), ('😂', '😁', '😂'), ('😭', '😂', '😭'), ('😂', '😂', '🙏'), ('🌚', '😂', '😂'), ('😂', '😂', '♥'), ('❤', '❤', '😘'), ('😏', '😂', '😂'), ('😘', '❤', '❤'), ('😂', '😂', '👍'), ('❤', '❤', '🙏'), ('😭', '😭', '❤'), ('😅', '😅', '😅'), ('♥', '😂', '😂'), ('😂', '😂', '👏'), ('😂', '😂', '😏'), ('🔥', '🔥', '🔥'), ('👍', '😂', '😂'), ('😂', '😂', '✌'), ('😢', '😢', '😢'), ('🌹', '😂', '😂'), ('😂', '😂', '😎'), ('😍', '😍', '😘'), ('😅', '😅', '😂'), ('❤', '🙏', '❤'), ('👇', '👇', '👇'), ('😂', '😂', '😜'), ('😂', '😂', '🌹'), ('😂', '😂', '😢'), ('😂', '😅', '😅'), ('♂', '🤦', '♂'), ('❤', '😘', '😘'), ('💕', '😂', '😂'), ('❤', '❤', '😭'), ('😂', '😂', '✋'), ('😍', '😘', '😘'), ('😂', '🤦', '♂'), ('💔', '❤', '❤'), ('🤔', '🤔', '🤔'), ('😎', '😂', '😂'), ('😁', '😁', '😂'), ('👏', '👏', '😂'), ('💙', '💙', '😂'), ('❤', '🌹', '❤'), ('🤦', '♂', '😂'), ('😭', '😭', '💔'), ('❤', '😭', '😭'), ('💕', '💕', '💕'), ('💔', '😭', '😭'), ('✌', '😂', '😂'), ('❤', '❤', '🌹'), ('😂', '😁', '😁'), ('✋', '😂', '😂'), ('😍', '❤', '😍'), ('🌷', '🌷', '🌷'), ('😜', '😂', '😂'), ('🤣', '😂', '🤣'), ('😂', '😂', '🔥'), ('💛', '💛', '💛'), ('❤', '❤', '💔'), ('👍', '👍', '👍'), ('🤦', '♂', '🤦'), ('😂', '👏', '👏'), ('🔥', '😂', '😂'), ('😍', '❤', '😂'), ('😂', '🙂', '😂'), ('💔', '😂', '💔'), ('🙏', '🙏', '❤'), ('🌹', '🌹', '❤'), ('☺', '😂', '😂'), ('✌', '✌', '✌'), ('❤', '🌹', '🌹'), ('😘', '😘', '❤'), ('🌹', '❤', '❤'), ('😢', '😂', '😂'), ('💔', '💔', '😭'), ('😂', '🙄', '😂'), ('😂', '😂', '😔'), ('😂', '👌', '😂'), ('🌹', '❤', '🌹'), ('🙈', '😂', '😂'), ('😂', '❤', '😍'), ('😂', '💙', '💙'), ('💚', '💚', '💚'), ('😂', '🌚', '😂'), ('😘', '😍', '😍'), ('😔', '😂', '😂'), ('🙌', '😂', '😂'), ('😭', '💔', '💔'), ('😂', '😂', '🙌'), ('💜', '💜', '💜'), ('😂', '😘', '😘'), ('🙏', '❤', '🙏'), ('😂', '😂', '💕'), ('😂', '😂', '☺'), ('😂', '🤔', '😂'), ('😊', '😊', '😊'), ('😂', '😂', '🙈'), ('😂', '😂', '👊'), ('👌', '👌', '👌'), ('❤', '😘', '❤'), ('😂', '😌', '😂'), ('😂', '😉', '😂'), ('😂', '💙', '😂'), ('🌸', '🌸', '🌸'), ('😑', '😂', '😂'), ('❤', '❤', '💙'), ('😂', '😍', '❤'), ('😂', '😂', '😆'), ('😘', '😘', '😍'), ('❤', '😍', '😂'), ('😘', '😘', '🙏'), ('💃', '😂', '😂'), ('😂', '😂', '💪'), ('💔', '💔', '❤'), ('❤', '🙏', '🙏'), ('😂', '😒', '😂'), ('😂', '😂', '🚶'), ('😭', '💔', '😭'), ('🌸', '😂', '😂'), ('💔', '😭', '💔'), ('😭', '😭', '😍'), ('😂', '😂', '💃'), ('🌹', '🌹', '😂'), ('😒', '😒', '😒'), ('😁', '😂', '😁'), ('😍', '😭', '😭'), ('🤷', '♀', '😂'), ('😂', '😂', '😑'), ('😘', '🙏', '🙏'), ('😆', '😂', '😂'), ('😂', '♥', '😂'), ('🏃', '♂', '🏃'), ('♂', '🏃', '♂'), ('🏃', '♀', '🏃'), ('♀', '🏃', '♀'), ('😂', '😏', '😂'), ('🙂', '🙂', '🙂'), ('❤', '💙', '❤'), ('👊', '😂', '😂'), ('😂', '♥', '♥'), ('💜', '😂', '😂'), ('😂', '🤔', '🤔'), ('😂', '🤷', '♀'), ('😂', '🔥', '🔥'), ('❤', '💔', '💔'), ('😍', '😘', '❤'), ('😂', '😒', '😒'), ('💛', '😂', '😂'), ('😘', '😘', '😂'), ('💐', '💐', '💐'), ('😂', '😂', '🤷'), ('💪', '😂', '😂'), ('😂', '😂', '💜'), ('😂', '😂', '😀'), ('♥', '♥', '😂'), ('👏', '👏', '❤'), ('🤔', '🤔', '😂'), ('💙', '❤', '❤'), ('😂', '😂', '🌸'), ('😂', '😭', '💔'), ('😂', '👍', '😂'), ('😂', '😂', '💛'), ('😭', '😍', '😍'), ('😳', '😂', '😂'), ('😂', '😂', '👇'), ('🙏', '🙏', '😂'), ('😂', '🚶', '♀'), ('😂', '😂', '😩'), ('😍', '😍', '😭'), ('😂', '👌', '👌'), ('😂', '😂', '😐'), ('💪', '💪', '💪'), ('🎶', '😂', '😂'), ('😂', '🌹', '🌹'), ('🙄', '🙄', '🙄'), ('😂', '😂', '🎶'), ('😀', '😂', '😂'), ('💗', '💗', '💗'), ('🙏', '😘', '😘'), ('😂', '😂', '🏃'), ('♀', '🚶', '♀'), ('😏', '😏', '😏'), ('😳', '😳', '😳'), ('😍', '😘', '😍'), ('😂', '😌', '😌'), ('🙌', '🙌', '🙌'), ('😂', '😜', '😂'), ('💙', '💙', '❤'), ('😂', '😂', '😄'), ('❤', '💛', '❤'), ('😂', '💔', '❤'), ('✋', '😍', '❤'), ('😂', '😘', '😂'), ('🔥', '🔥', '😂'), ('👇', '😂', '😂'), ('😂', '😊', '😂'), ('😂', '😂', '😋'), ('🙏', '🙏', '😘'), ('😂', '😂', '😝'), ('😂', '😭', '❤'), ('💙', '🙏', '💙'), ('😆', '😆', '😆'), ('🙈', '🙈', '🙈'), ('🙂', '🙂', '😂'), ('😄', '😄', '😄'), ('❤', '❤', '🙂'), ('😂', '😎', '😂'), ('😂', '😊', '😊'), ('❤', '💙', '💙'), ('🚶', '♀', '🚶'), ('😂', '✌', '😂'), ('💋', '💋', '💋'), ('💛', '❤', '💛'), ('😂', '😂', '😳'), ('😂', '✋', '😂'), ('❤', '👏', '👏'), ('😐', '😂', '😂'), ('💔', '🙂', '💔'), ('😄', '😂', '😂'), ('💃', '💃', '😂'), ('😌', '😌', '😌'), ('😌', '😌', '😂'), ('😉', '😉', '😉'), ('🙏', '😍', '😍'), ('❤', '😍', '😘'), ('😂', '😂', '☹'), ('😂', '😢', '😢'), ('💙', '❤', '💙'), ('😒', '😒', '😂'), ('🐸', '😂', '😂'), ('😡', '😡', '😡'), ('😩', '😩', '😩'), ('😎', '😎', '😎'), ('😂', '🤷', '♂'), ('😝', '😂', '😂'), ('😂', '😆', '😂'), ('😂', '😂', '😹'), ('❤', '😭', '❤'), ('👏', '❤', '❤'), ('🖤', '🖤', '🖤'), ('🙂', '💔', '💔'), ('😡', '😂', '😂'), ('😱', '😱', '😱'), ('😂', '😂', '🐸'), ('😍', '💙', '💙'), ('😢', '😢', '😂'), ('😂', '💔', '😍'), ('😭', '💔', '😂'), ('💔', '😍', '😍'), ('😂', '🙌', '😂'), ('🌸', '🕊', '🌸'), ('😕', '😂', '😂'), ('😹', '😂', '😂'), ('😜', '😜', '😜'), ('😊', '😊', '😂'), ('👊', '👊', '👊'), ('😂', '👏', '😂'), ('😅', '❤', '❤'), ('💚', '😂', '😂'), ('🚶', '😂', '😂'), ('💙', '💙', '😍'), ('😂', '🙏', '😂'), ('❤', '💔', '❤'), ('🤣', '🤣', '❤'), ('😩', '😂', '😂'), ('💙', '😂', '💙'), ('😍', '😍', '🙏'), ('🚶', '♀', '😂'), ('🕊', '🌸', '🕊'), ('🎉', '🎉', '🎉'), ('😂', '😉', '😉'), ('💖', '💖', '💖'), ('✨', '😂', '😂'), ('😂', '🙂', '🙂'), ('😂', '😂', '🤗'), ('😍', '👏', '👏'), ('😈', '😂', '😂'), ('🏃', '🏃', '🏃'), ('😂', '😂', '🙊'), ('💔', '😭', '😂'), ('❤', '❤', '😅'), ('😂', '🙏', '🙏'), ('❤', '💚', '❤'), ('❤', '🤦', '♀'), ('🙏', '🌹', '🌹'), ('🌚', '💔', '😂'), ('💞', '💞', '💞'), ('😂', '👍', '👍'), ('💔', '😂', '❤'), ('😂', '🙂', '💔'), ('😅', '😂', '😅'), ('😍', '❤', '😘'), ('💦', '💦', '💦'), ('❤', '😂', '💔'), ('💕', '❤', '❤'), ('😂', '💃', '💃'), ('😘', '❤', '😍'), ('😍', '😂', '😍'), ('🙏', '🙏', '😍'), ('❤', '❤', '💋'), ('😂', '😂', '😃'), ('😂', '😂', '😕'), ('💕', '💕', '😂'), ('😂', '😂', '🙆'), ('❤', '❤', '😊'), ('🙏', '🙏', '🌹'), ('😂', '🙈', '😂'), ('😂', '😂', '💚'), ('😂', '🙄', '🙄'), ('😱', '😂', '😂'), ('😃', '😂', '😂'), ('😑', '😑', '😑'), ('❤', '❤', '😉'), ('🖤', '😂', '😂'), ('🤗', '😂', '😂'), ('👍', '👍', '😂'), ('👌', '👌', '😂'), ('💔', '🤦', '♀'), ('🙂', '💔', '😂'), ('🙄', '🙄', '😂'), ('😋', '😂', '😂'), ('😘', '❤', '😘'), ('👌', '❤', '❤'), ('❤', '✋', '😍'), ('😂', '😏', '😏'), ('😍', '🌹', '🌹'), ('🌼', '🌼', '🌼'), ('😀', '😀', '😀'), ('❤', '❤', '👍'), ('🏃', '♂', '😂'), ('🌹', '🌹', '🙏'), ('😘', '😍', '😘'), ('🤷', '♂', '😂'), ('🌹', '🌹', '😘'), ('🌹', '😘', '😘'), ('❤', '🤣', '🤣'), ('🙏', '💐', '🙏'), ('😂', '😆', '😆'), ('😇', '😂', '😂'), ('❤', '❤', '💕'), ('❤', '❤', '💛'), ('😹', '😹', '💔'), ('😉', '😉', '😂'), ('❤', '❤', '🌸'), ('😂', '😔', '😂'), ('😂', '☺', '😂'), ('😂', '😜', '😜'), ('🙊', '😂', '😂'), ('😂', '😂', '🙃'), ('👋', '😂', '😂'), ('😂', '😂', '😬'), ('😊', '😍', '😍'), ('😞', '😂', '😂'), ('😂', '😀', '😂'), ('🤦', '♀', '💔'), ('🌷', '😂', '😂'), ('😙', '😙', '😙'), ('💗', '😂', '😂'), ('😍', '💃', '💃'), ('😥', '😂', '😂'), ('😊', '❤', '❤'), ('😏', '😏', '😂'), ('😪', '😂', '😂'), ('🌹', '🌹', '😍'), ('😂', '😂', '😪'), ('🌚', '🌚', '😂'), ('💖', '😂', '😂'), ('❤', '🙂', '❤'), ('☺', '☺', '☺'), ('❤', '💔', '😂'), ('😂', '🌚', '💔'), ('💦', '💦', '😂'), ('😷', '😷', '😷'), ('👍', '❤', '❤'), ('😂', '😑', '😂'), ('😍', '🙏', '🙏'), ('💙', '😍', '💙'), ('😂', '😂', '😱'), ('😍', '😍', '💃'), ('🤣', '❤', '❤'), ('♀', '🤷', '♀'), ('🙂', '💔', '🙂'), ('🙂', '🙂', '💔'), ('😂', '❤', '😭'), ('😂', '😹', '😹'), ('❤', '😭', '😂'), ('😂', '😂', '🖤'), ('😤', '😤', '😤'), ('😂', '🌹', '😂'), ('💛', '❤', '❤'), ('💔', '❤', '😂'), ('😍', '😍', '💙'), ('😭', '🤦', '♀'), ('💛', '💛', '😂'), ('😢', '😭', '😭'), ('😂', '😢', '😂'), ('💪', '❤', '❤'), ('😂', '😂', '💗'), ('😂', '😂', '😷'), ('❤', '💛', '💛'), ('😂', '😂', '😇'), ('🙏', '💙', '🙏'), ('😂', '💕', '💕'), ('🤦', '♀', '😭'), ('❤', '😊', '❤'), ('🍬', '🍬', '🍬'), ('😂', '🔥', '😂'), ('😠', '😂', '😂'), ('😍', '😂', '❤'), ('😷', '😂', '😂'), ('😂', '😎', '😎'), ('💙', '😍', '😍'), ('😭', '❤', '😭'), ('😂', '🙏', '❤'), ('😍', '😍', '😙'), ('😭', '😂', '💔'), ('👏', '👏', '😍'), ('😂', '😂', '😡'), ('😭', '💙', '💙'), ('😂', '😂', '🌷'), ('😍', '😍', '🌹'), ('😘', '🌹', '🌹'), ('😂', '👇', '👇'), ('❤', '❤', '😌'), ('💔', '😔', '💔'), ('😂', '😂', '😴'), ('❤', '💙', '😂'), ('❤', '❤', '💚'), ('❤', '❤', '✌'), ('😛', '😛', '😛'), ('😆', '😆', '😂'), ('😂', '👊', '👊'), ('❤', '😂', '😍'), ('😋', '😋', '😋'), ('😂', '👊', '😂'), ('🙃', '😂', '😂'), ('👍', '👏', '👏'), ('😂', '💜', '😂'), ('😁', '😍', '😍'), ('😔', '😔', '😔'), ('😘', '😘', '🌹'), ('😨', '😂', '😂'), ('✌', '✌', '❤'), ('😂', '💔', '🌚'), ('❤', '👍', '❤'), ('😍', '😍', '✌'), ('😂', '💦', '💦'), ('😂', '💔', '😭'), ('😂', '😂', '🤓'), ('😂', '💛', '💛'), ('😭', '❤', '😂'), ('💐', '🙏', '💐'), ('😭', '😭', '💞'), ('😴', '😂', '😂'), ('☹', '❤', '❤'), ('😭', '😂', '❤'), ('👩', '👨', '👩'), ('👨', '👩', '👨'), ('🌹', '🙏', '🙏'), ('😂', '🙈', '🙈'), ('😎', '😎', '😂'), ('💓', '💓', '💓'), ('💚', '❤', '❤'), ('💜', '💜', '😂'), ('🌸', '🌸', '😂'), ('👍', '🙏', '🙏'), ('🌹', '😍', '😍'), ('🌚', '🌚', '🌚'), ('😤', '😂', '😂'), ('💔', '🌹', '💔'), ('💔', '💙', '💙'), ('🙂', '❤', '❤'), ('❤', '♥', '♥'), ('😂', '😂', '😞'), ('😻', '😻', '😻'), ('💛', '💛', '❤'), ('🤦', '♀', '❤'), ('😂', '🐸', '😂'), ('💔', '💔', '🙂'), ('❤', '😘', '😂'), ('☺', '☺', '😂'), ('😘', '🙏', '😘'), ('😝', '😝', '😝'), ('😁', '😁', '😍'), ('😜', '😜', '😂'), ('💔', '💔', '😍'), ('😂', '😄', '😂'), ('😳', '😳', '😂'), ('😍', '❤', '✋'), ('🤦', '♀', '😅'), ('\\U0001f92a', '\\U0001f92a', '\\U0001f92a'), ('😂', '😂', '😛'), ('😛', '😂', '😂'), ('😬', '😂', '😂'), ('😂', '💕', '😂'), ('😍', '🔥', '🔥'), ('😍', '😍', '👌'), ('❤', '😂', '😭'), ('❤', '❤', '😩'), ('🌺', '🌺', '🌺'), ('❤', '🙏', '😂'), ('😢', '😢', '😭'), ('🌷', '🌷', '😍'), ('😍', '😍', '🌷'), ('♀', '🙋', '♀'), ('❤', '❤', '👏'), ('☹', '😂', '😂'), ('😍', '♥', '♥'), ('😂', '🏃', '♀'), ('😍', '🤣', '🤣'), ('🤣', '🤣', '😍'), ('❤', '❤', '✨'), ('♀', '😂', '🤦'), ('😍', '😍', '👏'), ('😉', '❤', '❤'), ('😘', '🙏', '❤'), ('💋', '❤', '❤'), ('✌', '❤', '❤'), ('😂', '😂', '😈'), ('😂', '✌', '✌'), ('🙏', '💙', '💙'), ('❤', '🙌', '❤'), ('💔', '💔', '😢'), ('♂', '🤷', '♂'), ('😂', '❤', '💔'), ('❤', '💐', '💐'), ('😂', '🚶', '😂'), ('💦', '😂', '💦'), ('🌹', '🌹', '🌸'), ('😍', '❤', '🌹'), ('😩', '❤', '❤'), ('🙈', '🙈', '😂'), ('🙂', '😂', '🙂'), ('🙏', '❤', '😂'), ('👊', '👊', '😂'), ('🙋', '♀', '🙋'), ('👀', '😂', '😂'), ('🎂', '🎂', '🎂'), ('😂', '😂', '👋'), ('😂', '🐸', '🐸'), ('😂', '😂', '😤'), ('💘', '💘', '💘'), ('😱', '😱', '😂'), ('😢', '💔', '💔'), ('😂', '😝', '😝'), ('😂', '😂', '💖'), ('😍', '😍', '🤣'), ('😭', '😭', '😢'), ('😍', '😍', '👍'), ('😍', '👍', '👍'), ('👏', '😍', '😍'), ('💔', '🌚', '💔'), ('🙏', '🌹', '🙏'), ('✌', '✌', '😂'), ('😂', '🌸', '🌸'), ('❤', '🖤', '❤'), ('🌷', '❤', '❤'), ('😂', '💔', '🙂'), ('🌹', '💔', '🌹'), ('😂', '💜', '💜'), ('🌹', '🙏', '🌹'), ('👏', '🌹', '👏'), ('🌹', '👏', '🌹'), ('🏃', '😂', '😂'), ('🌸', '🌹', '🌹'), ('🌹', '🌸', '🌸'), ('😂', '❤', '💙'), ('😂', '🌚', '🌚'), ('😁', '😁', '😊'), ('❤', '✌', '✌'), ('❤', '❤', '👌'), ('😠', '😠', '😠'), ('💔', '😂', '😭'), ('😍', '😍', '💔'), ('❤', '🙂', '😂'), ('♀', '❤', '❤'), ('😂', '😂', '✨'), ('😹', '💔', '😹'), ('❤', '💕', '❤'), ('😍', '🌷', '🌷'), ('💔', '😍', '❤'), ('❤', '❤', '🌷'), ('💃', '💃', '😍'), ('🙏', '😘', '🙏'), ('😂', '🏃', '♂'), ('🤣', '🤣', '😅'), ('😡', '😡', '😂'), ('💕', '💕', '❤'), ('😂', '😳', '😳'), ('😘', '😍', '❤'), ('❤', '💋', '💋'), ('♥', '♥', '😍'), ('🙁', '😂', '😂'), ('😍', '✌', '✌'), ('👏', '👏', '🌹'), ('😕', '😕', '😕'), ('❤', '👍', '👍'), ('😂', '🏃', '🏃'), ('🙆', '😂', '😂'), ('😂', '👋', '😂'), ('💔', '😢', '💔'), ('🔥', '🔥', '❤'), ('💕', '😍', '😍'), ('❤', '❤', '🤦'), ('😍', '😍', '😊'), ('😂', '💪', '😂'), ('🙏', '❤', '😍'), ('❤', '😊', '😊'), ('👎', '👎', '👎'), ('😹', '😹', '😂'), ('😂', '😂', '😥'), ('🌷', '😍', '😍'), ('😍', '😙', '😙'), ('🌷', '🌷', '❤'), ('😂', '😋', '😂'), ('😂', '❤', '🙏'), ('♥', '♥', '😭'), ('💙', '💛', '💙'), ('😂', '💃', '😂'), ('👇', '👇', '😂'), ('🤔', '😍', '😍'), ('✨', '❤', '❤'), ('😴', '😴', '😴'), ('😍', '😍', '😅'), ('🏃', '♀', '😂'), ('🙌', '❤', '❤'), ('🤦', '♀', '😍'), ('❤', '💋', '❤'), ('💔', '🙂', '😂'), ('👌', '😍', '😍'), ('🌹', '👏', '👏'), ('❤', '❤', '🤣'), ('👍', '👍', '🙏'), ('👇', '👇', '❤'), ('😂', '😂', '\\U0001f92a'), ('😢', '💔', '😂'), ('🙄', '🤦', '♀'), ('🔥', '🔥', '😍'), ('😍', '😍', '💕'), ('😍', '💕', '💕'), ('🌚', '😂', '🌚'), ('😂', '😂', '💐'), ('❤', '❤', '♥'), ('😨', '😨', '😨'), ('💋', '😂', '😂'), ('❤', '❤', '🌚'), ('😍', '😅', '😅'), ('😍', '❤', '🙏'), ('💚', '❤', '💚'), ('😂', '😐', '😂'), ('🌹', '🌹', '🌷'), ('♥', '😂', '♥'), ('❤', '🌷', '🌷'), ('❤', '❤', '💪'), ('😂', '😂', '👀'), ('😅', '🤣', '🤣'), ('😟', '😂', '😂'), ('💙', '❤', '😂'), ('😁', '❤', '❤'), ('😂', '😔', '😔'), ('❤', '😘', '😍'), ('😍', '😍', '😢'), ('❤', '❤', '🙌'), ('😔', '💔', '💔'), ('😂', '\\U0001f92d', '😂'), ('😭', '♥', '♥'), ('😂', '😀', '😀'), ('👏', '👏', '🙏'), ('😅', '😭', '😭'), ('❤', '❤', '✋'), ('❤', '🙏', '😍'), ('😭', '😭', '😔'), ('🍃', '😂', '😂'), ('❤', '❤', '💗'), ('🤣', '🤦', '♀'), ('😭', '😭', '💕'), ('😅', '😍', '😍'), ('❤', '😅', '😅'), ('😂', '😂', '🤚'), ('😂', '🙊', '😂'), ('💐', '💐', '❤'), ('👇', '❤', '❤'), ('❤', '❤', '😢'), ('❤', '😅', '😂'), ('😑', '😑', '😂'), ('❤', '😹', '😹'), ('🙌', '🙌', '😂'), ('✋', '✋', '✋'), ('☝', '😂', '😂'), ('❤', '🌚', '😂'), ('☺', '❤', '❤'), ('😅', '😅', '❤'), ('❤', '🌸', '❤'), ('🎶', '🎶', '😂'), ('👏', '👏', '👍'), ('👏', '👏', '👌'), ('👌', '👌', '❤'), ('🌸', '❤', '❤'), ('🐸', '🐸', '🐸'), ('❤', '😘', '🙏'), ('😌', '😍', '😍'), ('🤔', '🤦', '♀'), ('😂', '😍', '😘'), ('😍', '😍', '😁'), ('❤', '❤', '🙄'), ('😭', '😭', '♥'), ('😂', '💪', '💪'), ('😩', '😩', '😂'), ('🔥', '❤', '❤'), ('🤔', '🤔', '😍'), ('😃', '😃', '😃'), ('💔', '💔', '🌚'), ('🤷', '♀', '🤷'), ('♀', '😭', '😭'), ('🐸', '🐸', '😂'), ('✌', '😍', '😍'), ('🌹', '❤', '😍'), ('❤', '❤', '🤔'), ('💔', '❤', '💔'), ('💔', '🌹', '🌹'), ('💛', '💙', '💛'), ('😂', '😅', '❤'), ('🌼', '🌹', '🍀'), ('🌹', '🍀', '🌼'), ('🎶', '🎶', '🎶'), ('❤', '❤', '😔'), ('😝', '😝', '😂'), ('💔', '🚶', '♀'), ('❤', '🙏', '😘'), ('🙌', '😭', '😭'), ('😂', '😂', '👐'), ('😂', '😂', '🙁'), ('❤', '🌸', '🌸'), ('🌸', '🌸', '🌹'), ('😬', '😬', '😬'), ('😍', '😍', '💪'), ('💜', '❤', '❤'), ('❤', '👌', '❤'), ('😂', '👇', '😂'), ('💙', '💙', '💔'), ('😢', '😍', '😍'), ('😍', '😍', '🤔'), ('😂', '😂', '😨'), ('💃', '😍', '😍'), ('😂', '😍', '💙'), ('😂', '😂', '😟'), ('♥', '❤', '❤'), ('❤', '💛', '😂'), ('😂', '💙', '❤'), ('😢', '😢', '💔'), ('🏃', '🏃', '😂'), ('🙏', '🙏', '💐'), ('🍫', '🍫', '🍫'), ('💔', '🌚', '😂'), ('😍', '🙏', '😍'), ('😍', '💙', '😂'), ('🎶', '❤', '❤'), ('😂', '😇', '😂'), ('🍃', '🌸', '🍃'), ('😂', '😈', '😂'), ('🤓', '😂', '😂'), ('🦋', '🦋', '🦋'), ('🤦', '♀', '🤣'), ('🤷', '♂', '🤷'), ('🤦', '♀', '🙂'), ('🍀', '🌼', '🌹'), ('💜', '😍', '😍'), ('😂', '🚶', '♂'), ('🍃', '🍃', '🍃'), ('😂', '😝', '😂'), ('😢', '❤', '❤'), ('🚶', '🚶', '🚶'), ('🍫', '🍬', '🍬'), ('💞', '😭', '😭'), ('🤦', '♂', '😍'), ('🙏', '❤', '😘'), ('😭', '😭', '🙏'), ('😍', '😭', '😂'), ('😍', '😍', '🔥'), ('😍', '😍', '💛'), ('😍', '😍', '♥'), ('😂', '🖤', '🖤'), ('😭', '💔', '❤'), ('😂', '😂', '💞'), ('💙', '💙', '🙏'), ('💔', '💕', '💕'), ('😂', '🙃', '😂'), ('😂', '❤', '🙂'), ('💘', '😂', '😂'), ('😂', '💚', '😂'), ('❤', '🌹', '😂'), ('😭', '💛', '💛'), ('😂', '💔', '🤦'), ('🙂', '🤦', '♀'), ('❤', '😂', '🙂'), ('❤', '❤', '😀'), ('😂', '😂', '\\U0001f928'), ('😂', '😘', '❤'), ('😓', '😂', '😂'), ('\\U0001f92a', '😂', '😂'), ('❤', '❤', '😎'), ('💙', '💙', '😭'), ('💛', '💛', '💙'), ('😂', '😱', '😱'), ('💙', '😭', '😭'), ('❤', '🙄', '😂'), ('\\U0001f92d', '😂', '😂'), ('😂', '😳', '😂'), ('😂', '😂', '😠'), ('😂', '😩', '😩'), ('❤', '🔥', '🔥'), ('😍', '😍', '🙌'), ('💋', '💋', '❤'), ('😂', '😃', '😂'), ('🚶', '♀', '💔'), ('😂', '😂', '\\U0001f92d'), ('♀', '😍', '😍'), ('🌺', '😂', '😂'), ('🙏', '👏', '👏'), ('😂', '👌', '❤'), ('😀', '😀', '😂'), ('😍', '😁', '😁'), ('❤', '💚', '💚'), ('😌', '❤', '❤'), ('🌷', '🌹', '🌹'), ('😭', '😭', '💙'), ('💐', '🙏', '🙏'), ('🤣', '🤣', '😉'), ('😂', '😢', '💔'), ('😎', '😍', '😍'), ('🚶', '♂', '😂'), ('❤', '❤', '💜'), ('😂', '😂', '😻'), ('🌹', '🌹', '👍'), ('🙏', '🙏', '👍'), ('🍫', '🍫', '🍬'), ('💔', '🤣', '🤣'), ('💔', '❤', '😍'), ('😂', '😂', '😶'), ('✨', '✨', '✨'), ('😍', '💙', '😍'), ('😂', '🙏', '😭'), ('😭', '😍', '😂'), ('😂', '😕', '😂'), ('🌹', '🌹', '💐'), ('😫', '😂', '😂'), ('👌', '😂', '👌'), ('😍', '👌', '😂'), ('😁', '😁', '🤣'), ('❤', '❤', '🔥'), ('😒', '😍', '😍'), ('😂', '💔', '💙'), ('💙', '💔', '💔'), ('❤', '❤', '☹'), ('💗', '💗', '😂'), ('🌚', '💔', '💔'), ('😅', '😅', '😍'), ('👍', '👍', '😍'), ('👍', '😍', '😍'), ('💙', '🤦', '♀'), ('💚', '💚', '😂'), ('🎵', '😂', '😂'), ('😂', '🎶', '🎶'), ('💔', '😍', '😂'), ('🌷', '❤', '🌷'), ('😉', '😍', '😍'), ('😂', '😂', '🙋'), ('😂', '✋', '✋'), ('😷', '😷', '😂'), ('😔', '😔', '😂'), ('😂', '😁', '😍'), ('😂', '😋', '😋'), ('😪', '😪', '😪'), ('♥', '♥', '💔'), ('💔', '🤦', '♂'), ('😥', '😥', '😥'), ('🌚', '😂', '❤'), ('😭', '😭', '😒'), ('🤣', '😭', '😭'), ('🤣', '😍', '😍'), ('😻', '😂', '😂'), ('♥', '😭', '😭'), ('😂', '😐', '😐'), ('😔', '😭', '😭'), ('😂', '😡', '😡'), ('😊', '🙏', '🙏'), ('👌', '👏', '👏'), ('😘', '❤', '😂'), ('♥', '♥', '❤'), ('😂', '🙂', '❤'), ('😈', '😈', '😈'), ('🙂', '😂', '💔'), ('❤', '💜', '💜'), ('💙', '😂', '💔'), ('👌', '👌', '😍'), ('❤', '😉', '❤'), ('❤', '🤦', '♂'), ('✌', '✌', '😍'), ('👏', '🌹', '🌹'), ('\\U0001f928', '😂', '😂'), ('💕', '💕', '😍'), ('💓', '😂', '😂'), ('😉', '🤣', '🤣'), ('😣', '😂', '😂'), ('🤔', '🤣', '🤣'), ('👍', '🤣', '🤣'), ('😂', '😍', '👌'), ('👇', '👇', '🌹'), ('😭', '💞', '😭'), ('😔', '💔', '😂'), ('🙏', '😍', '🙏'), ('😊', '🙋', '♂'), ('♀', '😂', '🚶'), ('💙', '🙂', '💔'), ('👇', '🙋', '♂'), ('😂', '😍', '😭'), ('💐', '🌹', '🌹')]\n",
            "biwordFrecFull:  [('شاء', 'الله'), ('الله', 'يبارك'), ('الحمد', 'لله'), ('الله', 'الله'), ('يبارك', 'فيك'), ('الله', 'ونعم'), ('الله', 'يرحمه'), ('بإذن', 'الله'), ('حسبي', 'الله'), ('بالف', 'خير'), ('ونعم', 'الوكيل'), ('اللهم', 'امين'), ('الله', 'يسلمك'), ('امين', 'يارب'), ('الله', 'العظيم'), ('بألف', 'خير'), ('عظم', 'الله'), ('اللهم', 'صل'), ('وانت', 'بخير'), ('صل', 'وسلم'), ('الله', 'يحفظك'), ('بارك', 'الله'), ('رحمة', 'الله'), ('الله', 'يسعدك'), ('ماشاء', 'الله'), ('une', 'vidéo'), ('كأس', 'العالم'), ('باذن', 'الله'), ('اللهم', 'آمين'), ('رحمه', 'الله'), ('صلى', 'الله'), ('رسول', 'الله'), ('الله', 'خير'), ('استغفر', 'الله'), ('اللهم', 'إني'), ('يارب', 'العالمين'), ('كرة', 'القدم'), ('اهم', 'شي'), ('الناس', 'اللي'), ('آمين', 'يارب'), ('الله', 'يرحم'), ('الله', 'يوفقك'), ('إله', 'الله'), ('انا', 'مش'), ('رحم', 'الله'), ('شكرا', 'شكرا'), ('لله', 'وانا'), ('صاحب', 'السمو'), ('الله', 'يرحمها'), ('رب', 'العالمين'), ('فسيح', 'جناته'), ('الله', 'وسلم'), ('صح', 'بدنك'), ('حسبنا', 'الله'), ('لله', 'وإنا'), ('إليه', 'راجعون'), ('نسأل', 'الله'), ('الله', 'تعالى'), ('اقسم', 'بالله'), ('الشيخ', 'محمد'), ('يسعد', 'صباحك'), ('كاس', 'العالم'), ('وإنا', 'إليه'), ('نبينا', 'محمد'), ('جزاك', 'الله'), ('أسأل', 'الله'), ('وانت', 'طيب'), ('مش', 'عارف'), ('الله', 'فيك'), ('وانت', 'بالف'), ('والله', 'انا'), ('السمو', 'الشيخ'), ('محمد', 'سلمان'), ('الشعب', 'اليمني'), ('with', 'repostapp'), ('انا', 'لله'), ('الله', 'اجركم'), ('محمد', 'زايد'), ('حفظ', 'الله'), ('الملك', 'لله'), ('وسلم', 'وبارك'), ('بغض', 'النظر'), ('انشاء', 'الله'), ('وانا', 'راجعون'), ('بسم', 'الله'), ('ربي', 'يحفظك'), ('محمد', 'صلاح'), ('الله', 'اكبر'), ('صح', 'لسانك'), ('الله', 'اللهم'), ('محمد', 'راشد'), ('حفظه', 'الله'), ('اللهم', 'اجعل'), ('لعنة', 'الله'), ('الله', 'والله'), ('حكيم', 'زمن'), ('زمن', 'التخلف'), ('شكرا', 'جزيلا'), ('لأول', 'مرة'), ('اللهم', 'ارحم'), ('رب', 'العرش'), ('سيدنا', 'محمد'), ('الشيخ', 'زايد'), ('شهر', 'رمضان'), ('يرحمه', 'ويغفر'), ('اللهم', 'احفظ'), ('الله', 'يرحمك'), ('الله', 'يحفظ'), ('الله', 'وملائكته'), ('صل', 'محمد'), ('إني', 'أسألك'), ('المغرب', 'المغرب2026'), ('التواصل', 'الاجتماعي'), ('انا', 'كنت'), ('الله', 'أكبر'), ('وانتم', 'بخير'), ('هه', 'هه'), ('مواقع', 'التواصل'), ('والحمد', 'لله'), ('بلغنا', 'رمضان'), ('الحمد', 'الله'), ('وملائكته', 'يصلون'), ('يصلون', 'النبي'), ('الله', 'انا'), ('دولة', 'الإمارات'), ('الله', 'يحفظه'), ('وانتي', 'بخير'), ('الله', 'يديم'), ('شكرا', 'لكل'), ('عبد', 'الله'), ('عبدالله', 'صالح'), ('اله', 'الله'), ('صلوا', 'وسلموا'), ('اللهم', 'اغفر'), ('اني', 'كنت'), ('إني', 'كنت'), ('تبارك', 'الله'), ('مش', 'عارفة'), ('الله', 'يستر'), ('ولي', 'العهد'), ('الله', 'يرحمهم'), ('سمو', 'الشيخ'), ('وسلم', 'نبينا'), ('آمنوا', 'صلوا'), ('مجلس', 'النواب'), ('الله', 'عليكم'), ('الصبر', 'والسلوان'), ('الله', 'وبحمده'), ('الله', 'ربي'), ('وسلموا', 'تسليما'), ('الوحيد', 'اللي'), ('تستاهل', 'خير'), ('دول', 'العالم'), ('العلي', 'العظيم'), ('اللهم', 'اني'), ('الوطن', 'العربي'), ('الله', 'وحده'), ('وأصبح', 'الملك'), ('فيك', 'الله'), ('أستغفر', 'الله'), ('العرش', 'العظيم'), ('الدول', 'العربية'), ('سبحانك', 'إني'), ('الله', 'أجركم'), ('انا', 'عندي'), ('كلك', 'ذوق'), ('انا', 'اللي'), ('العربية', 'السعودية'), ('سترك', 'وعفوك'), ('يارب', 'يارب'), ('رئيس', 'الوزراء'), ('قناة', 'تقارب'), ('خير', 'الله'), ('خالد', 'توفيق'), ('خلق', 'الله'), ('اللي', 'مش'), ('جميل', 'ورائع'), ('السلام', 'عليكم'), ('اللهم', 'الحمد'), ('والله', 'والله'), ('رضي', 'الله'), ('الأمم', 'المتحدة'), ('حزب', 'الله'), ('يستحق', 'المتابعة'), ('حبيبة', 'قلبي'), ('فيديوهات', 'سمعة'), ('وأنتم', 'بخير'), ('الله', 'يعطيك'), ('ولله', 'الحمد'), ('تصبحون', 'خير'), ('حساب', 'جميل'), ('وعفوك', 'ورضاكيارب'), ('محمد', 'وال'), ('صح', 'الله'), ('ربي', 'يخليك'), ('كنت', 'الظالمين'), ('ورضاكيارب', 'سترك'), ('ورائع', 'يستحق'), ('اللهم', 'بلغنا'), ('والله', 'الله'), ('وسلم', 'سيدنا'), ('اليمن', 'Yemen'), ('رئيس', 'الحكومة'), ('الله', 'صلى'), ('الله', 'يطول'), ('بالله', 'العلي'), ('سلام', 'الله'), ('شيء', 'قدير'), ('يارب', 'الله'), ('الله', 'شكرا'), ('مرة', 'أخرى'), ('بفضل', 'الله'), ('وجهة', 'نظر'), ('خليه_يريب', 'مقاطعون'), ('تقارب', 'يوتيوب'), ('إله', 'سبحانك'), ('الكلام', 'ده'), ('ويسكنه', 'فسيح'), ('بتوقيت', 'بيروت'), ('صالح', 'الصماد'), ('رياض', 'عمر'), ('الله', 'سبحانه'), ('وانتم', 'بالف'), ('الله', 'يحفظكم'), ('عيد', 'ميلاد'), ('يرحمه', 'ويغفرله'), ('مقاطعون', 'المغرب'), ('ربي', 'يسعدك'), ('انت', 'سبحانك'), ('بكل', 'خير'), ('بيض', 'الله'), ('الله', 'يخليك'), ('وبارك', 'نبينا'), ('النظام', 'العام'), ('رح', 'تقدر'), ('وابو', 'صقر'), ('خير', 'شاء'), ('العظيم', 'رب'), ('بلاد', 'الحرمين'), ('الحرمين', 'الشريفين'), ('دول', 'الحصار'), ('بكل', 'شي'), ('تقدر', 'تحضر'), ('تحضر', 'فيديوهات'), ('سمعة', 'وابو'), ('والله', 'انت'), ('واصبح', 'الملك'), ('شكرا', 'الله'), ('المملكة', 'العربية'), ('الصحة', 'والعافية'), ('مجلس', 'الوزراء'), ('شي', 'حاجة'), ('ولد', 'بلادي'), ('الشكر', 'والتقدير'), ('ورحمة', 'الله'), ('الله', 'يسعد'), ('وكل', 'وانتم'), ('النبي', 'آمنوا'), ('اللغة', 'العربية'), ('تقبل', 'الله'), ('شي', 'اسمه'), ('مش', 'عارفه'), ('الله', 'كريم'), ('ال', 'سعود'), ('السعودية', 'الامارات'), ('الشرق', 'الأوسط'), ('الله', 'عليهم'), ('يارب', 'امين'), ('وانتي', 'بالف'), ('الله', 'التوفيق'), ('الله', 'العلي'), ('صقر', 'المضحكة'), ('المضحكة', 'قناة'), ('انت', 'مش'), ('اللي', 'انا'), ('سمو', 'الامير'), ('اتفق', 'معك'), ('وحده', 'شريك'), ('الله', 'يحميك'), ('الولايات', 'المتحدة'), ('ويجعل', 'مثواه'), ('لله', 'إليه'), ('اغتصاب', 'مو'), ('الحوثيين_مليشيا_ارهابيه', 'عاشت_الثورة_والجمهورية'), ('الله', 'صباحكم'), ('ربي', 'يوفقك'), ('الله', 'يوفقكم'), ('طال', 'عمرك'), ('اه', 'والله'), ('مافي', 'شي'), ('وبحمده', 'الله'), ('شي', 'حد'), ('المتابعة', 'حساب'), ('أسعد', 'الله'), ('اله', 'انت'), ('الله', 'إله'), ('حقوق', 'الانسان'), ('بأذن', 'الله'), ('قناة', 'الجزيرة'), ('تحب', 'العفو'), ('إني', 'أعوذ'), ('وأتوب', 'إليه'), ('انا', 'قلت'), ('ده', 'انا'), ('الناس', 'دي'), ('الفيس', 'بوك'), ('محمد', 'رسول'), ('كلامك', 'صحيح'), ('منا', 'ومنكم'), ('دول', 'الخليج'), ('شكرا', 'القلب'), ('رئيس', 'مجلس'), ('نداء', 'تونس'), ('مو', 'زنا'), ('زنا', 'اغتصاب'), ('علينا', 'وعليكم'), ('الشعب', 'السوري'), ('وجهة', 'نظري'), ('الشخص', 'اللي'), ('انا', 'والله'), ('رئيس', 'الجمهورية'), ('الملك', 'الحمد'), ('الله', 'يشفيه'), ('العمر', 'كله'), ('آمين', 'رب'), ('البلد', 'دي'), ('خادم', 'الحرمين'), ('à', 'ladresseJaime'), ('ladresseJaime', 'une'), ('٩٤٥', 'بتوقيت'), ('جزاكم', 'الله'), ('ولك', 'الحمد'), ('الله', 'منا'), ('الله', 'رب'), ('احلى', 'شي'), ('وزارة', 'الداخلية'), ('وزير', 'الداخلية'), ('الله', 'يحفظها'), ('دولة', 'قطر'), ('ذمة', 'الله'), ('دائما', 'وأبدا'), ('المجتمع', 'الدولي'), ('ونسأل', 'الله'), ('إنشاء', 'الله'), ('الرابط', 'التالي'), ('لله', 'نعمة'), ('احسن', 'الله'), ('الله', 'محمد'), ('رحمك', 'الله'), ('الشيخ', 'تميم'), ('والله', 'العظيم'), ('الله', 'تبارك'), ('الملك', 'سلمان'), ('لكرة', 'القدم'), ('الله', 'شاء'), ('بالصحة', 'والعافية'), ('يسعد', 'قلبك'), ('حبيبتي', 'الله'), ('الكيان', 'الصهيوني'), ('الله', 'علينا'), ('يارب', 'اللهم'), ('لله', 'رب'), ('العظيم', 'وأتوب'), ('الدنيا', 'والآخرة'), ('وانتي', 'طيبة'), ('ايه', 'ده'), ('أرجوحة', 'الحياة'), ('الله', 'عز'), ('العالم', 'العربي'), ('اللهم', 'نسألك'), ('مليشيات', 'الحوثي'), ('الله', 'غالب'), ('ليل', 'نهار'), ('الناس', 'الكل'), ('للأمم', 'المتحدة'), ('راجعون', 'الله'), ('العالم', 'كله'), ('ردة', 'فعل'), ('بلاد', 'المسلمين'), ('وعليكم', 'السلام'), ('يبارك', 'عمرك'), ('الرحمن', 'الرحيم'), ('الله', 'الوكيل'), ('حفظك', 'الله'), ('عز', 'وجل'), ('ايه', 'والله'), ('تميم', 'حمد'), ('اسأل', 'الله'), ('شكرا', 'كتير'), ('عبد', 'العزيز'), ('سبحانه', 'وتعالى'), ('مش', 'انا'), ('الله', 'الحمدلله'), ('الحمدلله', 'دائما'), ('وانت', 'بألف'), ('خير', 'وصحة'), ('لكأس', 'العالم'), ('المرة', 'الجاية'), ('بمناسبة', 'عيد'), ('يرحمها', 'ويغفر'), ('الله', 'يرحمو'), ('الله', 'استغفر'), ('الله', 'يهديك'), ('الجيش', 'الوطني'), ('المغرب2026', 'Maroc'), ('Maroc', 'Maroc2026'), ('Maroc2026', 'Morroco'), ('Morroco', 'Morroco2026'), ('الليلة', '٩٤٥'), ('رمضان', 'قرب'), ('امين', 'الله'), ('سبحانك', 'اني'), ('يبارك', 'الله'), ('الشعب', 'القطري'), ('يعني', 'انا'), ('المجلس', 'الانتقالي'), ('وكل', 'وأنتم'), ('سعد', 'الحريري'), ('يعني', 'مش'), ('شريك', 'الملك'), ('أحمد', 'خالد'), ('الله', 'انت'), ('عيد', 'ميلادي'), ('حقوق', 'الإنسان'), ('الله', 'يسمع'), ('يبارك', 'حياتك'), ('رب', 'الله'), ('انت', 'اللي'), ('امين', 'اللهم'), ('انا', 'انا'), ('الحي', 'القيوم'), ('الله', 'يحمي'), ('فيديو', 'كليب'), ('آله', 'وصحبه'), ('الساحل', 'الغربي'), ('اخر', 'شي'), ('مش', 'فاهم'), ('معك', 'حق'), ('وبارك', 'سيدنا'), ('الله', 'الرحمن'), ('دي', 'ام'), ('الله', 'وجهك'), ('صدق', 'الله'), ('liked', 'a'), ('a', 'video'), ('سنه', 'وانت'), ('ايه', 'اللي'), ('الكلام', 'دا'), ('شيء', 'جميل'), ('اسعد', 'الله'), ('اعوذ', 'بالله'), ('انت', 'طيب'), ('يعطيك', 'الصحة'), ('الحمد', 'شيء'), ('اهل', 'قطر'), ('الشعب', 'السوداني'), ('ميلاد', 'سعيد'), ('الله', 'يجزاك'), ('بني', 'سعود'), ('الساعة', '٨٣٠'), ('تنمية', 'المجتمع'), ('انيس', 'بورحلة'), ('التايم', 'لاين'), ('مش', 'قادر'), ('رمضان', 'فاقدين'), ('الله', 'خيرا'), ('اخي', 'الكريم'), ('اللهم', 'اللهم'), ('الله', 'يلعن'), ('اللهم', 'بارك'), ('لله', 'الحمد'), ('واسكنه', 'فسيح'), ('اللي', 'كنت'), ('الله', 'يشفيها'), ('مش', 'لازم'), ('الله', 'يعينك'), ('شفاء', 'يغادر'), ('لكل', 'شخص'), ('اقل', 'شي'), ('البث', 'المباشر'), ('امين', 'امين'), ('أفضل', 'لاعب'), ('النبي', 'صلى'), ('بعيدا', 'السياسة'), ('الإمارات', 'السعودية'), ('الجيش', 'واللجان'), ('نص', 'ساعة'), ('والله', 'اني'), ('سمو', 'الأمير'), ('وكل', 'شي'), ('الله', 'يارب'), ('اخر', 'مرة'), ('التحالف', 'العربي'), ('السوشيال', 'ميديا'), ('يغادر', 'سقما'), ('نعمة', 'الأمن'), ('سلطنة', 'عمان'), ('الله', 'يعافيك'), ('اهلا', 'وسهلا'), ('كرة', 'قدم'), ('حد', 'يعرف'), ('الشعوب', 'العربية'), ('غفر', 'الله'), ('السماوات', 'والأرض'), ('تف', 'تف'), ('الله', 'بالخير'), ('الله', 'فيكم'), ('اسال', 'الله'), ('وكل', 'وانت'), ('محمد', 'آله'), ('لاحول', 'ولاقوة'), ('مثواه', 'الجنة'), ('احس', 'اني'), ('التربية', 'والتعليم'), ('بحول', 'الله'), ('ارحم', 'الراحمين'), ('صلاح', 'الدين'), ('الله', 'يحفظهم'), ('وجزاك', 'الله'), ('اللي', 'فات'), ('24', 'ساعة'), ('الخير', 'لكل'), ('الله', 'يعين'), ('حرية', 'التعبير'), ('الله', 'يسامحك'), ('اللي', 'عنده'), ('حزب', 'البديل_التونسي'), ('مبروك', 'لكل'), ('الحمدلله', 'نعمة'), ('الفردوس', 'الأعلى'), ('الليلة', 'الساعة'), ('تفيق', 'تونس'), ('مش', 'مهم'), ('أكبر', 'الله'), ('حفظكم', 'الله'), ('بكل', 'بساطة'), ('مشاء', 'الله'), ('وصحبه', 'أجمعين'), ('زايد', 'نهيان'), ('صح', 'صح'), ('والله', 'انك'), ('عيد', 'الحب'), ('انا', 'بحب'), ('الأمن', 'والأمان'), ('الله', 'صح'), ('يسمع', 'منك'), ('الكلام', 'اللي'), ('انا', 'كمان'), ('بالتوفيق', 'شاء'), ('الله', 'شهداء'), ('ورحم', 'الله'), ('والله', 'كنت'), ('عبدالملك', 'الحوثي'), ('الشعب', 'السعودي'), ('الذكرى_السنوية_للشهيد_القائد', 'قرين_القرآن'), ('هاد', 'العام'), ('محمد', 'وآل'), ('مبروك', 'مبروك'), ('أهم', 'شي'), ('أقسم', 'بالله'), ('نواب', 'الشعب'), ('رمضان', 'اللهم'), ('بخير', 'وصحه'), ('الملك', 'عبدالله'), ('ابو', 'صقر'), ('ضربة', 'جزاء'), ('ده', 'مش'), ('الامم', 'المتحدة'), ('حسن', 'الظن'), ('ربي', 'يحفظها'), ('الله', 'يرضى'), ('شو', 'يعني'), ('مرة', 'وحدة'), ('لله', 'راجعون'), ('قرب', 'الله'), ('جلالة', 'الملك'), ('تركي', 'ال'), ('فسيح', 'جناتك'), ('رئيس', 'الدولة'), ('برنامج', 'الحقيقة'), ('عشان', 'رمضان'), ('مشروع', 'تونس'), ('نكاح', 'حوت'), ('وال', 'محمد'), ('الصلاة', 'والسلام'), ('انت', 'عندك'), ('محمد', 'صلى'), ('صلي', 'وسلم'), ('جنات', 'النعيم'), ('فما', 'بالك'), ('مره', 'وحده'), ('انت', 'تعرف'), ('ربي', 'يحفظه'), ('انا', 'شخصيا'), ('وباذن', 'الله'), ('الله', 'يغفر'), ('دوري', 'الأبطال'), ('وبإذن', 'الله'), ('الله', 'يخليلك'), ('وزارة', 'الخارجية'), ('دائما', 'وابدا'), ('مجلس', 'الأمن'), ('القدس', 'عاصمة'), ('روضة', 'رياض'), ('حمد', 'جاسم'), ('يرحم', 'الشهداء'), ('مش', 'طبيعي'), ('يرحمه', 'ويسكنه'), ('بالله', 'الله'), ('عبر', 'نبض'), ('صلاة', 'الفجر'), ('حوت', 'نكاح'), ('يعني', 'انت'), ('اني', 'استودعتك'), ('راحة', 'البال'), ('صل', 'سلم'), ('الله', 'اعلم'), ('وسائل', 'التواصل'), ('مرة', 'ثانية'), ('الناس', 'كلها'), ('مش', 'معقول'), ('سبيل', 'الله'), ('والله', 'مش'), ('عندك', 'الحق'), ('تميم', 'المجد'), ('السعودية', 'البحرين'), ('شو', 'بدك'), ('شو', 'عم'), ('راشد', 'مكتوم'), ('موتانا', 'وموتى'), ('الحمدلله', 'حال'), ('رياض', 'الجنة'), ('يبارك', 'فيج'), ('اللهم', 'ارحمه'), ('يخليلك', 'عيلتك'), ('رب', 'رب'), ('العفو', 'فاعف'), ('شاشة', 'الجديد'), ('تحالف', 'العدوان'), ('عليكم', 'الشهر'), ('اتقوا', 'الله'), ('العلي', 'القدير'), ('شكر', 'الله'), ('بدنك', 'صح'), ('بنت', 'بلادي'), ('القوة', 'الصاروخية'), ('قناة', 'الشروق'), ('الحياة', 'رياض'), ('كلام', 'جميل'), ('جلال', 'الدين'), ('عشان', 'كده'), ('ذكر', 'الله'), ('القوات', 'المسلحة'), ('قدر', 'الله'), ('كلام', 'الناس'), ('القرآن', 'الكريم'), ('الله', 'يجعل'), ('الله', 'عزاكم'), ('انا', 'اقول'), ('وتقبل', 'الله'), ('جبران', 'باسيل'), ('امين', 'اجمعين'), ('القطاع', 'الخاص'), ('وأنت', 'خير'), ('الحاجات', 'اللي'), ('قسم', 'بالله'), ('ماله', 'داعي'), ('احمد', 'خالد'), ('الرأي', 'العام'), ('دوري', 'الابطال'), ('خير', 'والله'), ('كاين', 'شي'), ('آمين', 'آمين'), ('المجتمع', 'المدني'), ('الدولي', 'للكتاب'), ('اكبر', 'الله'), ('أحسن', 'الله'), ('خير', 'وبركة'), ('يسعد', 'مساك'), ('أعاده', 'الله'), ('واللجان', 'الشعبية'), ('تسلم', 'اخوي'), ('هالشهر', 'وقيامه'), ('وقيامه', 'الله'), ('النور', 'والسرور'), ('ربي', 'يبارك'), ('زينب', 'السلام'), ('اللهم', 'ارزقنا'), ('امين', 'رب'), ('راجعون', 'اللهم'), ('لله', 'حال'), ('السلطان', 'قابوس'), ('مجلس', 'نواب'), ('البلد', 'آمنا'), ('ارحم', 'موتانا'), ('خير', 'الدنيا'), ('بيت', 'الله'), ('كلمة', 'حق'), ('السوشال', 'ميديا'), ('التعليم', 'العالي'), ('مش', 'قادرة'), ('مش', 'كيما'), ('انا', 'نفسي'), ('جد', 'جد'), ('بذكر', 'الله'), ('الله', 'يحفظج'), ('ولي', 'عهد'), ('يارب', 'شكرا'), ('اللي', 'يقول'), ('تستاهل', 'الطيب'), ('رأس', 'السنة'), ('يبارك', 'بعمرك'), ('ومنكم', 'صالح'), ('يحفظك', 'ويخليك'), ('شي', 'حلو'), ('افضل', 'لاعب'), ('الله', 'يعز'), ('الشيخ', 'خليفة'), ('طارق', 'عفاش'), ('يكشف', 'حقائق'), ('Yemen', 'انتصارات_وصمود_3سنوات'), ('عصام_سرحان', 'فريق_حماقي'), ('مرة', 'مرة'), ('عشان', 'مش'), ('انت', 'كنت'), ('دولة', 'الامارات'), ('محمد', 'اله'), ('الخير', 'الله'), ('الله', 'يصلح'), ('مش', 'فاهمه'), ('بدون', 'سبب'), ('الله', 'يسعدكم'), ('أرحم', 'الراحمين'), ('فرق', 'كبير'), ('رب', 'الناس'), ('عبد', 'الوهاب'), ('محمد', 'عبد'), ('يبارك', 'فيكي'), ('اني', 'مش'), ('ده', 'اللي'), ('دي', 'مش'), ('فاقدين', 'مفقودين'), ('خط', 'احمر'), ('الله', 'يوفق'), ('اللي', 'جاي'), ('ونعم', 'بالله'), ('الله', 'يرفع'), ('كتب', 'الله'), ('وموتى', 'المسلمين'), ('مش', 'رح'), ('بواسع', 'رحمته'), ('النظام', 'السعودي'), ('فريق', 'عمل'), ('الله', 'ينتقم'), ('شهداء', 'الوطن'), ('شكرا', 'حبيبتي'), ('الحمد', 'والشكر'), ('الشعب', 'الفلسطيني'), ('اللي', 'يحب'), ('الشهر', 'الفضيل'), ('نائب', 'رئيس'), ('الله', 'مبروك'), ('دوري', 'ابطال'), ('الشعب', 'الجزائري'), ('شي', 'انا'), ('قطاع', 'غزة'), ('رمضان', 'المبارك'), ('معرفة', 'مكانهم'), ('الله', 'يخلي'), ('لأي', 'شخص'), ('والف', 'مبروك'), ('حبيبي', 'والله'), ('بيني', 'وبينك'), ('اللي', 'قاعد'), ('إني', 'استودعتك'), ('زي', 'دي'), ('وآل', 'محمد'), ('رحمها', 'الله'), ('اللهم', 'صلي'), ('وشكرا', 'لكل'), ('أسألك', 'خير'), ('التوفيق', 'والنجاح'), ('اجعل', 'البلد'), ('العربية', 'والإسلامية'), ('انت', 'كمان'), ('عندي', 'مشكلة'), ('الله', 'ينور'), ('شي', 'الله'), ('رح', 'يصير'), ('بعينك', 'تنام'), ('كيما', 'التصاور'), ('التصاور', 'نراوهم'), ('Seif', 'Cherif'), ('الله', 'يسهل'), ('الله', 'المستعان'), ('كلامك', 'صح'), ('الله', 'مش'), ('العرب', 'والمسلمين'), ('np', 'on'), ('الله', 'يوفقج'), ('صيبا', 'نافعا'), ('عجائب', 'قدرتك'), ('دولة', 'الرئيس'), ('صح', 'والله'), ('ربي', 'يحفظ'), ('مشروع', 'قانون'), ('وعسى', 'الله'), ('جنات', 'الخلد'), ('اللهم', 'اجعلنا'), ('دا', 'انا'), ('تاج', 'راسك'), ('ورئيس', 'حزب'), ('انا', 'وياك'), ('قيد', 'الحياة'), ('لعن', 'الله'), ('عقبال', 'المية'), ('يوسف', 'الشاهد'), ('العدوان', 'السعودي'), ('عيد', 'سعيد'), ('اجمعين', 'يارب'), ('صدام', 'حسين'), ('الله', 'لسانك'), ('يرحمه', 'يغفر'), ('عيدكم', 'مبارك'), ('عصام_سرحان_أحلى_صوت', 'عصام_سرحان'), ('فريق_حماقي', 'أسد_الأطلس'), ('أسد_الأطلس', 'حبيب_المغاربة'), ('الصبر', 'الصبر'), ('مكانهم', 'عصينا'), ('التالي', 'واكيد'), ('آمين', 'اللهم'), ('الاسبوع', 'الجاي'), ('حي', 'قيوم'), ('بشار', 'الأسد'), ('الله', 'شي'), ('الشعب', 'التونسي'), ('حمد', 'الله'), ('مليشيا', 'الحوثي'), ('الله', 'الخير'), ('الله', 'شيء'), ('الاحترام', 'والتقدير'), ('الانتقالي', 'الجنوبي'), ('شعب', 'الجنوب'), ('وانا', 'لله'), ('ابعد', 'عني'), ('البنك', 'المركزي'), ('وزير', 'التربية'), ('طول', 'عمري'), ('تبارك', 'الرحمن'), ('معرض', 'الكتاب'), ('بحد', 'ذاته'), ('عليكم', 'ورحمة'), ('باللغة', 'العربية'), ('عيال', 'زايد'), ('on', 'SoundCloud'), ('العيد', 'الوطني'), ('ربي', 'يحفظكم'), ('الامن', 'والامان'), ('طول', 'عمرك'), ('شي', 'ممكن'), ('الطائرة', 'العسكرية'), ('علينا', 'نعمة'), ('الله', 'يخليكم'), ('رد', 'فعل'), ('اغفر', 'وارحمه'), ('ربي', 'يرحم'), ('عبد', 'الفتاح'), ('كنت', 'عم'), ('بعيد', 'الشر'), ('اكيد', 'مش'), ('عمرو', 'دياب'), ('عذاب', 'القبر'), ('AlBadilEttounsi', 'Mehdi_Jomaa'), ('لله', 'درك'), ('يجزاك', 'خير'), ('الحياة', 'الدنيا'), ('وعظم', 'الله'), ('ربي', 'يرحمهم'), ('وبارك', 'الله'), ('with', 'get_repost'), ('نهاركم', 'زين'), ('الناس', 'مش'), ('حياكم', 'الله'), ('الله', 'رحمة'), ('صح', 'انا'), ('زي', 'الفل'), ('انت', 'بخير'), ('الله', 'يجبر'), ('مجلس', 'إدارة'), ('الشرق', 'الاوسط'), ('ال', 'الشيخ'), ('الله', 'وبركاته'), ('المملكة_المغربية', 'المغرب'), ('همس_الوجد', 'نسخة_لطبيبي'), ('الله', 'يزولك'), ('عدسة', 'جوالي'), ('اللي', 'انت'), ('بحق', 'محمد'), ('ميشال', 'عون'), ('وفقكم', 'الله'), ('حزب', 'المؤتمر'), ('انا', 'الله'), ('والله', 'محد'), ('كلمة', 'الحق'), ('الوحيدة', 'اللي'), ('مش', 'فاهمة'), ('يطول', 'عمرك'), ('لاحول', 'بالله'), ('شي', 'طبيعي'), ('صباحكم', 'بكل'), ('نيم', 'قيم'), ('أصبحنا', 'وأصبح'), ('عادي', 'يعني'), ('الله', 'أجرك'), ('شنو', 'يعني'), ('شي', 'نهار'), ('ومش', 'عارف'), ('الناس', 'الله'), ('اللي', 'عم'), ('اللهم', 'انصر'), ('زايد', 'سلطان'), ('بخير', 'الله'), ('الغوطة', 'الشرقية'), ('مبارك', 'عليكم'), ('بنت', 'مبارك'), ('الحكومة', 'الأسبق'), ('الأسبق', 'ورئيس'), ('مره', 'ثانيه'), ('ههههههه', 'الله'), ('الزمن', 'الجميل'), ('والله', 'شي'), ('ويسكنها', 'فسيح'), ('انا', 'مو'), ('مرحبا', 'بيك'), ('عمر', 'الخطاب'), ('جزيل', 'الشكر'), ('شكرا', 'لله'), ('الله', 'يحميكي'), ('اخي', 'العزيز'), ('الله', 'الحمد'), ('اللي', 'فاتت'), ('أسد', 'فلسطين'), ('لله', 'دائما'), ('مجلس', 'التعاون'), ('الله', 'صباحك'), ('CEDAWSaudi', 'cedaw69'), ('موت', 'أميرة'), ('بدرالدين', 'الحوثي'), ('الشعبي', 'العام'), ('يسلمك', 'شر'), ('مصرع', 'المنافق'), ('يزولك', 'الله'), ('إني', 'اسألك'), ('دا', 'شنو'), ('اللهم', 'عجل'), ('حسن', 'الخاتمة'), ('لله', 'الله'), ('الله', 'يتقبل'), ('انا', 'اشوف'), ('لكل', 'ساهم'), ('إله', 'الحي'), ('القيوم', 'وأتوب'), ('الله', 'يحرمني'), ('مبروك', 'الفوز'), ('مبارك', 'وكل'), ('قلوب', 'الناس'), ('قلبي', 'الله'), ('ولاقوة', 'بالله'), ('اللهم', 'أمين'), ('ده', 'ايه'), ('مين', 'اللي'), ('حاجة', 'اسمها'), ('انا', 'قلبي'), ('العربية', 'المتحدة'), ('الجنوب', 'العربي'), ('الله', 'اجرك'), ('انا', 'عم'), ('اللي', 'حصل'), ('وحدك', 'شريك'), ('ولك', 'الشكر'), ('رب', 'شكرا'), ('نراوهم', 'الأنترنات'), ('البرنامج', 'تكمله'), ('بكل', 'مكان'), ('مش', 'هيك'), ('بكل', 'فخر'), ('الله', 'يكتب'), ('رمضان', 'كريم'), ('عشان', 'انا'), ('التواصل', 'الإجتماعي'), ('عندك', 'حق'), ('والله', 'اعلم'), ('يعني', 'لازم'), ('كيده', 'نحره'), ('يغفر', 'الذنوب'), ('الخير', 'الخير'), ('تيار', 'المستقبل'), ('ربنا', 'يستر'), ('الله', 'يبعد'), ('كلام', 'حلو')]\n",
            "triwordFrecFull:  [('الله', 'يبارك', 'فيك'), ('الله', 'ونعم', 'الوكيل'), ('حسبي', 'الله', 'ونعم'), ('اللهم', 'صل', 'وسلم'), ('صلى', 'الله', 'وسلم'), ('لله', 'وإنا', 'إليه'), ('حسبنا', 'الله', 'ونعم'), ('لله', 'وانا', 'راجعون'), ('صاحب', 'السمو', 'الشيخ'), ('حكيم', 'زمن', 'التخلف'), ('بارك', 'الله', 'فيك'), ('وإنا', 'إليه', 'راجعون'), ('عظم', 'الله', 'اجركم'), ('صل', 'وسلم', 'وبارك'), ('انا', 'لله', 'وانا'), ('وملائكته', 'يصلون', 'النبي'), ('وانت', 'بالف', 'خير'), ('الله', 'وملائكته', 'يصلون'), ('هه', 'هه', 'هه'), ('الله', 'يرحمه', 'ويغفر'), ('آمنوا', 'صلوا', 'وسلموا'), ('صل', 'وسلم', 'نبينا'), ('سبحانك', 'إني', 'كنت'), ('صلوا', 'وسلموا', 'تسليما'), ('جزاك', 'الله', 'خير'), ('رب', 'العرش', 'العظيم'), ('اللهم', 'امين', 'يارب'), ('الله', 'الله', 'الله'), ('سترك', 'وعفوك', 'ورضاكيارب'), ('وعفوك', 'ورضاكيارب', 'سترك'), ('ورضاكيارب', 'سترك', 'وعفوك'), ('جميل', 'ورائع', 'يستحق'), ('ورائع', 'يستحق', 'المتابعة'), ('يبارك', 'فيك', 'الله'), ('عظم', 'الله', 'أجركم'), ('حساب', 'جميل', 'ورائع'), ('الله', 'صلى', 'الله'), ('الشيخ', 'محمد', 'راشد'), ('قناة', 'تقارب', 'يوتيوب'), ('السمو', 'الشيخ', 'محمد'), ('اللهم', 'آمين', 'يارب'), ('خليه_يريب', 'مقاطعون', 'المغرب'), ('رسول', 'الله', 'صلى'), ('وأصبح', 'الملك', 'لله'), ('رح', 'تقدر', 'تحضر'), ('تقدر', 'تحضر', 'فيديوهات'), ('تحضر', 'فيديوهات', 'سمعة'), ('فيديوهات', 'سمعة', 'وابو'), ('سمعة', 'وابو', 'صقر'), ('العظيم', 'رب', 'العرش'), ('الله', 'العظيم', 'رب'), ('إله', 'سبحانك', 'إني'), ('اللهم', 'إني', 'أسألك'), ('وسلم', 'نبينا', 'محمد'), ('النبي', 'آمنوا', 'صلوا'), ('آمين', 'يارب', 'العالمين'), ('فيك', 'الله', 'يبارك'), ('استغفر', 'الله', 'العظيم'), ('صل', 'وسلم', 'سيدنا'), ('وسلم', 'وبارك', 'نبينا'), ('وابو', 'صقر', 'المضحكة'), ('صقر', 'المضحكة', 'قناة'), ('المضحكة', 'قناة', 'تقارب'), ('المملكة', 'العربية', 'السعودية'), ('اللهم', 'صل', 'محمد'), ('الشيخ', 'محمد', 'زايد'), ('الله', 'وبحمده', 'الله'), ('يستحق', 'المتابعة', 'حساب'), ('المتابعة', 'حساب', 'جميل'), ('يصلون', 'النبي', 'آمنوا'), ('الله', 'وحده', 'شريك'), ('وانتم', 'بالف', 'خير'), ('اغتصاب', 'مو', 'زنا'), ('مو', 'زنا', 'اغتصاب'), ('زنا', 'اغتصاب', 'مو'), ('à', 'ladresseJaime', 'une'), ('ladresseJaime', 'une', 'vidéo'), ('٩٤٥', 'بتوقيت', 'بيروت'), ('إله', 'الله', 'وحده'), ('امين', 'يارب', 'العالمين'), ('بالله', 'العلي', 'العظيم'), ('الله', 'يرحمه', 'ويغفرله'), ('شكرا', 'شكرا', 'شكرا'), ('وانتي', 'بالف', 'خير'), ('أستغفر', 'الله', 'العظيم'), ('المغرب', 'المغرب2026', 'Maroc'), ('المغرب2026', 'Maroc', 'Maroc2026'), ('Maroc', 'Maroc2026', 'Morroco'), ('Maroc2026', 'Morroco', 'Morroco2026'), ('سبحانك', 'اني', 'كنت'), ('شريك', 'الملك', 'الحمد'), ('شاء', 'الله', 'ربي'), ('وحده', 'شريك', 'الملك'), ('liked', 'a', 'video'), ('مواقع', 'التواصل', 'الاجتماعي'), ('الملك', 'الحمد', 'شيء'), ('وسلم', 'وبارك', 'سيدنا'), ('الله', 'يبارك', 'حياتك'), ('الله', 'استغفر', 'الله'), ('لله', 'إليه', 'راجعون'), ('الله', 'يبارك', 'الله'), ('ويسكنه', 'فسيح', 'جناته'), ('وبارك', 'نبينا', 'محمد'), ('انت', 'سبحانك', 'اني'), ('النبي', 'صلى', 'الله'), ('الله', 'يرحمها', 'ويغفر'), ('الله', 'الرحمن', 'الرحيم'), ('اله', 'انت', 'سبحانك'), ('شاء', 'الله', 'الله'), ('يارب', 'امين', 'يارب'), ('استغفر', 'الله', 'استغفر'), ('الليلة', '٩٤٥', 'بتوقيت'), ('اللهم', 'بلغنا', 'رمضان'), ('أحمد', 'خالد', 'توفيق'), ('إني', 'كنت', 'الظالمين'), ('امين', 'يارب', 'امين'), ('الله', 'العظيم', 'وأتوب'), ('الله', 'محمد', 'رسول'), ('خير', 'شاء', 'الله'), ('صل', 'محمد', 'وال'), ('واصبح', 'الملك', 'لله'), ('الله', 'شاء', 'الله'), ('خادم', 'الحرمين', 'الشريفين'), ('أسأل', 'الله', 'العظيم'), ('مقاطعون', 'المغرب', 'المغرب2026'), ('نكاح', 'حوت', 'نكاح'), ('حوت', 'نكاح', 'حوت'), ('محمد', 'وال', 'محمد'), ('بلغنا', 'رمضان', 'فاقدين'), ('وانت', 'بألف', 'خير'), ('تحب', 'العفو', 'فاعف'), ('صح', 'بدنك', 'صح'), ('العظيم', 'وأتوب', 'إليه'), ('عشان', 'رمضان', 'قرب'), ('أرجوحة', 'الحياة', 'رياض'), ('الحياة', 'رياض', 'عمر'), ('الله', 'عز', 'وجل'), ('محمد', 'آله', 'وصحبه'), ('شفاء', 'يغادر', 'سقما'), ('محمد', 'راشد', 'مكتوم'), ('يبارك', 'الله', 'يبارك'), ('وبحمده', 'الله', 'العظيم'), ('رمضان', 'قرب', 'الله'), ('هالشهر', 'وقيامه', 'الله'), ('منا', 'ومنكم', 'صالح'), ('اليمن', 'Yemen', 'انتصارات_وصمود_3سنوات'), ('الحمد', 'لله', 'نعمة'), ('الله', 'سبحانه', 'وتعالى'), ('لله', 'رب', 'العالمين'), ('الإمارات', 'السعودية', 'البحرين'), ('محمد', 'وآل', 'محمد'), ('وسلم', 'سيدنا', 'محمد'), ('مش', 'كيما', 'التصاور'), ('كيما', 'التصاور', 'نراوهم'), ('وبارك', 'سيدنا', 'محمد'), ('عصام_سرحان_أحلى_صوت', 'عصام_سرحان', 'فريق_حماقي'), ('عصام_سرحان', 'فريق_حماقي', 'أسد_الأطلس'), ('فريق_حماقي', 'أسد_الأطلس', 'حبيب_المغاربة'), ('معرفة', 'مكانهم', 'عصينا'), ('الرابط', 'التالي', 'واكيد'), ('شاء', 'الله', 'تبارك'), ('الحمد', 'شيء', 'قدير'), ('الله', 'يسمع', 'منك'), ('الله', 'يبارك', 'فيج'), ('الله', 'منا', 'ومنكم'), ('وكل', 'وأنتم', 'بخير'), ('تقبل', 'الله', 'منا'), ('الله', 'العلي', 'القدير'), ('بدنك', 'صح', 'بدنك'), ('اللهم', 'امين', 'اللهم'), ('جزاكم', 'الله', 'خير'), ('عليكم', 'ورحمة', 'الله'), ('np', 'on', 'SoundCloud'), ('موتانا', 'وموتى', 'المسلمين'), ('عيد', 'ميلاد', 'سعيد'), ('رئيس', 'الحكومة', 'الأسبق'), ('الحكومة', 'الأسبق', 'ورئيس'), ('الأسبق', 'ورئيس', 'حزب'), ('ورئيس', 'حزب', 'البديل_التونسي'), ('روضة', 'رياض', 'الجنة'), ('الله', 'اكبر', 'الله'), ('الله', 'يحفظك', 'ويخليك'), ('الله', 'يرحمه', 'ويسكنه'), ('اني', 'كنت', 'الظالمين'), ('بيض', 'الله', 'وجهك'), ('الله', 'العلي', 'العظيم'), ('ورحمة', 'الله', 'وبركاته'), ('المملكة_المغربية', 'المغرب', 'المغرب2026'), ('الله', 'يزولك', 'الله'), ('يزولك', 'الله', 'يزولك'), ('الصبر', 'الصبر', 'الصبر'), ('سنه', 'وانت', 'طيب'), ('اللهم', 'صل', 'سلم'), ('محمد', 'صلى', 'الله'), ('إله', 'الحي', 'القيوم'), ('الحي', 'القيوم', 'وأتوب'), ('وانا', 'لله', 'وانا'), ('التصاور', 'نراوهم', 'الأنترنات'), ('أصبحنا', 'وأصبح', 'الملك'), ('عفو', 'تحب', 'العفو'), ('إله', 'الله', 'الله'), ('محمد', 'رسول', 'الله'), ('بارك', 'الله', 'فيكم'), ('الله', 'يبارك', 'عمرك'), ('صح', 'الله', 'لسانك'), ('الجيش', 'واللجان', 'الشعبية'), ('الله', 'يسلمك', 'شر'), ('يكشف', 'حقائق', 'مثيرة'), ('معتقلوا', 'هبة', 'معتقلو_السودان'), ('مقابلة', 'اهلهم', 'معرفة'), ('اهلهم', 'معرفة', 'مكانهم'), ('التالي', 'واكيد', 'تنسى'), ('تقارب', 'يوتيوب', 'تضعط'), ('صل', 'محمد', 'وآل'), ('الله', 'أكبر', 'الله'), ('مجلس', 'نواب', 'الشعب'), ('اجعل', 'البلد', 'آمنا'), ('وكل', 'وانتم', 'بخير'), ('الشيخ', 'تميم', 'حمد'), ('البرنامج', 'تكمله', 'للي'), ('تكمله', 'للي', 'يعمل'), ('الله', 'صباحكم', 'بكل'), ('صباحكم', 'بكل', 'خير'), ('بالف', 'خير', 'وصحة'), ('السعودية', 'الامارات', 'البحرين'), ('الله', 'يجزاك', 'خير'), ('حفظه', 'الله', 'ورعاه'), ('شهر', 'رمضان', 'المبارك'), ('احمد', 'خالد', 'توفيق'), ('والله', 'والله', 'والله'), ('حركة', 'مشروع', 'تونس'), ('àJaime', 'une', 'vidéo'), ('دعاء', 'رائع', 'اسمعوه'), ('هاتريك', 'بغينا', 'هاتريك'), ('هبة', 'معتقلو_السودان', 'شهر'), ('معتقلو_السودان', 'شهر', 'مقابلة'), ('شهر', 'مقابلة', 'اهلهم'), ('رسول', 'الله', 'ﷺ'), ('إليه', 'راجعون', 'الله'), ('وجزاك', 'الله', 'خير'), ('راجعون', 'الله', 'يرحمه'), ('يصلون', 'النبي', 'أيهاالذين'), ('عفو', 'كريم', 'تحب'), ('كريم', 'تحب', 'العفو'), ('الله', 'والحمد', 'لله'), ('عبدالملك', 'بدرالدين', 'الحوثي'), ('Jaime', 'une', 'vidéo'), ('بغينا', 'هاتريك', 'بغينا'), ('قرب', 'الله', 'يسعدك'), ('الله', 'يسعدك', 'ويحقق'), ('يسعدك', 'ويحقق', 'امانيك'), ('ويحقق', 'امانيك', 'ويبلغك'), ('امانيك', 'ويبلغك', 'هالشهر'), ('ويبلغك', 'هالشهر', 'وقيامه'), ('وقيامه', 'الله', 'يحفظك'), ('يحفظك', 'ويخليك', 'لاهلك'), ('ويخليك', 'لاهلك', 'ويخليهم'), ('٢٠', 'جولة', 'مجانيه'), ('جولة', 'مجانيه', 'النشر'), ('مجانيه', 'النشر', 'تويتر'), ('النشر', 'تويتر', 'games'), ('المجلس', 'الانتقالي', 'الجنوبي'), ('لله', 'إله', 'الله'), ('للي', 'يعمل', 'صديقي'), ('يعمل', 'صديقي', 'Seif'), ('صديقي', 'Seif', 'Cherif'), ('الله', 'يبارك', 'فيكي'), ('النبي', 'أيهاالذين', 'آمنوا'), ('أيهاالذين', 'آمنوا', 'صلوا'), ('الشيخ', 'زايد', 'سلطان'), ('فولو', 'انفولو', 'فولو'), ('انفولو', 'فولو', 'انفولو'), ('بالتوفيق', 'شاء', 'الله'), ('الله', 'الحمد', 'لله'), ('ليث', 'جودة', 'الله_يسامحنا_ليث_أبو_جودة'), ('جودة', 'الله_يسامحنا_ليث_أبو_جودة', 'الله'), ('الله_يسامحنا_ليث_أبو_جودة', 'الله', 'يسامحنا'), ('الله', 'يسامحنا', 'ليث'), ('إله', 'الله', 'والله'), ('الله', 'يرحمه', 'يغفر'), ('تركي', 'ال', 'الشيخ'), ('المؤتمر', 'الشعبي', 'العام'), ('اكبر', 'الله', 'اكبر'), ('اللي', 'تفيق', 'تونس'), ('لاهلك', 'ويخليهم', 'عشان'), ('ويخليهم', 'عشان', 'رمضان'), ('يوتيوب', 'تضعط', 'الرابط'), ('حسبنا', 'الله', 'الوكيل'), ('اللهم', 'آمين', 'اللهم'), ('الله', 'تبارك', 'الله'), ('الله', 'الله', 'يسلمك'), ('فاطمة', 'بنت', 'مبارك'), ('مهدي_جمعة', 'رئيس', 'الحكومة'), ('قطر', 'الكويت', 'عمان'), ('يرحمه', 'ويسكنه', 'فسيح'), ('ويسكنها', 'فسيح', 'جناته'), ('الله', 'يبارك', 'فيكم'), ('السلام', 'ورحمة', 'الله'), ('اللهم', 'امين', 'الله'), ('اللهم', 'إني', 'أعوذ'), ('عظم', 'الله', 'أجرك'), ('مسلسل', 'موت', 'أميرة'), ('صح', 'بدنك', 'اخوي'), ('انيس', 'بورحلة', 'الجزائر'), ('souhilabenlachhab', 'دعاء', 'رائع'), ('المغرب', 'المغرب2026', 'الصحرا_مغربية'), ('الماتينال', 'اللي', 'تفيق'), ('أسعد', 'الله', 'صباحكم'), ('وحسبنا', 'الله', 'ونعم'), ('امين', 'اللهم', 'امين'), ('عظم', 'الله', 'اجرك'), ('الحمد', 'ولك', 'الشكر'), ('حكايات', 'تونسية', 'منسية'), ('Seif', 'Cherif', 'صفحتو'), ('الله', 'يريك', 'مكروه'), ('وسائر', 'بلاد', 'المسلمين'), ('شاء', 'الله', 'يارب'), ('يرحمه', 'ويجعل', 'مثواه'), ('ويجعل', 'مثواه', 'الجنة'), ('إله', 'الله', 'محمد'), ('بخير', 'وصحه', 'وسلامه'), ('وكل', 'وانتم', 'بالف'), ('حثالة', 'حثالة', 'حثالة'), ('قيم', 'نيم', 'قيم'), ('الكويت', 'عمان', 'السعودية'), ('عمان', 'السعودية', 'الامارات'), ('الامارات', 'البحرين', 'Qatar'), ('البحرين', 'Qatar', 'ksa'), ('Qatar', 'ksa', 'uae'), ('ksa', 'uae', 'Kuwait'), ('uae', 'Kuwait', 'oman'), ('Kuwait', 'oman', 'bahrain'), ('تروي', 'بطولات', 'شعب'), ('بطولات', 'شعب', 'مجيد'), ('شعب', 'مجيد', 'بلد_المليون_شهيد'), ('مجيد', 'بلد_المليون_شهيد', 'SouhilaBenlachhab'), ('صلى', 'الله', 'سلم'), ('ونعم', 'الوكيل', 'اللهم'), ('الحمد', 'لله', 'حال'), ('الله', 'يسلمك', 'الله'), ('الله', 'رب', 'العرش'), ('وتقبل', 'الله', 'طاعتكم'), ('وأنتم', 'بألف', 'خير'), ('لاحول', 'ولاقوة', 'بالله'), ('Cherif', 'صفحتو', 'مش'), ('يعيشك', 'الله', 'يريك'), ('يريك', 'مكروه', 'عزيز'), ('الشافي', 'شفاء', 'شفاؤك'), ('شفاؤك', 'شفاء', 'يغادر'), ('إني', 'أسألك', 'خير'), ('رمضان', 'فاقدين', 'مفقودين'), ('اللهم', 'اغفر', 'وارحمه'), ('توكلت', 'رب', 'العرش'), ('بسم', 'الله', 'الرحمن'), ('يرحمه', 'ويغفر', 'ويسكنه'), ('جناته', 'عظم', 'الله'), ('الله', 'اجركم', 'وغفر'), ('العفو', 'فاعف', 'عنا'), ('نبينا', 'محمد', 'أله'), ('محمد', 'أله', 'وصحبه'), ('وزنة', 'عرشه', 'ومداد'), ('وزارة', 'تنمية', 'المجتمع'), ('الله', 'تبارك', 'الرحمن'), ('أسأل', 'الله', 'العلي'), ('oman', 'bahrain', 'cartoon'), ('صح', 'بدنك', 'اختي'), ('كيد', 'النساء', 'خاطرة'), ('بإذن', 'الله', 'تعالى'), ('سيدنا', 'محمد', 'آله'), ('الله', 'واسكنه', 'فسيح'), ('نعمة', 'بأحد', 'خلقك'), ('الله', 'الله', 'يرحمه'), ('ارجوا', 'النشر', 'للتعريف'), ('وانا', 'راجعون', 'الله'), ('مكروه', 'عزيز', 'يعيشك'), ('عزيز', 'يعيشك', 'الله'), ('شفاء', 'شفاؤك', 'شفاء'), ('اللهم', 'صيبا', 'نافعا'), ('حسبي', 'الله', 'عليهم'), ('الله', 'يرفع', 'قدرك'), ('الأمير', 'محمد', 'سلمان'), ('الحمد', 'لله', 'رب'), ('AlBadilEttounsi', 'Mehdi_Jomaa', 'Tunisie'), ('المولد', 'النبوي', 'الشريف'), ('دارا', 'خيرا', 'داره'), ('رحم', 'الله', 'شهداء'), ('أكبر', 'الله', 'أكبر'), ('راجعون', 'عظم', 'الله'), ('وبارك', 'نبينا', 'محمدﷺ'), ('ونعم', 'الوكيل', 'الله'), ('بألف', 'خير', 'بمناسبة'), ('الخطاب', 'رضي', 'الله'), ('برنامج', 'الحقيقة', 'ضيفنا'), ('لله', 'والحمد', 'لله'), ('سيدنا', 'محمد', 'اله'), ('فسيح', 'جناته', 'عظم'), ('أسد_الأطلس', 'حبيب_المغاربة', 'كلنا_عصام'), ('مليشيات', 'الحوثي', 'الإرهابية'), ('اليمن_تتحرر_من_الكهنوت', 'الحوثيين_مليشيا_ارهابيه', 'عاشت_الثورة_والجمهورية'), ('anisbourahla', 'ارشح', 'النجم'), ('ارشح', 'النجم', 'انيس'), ('النجم', 'انيس', 'بورحلة'), ('آلله', 'العلي', 'آلعظيم'), ('صبو', 'صبو', 'صبو'), ('نجحنا', 'كلنا', 'يارب'), ('كلنا', 'يارب', 'نجحنا'), ('يارب', 'نجحنا', 'كلنا'), ('العلي', 'القدير', 'بأسمائه'), ('القدير', 'بأسمائه', 'الحسنى'), ('بأسمائه', 'الحسنى', 'وصفاته'), ('تقارب', 'يوتيوب', 'تضغط'), ('يوتيوب', 'تضغط', 'الرابط'), ('تضغط', 'الرابط', 'التالي'), ('واكيد', 'تنسى', 'تشترك'), ('تضعط', 'الرابط', 'التالي'), ('للفنان', 'موسى', 'حجازين'), ('ابو', 'صقر', 'للفنان'), ('اللهم', 'اني', 'استودعتك'), ('ماشاء', 'الله', 'الله'), ('اللهم', 'صلي', 'وسلم'), ('وسائل', 'التواصل', 'الاجتماعي'), ('آله', 'وصحبه', 'أجمعين'), ('ترضى', 'ولك', 'الحمد'), ('وحدك', 'شريك', 'فلك'), ('فلك', 'الحمد', 'ولك'), ('النشر', 'للتعريف', 'بالمنطقة'), ('صفحتو', 'مش', 'مزاحمة'), ('مش', 'مزاحمة', 'ليه'), ('اسعد', 'الله', 'صباحكم'), ('ﷺ', 'ﷺ', 'ﷺ'), ('علينا', 'نعمة', 'الأمن'), ('حي', 'قيوم', 'برحمتك'), ('اللهم', 'ارحم', 'موتانا'), ('وانت', 'بخير', 'وصحه'), ('اللهم', 'إني', 'اسألك'), ('الله', 'الله', 'أكبر'), ('الله', 'يرحم', 'الشهداء'), ('رحمه', 'الله', 'واسكنه'), ('المغفور', 'بإذن', 'الله'), ('ويغفر', 'ويسكنه', 'فسيح'), ('وسلموا', 'تسليما', 'اللهم'), ('تسليما', 'اللهم', 'صل'), ('يرحمه', 'ويغفرله', 'ويسكنه'), ('عمر', 'الخطاب', 'رضي'), ('وانت', 'بخير', 'وانت'), ('الليلة', 'الساعة', '٨٣٠'), ('مطربة', 'صاعدة', 'أفضل'), ('صاعدة', 'أفضل', 'سينقل'), ('أفضل', 'سينقل', 'مجنون'), ('ليث', 'أسد', 'فلسطين'), ('أله', 'وصحبه', 'أجمعين'), ('الله', 'وبحمده', 'خلقه'), ('الله', 'تضيع', 'ودائعه'), ('رئيس', 'مجلس', 'الوزراء'), ('الحمد', 'لله', 'دائما'), ('لله', 'الحمد', 'لله'), ('الملك', 'لله', 'والحمد'), ('يصيبنا', 'كتب', 'الله'), ('العرش', 'العظيم', 'يشفيها'), ('الله', 'يرحمه', 'ويجعل'), ('قناتي', 'الرسمية', 'يوتيوب'), ('مولاتي', 'زينب', 'السلام'), ('اتنين', 'اهل', 'مشوا'), ('اهل', 'مشوا', 'الصيدليه'), ('مشوا', 'الصيدليه', 'اشتروا'), ('الصيدليه', 'اشتروا', 'ادويه'), ('اشتروا', 'ادويه', 'الحساب'), ('ادويه', 'الحساب', 'طلع'), ('الحساب', 'طلع', 'سبعه'), ('طلع', 'سبعه', 'ونص'), ('سبعه', 'ونص', 'المرافق'), ('ونص', 'المرافق', 'للمريض'), ('المرافق', 'للمريض', 'اها'), ('للمريض', 'اها', 'رايك'), ('اها', 'رايك', 'شنو'), ('رايك', 'شنو', 'ندفنك'), ('مسابقه_عمرو_مصطفى', 'anisbourahla', 'ارشح'), ('بورحلة', 'الجزائر', 'مسابقه_عمرو_مصطفى'), ('تصويتنا', 'للفنان', 'ايهاب'), ('للفنان', 'ايهاب', 'امير'), ('ايهاب', 'امير', 'ihabamir'), ('امير', 'ihabamir', 'mma'), ('ihabamir', 'mma', 'mma2017_ihabamir'), ('هيدا_حكي', 'الليلة', '٩٤٥'), ('التصوير', 'عدسة', 'جوالي'), ('حقائق', 'مثيرة', 'حياته'), ('للإنتاج', 'الفني', 'بالأشتراك'), ('الفني', 'بالأشتراك', 'مؤسسة'), ('بالأشتراك', 'مؤسسة', 'زوايا'), ('مؤسسة', 'زوايا', 'للإنتاج'), ('الحسنى', 'وصفاته', 'العلى'), ('صقر', 'للفنان', 'موسى'), ('صل', 'سلم', 'بارك'), ('الحمد', 'ترضى', 'ولك'), ('سيدي', 'صاحب', 'السمو'), ('محمد', 'زايد', 'نهيان'), ('رب', 'العرش', 'الكريم'), ('صندوق', 'النقد', 'الدولي'), ('شريك', 'فلك', 'الحمد'), ('أبعثولي', 'تصاوركم', 'الغير'), ('شاء', 'الله', 'خير'), ('الله', 'الله', 'يبارك'), ('ولك', 'الحمد', 'رضيت'), ('الحمد', 'رضيت', 'ولك'), ('رضيت', 'ولك', 'الحمد'), ('حسبي', 'الله', 'الوكيل'), ('شاء', 'الله', 'شكرا'), ('الله', 'إله', 'توكلت'), ('الوكيل', 'حسبنا', 'الله'), ('امين', 'يارب', 'الله'), ('آمين', 'رب', 'العالمين'), ('ينبغي', 'لجلال', 'وجهك'), ('سمو', 'ولي', 'العهد'), ('وانتم', 'بألف', 'خير'), ('ذوي', 'الاحتياجات', 'الخاصة'), ('الشيخ', 'خليفة', 'زايد'), ('ومنكم', 'صالح', 'الأعمال'), ('ماشاء', 'الله', 'تبارك'), ('الله', 'والله', 'أكبر'), ('صل', 'الله', 'وسلم'), ('إليه', 'راجعون', 'اللهم'), ('وعليكم', 'السلام', 'ورحمة'), ('والحمد', 'لله', 'إله'), ('واسكنه', 'فسيح', 'جناته'), ('صلي', 'وسلم', 'وبارك'), ('سلطان', 'محمد', 'القاسمي'), ('السعودية', 'البحرين', 'الكويت'), ('إله', 'انت', 'سبحانك'), ('تدع', 'ذنبا', 'غفرته'), ('الساعة', '٨٣٠', 'المساء'), ('زايد', 'رحمه', 'الله'), ('العدوان', 'الأمريكي', 'السعودي'), ('الله', 'الله', 'اكبر'), ('محمد', 'اله', 'وصحبه'), ('حركة', 'نداء', 'تونس'), ('الخير', 'وجمعة', 'مباركة'), ('نيم', 'قيم', 'نيم'), ('وفق', 'طالب', 'ماله'), ('طالب', 'ماله', 'خلق'), ('نرجعو', 'كنا', 'نهبلو'), ('كنا', 'نهبلو', 'عديانا'), ('نهبلو', 'عديانا', 'نكملو'), ('عديانا', 'نكملو', 'اليسوار'), ('نكملو', 'اليسوار', 'ايهاب_حبيب_الجزايريين'), ('شاء', 'الله', 'مأجورين'), ('الله', 'مأجورين', 'وموفقين'), ('بحق', 'محمد', 'واله'), ('محمد', 'واله', 'الأطهار'), ('une', 'vidéo', 'شاهد'), ('الله', 'عليكم', 'بالخير'), ('زبل', 'حنا', 'زبل'), ('حنا', 'زبل', 'حنا'), ('الزعيم', 'عبدالله', 'صالح'), ('الساعة', '٨٣٠', 'المسا'), ('حزب', 'المؤتمر', 'السوداني'), ('قناة', 'M', 'Tunisia'), ('M', 'Tunisia', 'آم'), ('Tunisia', 'آم', 'تونيزيا'), ('زولة', 'الله', 'تسابيح'), ('الله', 'تسابيح', 'عابدين'), ('الجزائر', 'مسابقه_عمرو_مصطفى', 'anisbourahla'), ('mma', 'mma2017_ihabamir', 'تصويتنا'), ('mma2017_ihabamir', 'تصويتنا', 'للفنان'), ('يبارك', 'فيك', 'حبيبي'), ('الماتينال', 'تفيق', 'تونس'), ('موسى', 'حجازين', 'قناة'), ('حجازين', 'قناة', 'تقارب'), ('اللهم', 'اني', 'استودعك'), ('اللهم', 'إني', 'استودعتك'), ('اللهم', 'عجل', 'لوليك'), ('صل', 'محمد', 'ال'), ('نبينا', 'محمد', 'صلى'), ('اله', 'الله', 'محمد'), ('الله', 'يسعدك', 'الله'), ('مبشرا', 'وهما', 'راحلا'), ('وهما', 'راحلا', 'وقلبا'), ('يتقبل', 'منا', 'ومنكم'), ('الله', 'يشفيه', 'ويعافيه'), ('تصاوركم', 'الغير', 'عادية'), ('الغير', 'عادية', 'مساج'), ('عادية', 'مساج', 'PV'), ('دكتوره', 'ليش', 'سويتى'), ('ليش', 'سويتى', 'بلوك'), ('سويتى', 'بلوك', 'حق'), ('بلوك', 'حق', 'صديقاتي'), ('حق', 'صديقاتي', 'القطريات'), ('صديقاتي', 'القطريات', 'انتى'), ('القطريات', 'انتى', 'دكتوره'), ('انتى', 'دكتوره', 'مفروض'), ('دكتوره', 'مفروض', 'تسمعين'), ('مفروض', 'تسمعين', 'راي'), ('تسمعين', 'راي', 'الطرف'), ('راي', 'الطرف', 'مب'), ('الطرف', 'مب', 'تعطينهم'), ('مب', 'تعطينهم', 'بلوك'), ('تعطينهم', 'بلوك', 'لانه'), ('بلوك', 'لانه', 'عجبج'), ('الله', 'يحميك', 'ويحمي'), ('نعمة', 'الأمن', 'والأمان'), ('أمير', 'البلاد', 'المفدى'), ('اصبحنا', 'واصبح', 'الملك'), ('البلد', 'آمنا', 'مطمئنا'), ('أصلح', 'شأني', 'كله'), ('شأني', 'كله', 'تكلني'), ('ارحم', 'موتانا', 'وموتى'), ('تكلني', 'نفسي', 'طرفة'), ('جلال', 'الدين', 'الرومي'), ('إله', 'توكلت', 'رب'), ('انت', 'بالف', 'خير'), ('برحمتك', 'ارحم', 'الراحمين'), ('اللهم', 'آمين', 'رب'), ('يحفظه', 'ويطول', 'بعمره'), ('ويجعل', 'مثواه', 'الجنه'), ('سمو', 'الشيخ', 'حمدان'), ('الشيخ', 'حمدان', 'محمد'), ('يخليلك', 'عيلتك', 'رب'), ('فسيح', 'جناته', 'ويلهم'), ('الحمدلله', 'إله', 'الله'), ('سنه', 'وانتي', 'طيبه'), ('إنك', 'عفو', 'تحب'), ('ويغفرله', 'ويسكنه', 'فسيح'), ('أجرني', 'مصيبتي', 'اللهم'), ('مصيبتي', 'اللهم', 'أجرني'), ('اللهم', 'أجرني', 'مصيبتي'), ('رحمة', 'الله', 'تعالى'), ('الشيخة', 'فاطمة', 'بنت'), ('الله', 'العظيم', 'إله'), ('رب', 'العالمين', 'اللهم'), ('نبينا', 'محمدﷺ', 'اللهم'), ('محمدﷺ', 'اللهم', 'صل'), ('معكم', 'شاء', 'الله'), ('شاء', 'الله', 'شاء'), ('يرحمه', 'ويغمد', 'روحه'), ('الله', 'الله', 'صح'), ('رمضان', 'بلوغا', 'يغير'), ('بلوغا', 'يغير', 'حالنا'), ('الله', 'عظم', 'الله'), ('صدق', 'الله', 'العظيم'), ('العدوان', 'السعودي', 'الأمريكي'), ('شاء', 'الله', 'ديما'), ('الله', 'يحفظه', 'ويطول'), ('الشهيد', 'عبدالله', 'صالح'), ('ماله', 'خلق', 'يدرس'), ('الجيش_السوهابي', 'نرجعو', 'كنا'), ('حضرة', 'صاحب', 'السمو'), ('شكرا', 'للجماهير', 'العراقية'), ('أسأل', 'الله', 'تعالى'), ('أعاده', 'الله', 'عليكم'), ('يشكر', 'الناس', 'يشكر'), ('٨٣٠', 'المسا', 'عال'), ('دبليو', 'لمياءالزايدي', 'قريبا'), ('الله', 'يبارك', 'بعمرك'), ('الله', 'يسلمك', 'يأبو'), ('يسلمك', 'يأبو', 'الله'), ('اجركم', 'وغفر', 'لموتاكم'), ('وغفر', 'لموتاكم', 'وموتى'), ('بتوقيت', 'بيروت', 'MTV'), ('بيروت', 'MTV', 'Lebanon'), ('يستحق', 'المتابعة', 'للمتصلين'), ('يجلس', 'أرجوحة', 'الحياة'), ('زينو', 'توافق', 'حلقة'), ('بعيدا', 'السياسة', 'رياض'), ('السياسة', 'رياض', 'عمر'), ('عبدالقادر', 'الشهههراني', 'عبدالقادر'), ('الشهههراني', 'عبدالقادر', 'الشهههراني'), ('بانوراما_ميديا', 'للإنتاج', 'الفني'), ('زوايا', 'للإنتاج', 'المسرحي'), ('للإنتاج', 'المسرحي', 'يقدمان'), ('المسرحي', 'يقدمان', 'مسرحية'), ('تف', 'تف', 'تف'), ('بلغنا', 'رمضان', 'ونحن'), ('صل', 'محمد', 'محمد'), ('الله', 'اللهم', 'صل'), ('الرسول', 'صلى', 'الله'), ('راحلا', 'وقلبا', 'مطمئنا'), ('اشرح', 'صدري', 'ويسر'), ('زايد', 'ال', 'نهيان'), ('صحيح', 'مسلم', 'Hadith'), ('لاحول', 'بالله', 'العلي'), ('باذن', 'الله', 'تعالى'), ('قناة', 'حكايات', 'تونسية'), ('مساج', 'PV', 'للصفحة'), ('اللهم', 'رب', 'الناس'), ('مرضانا', 'ومرضى', 'المسلمين'), ('تتذكر', 'انتضممت', 'تويتر'), ('انتضممت', 'تويتر', 'أتذكر'), ('تويتر', 'أتذكر', 'الذكرى_السنوية_على_تويتر'), ('انتقل', 'رحمة', 'الله'), ('آمين', 'آمين', 'يارب'), ('الله', 'تطمئن', 'القلوب'), ('امين', 'امين', 'يارب'), ('اله', 'الحي', 'القيوم'), ('الصمد', 'يلد', 'يولد'), ('يلد', 'يولد', 'يكن'), ('بيض', 'الله', 'ويهك'), ('تركي', 'ال', 'شيخ'), ('أحسن', 'الله', 'عزاكم'), ('يارب', 'العالمين', 'الله'), ('اله', 'الله', 'الله'), ('الله', 'علينا', 'وعليكم'), ('طيب', 'الله', 'ثراه'), ('كلمة', '٤', 'صور'), ('٤', 'صور', 'أرجو'), ('صور', 'أرجو', 'مساعدتيماهي'), ('أرجو', 'مساعدتيماهي', 'الكلمة'), ('مساعدتيماهي', 'الكلمة', 'المشتركة'), ('الكلمة', 'المشتركة', 'الأربع'), ('المشتركة', 'الأربع', 'صور'), ('أعاده', 'الله', 'علينا'), ('العظيم', 'إله', 'الحي'), ('رسول', 'الله', 'اللهم'), ('وصحبه', 'أجمعين', 'اللهم'), ('أجمعين', 'اللهم', 'صل'), ('والحمدلله', 'إله', 'الله'), ('قبره', 'روضة', 'رياض'), ('إنك', 'عفو', 'كريم'), ('إني', 'أسألك', 'علما'), ('العالمين', 'اللهم', 'إني'), ('نبينا', 'محمد', 'آله'), ('تدري', 'الله', 'يحدث'), ('بلغنا', 'شهر', 'رمضان'), ('ويهذب', 'نفوسنا', 'ويطهر'), ('ويطهر', 'دواخلنا', 'بلوغ'), ('الله', 'خير', 'الجزاء'), ('القيوم', 'وأتوب', 'إليه'), ('نبينا', 'محمد', 'ﷺ'), ('شكرا', 'الله', 'يبارك'), ('وانت', 'بخير', 'يالغالي'), ('تحطم', 'الطائرة', 'العسكرية'), ('قريبا', 'شاء', 'الله'), ('ليلة', 'الساعة', '٨٣٠'), ('الشيخ', 'زايد', 'رحمه'), ('الامير', 'محمد', 'سلمان'), ('شاء', 'الله', 'نكون'), ('اللهم', 'الحمد', 'والشكر'), ('العرش', 'العظيم', 'يشفيه'), ('إنك', 'شيء', 'قدير'), ('عون', 'العبد', 'العبد'), ('العبد', 'العبد', 'عون'), ('العبد', 'عون', 'أخيه'), ('عبد', 'الله', 'صالح'), ('وزارة', 'الشؤون', 'الدينية'), ('العظيم', 'يشفيها', 'أسأل'), ('يشفيها', 'أسأل', 'الله'), ('يارب', 'يارب', 'يارب'), ('بخير', 'وانت', 'بخير'), ('احتفل', 'بعيد', 'ميلادك'), ('شكرا', 'لله', 'شكرا'), ('لله', 'شكرا', 'لعبطان'), ('شكرا', 'لعبطان', 'شكرا'), ('لعبطان', 'شكرا', 'للجماهير'), ('للجماهير', 'العراقية', 'شكرا'), ('العراقي', 'المكتوب', 'والمرئي'), ('المكتوب', 'والمرئي', 'والمسموع'), ('والمرئي', 'والمسموع', 'شكرا'), ('والمسموع', 'شكرا', 'لتكاتف'), ('شكرا', 'لتكاتف', 'الجميع'), ('لحبيبتي', 'البصرة', 'وجماهيرها'), ('الله', 'يعطيك', 'الصحة'), ('مواقع', 'التواصل', 'الإجتماعي'), ('الله', 'الحمدلله', 'إله'), ('شنو', 'ندفنك', 'البلد'), ('كلمة', 'أغنية', 'دبليو'), ('أغنية', 'دبليو', 'لمياءالزايدي'), ('مذكرات', 'زولة', 'الله'), ('لعنة', 'الله', 'عليكم'), ('رب', 'رب', 'رب'), ('شهد', 'بلان', 'تكشف'), ('مقاطعون', 'المغرب', 'القدس_عاصمة_فلسطين'), ('كبرنا', 'العيدية', 'كبرنا'), ('العيدية', 'كبرنا', 'العيدية'), ('الحين', 'قناة', 'ال'), ('المباشر', 'الماتينال', 'تفيق'), ('تويتر', 'games', '٢٠'), ('games', '٢٠', 'جولة'), ('مسرح', 'تنمية', 'المجتمع'), ('شاهد', 'المزيد', 'حلقات'), ('المزيد', 'حلقات', 'ونهفات'), ('حلقات', 'ونهفات', 'سمعه'), ('ونهفات', 'سمعه', 'ابو'), ('سمعه', 'ابو', 'صقر'), ('محمد', 'اله', 'صحبه'), ('لله', 'انا', 'راجعون'), ('جزاك', 'الله', 'خيرا'), ('الحمد', 'لله', 'الله'), ('الله', 'إله', 'الحي'), ('الباجي', 'قايد', 'السبسي'), ('السين', 'منحبش', 'السين'), ('منحبش', 'السين', 'منحبش'), ('يسعدك', 'الله', 'يسعدك'), ('وانتي', 'بخير', 'وصحه'), ('العرش', 'الكريم', 'يشفيه'), ('مقلب', 'القلوب', 'ثبت'), ('والصلاة', 'والسلام', 'رسول'), ('والسلام', 'رسول', 'الله'), ('الله', 'خير', 'الله'), ('مزاحمة', 'ليه', 'تونس'), ('PV', 'للصفحة', 'خنهبطوهم'), ('للصفحة', 'خنهبطوهم', 'البرنامج'), ('خنهبطوهم', 'البرنامج', 'تكمله'), ('الله', 'فيك', 'ويحفظلك'), ('والله', 'شاء', 'الله'), ('فبشرني', 'يفتح', 'مداخل'), ('يفتح', 'مداخل', 'السعادة'), ('الحمدلله', 'دائما', 'وأبدا'), ('عبد', 'الفتاح', 'السيسي'), ('بأحد', 'خلقك', 'فمنك'), ('خلقك', 'فمنك', 'وحدك'), ('فمنك', 'وحدك', 'شريك'), ('برحمتك', 'أستغيث', 'أصلح'), ('أستغيث', 'أصلح', 'شأني'), ('FK_4436', 'FaresKaram', 'FK'), ('وإنا', 'لله', 'وإنا'), ('امين', 'يارب', 'اجمعين'), ('تكرهوا', 'شيئا', 'خير'), ('خلقتني', 'وأنا', 'عبدك'), ('وأنا', 'عبدك', 'وأنا'), ('عبدك', 'وأنا', 'عهدك'), ('عهدك', 'ووعدك', 'استطعت'), ('الله', 'العظيم', 'واتوب'), ('الله', 'يبارك', 'بيج'), ('يولد', 'يكن', 'كفوا'), ('قبورهم', 'روضة', 'رياض'), ('الولايات', 'المتحدة', 'الأمريكية'), ('الله', 'يسعدك', 'رب'), ('الصبر', 'والسلوان', 'لله'), ('رحمه', 'الله', 'وغفر'), ('فسيح', 'جناته', 'لله'), ('الحمد', 'ينبغي', 'لجلال'), ('لجلال', 'وجهك', 'وعظيم'), ('بألف', 'خير', 'الله'), ('والجميع', 'بألف', 'خير'), ('الحرمين', 'الشريفين', 'الملك'), ('ينقى', 'الثوب', 'الأبيض'), ('الله', 'العظيم', 'أتوب'), ('بالخير', 'واليمن', 'والبركات'), ('شاء', 'الله', 'اللهم'), ('الإمارات', 'للتوازن', 'الجنسين'), ('العام', 'للأمم', 'المتحدة'), ('الأربع', 'صور', 'كلمة'), ('صور', 'كلمة', '٤'), ('انك', 'عفو', 'كريم'), ('الله', 'والحمدلله', 'إله'), ('الدنيا', 'حسنة', 'الآخرة'), ('صل', 'وسلم', 'محمد'), ('المناسب', 'المكان', 'المناسب'), ('أسألك', 'علما', 'نافعا'), ('علما', 'نافعا', 'ورزقا'), ('نافعا', 'ورزقا', 'طيبا'), ('ورزقا', 'طيبا', 'وعملا'), ('شكرا', 'كلك', 'ذوق'), ('يبارك', 'فيك', 'شكرا'), ('المجلس_العالمي_للأقليات_المسلمة', 'المؤتمر_العالمي_للأقليات_المسلمة', 'immc'), ('يارب', 'العالمين', 'اللهم'), ('الحقيقة', 'ضيفنا', 'الاستاذ'), ('الله', 'الله', 'يحفظك'), ('يغير', 'حالنا', 'أحسنه'), ('حالنا', 'أحسنه', 'ويهذب'), ('أحسنه', 'ويهذب', 'نفوسنا'), ('نفوسنا', 'ويطهر', 'دواخلنا'), ('الله', 'إله', 'الله'), ('سمو', 'الشيخ', 'محمد'), ('الله', 'يرحمهم', 'يارب'), ('ربي', 'يرحم', 'الشهداء'), ('اللهم', 'إني', 'أستودعك'), ('الله', 'رحمة', 'واسعة'), ('لله', 'وإنا', 'راجعون'), ('وبحمده', 'خلقه', 'ورضا'), ('خلقه', 'ورضا', 'وزنة'), ('حبة', 'العينمكانك', 'حبة'), ('شاء', 'الله', 'رب'), ('الله', 'ماشاء', 'الله'), ('نمت', 'ضيق', 'فأيقظني'), ('الله', 'يطول', 'عمرك'), ('إني', 'ظلمت', 'نفسي'), ('هع', 'هع', 'هع'), ('بارك', 'سيدنا', 'محمد'), ('لله', 'اله', 'الله'), ('اجرنا', 'وأجركم', 'جزاك'), ('وأجركم', 'جزاك', 'الله'), ('الله', 'بحمده', 'الله'), ('التيار', 'الوطني', 'الحر'), ('الله', 'يسعدك', 'والله'), ('حبيبي', 'الله', 'يبارك'), ('وانتم', 'بخير', 'ماقصرتوا'), ('بخير', 'ماقصرتوا', 'عساكم'), ('سفير', 'الألحان', 'فايز_السعيد'), ('السلام', 'عليكم', 'ورحمة'), ('مأجورين', 'وموفقين', 'بحق'), ('العراقية', 'شكرا', 'لرجالات'), ('شكرا', 'لرجالات', 'الاعلام'), ('لرجالات', 'الاعلام', 'العراقي'), ('الاعلام', 'العراقي', 'المكتوب'), ('لتكاتف', 'الجميع', 'وشكرا'), ('الجميع', 'وشكرا', 'لحبيبتي'), ('وشكرا', 'لحبيبتي', 'البصرة'), ('زياد_خوري', 'بيروت', 'لبنان'), ('ندفنك', 'البلد', 'اتنين'), ('البلد', 'اتنين', 'اهل'), ('اللهم', 'امين', 'وجزاك'), ('امين', 'وجزاك', 'الله'), ('يبارك', 'عمرك', 'اخوي'), ('وقلة', 'حيلتنا', 'وهواننا'), ('المغربية', 'المغرب', 'المغرب2026'), ('أبناء', 'الشعب', 'اليمني'), ('قليل', 'نشرة_التاسعة', 'أخبار'), ('نشرة_التاسعة', 'أخبار', 'سياسة'), ('الشهيد', 'البطل', 'عبدالله'), ('البطل', 'عبدالله', 'صالح'), ('النادي_التفريكي', 'الزناطير', 'الزنطور'), ('I', 'liked', 'a'), ('مجلة', 'الجماعات', 'المحلية'), ('حسبنا', 'اللة', 'ونعم'), ('ربي', 'أسعد', 'قلبي'), ('٩١٢٢٠١٧', 'العيد', 'الوطني'), ('صحافة', 'اعلام', 'تدريب'), ('اجعل', 'امي', 'سيدة'), ('امي', 'سيدة', 'سيدات'), ('سيدة', 'سيدات', 'الجنة'), ('IsraelNukesYemen', 'Yemen', 'Sanaa'), ('المستقبل', 'الرياضي', 'بهبيرة'), ('لأول', 'مرة', 'أرجوحة'), ('مرة', 'أرجوحة', 'الحياة'), ('حسناوي', 'يجلس', 'أرجوحة'), ('الجزائري', 'زينو', 'توافق'), ('توافق', 'حلقة', 'ساخنة'), ('حلقة', 'ساخنة', 'بعيدا'), ('ساخنة', 'بعيدا', 'السياسة'), ('البث', 'المباشر', 'الماتينال'), ('شاهد', 'المزيد', 'فيديوهات'), ('المزيد', 'فيديوهات', 'سمعة'), ('فيديوهات', 'سمعة', 'ابو'), ('صبحكم', 'الله', 'بالخير'), ('انا', 'لله', 'انا'), ('الله', 'فيك', 'اخي'), ('الخير', 'شاء', 'الله'), ('أسألك', 'خير', 'وخير'), ('بعده', 'وأعوذ', 'شر'), ('جزاكم', 'الله', 'خيرا'), ('الله', 'بارك', 'الله'), ('مبارك', 'وكل', 'وانتم'), ('الله', 'الله', 'لطيف'), ('شاء', 'الله', 'مربوحة'), ('الامارات', 'العربية', 'المتحدة'), ('القلوب', 'ثبت', 'قلبي'), ('وزير', 'التربية', 'والتعليم'), ('قريبا', 'بإذن', 'الله'), ('حسن', 'نصر', 'الله'), ('ولاقوة', 'بالله', 'العلي'), ('رب', 'الناس', 'أذهب'), ('الترجي', 'الرياضي', 'التونسي'), ('محمد', 'عبد', 'الوهاب'), ('الله', 'يسلمك', 'حبيبتي'), ('الغيث', 'تجعلنا', 'القانطين'), ('فرج', 'لكل', 'صابر'), ('بيت', 'الله', 'الحرام'), ('نعمة', 'الأمن', 'الأمان'), ('ونعم', 'الوكيل', 'فيكم'), ('همي', 'فبشرني', 'يفتح'), ('شاء', 'الله', 'برنامج'), ('تعيد', 'للمريض', 'صحته'), ('قلوبنا', 'راحة', 'دائمة'), ('شر', 'البلية', 'يضحك'), ('انك', 'عفو', 'تحب'), ('امين', 'امين', 'امين'), ('ربي', 'واتوب', 'اليك'), ('بذكر', 'الله', 'تطمئن'), ('إله', 'الله', 'رب'), ('زايد', 'سلطان', 'نهيان'), ('ألحان', 'ملحن_الوطن', 'محمد'), ('قيوم', 'برحمتك', 'أستغيث'), ('كله', 'تكلني', 'نفسي'), ('الله', 'يسلمك', 'يارب'), ('وتولني', 'فيمن', 'توليت'), ('حزب', 'البديل_التونسي', 'حوار'), ('بالف', 'خير', 'يارب'), ('اضرب', 'الظالمين', 'بالظالمين'), ('بالماء', 'والثلج', 'والبرد'), ('الثوب', 'الأبيض', 'الدنس'), ('خيرا', 'داره', 'وأهلا'), ('ربي', 'يخليك', 'ليا'), ('الحي', 'القيوم', 'واتوب'), ('وأنا', 'عهدك', 'ووعدك'), ('فإنه', 'يغفر', 'الذنوب'), ('رحمة', 'الله', 'تغشاه'), ('قل', 'الله', 'الله'), ('الله', 'الله', 'الصمد'), ('الله', 'انا', 'لله'), ('وانا', 'راجعون', 'اللهم'), ('وانا', 'راجعون', 'عظم'), ('يرحمها', 'ويغفر', 'ويسكنها'), ('ﷺقال', 'رسول', 'الله'), ('الشيخ', 'عبدالله', 'زايد'), ('مؤسسة', 'دبي', 'للمرأة'), ('والسلوان', 'لله', 'وإنا'), ('واسكنه', 'فسيح', 'جناتك'), ('وانتي', 'بألف', 'خير'), ('فرح_يوسف', 'سورية', 'سوريا'), ('بألف', 'خير', 'وصحة'), ('يارب', 'آمين', 'يارب')]\n",
            "biemojiFull:  [('😂', '😂'), ('😂', '😂'), ('😂', '❤'), ('❤', '😭'), ('😭', '😭'), ('😭', '😭'), ('😭', '😂'), ('😂', '🙌'), ('🙌', '😭'), ('😭', '😭')]\n",
            "triemojiFull:  [('😂', '😂', '😂'), ('😂', '😂', '❤'), ('😂', '❤', '😭'), ('❤', '😭', '😭'), ('😭', '😭', '😭'), ('😭', '😭', '😂'), ('😭', '😂', '🙌'), ('😂', '🙌', '😭'), ('🙌', '😭', '😭'), ('😭', '😭', '😂')]\n",
            "biwordFull:  [('زبالة', 'ميريكان'), ('ميريكان', 'كون'), ('كون', 'بنادم'), ('بنادم', 'مشاو'), ('مشاو', 'أفين'), ('أفين', 'يبا'), ('يبا', 'سفيان'), ('سفيان', 'فين'), ('فين', 'هاد'), ('هاد', 'الغبور')]\n",
            "triwordFull:  [('زبالة', 'ميريكان', 'كون'), ('ميريكان', 'كون', 'بنادم'), ('كون', 'بنادم', 'مشاو'), ('بنادم', 'مشاو', 'أفين'), ('مشاو', 'أفين', 'يبا'), ('أفين', 'يبا', 'سفيان'), ('يبا', 'سفيان', 'فين'), ('سفيان', 'فين', 'هاد'), ('فين', 'هاد', 'الغبور'), ('هاد', 'الغبور', 'رجوع')]\n",
            "\n",
            "BoW\n",
            "BoWEmoji:  [[33.  1.  7. ...  0.  0.  0.]\n",
            " [85. 12.  5. ...  0.  0.  0.]\n",
            " [16. 17.  4. ...  0.  0.  0.]\n",
            " ...\n",
            " [82.  1.  1. ...  0.  0.  0.]\n",
            " [ 0.  0.  0. ...  0.  0.  0.]\n",
            " [11.  2.  1. ...  0.  0.  0.]]\n",
            "BoWEmojiBi:  [[18.  0.  3. ...  0.  0.  0.]\n",
            " [54.  3.  1. ...  0.  0.  0.]\n",
            " [ 5.  0.  1. ...  0.  0.  0.]\n",
            " ...\n",
            " [48.  0.  0. ...  0.  0.  0.]\n",
            " [ 0.  0.  0. ...  0.  0.  0.]\n",
            " [ 3.  0.  0. ...  0.  0.  0.]]\n",
            "BoWEmojiTri:  [[ 9.  0.  0. ...  0.  1.  0.]\n",
            " [24.  1.  1. ...  0.  0.  0.]\n",
            " [ 1.  0.  0. ...  0.  0.  1.]\n",
            " ...\n",
            " [24.  0.  0. ...  0.  0.  0.]\n",
            " [ 0.  0.  0. ...  0.  0.  0.]\n",
            " [ 1.  0.  1. ...  0.  0.  0.]]\n",
            "BoWText:  [[ 7.  0.  0. ...  0.  0.  0.]\n",
            " [ 6.  2.  0. ...  0.  0.  0.]\n",
            " [ 4.  9.  4. ...  0.  0.  1.]\n",
            " ...\n",
            " [ 4.  4.  3. ...  0.  0.  0.]\n",
            " [15.  0.  6. ...  0.  0.  0.]\n",
            " [12.  1.  7. ...  0.  0.  0.]]\n",
            "BoWTextNOST:  [[ 3.  4.  1. ...  0.  0.  0.]\n",
            " [ 0.  3.  8. ...  0.  0.  0.]\n",
            " [66. 12.  8. ...  1.  0.  0.]\n",
            " ...\n",
            " [ 3.  4.  3. ...  0.  0.  0.]\n",
            " [ 4. 43.  1. ...  0.  0.  0.]\n",
            " [30. 24. 22. ...  0.  0.  0.]]\n",
            "BoWTextBi:  [[1. 0. 1. ... 0. 0. 0.]\n",
            " [1. 0. 0. ... 0. 0. 0.]\n",
            " [0. 0. 0. ... 0. 0. 0.]\n",
            " ...\n",
            " [0. 0. 0. ... 0. 0. 0.]\n",
            " [0. 0. 2. ... 0. 0. 0.]\n",
            " [1. 0. 0. ... 0. 0. 0.]]\n",
            "BoWTextTri:  [[0. 0. 0. ... 0. 0. 0.]\n",
            " [0. 0. 0. ... 0. 0. 0.]\n",
            " [0. 0. 0. ... 0. 0. 0.]\n",
            " ...\n",
            " [0. 0. 0. ... 0. 0. 0.]\n",
            " [0. 1. 0. ... 0. 0. 0.]\n",
            " [0. 0. 0. ... 0. 0. 0.]]\n",
            "\n",
            "TFIDF\n",
            "EmojiTFIDF:  [[2.99666613 0.09080806 0.63565645 ... 0.         0.         0.        ]\n",
            " [4.0750824  0.57530575 0.23971073 ... 0.         0.         0.        ]\n",
            " [0.91480717 0.97198262 0.22870179 ... 0.         0.         0.        ]\n",
            " ...\n",
            " [4.00590007 0.04885244 0.04885244 ... 0.         0.         0.        ]\n",
            " [0.         0.         0.         ... 0.         0.         0.        ]\n",
            " [2.29474434 0.41722624 0.20861312 ... 0.         0.         0.        ]]\n",
            "EmojiBiTFIDF:  [[1.71526344 0.         0.         ... 0.         0.         0.        ]\n",
            " [2.87454494 0.         0.         ... 0.         0.         0.        ]\n",
            " [0.41949378 0.         0.         ... 0.         0.         0.        ]\n",
            " ...\n",
            " [2.50335746 0.         0.         ... 0.         0.         0.        ]\n",
            " [0.         0.         0.         ... 0.         0.         0.        ]\n",
            " [1.05254802 0.         0.         ... 0.         0.         0.        ]]\n",
            "EmojiTriTFIDF:  [[1.10266936 0.         0.         ... 0.         0.         0.        ]\n",
            " [1.83414309 0.         0.07642263 ... 0.         0.         0.        ]\n",
            " [0.27566734 0.         0.         ... 0.         0.         0.        ]\n",
            " ...\n",
            " [1.63936683 0.         0.         ... 0.         0.         0.        ]\n",
            " [0.         0.         0.         ... 0.         0.         0.        ]\n",
            " [0.70169868 0.         0.70169868 ... 0.         0.         0.        ]]\n",
            "TextTFIDF:  [[0.52457086 0.         0.         ... 0.         0.         0.        ]\n",
            " [0.36466231 0.1215541  0.         ... 0.         0.         0.        ]\n",
            " [0.15997276 0.3599387  0.15997276 ... 0.         0.         0.        ]\n",
            " ...\n",
            " [0.22870179 0.22870179 0.17152634 ... 0.         0.         0.        ]\n",
            " [0.36990506 0.         0.14796202 ... 0.         0.         0.        ]\n",
            " [0.36466231 0.03038853 0.21271968 ... 0.         0.         0.        ]]\n",
            "TextBiTFIDF:  [[1.10266936 0.         0.         ... 0.         0.         0.        ]\n",
            " [0.77186855 0.         0.         ... 0.         0.         0.        ]\n",
            " [0.         0.         0.         ... 0.         0.         0.        ]\n",
            " ...\n",
            " [0.         0.         0.         ... 0.         0.         0.        ]\n",
            " [0.         0.         0.         ... 0.         0.         0.        ]\n",
            " [0.24120892 0.         0.         ... 0.         0.         0.        ]]\n",
            "TextTriTFIDF:  [[0. 0. 0. ... 0. 0. 0.]\n",
            " [0. 0. 0. ... 0. 0. 0.]\n",
            " [0. 0. 0. ... 0. 0. 0.]\n",
            " ...\n",
            " [0. 0. 0. ... 0. 0. 0.]\n",
            " [0. 0. 0. ... 0. 0. 0.]\n",
            " [0. 0. 0. ... 0. 0. 0.]]\n"
          ],
          "name": "stdout"
        }
      ]
    },
    {
      "cell_type": "code",
      "metadata": {
        "id": "rFoWfLOIxy0m",
        "colab_type": "code",
        "colab": {}
      },
      "source": [
        "#@title Guardar en Pickle las variables complestas, incluido procesado\n",
        "with open(path_directory + \"/\" + 'trainVariablesCompleteIncProc.pickle', 'wb') as f:\n",
        "  pickle.dump([n_author,\n",
        "              author, \n",
        "              dataText, \n",
        "              emojiText, \n",
        "              nTweet, \n",
        "              realGender, \n",
        "              realAge, \n",
        "              realVariety, \n",
        "              nEmoji, \n",
        "              emojiTok, \n",
        "              textTok, \n",
        "              textTokPunc, \n",
        "              textTokSTL, \n",
        "              textTokSTF, \n",
        "              emojiFrec, \n",
        "              textFrec, \n",
        "              textFrecPunc, \n",
        "              textFrecSTL, \n",
        "              textFrecSTF, \n",
        "              fullEmojiFrec,\n",
        "              fullTextFrec, \n",
        "              fullTextFrecSTF, \n",
        "              fullEmojiTok, \n",
        "              fullTextTok,\n",
        "              fullTextTokSTF, \n",
        "              biemojiFrecFull, \n",
        "              triemojiFrecFull, \n",
        "              biwordFrecFull, \n",
        "              triwordFrecFull, \n",
        "              biemojiFull, \n",
        "              triemojiFull, \n",
        "              biwordFull, \n",
        "              triwordFull, \n",
        "              BoWEmoji, \n",
        "              BoWEmojiBi, \n",
        "              BoWEmojiTri, \n",
        "              BoWText,\n",
        "              BoWTextNOST,\n",
        "              BoWTextBi, \n",
        "              BoWTextTri, \n",
        "              EmojiTFIDF, \n",
        "              EmojiBiTFIDF, \n",
        "              EmojiTriTFIDF, \n",
        "              TextTFIDF, \n",
        "              TextBiTFIDF, \n",
        "              TextTriTFIDF] , f)"
      ],
      "execution_count": 0,
      "outputs": []
    },
    {
      "cell_type": "code",
      "metadata": {
        "id": "GPBq32xszHj_",
        "colab_type": "code",
        "colab": {}
      },
      "source": [
        "#@title Cargar en Pickle las variables completas, incluido procesado (si es necesario)\n",
        "with open(path_directory + \"/\" + 'trainVariablesCompleteIncProc.pickle', 'rb') as f:\n",
        "    n_author,\n",
        "    author, \n",
        "    dataText, \n",
        "    emojiText, \n",
        "    nTweet, \n",
        "    realGender, \n",
        "    realAge, \n",
        "    realVariety, \n",
        "    nEmoji, \n",
        "    emojiTok, \n",
        "    textTok, \n",
        "    textTokPunc, \n",
        "    textTokSTL, \n",
        "    textTokSTF, \n",
        "    emojiFrec, \n",
        "    textFrec, \n",
        "    textFrecPunc, \n",
        "    textFrecSTL, \n",
        "    textFrecSTF, \n",
        "    fullEmojiFrec,\n",
        "    fullTextFrec, \n",
        "    fullTextFrecSTF, \n",
        "    fullEmojiTok, \n",
        "    fullTextTok,\n",
        "    fullTextTokSTF, \n",
        "    biemojiFrecFull, \n",
        "    triemojiFrecFull, \n",
        "    biwordFrecFull, \n",
        "    triwordFrecFull, \n",
        "    biemojiFull, \n",
        "    triemojiFull, \n",
        "    biwordFull, \n",
        "    triwordFull, \n",
        "    BoWEmoji, \n",
        "    BoWEmojiBi, \n",
        "    BoWEmojiTri, \n",
        "    BoWText,\n",
        "    BoWTextNOST,\n",
        "    BoWTextBi, \n",
        "    BoWTextTri, \n",
        "    EmojiTFIDF, \n",
        "    EmojiBiTFIDF, \n",
        "    EmojiTriTFIDF, \n",
        "    TextTFIDF, \n",
        "    TextBiTFIDF, \n",
        "    TextTriTFIDF = pickle.load(f)"
      ],
      "execution_count": 0,
      "outputs": []
    },
    {
      "cell_type": "markdown",
      "metadata": {
        "id": "oRnoureAh308",
        "colab_type": "text"
      },
      "source": [
        "# 10. Modelizar Age - Pt. I"
      ]
    },
    {
      "cell_type": "code",
      "metadata": {
        "id": "wShYu9yBjFT-",
        "colab_type": "code",
        "outputId": "0422c8ca-8f10-4a1b-fdb2-715a3528615a",
        "colab": {
          "base_uri": "https://localhost:8080/",
          "height": 255
        }
      },
      "source": [
        "#@title Modelo 1_AGE: BoWText-(RandomForest)\n",
        "x = BoWText\n",
        "y = realAge\n",
        "\n",
        "from sklearn.model_selection import train_test_split  \n",
        "X_train, X_test, y_train, y_test = train_test_split(x, y, test_size=0.3, random_state=0)  \n",
        "from sklearn.ensemble import RandomForestClassifier\n",
        "classifier = RandomForestClassifier(n_estimators=10000, random_state=0)  \n",
        "classifier.fit(X_train, y_train)\n",
        "\n",
        "y_pred = classifier.predict(X_test) \n",
        "\n",
        "from sklearn.metrics import classification_report, confusion_matrix, accuracy_score\n",
        "print(confusion_matrix(y_test,y_pred))  \n",
        "print(classification_report(y_test,y_pred))  \n",
        "print(accuracy_score(y_test, y_pred))"
      ],
      "execution_count": 0,
      "outputs": [
        {
          "output_type": "stream",
          "text": [
            "[[173  40  21]\n",
            " [ 87  59  86]\n",
            " [ 32  29 148]]\n",
            "              precision    recall  f1-score   support\n",
            "\n",
            "       Above       0.59      0.74      0.66       234\n",
            "     Between       0.46      0.25      0.33       232\n",
            "       Under       0.58      0.71      0.64       209\n",
            "\n",
            "    accuracy                           0.56       675\n",
            "   macro avg       0.54      0.57      0.54       675\n",
            "weighted avg       0.54      0.56      0.54       675\n",
            "\n",
            "0.562962962962963\n"
          ],
          "name": "stdout"
        }
      ]
    },
    {
      "cell_type": "code",
      "metadata": {
        "id": "UF-qSA24koXu",
        "colab_type": "code",
        "outputId": "a3c601a1-8077-4bbe-df21-175cf710af08",
        "colab": {
          "base_uri": "https://localhost:8080/",
          "height": 255
        }
      },
      "source": [
        "#@title Modelo 2_AGE: TextTFIDF-(RandomForest)\n",
        "x = TextTFIDF\n",
        "y = realAge\n",
        "\n",
        "from sklearn.model_selection import train_test_split  \n",
        "X_train, X_test, y_train, y_test = train_test_split(x, y, test_size=0.3, random_state=0)  \n",
        "from sklearn.ensemble import RandomForestClassifier\n",
        "classifier = RandomForestClassifier(n_estimators=10000, random_state=0)  \n",
        "classifier.fit(X_train, y_train)\n",
        "\n",
        "y_pred = classifier.predict(X_test) \n",
        "\n",
        "from sklearn.metrics import classification_report, confusion_matrix, accuracy_score\n",
        "print(confusion_matrix(y_test,y_pred))  \n",
        "print(classification_report(y_test,y_pred))  \n",
        "print(accuracy_score(y_test, y_pred))"
      ],
      "execution_count": 0,
      "outputs": [
        {
          "output_type": "stream",
          "text": [
            "[[164  35  35]\n",
            " [ 90  45  97]\n",
            " [ 39  26 144]]\n",
            "              precision    recall  f1-score   support\n",
            "\n",
            "       Above       0.56      0.70      0.62       234\n",
            "     Between       0.42      0.19      0.27       232\n",
            "       Under       0.52      0.69      0.59       209\n",
            "\n",
            "    accuracy                           0.52       675\n",
            "   macro avg       0.50      0.53      0.49       675\n",
            "weighted avg       0.50      0.52      0.49       675\n",
            "\n",
            "0.522962962962963\n"
          ],
          "name": "stdout"
        }
      ]
    },
    {
      "cell_type": "code",
      "metadata": {
        "id": "44Y1hq8ilXBH",
        "colab_type": "code",
        "outputId": "92ac962d-de1d-4be8-fe7c-39c4cacffcad",
        "colab": {
          "base_uri": "https://localhost:8080/",
          "height": 255
        }
      },
      "source": [
        "#@title Modelo 3_AGE: BoWText + BoWEmoji - (RandomForest)\n",
        "x = np.zeros((len(BoWText), len(BoWText[0])+len(BoWEmoji[0])))\n",
        "for i in range(len(BoWText)):\n",
        "  x[i] = np.append(BoWText[i],BoWEmoji[i])\n",
        "\n",
        "y = realAge\n",
        "\n",
        "from sklearn.model_selection import train_test_split  \n",
        "X_train, X_test, y_train, y_test = train_test_split(x, y, test_size=0.3, random_state=0)  \n",
        "from sklearn.ensemble import RandomForestClassifier\n",
        "classifier = RandomForestClassifier(n_estimators=10000, random_state=0)  \n",
        "classifier.fit(X_train, y_train)\n",
        "\n",
        "y_pred = classifier.predict(X_test) \n",
        "\n",
        "from sklearn.metrics import classification_report, confusion_matrix, accuracy_score\n",
        "print(confusion_matrix(y_test,y_pred))  \n",
        "print(classification_report(y_test,y_pred))  \n",
        "print(accuracy_score(y_test, y_pred))"
      ],
      "execution_count": 0,
      "outputs": [
        {
          "output_type": "stream",
          "text": [
            "[[174  43  17]\n",
            " [ 80  62  90]\n",
            " [ 31  29 149]]\n",
            "              precision    recall  f1-score   support\n",
            "\n",
            "       Above       0.61      0.74      0.67       234\n",
            "     Between       0.46      0.27      0.34       232\n",
            "       Under       0.58      0.71      0.64       209\n",
            "\n",
            "    accuracy                           0.57       675\n",
            "   macro avg       0.55      0.57      0.55       675\n",
            "weighted avg       0.55      0.57      0.55       675\n",
            "\n",
            "0.5703703703703704\n"
          ],
          "name": "stdout"
        }
      ]
    },
    {
      "cell_type": "code",
      "metadata": {
        "id": "8aqacG9KN5VT",
        "colab_type": "code",
        "outputId": "adf825a3-1678-47a7-eadf-fbdd8bfd86bc",
        "colab": {
          "base_uri": "https://localhost:8080/",
          "height": 255
        }
      },
      "source": [
        "#@title (MEJOR)Modelo 3(mod)_AGE: BoWTextNOST + BoWEmoji - (RandomForest)\n",
        "x = np.zeros((len(BoWTextNOST), len(BoWTextNOST[0])+len(BoWEmoji[0])))\n",
        "for i in range(len(BoWTextNOST)):\n",
        "  x[i] = np.append(BoWTextNOST[i],BoWEmoji[i])\n",
        "\n",
        "y = realAge\n",
        "\n",
        "from sklearn.model_selection import train_test_split  \n",
        "X_train, X_test, y_train, y_test = train_test_split(x, y, test_size=0.3, random_state=0)  \n",
        "from sklearn.ensemble import RandomForestClassifier\n",
        "classifier = RandomForestClassifier(n_estimators=10000, random_state=0)  \n",
        "classifier.fit(X_train, y_train)\n",
        "\n",
        "y_pred = classifier.predict(X_test) \n",
        "\n",
        "from sklearn.metrics import classification_report, confusion_matrix, accuracy_score\n",
        "print(confusion_matrix(y_test,y_pred))  \n",
        "print(classification_report(y_test,y_pred))  \n",
        "print(accuracy_score(y_test, y_pred))"
      ],
      "execution_count": 0,
      "outputs": [
        {
          "output_type": "stream",
          "text": [
            "[[181  28  25]\n",
            " [ 87  60  85]\n",
            " [ 31  30 148]]\n",
            "              precision    recall  f1-score   support\n",
            "\n",
            "       Above       0.61      0.77      0.68       234\n",
            "     Between       0.51      0.26      0.34       232\n",
            "       Under       0.57      0.71      0.63       209\n",
            "\n",
            "    accuracy                           0.58       675\n",
            "   macro avg       0.56      0.58      0.55       675\n",
            "weighted avg       0.56      0.58      0.55       675\n",
            "\n",
            "0.5762962962962963\n"
          ],
          "name": "stdout"
        }
      ]
    },
    {
      "cell_type": "markdown",
      "metadata": {
        "id": "0AAv_sux5WYF",
        "colab_type": "text"
      },
      "source": [
        "# 11. Modelizar Age - Pt. II"
      ]
    },
    {
      "cell_type": "code",
      "metadata": {
        "id": "la8Wdbzb5X6Q",
        "colab_type": "code",
        "colab": {}
      },
      "source": [
        "#@title Modelo 4_AGE: BoWText(PCA(100)) + BoWEmoji(PCA(50)) - (RandomForest)\n",
        "from sklearn.decomposition import PCA\n",
        "PCABoWText = PCA(n_components=100).fit_transform(BoWText)\n",
        "PCABoWEmoji = PCA(n_components=10).fit_transform(BoWEmoji)\n",
        "\n",
        "x = np.zeros((len(PCABoWText), len(PCABoWText[0])+len(PCABoWEmoji[0])))\n",
        "for i in range(len(PCABoWText)):\n",
        "  x[i] = np.append(PCABoWText[i],PCABoWEmoji[i])\n",
        "\n",
        "y = realAge\n",
        "\n",
        "from sklearn.model_selection import train_test_split  \n",
        "X_train, X_test, y_train, y_test = train_test_split(x, y, test_size=0.3, random_state=0)  \n",
        "from sklearn.ensemble import RandomForestClassifier\n",
        "classifier = RandomForestClassifier(n_estimators=10000, random_state=0)  \n",
        "classifier.fit(X_train, y_train)\n",
        "\n",
        "y_pred = classifier.predict(X_test) \n",
        "\n",
        "from sklearn.metrics import classification_report, confusion_matrix, accuracy_score\n",
        "print(confusion_matrix(y_test,y_pred))  \n",
        "print(classification_report(y_test,y_pred))  \n",
        "print(accuracy_score(y_test, y_pred))"
      ],
      "execution_count": 0,
      "outputs": []
    },
    {
      "cell_type": "code",
      "metadata": {
        "id": "ZS7BU3sA7ehG",
        "colab_type": "code",
        "outputId": "5e8978ef-aad3-4cf0-c1f0-d61fba3b27a9",
        "colab": {
          "base_uri": "https://localhost:8080/",
          "height": 255
        }
      },
      "source": [
        "#@title Modelo 5_AGE: BoWTextBi-(RandomForest)\n",
        "from sklearn.decomposition import PCA\n",
        "PCABoWTextBi = PCA(n_components=100).fit_transform(BoWTextBi)\n",
        "x = PCABoWTextBi\n",
        "y = realAge\n",
        "\n",
        "from sklearn.model_selection import train_test_split  \n",
        "X_train, X_test, y_train, y_test = train_test_split(x, y, test_size=0.3, random_state=0)  \n",
        "from sklearn.ensemble import RandomForestClassifier\n",
        "classifier = RandomForestClassifier(n_estimators=10000, random_state=0)  \n",
        "classifier.fit(X_train, y_train)\n",
        "\n",
        "y_pred = classifier.predict(X_test) \n",
        "\n",
        "from sklearn.metrics import classification_report, confusion_matrix, accuracy_score\n",
        "print(confusion_matrix(y_test,y_pred))  \n",
        "print(classification_report(y_test,y_pred))  \n",
        "print(accuracy_score(y_test, y_pred))"
      ],
      "execution_count": 0,
      "outputs": [
        {
          "output_type": "stream",
          "text": [
            "[[128  61  45]\n",
            " [ 87  61  84]\n",
            " [ 49  53 107]]\n",
            "              precision    recall  f1-score   support\n",
            "\n",
            "       Above       0.48      0.55      0.51       234\n",
            "     Between       0.35      0.26      0.30       232\n",
            "       Under       0.45      0.51      0.48       209\n",
            "\n",
            "    accuracy                           0.44       675\n",
            "   macro avg       0.43      0.44      0.43       675\n",
            "weighted avg       0.43      0.44      0.43       675\n",
            "\n",
            "0.43851851851851853\n"
          ],
          "name": "stdout"
        }
      ]
    },
    {
      "cell_type": "code",
      "metadata": {
        "id": "0uIqS1BB76ro",
        "colab_type": "code",
        "outputId": "03d3b89a-5e3f-421a-ea56-5f276e4cd5e9",
        "colab": {
          "base_uri": "https://localhost:8080/",
          "height": 255
        }
      },
      "source": [
        "#@title Modelo 6_AGE: BoWText(PCA_100) + BoWEmojiBi(PCA_10) - (RandomForest)\n",
        "from sklearn.decomposition import PCA\n",
        "x1 = PCA(n_components=100).fit_transform(BoWText)\n",
        "x2 = PCA(n_components=10).fit_transform(BoWEmojiBi)\n",
        "x = np.zeros((len(x1), len(x1[0])+len(x1[0])))\n",
        "for i in range(len(x1)):\n",
        "  x[i] = np.append(x1[i],x1[i])\n",
        "\n",
        "y = realAge\n",
        "\n",
        "from sklearn.model_selection import train_test_split  \n",
        "X_train, X_test, y_train, y_test = train_test_split(x, y, test_size=0.3, random_state=0)  \n",
        "from sklearn.ensemble import RandomForestClassifier\n",
        "classifier = RandomForestClassifier(n_estimators=10000, random_state=0)  \n",
        "classifier.fit(X_train, y_train)\n",
        "\n",
        "y_pred = classifier.predict(X_test) \n",
        "\n",
        "from sklearn.metrics import classification_report, confusion_matrix, accuracy_score\n",
        "print(confusion_matrix(y_test,y_pred))  \n",
        "print(classification_report(y_test,y_pred))  \n",
        "print(accuracy_score(y_test, y_pred))"
      ],
      "execution_count": 0,
      "outputs": [
        {
          "output_type": "stream",
          "text": [
            "[[165  46  23]\n",
            " [ 96  67  69]\n",
            " [ 36  39 134]]\n",
            "              precision    recall  f1-score   support\n",
            "\n",
            "       Above       0.56      0.71      0.62       234\n",
            "     Between       0.44      0.29      0.35       232\n",
            "       Under       0.59      0.64      0.62       209\n",
            "\n",
            "    accuracy                           0.54       675\n",
            "   macro avg       0.53      0.55      0.53       675\n",
            "weighted avg       0.53      0.54      0.53       675\n",
            "\n",
            "0.5422222222222223\n"
          ],
          "name": "stdout"
        }
      ]
    },
    {
      "cell_type": "code",
      "metadata": {
        "id": "BbQOyfeM_bVx",
        "colab_type": "code",
        "outputId": "972cc35e-dba2-4888-c62d-7e177b77093e",
        "colab": {
          "base_uri": "https://localhost:8080/",
          "height": 255
        }
      },
      "source": [
        "#@title Modelo 7_AGE: BoWText + BoWEmojiBi - (MultinomialNB)\n",
        "from sklearn.decomposition import PCA\n",
        "x1 = BoWText\n",
        "x2 = BoWEmojiBi\n",
        "x = np.zeros((len(x1), len(x1[0])+len(x1[0])))\n",
        "for i in range(len(x1)):\n",
        "  x[i] = np.append(x1[i],x1[i])\n",
        "\n",
        "y = realAge\n",
        "\n",
        "from sklearn.model_selection import train_test_split  \n",
        "X_train, X_test, y_train, y_test = train_test_split(x, y, test_size=0.3, random_state=0)  \n",
        "from sklearn.naive_bayes import MultinomialNB\n",
        "classifier = MultinomialNB(alpha=1.0, class_prior=None, fit_prior=True)  \n",
        "classifier.fit(X_train, y_train)\n",
        "\n",
        "y_pred = classifier.predict(X_test) \n",
        "\n",
        "from sklearn.metrics import classification_report, confusion_matrix, accuracy_score\n",
        "print(confusion_matrix(y_test,y_pred))  \n",
        "print(classification_report(y_test,y_pred))  \n",
        "print(accuracy_score(y_test, y_pred))\n"
      ],
      "execution_count": 0,
      "outputs": [
        {
          "output_type": "stream",
          "text": [
            "[[139  53  42]\n",
            " [ 71  54 107]\n",
            " [ 25  23 161]]\n",
            "              precision    recall  f1-score   support\n",
            "\n",
            "       Above       0.59      0.59      0.59       234\n",
            "     Between       0.42      0.23      0.30       232\n",
            "       Under       0.52      0.77      0.62       209\n",
            "\n",
            "    accuracy                           0.52       675\n",
            "   macro avg       0.51      0.53      0.50       675\n",
            "weighted avg       0.51      0.52      0.50       675\n",
            "\n",
            "0.5244444444444445\n"
          ],
          "name": "stdout"
        }
      ]
    },
    {
      "cell_type": "code",
      "metadata": {
        "id": "cIa0Q47DBD0V",
        "colab_type": "code",
        "outputId": "fdbc5b84-5620-421a-854a-00d17a883c99",
        "colab": {
          "base_uri": "https://localhost:8080/",
          "height": 255
        }
      },
      "source": [
        "#@title Modelo 8_AGE: TextTFIDF(PCA_200) + EmojiBiTFIDF(PCA_100) - (RandomForestClassifier)\n",
        "from sklearn.decomposition import PCA\n",
        "x1 = PCA(n_components=200).fit_transform(TextTFIDF)\n",
        "x2 = PCA(n_components=100).fit_transform(EmojiBiTFIDF)\n",
        "x = np.zeros((len(x1), len(x1[0])+len(x1[0])))\n",
        "for i in range(len(x1)):\n",
        "  x[i] = np.append(x1[i],x1[i])\n",
        "\n",
        "y = realAge\n",
        "\n",
        "from sklearn.model_selection import train_test_split  \n",
        "X_train, X_test, y_train, y_test = train_test_split(x, y, test_size=0.3, random_state=0)  \n",
        "from sklearn.ensemble import RandomForestClassifier\n",
        "classifier = RandomForestClassifier(n_estimators=10000, random_state=0) \n",
        "classifier.fit(X_train, y_train)\n",
        "\n",
        "y_pred = classifier.predict(X_test) \n",
        "\n",
        "from sklearn.metrics import classification_report, confusion_matrix, accuracy_score\n",
        "print(confusion_matrix(y_test,y_pred))  \n",
        "print(classification_report(y_test,y_pred))  \n",
        "print(accuracy_score(y_test, y_pred))\n"
      ],
      "execution_count": 0,
      "outputs": [
        {
          "output_type": "stream",
          "text": [
            "[[161  33  40]\n",
            " [ 90  53  89]\n",
            " [ 38  42 129]]\n",
            "              precision    recall  f1-score   support\n",
            "\n",
            "       Above       0.56      0.69      0.62       234\n",
            "     Between       0.41      0.23      0.29       232\n",
            "       Under       0.50      0.62      0.55       209\n",
            "\n",
            "    accuracy                           0.51       675\n",
            "   macro avg       0.49      0.51      0.49       675\n",
            "weighted avg       0.49      0.51      0.49       675\n",
            "\n",
            "0.5081481481481481\n"
          ],
          "name": "stdout"
        }
      ]
    },
    {
      "cell_type": "markdown",
      "metadata": {
        "id": "04HujfPbCxo4",
        "colab_type": "text"
      },
      "source": [
        "# 12. Modelizar Gender - Pt. I"
      ]
    },
    {
      "cell_type": "code",
      "metadata": {
        "id": "zd4yZoYMC4v1",
        "colab_type": "code",
        "outputId": "8d1d88d6-ac54-4359-ffe7-7938c25536af",
        "colab": {
          "base_uri": "https://localhost:8080/",
          "height": 221
        }
      },
      "source": [
        "#@title Modelo 1_GENDER: BoWText-(RandomForest)\n",
        "x = BoWText\n",
        "y = realGender\n",
        "\n",
        "from sklearn.model_selection import train_test_split  \n",
        "X_train, X_test, y_train, y_test = train_test_split(x, y, test_size=0.3, random_state=0)  \n",
        "from sklearn.ensemble import RandomForestClassifier\n",
        "classifier = RandomForestClassifier(n_estimators=10000, random_state=0)  \n",
        "classifier.fit(X_train, y_train)\n",
        "\n",
        "y_pred = classifier.predict(X_test) \n",
        "\n",
        "from sklearn.metrics import classification_report, confusion_matrix, accuracy_score\n",
        "print(confusion_matrix(y_test,y_pred))  \n",
        "print(classification_report(y_test,y_pred))  \n",
        "print(accuracy_score(y_test, y_pred))"
      ],
      "execution_count": 0,
      "outputs": [
        {
          "output_type": "stream",
          "text": [
            "[[259  72]\n",
            " [ 78 266]]\n",
            "              precision    recall  f1-score   support\n",
            "\n",
            "      Female       0.77      0.78      0.78       331\n",
            "        Male       0.79      0.77      0.78       344\n",
            "\n",
            "    accuracy                           0.78       675\n",
            "   macro avg       0.78      0.78      0.78       675\n",
            "weighted avg       0.78      0.78      0.78       675\n",
            "\n",
            "0.7777777777777778\n"
          ],
          "name": "stdout"
        }
      ]
    },
    {
      "cell_type": "code",
      "metadata": {
        "id": "Y0Kexr4zD9Gb",
        "colab_type": "code",
        "outputId": "de950a82-e1cd-421c-f233-7423ea713520",
        "colab": {
          "base_uri": "https://localhost:8080/",
          "height": 221
        }
      },
      "source": [
        "#@title Modelo 2_GENDER: TextTFIDF-(RandomForest)\n",
        "x = TextTFIDF\n",
        "y = realGender\n",
        "\n",
        "from sklearn.model_selection import train_test_split  \n",
        "X_train, X_test, y_train, y_test = train_test_split(x, y, test_size=0.3, random_state=0)  \n",
        "from sklearn.ensemble import RandomForestClassifier\n",
        "classifier = RandomForestClassifier(n_estimators=10000, random_state=0)  \n",
        "classifier.fit(X_train, y_train)\n",
        "\n",
        "y_pred = classifier.predict(X_test) \n",
        "\n",
        "from sklearn.metrics import classification_report, confusion_matrix, accuracy_score\n",
        "print(confusion_matrix(y_test,y_pred))  \n",
        "print(classification_report(y_test,y_pred))  \n",
        "print(accuracy_score(y_test, y_pred))"
      ],
      "execution_count": 0,
      "outputs": [
        {
          "output_type": "stream",
          "text": [
            "[[241  90]\n",
            " [121 223]]\n",
            "              precision    recall  f1-score   support\n",
            "\n",
            "      Female       0.67      0.73      0.70       331\n",
            "        Male       0.71      0.65      0.68       344\n",
            "\n",
            "    accuracy                           0.69       675\n",
            "   macro avg       0.69      0.69      0.69       675\n",
            "weighted avg       0.69      0.69      0.69       675\n",
            "\n",
            "0.6874074074074074\n"
          ],
          "name": "stdout"
        }
      ]
    },
    {
      "cell_type": "code",
      "metadata": {
        "id": "SA3b99HgEGZ6",
        "colab_type": "code",
        "outputId": "ce1b0bc9-bf91-43db-c19c-bd668ef4ef2a",
        "colab": {
          "base_uri": "https://localhost:8080/",
          "height": 221
        }
      },
      "source": [
        "#@title Modelo 3_GENDER: BoWText + BoWEmoji - (RandomForest)\n",
        "x = np.zeros((len(BoWText), len(BoWText[0])+len(BoWEmoji[0])))\n",
        "for i in range(len(BoWText)):\n",
        "  x[i] = np.append(BoWText[i],BoWEmoji[i])\n",
        "\n",
        "y = realGender\n",
        "\n",
        "from sklearn.model_selection import train_test_split  \n",
        "X_train, X_test, y_train, y_test = train_test_split(x, y, test_size=0.3, random_state=0)  \n",
        "from sklearn.ensemble import RandomForestClassifier\n",
        "classifier = RandomForestClassifier(n_estimators=10000, random_state=0)  \n",
        "classifier.fit(X_train, y_train)\n",
        "\n",
        "y_pred = classifier.predict(X_test) \n",
        "\n",
        "from sklearn.metrics import classification_report, confusion_matrix, accuracy_score\n",
        "print(confusion_matrix(y_test,y_pred))  \n",
        "print(classification_report(y_test,y_pred))  \n",
        "print(accuracy_score(y_test, y_pred))"
      ],
      "execution_count": 0,
      "outputs": [
        {
          "output_type": "stream",
          "text": [
            "[[261  70]\n",
            " [ 53 291]]\n",
            "              precision    recall  f1-score   support\n",
            "\n",
            "      Female       0.83      0.79      0.81       331\n",
            "        Male       0.81      0.85      0.83       344\n",
            "\n",
            "    accuracy                           0.82       675\n",
            "   macro avg       0.82      0.82      0.82       675\n",
            "weighted avg       0.82      0.82      0.82       675\n",
            "\n",
            "0.8177777777777778\n"
          ],
          "name": "stdout"
        }
      ]
    },
    {
      "cell_type": "code",
      "metadata": {
        "id": "mr1XvL2IO4m8",
        "colab_type": "code",
        "outputId": "dcc5423e-4579-479e-c85f-291418874d2a",
        "colab": {
          "base_uri": "https://localhost:8080/",
          "height": 221
        }
      },
      "source": [
        "#@title (MEJOR)Modelo 3(mod)_GENDER: BoWTextNOST + BoWEmoji - (RandomForest)\n",
        "x = np.zeros((len(BoWTextNOST), len(BoWTextNOST[0])+len(BoWEmoji[0])))\n",
        "for i in range(len(BoWTextNOST)):\n",
        "  x[i] = np.append(BoWTextNOST[i],BoWEmoji[i])\n",
        "\n",
        "y = realGender\n",
        "\n",
        "from sklearn.model_selection import train_test_split  \n",
        "X_train, X_test, y_train, y_test = train_test_split(x, y, test_size=0.3, random_state=0)  \n",
        "from sklearn.ensemble import RandomForestClassifier\n",
        "classifier = RandomForestClassifier(n_estimators=10000, random_state=0)  \n",
        "classifier.fit(X_train, y_train)\n",
        "\n",
        "y_pred = classifier.predict(X_test) \n",
        "\n",
        "from sklearn.metrics import classification_report, confusion_matrix, accuracy_score\n",
        "print(confusion_matrix(y_test,y_pred))  \n",
        "print(classification_report(y_test,y_pred))  \n",
        "print(accuracy_score(y_test, y_pred))"
      ],
      "execution_count": 0,
      "outputs": [
        {
          "output_type": "stream",
          "text": [
            "[[258  73]\n",
            " [ 41 303]]\n",
            "              precision    recall  f1-score   support\n",
            "\n",
            "      Female       0.86      0.78      0.82       331\n",
            "        Male       0.81      0.88      0.84       344\n",
            "\n",
            "    accuracy                           0.83       675\n",
            "   macro avg       0.83      0.83      0.83       675\n",
            "weighted avg       0.83      0.83      0.83       675\n",
            "\n",
            "0.8311111111111111\n"
          ],
          "name": "stdout"
        }
      ]
    },
    {
      "cell_type": "markdown",
      "metadata": {
        "id": "to8hrcvsERRZ",
        "colab_type": "text"
      },
      "source": [
        "# 13. Modelizar Gender - Pt. II"
      ]
    },
    {
      "cell_type": "code",
      "metadata": {
        "id": "7qUcqjGLEYb0",
        "colab_type": "code",
        "outputId": "37ff3591-9a38-4b38-a2fd-7d52dce91bdb",
        "colab": {
          "base_uri": "https://localhost:8080/",
          "height": 221
        }
      },
      "source": [
        "#@title Modelo 4_GENDER: BoWText(PCA(100)) + BoWEmoji(PCA(50)) - (RandomForest)\n",
        "from sklearn.decomposition import PCA\n",
        "PCABoWText = PCA(n_components=100).fit_transform(BoWText)\n",
        "PCABoWEmoji = PCA(n_components=10).fit_transform(BoWEmoji)\n",
        "\n",
        "x = np.zeros((len(PCABoWText), len(PCABoWText[0])+len(PCABoWEmoji[0])))\n",
        "for i in range(len(PCABoWText)):\n",
        "  x[i] = np.append(PCABoWText[i],PCABoWEmoji[i])\n",
        "\n",
        "y = realGender\n",
        "\n",
        "from sklearn.model_selection import train_test_split  \n",
        "X_train, X_test, y_train, y_test = train_test_split(x, y, test_size=0.3, random_state=0)  \n",
        "from sklearn.ensemble import RandomForestClassifier\n",
        "classifier = RandomForestClassifier(n_estimators=10000, random_state=0)  \n",
        "classifier.fit(X_train, y_train)\n",
        "\n",
        "y_pred = classifier.predict(X_test) \n",
        "\n",
        "from sklearn.metrics import classification_report, confusion_matrix, accuracy_score\n",
        "print(confusion_matrix(y_test,y_pred))  \n",
        "print(classification_report(y_test,y_pred))  \n",
        "print(accuracy_score(y_test, y_pred))"
      ],
      "execution_count": 0,
      "outputs": [
        {
          "output_type": "stream",
          "text": [
            "[[246  85]\n",
            " [101 243]]\n",
            "              precision    recall  f1-score   support\n",
            "\n",
            "      Female       0.71      0.74      0.73       331\n",
            "        Male       0.74      0.71      0.72       344\n",
            "\n",
            "    accuracy                           0.72       675\n",
            "   macro avg       0.72      0.72      0.72       675\n",
            "weighted avg       0.73      0.72      0.72       675\n",
            "\n",
            "0.7244444444444444\n"
          ],
          "name": "stdout"
        }
      ]
    },
    {
      "cell_type": "code",
      "metadata": {
        "id": "ne-Jw0HqEkGO",
        "colab_type": "code",
        "outputId": "e5db0693-de0a-4798-867b-8f95f5b44742",
        "colab": {
          "base_uri": "https://localhost:8080/",
          "height": 221
        }
      },
      "source": [
        "#@title Modelo 5_GENDER: BoWText(PCA_100) + BoWEmojiBi(PCA_10) - (RandomForest)\n",
        "from sklearn.decomposition import PCA\n",
        "x1 = PCA(n_components=100).fit_transform(BoWText)\n",
        "x2 = PCA(n_components=10).fit_transform(BoWEmojiBi)\n",
        "x = np.zeros((len(x1), len(x1[0])+len(x1[0])))\n",
        "for i in range(len(x1)):\n",
        "  x[i] = np.append(x1[i],x1[i])\n",
        "\n",
        "y = realGender\n",
        "\n",
        "from sklearn.model_selection import train_test_split  \n",
        "X_train, X_test, y_train, y_test = train_test_split(x, y, test_size=0.3, random_state=0)  \n",
        "from sklearn.ensemble import RandomForestClassifier\n",
        "classifier = RandomForestClassifier(n_estimators=10000, random_state=0)  \n",
        "classifier.fit(X_train, y_train)\n",
        "\n",
        "y_pred = classifier.predict(X_test) \n",
        "\n",
        "from sklearn.metrics import classification_report, confusion_matrix, accuracy_score\n",
        "print(confusion_matrix(y_test,y_pred))  \n",
        "print(classification_report(y_test,y_pred))  \n",
        "print(accuracy_score(y_test, y_pred))"
      ],
      "execution_count": 0,
      "outputs": [
        {
          "output_type": "stream",
          "text": [
            "[[249  82]\n",
            " [125 219]]\n",
            "              precision    recall  f1-score   support\n",
            "\n",
            "      Female       0.67      0.75      0.71       331\n",
            "        Male       0.73      0.64      0.68       344\n",
            "\n",
            "    accuracy                           0.69       675\n",
            "   macro avg       0.70      0.69      0.69       675\n",
            "weighted avg       0.70      0.69      0.69       675\n",
            "\n",
            "0.6933333333333334\n"
          ],
          "name": "stdout"
        }
      ]
    },
    {
      "cell_type": "code",
      "metadata": {
        "id": "TIVT-qWoEtrt",
        "colab_type": "code",
        "outputId": "79293a1f-1a13-4f16-8eae-28409d03cd44",
        "colab": {
          "base_uri": "https://localhost:8080/",
          "height": 221
        }
      },
      "source": [
        "#@title Modelo 6_GENDER: BoWTextBi-(RandomForest)\n",
        "x = BoWTextBi\n",
        "y = realGender\n",
        "\n",
        "from sklearn.model_selection import train_test_split  \n",
        "X_train, X_test, y_train, y_test = train_test_split(x, y, test_size=0.3, random_state=0)  \n",
        "from sklearn.ensemble import RandomForestClassifier\n",
        "classifier = RandomForestClassifier(n_estimators=10000, random_state=0)  \n",
        "classifier.fit(X_train, y_train)\n",
        "\n",
        "y_pred = classifier.predict(X_test) \n",
        "\n",
        "from sklearn.metrics import classification_report, confusion_matrix, accuracy_score\n",
        "print(confusion_matrix(y_test,y_pred))  \n",
        "print(classification_report(y_test,y_pred))  \n",
        "print(accuracy_score(y_test, y_pred))"
      ],
      "execution_count": 0,
      "outputs": [
        {
          "output_type": "stream",
          "text": [
            "[[235  96]\n",
            " [109 235]]\n",
            "              precision    recall  f1-score   support\n",
            "\n",
            "      Female       0.68      0.71      0.70       331\n",
            "        Male       0.71      0.68      0.70       344\n",
            "\n",
            "    accuracy                           0.70       675\n",
            "   macro avg       0.70      0.70      0.70       675\n",
            "weighted avg       0.70      0.70      0.70       675\n",
            "\n",
            "0.6962962962962963\n"
          ],
          "name": "stdout"
        }
      ]
    },
    {
      "cell_type": "code",
      "metadata": {
        "id": "sG4JAXhTE84X",
        "colab_type": "code",
        "outputId": "81d1e3a9-8e1b-4aeb-c392-961f2bc252a2",
        "colab": {
          "base_uri": "https://localhost:8080/",
          "height": 221
        }
      },
      "source": [
        "#@title Modelo 7_GENDER: BoWTextTri-(RandomForest)\n",
        "x = BoWTextTri\n",
        "y = realGender\n",
        "\n",
        "from sklearn.model_selection import train_test_split  \n",
        "X_train, X_test, y_train, y_test = train_test_split(x, y, test_size=0.3, random_state=0)  \n",
        "from sklearn.ensemble import RandomForestClassifier\n",
        "classifier = RandomForestClassifier(n_estimators=10000, random_state=0)  \n",
        "classifier.fit(X_train, y_train)\n",
        "\n",
        "y_pred = classifier.predict(X_test) \n",
        "\n",
        "from sklearn.metrics import classification_report, confusion_matrix, accuracy_score\n",
        "print(confusion_matrix(y_test,y_pred))  \n",
        "print(classification_report(y_test,y_pred))  \n",
        "print(accuracy_score(y_test, y_pred))"
      ],
      "execution_count": 0,
      "outputs": [
        {
          "output_type": "stream",
          "text": [
            "[[122 209]\n",
            " [105 239]]\n",
            "              precision    recall  f1-score   support\n",
            "\n",
            "      Female       0.54      0.37      0.44       331\n",
            "        Male       0.53      0.69      0.60       344\n",
            "\n",
            "    accuracy                           0.53       675\n",
            "   macro avg       0.54      0.53      0.52       675\n",
            "weighted avg       0.54      0.53      0.52       675\n",
            "\n",
            "0.5348148148148149\n"
          ],
          "name": "stdout"
        }
      ]
    },
    {
      "cell_type": "code",
      "metadata": {
        "id": "9qnQjGOQFHvY",
        "colab_type": "code",
        "outputId": "b8ff97d3-6e5c-443c-d1b8-bd9e444460d0",
        "colab": {
          "base_uri": "https://localhost:8080/",
          "height": 221
        }
      },
      "source": [
        "#@title Modelo 8_GENDER: BoWEmoji-(RandomForest)\n",
        "x = BoWEmoji\n",
        "y = realGender\n",
        "\n",
        "from sklearn.model_selection import train_test_split  \n",
        "X_train, X_test, y_train, y_test = train_test_split(x, y, test_size=0.3, random_state=0)  \n",
        "from sklearn.ensemble import RandomForestClassifier\n",
        "classifier = RandomForestClassifier(n_estimators=10000, random_state=0)  \n",
        "classifier.fit(X_train, y_train)\n",
        "\n",
        "y_pred = classifier.predict(X_test) \n",
        "\n",
        "from sklearn.metrics import classification_report, confusion_matrix, accuracy_score\n",
        "print(confusion_matrix(y_test,y_pred))  \n",
        "print(classification_report(y_test,y_pred))  \n",
        "print(accuracy_score(y_test, y_pred))"
      ],
      "execution_count": 0,
      "outputs": [
        {
          "output_type": "stream",
          "text": [
            "[[240  91]\n",
            " [ 84 260]]\n",
            "              precision    recall  f1-score   support\n",
            "\n",
            "      Female       0.74      0.73      0.73       331\n",
            "        Male       0.74      0.76      0.75       344\n",
            "\n",
            "    accuracy                           0.74       675\n",
            "   macro avg       0.74      0.74      0.74       675\n",
            "weighted avg       0.74      0.74      0.74       675\n",
            "\n",
            "0.7407407407407407\n"
          ],
          "name": "stdout"
        }
      ]
    },
    {
      "cell_type": "code",
      "metadata": {
        "id": "24Wp31THFM2c",
        "colab_type": "code",
        "outputId": "8d5bc2f8-b9c7-4c99-a4f0-65d7899cc16e",
        "colab": {
          "base_uri": "https://localhost:8080/",
          "height": 221
        }
      },
      "source": [
        "#@title Modelo 9_GENDER: BoWEmojiBi-(RandomForest)\n",
        "x = BoWEmojiBi\n",
        "y = realGender\n",
        "\n",
        "from sklearn.model_selection import train_test_split  \n",
        "X_train, X_test, y_train, y_test = train_test_split(x, y, test_size=0.3, random_state=0)  \n",
        "from sklearn.ensemble import RandomForestClassifier\n",
        "classifier = RandomForestClassifier(n_estimators=10000, random_state=0)  \n",
        "classifier.fit(X_train, y_train)\n",
        "\n",
        "y_pred = classifier.predict(X_test) \n",
        "\n",
        "from sklearn.metrics import classification_report, confusion_matrix, accuracy_score\n",
        "print(confusion_matrix(y_test,y_pred))  \n",
        "print(classification_report(y_test,y_pred))  \n",
        "print(accuracy_score(y_test, y_pred))"
      ],
      "execution_count": 0,
      "outputs": [
        {
          "output_type": "stream",
          "text": [
            "[[233  98]\n",
            " [ 77 267]]\n",
            "              precision    recall  f1-score   support\n",
            "\n",
            "      Female       0.75      0.70      0.73       331\n",
            "        Male       0.73      0.78      0.75       344\n",
            "\n",
            "    accuracy                           0.74       675\n",
            "   macro avg       0.74      0.74      0.74       675\n",
            "weighted avg       0.74      0.74      0.74       675\n",
            "\n",
            "0.7407407407407407\n"
          ],
          "name": "stdout"
        }
      ]
    },
    {
      "cell_type": "code",
      "metadata": {
        "id": "SYJEPzbkFRWP",
        "colab_type": "code",
        "outputId": "a7257361-83ff-4feb-e93a-c148a018053e",
        "colab": {
          "base_uri": "https://localhost:8080/",
          "height": 221
        }
      },
      "source": [
        "#@title Modelo 10_GENDER: BoWEmojiTri-(RandomForest)\n",
        "x = BoWEmojiTri\n",
        "y = realGender\n",
        "\n",
        "from sklearn.model_selection import train_test_split  \n",
        "X_train, X_test, y_train, y_test = train_test_split(x, y, test_size=0.3, random_state=0)  \n",
        "from sklearn.ensemble import RandomForestClassifier\n",
        "classifier = RandomForestClassifier(n_estimators=10000, random_state=0)  \n",
        "classifier.fit(X_train, y_train)\n",
        "\n",
        "y_pred = classifier.predict(X_test) \n",
        "\n",
        "from sklearn.metrics import classification_report, confusion_matrix, accuracy_score\n",
        "print(confusion_matrix(y_test,y_pred))  \n",
        "print(classification_report(y_test,y_pred))  \n",
        "print(accuracy_score(y_test, y_pred))"
      ],
      "execution_count": 0,
      "outputs": [
        {
          "output_type": "stream",
          "text": [
            "[[202 129]\n",
            " [ 80 264]]\n",
            "              precision    recall  f1-score   support\n",
            "\n",
            "      Female       0.72      0.61      0.66       331\n",
            "        Male       0.67      0.77      0.72       344\n",
            "\n",
            "    accuracy                           0.69       675\n",
            "   macro avg       0.69      0.69      0.69       675\n",
            "weighted avg       0.69      0.69      0.69       675\n",
            "\n",
            "0.6903703703703704\n"
          ],
          "name": "stdout"
        }
      ]
    },
    {
      "cell_type": "markdown",
      "metadata": {
        "id": "qwUKTLqEFlEm",
        "colab_type": "text"
      },
      "source": [
        "# 14. Modelizar Variety - Pt. I"
      ]
    },
    {
      "cell_type": "code",
      "metadata": {
        "id": "XhwvT3d1Fj4y",
        "colab_type": "code",
        "outputId": "4e04130f-6fb3-4b8f-e305-86094821a806",
        "colab": {
          "base_uri": "https://localhost:8080/",
          "height": 918
        }
      },
      "source": [
        "#@title Modelo 1_VARIETY: BoWText-(RandomForest)\n",
        "x = BoWText\n",
        "y = realVariety\n",
        "\n",
        "from sklearn.model_selection import train_test_split  \n",
        "X_train, X_test, y_train, y_test = train_test_split(x, y, test_size=0.3, random_state=0)  \n",
        "from sklearn.ensemble import RandomForestClassifier\n",
        "classifier = RandomForestClassifier(n_estimators=10000, random_state=0)  \n",
        "classifier.fit(X_train, y_train)\n",
        "\n",
        "y_pred = classifier.predict(X_test) \n",
        "\n",
        "from sklearn.metrics import classification_report, confusion_matrix, accuracy_score\n",
        "print(confusion_matrix(y_test,y_pred))  \n",
        "print(classification_report(y_test,y_pred))  \n",
        "print(accuracy_score(y_test, y_pred))"
      ],
      "execution_count": 0,
      "outputs": [
        {
          "output_type": "stream",
          "text": [
            "[[34  0  1  0  0  0  0  2  0  0  0  0  0  0  0]\n",
            " [ 0 41  0  0  0  0  0  0  0  0  0  0  0  0  0]\n",
            " [ 0  0 38  0  0  0  0  1  0  0  0  0  0  1  0]\n",
            " [ 0  0  2 49  0  0  0  2  0  0  1  0  0  2  1]\n",
            " [ 0  0  0  0 42  0  0  0  0  0  0  0  0  0  0]\n",
            " [ 0  1  0  0  0 50  0  1  0  0  0  0  0  0  0]\n",
            " [ 1  0  0  0  0  0 48  0  0  0  0  0  0  0  0]\n",
            " [ 0  0  0  0  0  0  0 29  0  2  0  0  0  2  1]\n",
            " [ 2  0  1  0  1  0  0  2 42  0  1  0  0  0  0]\n",
            " [ 0  0  0  1  0  0  0  2  0 41  1  0  0  2  1]\n",
            " [ 0  0  1  1  0  0  0  6  1  0 32  0  0  1  1]\n",
            " [ 0  1  0  0  0  0  0  0  0  0  0 49  0  0  1]\n",
            " [ 0  0  0  0  0  0  0  0  0  0  0  0 39  0  0]\n",
            " [ 0  0  0  2  0  0  0  3  1  3  0  0  0 41  2]\n",
            " [ 0  0  0  0  0  0  0  0  0  0  1  0  0  2 38]]\n",
            "                  precision    recall  f1-score   support\n",
            "\n",
            "        Algeria\n",
            "       0.92      0.92      0.92        37\n",
            "          Egypt\n",
            "       0.95      1.00      0.98        41\n",
            "           Iraq\n",
            "       0.88      0.95      0.92        40\n",
            "         Kuwait\n",
            "       0.92      0.86      0.89        57\n",
            "   LebanonSyria\n",
            "       0.98      1.00      0.99        42\n",
            "          Libya\n",
            "       1.00      0.96      0.98        52\n",
            "        Morocco\n",
            "       1.00      0.98      0.99        49\n",
            "           Oman\n",
            "       0.60      0.85      0.71        34\n",
            "PalestineJordan\n",
            "       0.95      0.86      0.90        49\n",
            "          Qatar\n",
            "       0.89      0.85      0.87        48\n",
            "    SaudiArabia\n",
            "       0.89      0.74      0.81        43\n",
            "          Sudan\n",
            "       1.00      0.96      0.98        51\n",
            "        Tunisia\n",
            "       1.00      1.00      1.00        39\n",
            "            UAE\n",
            "       0.80      0.79      0.80        52\n",
            "          Yemen\n",
            "       0.84      0.93      0.88        41\n",
            "\n",
            "        accuracy                           0.91       675\n",
            "       macro avg       0.91      0.91      0.91       675\n",
            "    weighted avg       0.92      0.91      0.91       675\n",
            "\n",
            "0.9081481481481481\n"
          ],
          "name": "stdout"
        }
      ]
    },
    {
      "cell_type": "code",
      "metadata": {
        "id": "_JyifW41Fxxz",
        "colab_type": "code",
        "outputId": "47dbbd1b-e8f8-450c-a33f-0ac5595a5ee9",
        "colab": {
          "base_uri": "https://localhost:8080/",
          "height": 918
        }
      },
      "source": [
        "#@title Modelo 2_VARIETY: TextTFIDF-(RandomForest)\n",
        "x = TextTFIDF\n",
        "y = realVariety\n",
        "\n",
        "from sklearn.model_selection import train_test_split  \n",
        "X_train, X_test, y_train, y_test = train_test_split(x, y, test_size=0.3, random_state=0)  \n",
        "from sklearn.ensemble import RandomForestClassifier\n",
        "classifier = RandomForestClassifier(n_estimators=10000, random_state=0)  \n",
        "classifier.fit(X_train, y_train)\n",
        "\n",
        "y_pred = classifier.predict(X_test) \n",
        "\n",
        "from sklearn.metrics import classification_report, confusion_matrix, accuracy_score\n",
        "print(confusion_matrix(y_test,y_pred))  \n",
        "print(classification_report(y_test,y_pred))  \n",
        "print(accuracy_score(y_test, y_pred))"
      ],
      "execution_count": 0,
      "outputs": [
        {
          "output_type": "stream",
          "text": [
            "[[17  2  0  0  1  0  3  2  0  0  0  3  7  0  2]\n",
            " [ 0 37  0  0  0  0  0  0  1  0  0  2  1  0  0]\n",
            " [ 5  0 24  0  1  1  1  2  0  0  0  1  3  1  1]\n",
            " [ 7  0  3 13  0  1  1  5  1 13  7  1  2  2  1]\n",
            " [ 1  0  0  0 38  0  0  0  0  0  0  0  3  0  0]\n",
            " [ 8  7  5  0  0 21  2  0  0  0  2  2  4  0  1]\n",
            " [ 2  1  0  0  1  0 42  0  0  0  1  1  0  0  1]\n",
            " [ 2  3  3  0  1  0  0 16  1  2  3  0  2  0  1]\n",
            " [ 3  1  0  0  9  0  0  1 30  0  0  2  3  0  0]\n",
            " [ 3  3  0  6  1  1  1  3  0 18  3  1  1  4  3]\n",
            " [ 7  4  1  1  1  0  3  5  0  1 13  2  0  4  1]\n",
            " [ 3  5  0  0  0  0  0  0  1  0  0 35  4  0  3]\n",
            " [ 6  0  1  0  1  0  0  0  2  0  0  1 26  1  1]\n",
            " [ 0  1  0  1  2  0  0  1  3  9  0  0  0 34  1]\n",
            " [ 0  0  0  0  0  0  0  3  0  1  0  1  1  0 35]]\n",
            "                  precision    recall  f1-score   support\n",
            "\n",
            "        Algeria\n",
            "       0.27      0.46      0.34        37\n",
            "          Egypt\n",
            "       0.58      0.90      0.70        41\n",
            "           Iraq\n",
            "       0.65      0.60      0.62        40\n",
            "         Kuwait\n",
            "       0.62      0.23      0.33        57\n",
            "   LebanonSyria\n",
            "       0.68      0.90      0.78        42\n",
            "          Libya\n",
            "       0.88      0.40      0.55        52\n",
            "        Morocco\n",
            "       0.79      0.86      0.82        49\n",
            "           Oman\n",
            "       0.42      0.47      0.44        34\n",
            "PalestineJordan\n",
            "       0.77      0.61      0.68        49\n",
            "          Qatar\n",
            "       0.41      0.38      0.39        48\n",
            "    SaudiArabia\n",
            "       0.45      0.30      0.36        43\n",
            "          Sudan\n",
            "       0.67      0.69      0.68        51\n",
            "        Tunisia\n",
            "       0.46      0.67      0.54        39\n",
            "            UAE\n",
            "       0.74      0.65      0.69        52\n",
            "          Yemen\n",
            "       0.69      0.85      0.76        41\n",
            "\n",
            "        accuracy                           0.59       675\n",
            "       macro avg       0.60      0.60      0.58       675\n",
            "    weighted avg       0.62      0.59      0.58       675\n",
            "\n",
            "0.5911111111111111\n"
          ],
          "name": "stdout"
        }
      ]
    },
    {
      "cell_type": "code",
      "metadata": {
        "id": "Gga6YO18F9sK",
        "colab_type": "code",
        "outputId": "88c625cb-3d6f-4432-e085-098e413183d5",
        "colab": {
          "base_uri": "https://localhost:8080/",
          "height": 918
        }
      },
      "source": [
        "#@title (MEJOR)Modelo 3_VARIETY: BoWText + BoWEmoji - (RandomForest)\n",
        "x = np.zeros((len(BoWText), len(BoWText[0])+len(BoWEmoji[0])))\n",
        "for i in range(len(BoWText)):\n",
        "  x[i] = np.append(BoWText[i],BoWEmoji[i])\n",
        "\n",
        "y = realVariety\n",
        "\n",
        "from sklearn.model_selection import train_test_split  \n",
        "X_train, X_test, y_train, y_test = train_test_split(x, y, test_size=0.3, random_state=0)  \n",
        "from sklearn.ensemble import RandomForestClassifier\n",
        "classifier = RandomForestClassifier(n_estimators=10000, random_state=0)  \n",
        "classifier.fit(X_train, y_train)\n",
        "\n",
        "y_pred = classifier.predict(X_test) \n",
        "\n",
        "from sklearn.metrics import classification_report, confusion_matrix, accuracy_score\n",
        "print(confusion_matrix(y_test,y_pred))  \n",
        "print(classification_report(y_test,y_pred))  \n",
        "print(accuracy_score(y_test, y_pred))"
      ],
      "execution_count": 0,
      "outputs": [
        {
          "output_type": "stream",
          "text": [
            "[[33  0  1  0  0  0  1  2  0  0  0  0  0  0  0]\n",
            " [ 0 41  0  0  0  0  0  0  0  0  0  0  0  0  0]\n",
            " [ 0  0 38  0  0  0  0  1  0  0  1  0  0  0  0]\n",
            " [ 0  0  1 50  0  0  0  2  0  0  1  0  0  2  1]\n",
            " [ 0  0  0  0 42  0  0  0  0  0  0  0  0  0  0]\n",
            " [ 0  1  0  0  0 50  0  1  0  0  0  0  0  0  0]\n",
            " [ 1  0  0  0  0  0 48  0  0  0  0  0  0  0  0]\n",
            " [ 0  0  0  0  0  0  0 30  0  1  0  0  0  2  1]\n",
            " [ 2  0  1  0  1  0  0  2 42  0  1  0  0  0  0]\n",
            " [ 0  0  1  1  0  0  0  1  0 41  1  0  0  2  1]\n",
            " [ 0  0  1  1  0  0  0  6  1  0 32  0  0  1  1]\n",
            " [ 0  1  0  0  0  0  0  0  0  0  0 49  0  0  1]\n",
            " [ 0  0  0  0  0  0  0  0  0  0  0  0 39  0  0]\n",
            " [ 0  0  0  2  0  0  0  1  1  4  0  0  0 42  2]\n",
            " [ 0  0  0  0  0  0  0  0  0  0  1  0  0  2 38]]\n",
            "                  precision    recall  f1-score   support\n",
            "\n",
            "        Algeria\n",
            "       0.92      0.89      0.90        37\n",
            "          Egypt\n",
            "       0.95      1.00      0.98        41\n",
            "           Iraq\n",
            "       0.88      0.95      0.92        40\n",
            "         Kuwait\n",
            "       0.93      0.88      0.90        57\n",
            "   LebanonSyria\n",
            "       0.98      1.00      0.99        42\n",
            "          Libya\n",
            "       1.00      0.96      0.98        52\n",
            "        Morocco\n",
            "       0.98      0.98      0.98        49\n",
            "           Oman\n",
            "       0.65      0.88      0.75        34\n",
            "PalestineJordan\n",
            "       0.95      0.86      0.90        49\n",
            "          Qatar\n",
            "       0.89      0.85      0.87        48\n",
            "    SaudiArabia\n",
            "       0.86      0.74      0.80        43\n",
            "          Sudan\n",
            "       1.00      0.96      0.98        51\n",
            "        Tunisia\n",
            "       1.00      1.00      1.00        39\n",
            "            UAE\n",
            "       0.82      0.81      0.82        52\n",
            "          Yemen\n",
            "       0.84      0.93      0.88        41\n",
            "\n",
            "        accuracy                           0.91       675\n",
            "       macro avg       0.91      0.91      0.91       675\n",
            "    weighted avg       0.92      0.91      0.91       675\n",
            "\n",
            "0.9111111111111111\n"
          ],
          "name": "stdout"
        }
      ]
    },
    {
      "cell_type": "markdown",
      "metadata": {
        "id": "ZrZ5lHwWGIBy",
        "colab_type": "text"
      },
      "source": [
        "# 15. Modelizar Variety - Pt. II"
      ]
    },
    {
      "cell_type": "code",
      "metadata": {
        "id": "ZW3tun1TGNwc",
        "colab_type": "code",
        "outputId": "307b841a-0227-496b-c9e9-2b3a78b73cbc",
        "colab": {
          "base_uri": "https://localhost:8080/",
          "height": 918
        }
      },
      "source": [
        "#@title Modelo 4_VARIETY: BoWText(PCA(100)) + BoWEmoji(PCA(50)) - (RandomForest)\n",
        "from sklearn.decomposition import PCA\n",
        "PCABoWText = PCA(n_components=100).fit_transform(BoWText)\n",
        "PCABoWEmoji = PCA(n_components=10).fit_transform(BoWEmoji)\n",
        "\n",
        "x = np.zeros((len(PCABoWText), len(PCABoWText[0])+len(PCABoWEmoji[0])))\n",
        "for i in range(len(PCABoWText)):\n",
        "  x[i] = np.append(PCABoWText[i],PCABoWEmoji[i])\n",
        "\n",
        "y = realVariety\n",
        "\n",
        "from sklearn.model_selection import train_test_split  \n",
        "X_train, X_test, y_train, y_test = train_test_split(x, y, test_size=0.3, random_state=0)  \n",
        "from sklearn.ensemble import RandomForestClassifier\n",
        "classifier = RandomForestClassifier(n_estimators=10000, random_state=0)  \n",
        "classifier.fit(X_train, y_train)\n",
        "\n",
        "y_pred = classifier.predict(X_test) \n",
        "\n",
        "from sklearn.metrics import classification_report, confusion_matrix, accuracy_score\n",
        "print(confusion_matrix(y_test,y_pred))  \n",
        "print(classification_report(y_test,y_pred))  \n",
        "print(accuracy_score(y_test, y_pred))"
      ],
      "execution_count": 0,
      "outputs": [
        {
          "output_type": "stream",
          "text": [
            "[[32  0  1  0  0  1  0  3  0  0  0  0  0  0  0]\n",
            " [ 0 41  0  0  0  0  0  0  0  0  0  0  0  0  0]\n",
            " [ 2  0 33  0  0  0  0  3  0  0  1  0  0  1  0]\n",
            " [ 1  0  6 37  0  0  0  7  0  0  4  0  0  2  0]\n",
            " [ 0  0  1  0 41  0  0  0  0  0  0  0  0  0  0]\n",
            " [ 0  0  0  0  0 48  0  3  0  0  0  0  1  0  0]\n",
            " [ 4  0  1  0  0  0 44  0  0  0  0  0  0  0  0]\n",
            " [ 1  0  0  2  0  2  0 24  1  2  1  0  0  1  0]\n",
            " [ 1  0  0  0  1  0  0  1 43  0  3  0  0  0  0]\n",
            " [ 0  1  1  1  0  1  0  2  0 37  1  0  0  4  0]\n",
            " [ 1  0  0  1  0  0  0  8  1  0 28  0  0  4  0]\n",
            " [ 0  0  0  0  0  0  0  1  0  0  0 50  0  0  0]\n",
            " [ 0  0  0  0  0  2  0  1  0  0  0  0 36  0  0]\n",
            " [ 0  0  0  0  0  1  0  5  0  9  9  0  0 28  0]\n",
            " [ 0  0  0  0  0  1  0  4  0  0  3  0  0  1 32]]\n",
            "                  precision    recall  f1-score   support\n",
            "\n",
            "        Algeria\n",
            "       0.76      0.86      0.81        37\n",
            "          Egypt\n",
            "       0.98      1.00      0.99        41\n",
            "           Iraq\n",
            "       0.77      0.82      0.80        40\n",
            "         Kuwait\n",
            "       0.90      0.65      0.76        57\n",
            "   LebanonSyria\n",
            "       0.98      0.98      0.98        42\n",
            "          Libya\n",
            "       0.86      0.92      0.89        52\n",
            "        Morocco\n",
            "       1.00      0.90      0.95        49\n",
            "           Oman\n",
            "       0.39      0.71      0.50        34\n",
            "PalestineJordan\n",
            "       0.96      0.88      0.91        49\n",
            "          Qatar\n",
            "       0.77      0.77      0.77        48\n",
            "    SaudiArabia\n",
            "       0.56      0.65      0.60        43\n",
            "          Sudan\n",
            "       1.00      0.98      0.99        51\n",
            "        Tunisia\n",
            "       0.97      0.92      0.95        39\n",
            "            UAE\n",
            "       0.68      0.54      0.60        52\n",
            "          Yemen\n",
            "       1.00      0.78      0.88        41\n",
            "\n",
            "        accuracy                           0.82       675\n",
            "       macro avg       0.84      0.82      0.82       675\n",
            "    weighted avg       0.85      0.82      0.83       675\n",
            "\n",
            "0.8207407407407408\n"
          ],
          "name": "stdout"
        }
      ]
    },
    {
      "cell_type": "code",
      "metadata": {
        "id": "21SSFQxIGU4n",
        "colab_type": "code",
        "outputId": "a2872ba4-e699-4e96-f1c7-e3930f90a8a9",
        "colab": {
          "base_uri": "https://localhost:8080/",
          "height": 918
        }
      },
      "source": [
        "#@title Modelo 5_VARIETY: BoWText(PCA_100) + BoWEmojiBi(PCA_10) - (RandomForest)\n",
        "from sklearn.decomposition import PCA\n",
        "x1 = PCA(n_components=100).fit_transform(BoWText)\n",
        "x2 = PCA(n_components=10).fit_transform(BoWEmojiBi)\n",
        "x = np.zeros((len(x1), len(x1[0])+len(x1[0])))\n",
        "for i in range(len(x1)):\n",
        "  x[i] = np.append(x1[i],x1[i])\n",
        "\n",
        "y = realVariety\n",
        "\n",
        "from sklearn.model_selection import train_test_split  \n",
        "X_train, X_test, y_train, y_test = train_test_split(x, y, test_size=0.3, random_state=0)  \n",
        "from sklearn.ensemble import RandomForestClassifier\n",
        "classifier = RandomForestClassifier(n_estimators=10000, random_state=0)  \n",
        "classifier.fit(X_train, y_train)\n",
        "\n",
        "y_pred = classifier.predict(X_test) \n",
        "\n",
        "from sklearn.metrics import classification_report, confusion_matrix, accuracy_score\n",
        "print(confusion_matrix(y_test,y_pred))  \n",
        "print(classification_report(y_test,y_pred))  \n",
        "print(accuracy_score(y_test, y_pred))"
      ],
      "execution_count": 0,
      "outputs": [
        {
          "output_type": "stream",
          "text": [
            "[[30  0  1  0  0  1  0  4  0  0  1  0  0  0  0]\n",
            " [ 0 41  0  0  0  0  0  0  0  0  0  0  0  0  0]\n",
            " [ 2  0 32  1  0  0  0  2  0  0  2  0  0  1  0]\n",
            " [ 0  0  5 39  0  0  0  7  0  0  4  0  0  2  0]\n",
            " [ 0  0  1  0 41  0  0  0  0  0  0  0  0  0  0]\n",
            " [ 2  1  0  0  0 46  0  2  0  0  0  0  1  0  0]\n",
            " [ 4  0  0  0  0  0 44  0  0  0  1  0  0  0  0]\n",
            " [ 1  0  0  0  0  1  1 26  1  2  2  0  0  0  0]\n",
            " [ 2  0  0  0  1  0  0  1 43  0  2  0  0  0  0]\n",
            " [ 0  1  0  2  0  1  0  3  0 36  1  0  0  4  0]\n",
            " [ 1  0  0  1  0  0  0  8  1  0 27  0  0  5  0]\n",
            " [ 0  0  0  0  0  0  0  0  0  0  0 51  0  0  0]\n",
            " [ 1  0  0  0  0  2  0  0  0  0  0  0 36  0  0]\n",
            " [ 0  0  0  0  0  0  0  5  0  9  6  0  0 32  0]\n",
            " [ 0  0  0  1  0  1  0  4  0  0  2  0  0  1 32]]\n",
            "                  precision    recall  f1-score   support\n",
            "\n",
            "        Algeria\n",
            "       0.70      0.81      0.75        37\n",
            "          Egypt\n",
            "       0.95      1.00      0.98        41\n",
            "           Iraq\n",
            "       0.82      0.80      0.81        40\n",
            "         Kuwait\n",
            "       0.89      0.68      0.77        57\n",
            "   LebanonSyria\n",
            "       0.98      0.98      0.98        42\n",
            "          Libya\n",
            "       0.88      0.88      0.88        52\n",
            "        Morocco\n",
            "       0.98      0.90      0.94        49\n",
            "           Oman\n",
            "       0.42      0.76      0.54        34\n",
            "PalestineJordan\n",
            "       0.96      0.88      0.91        49\n",
            "          Qatar\n",
            "       0.77      0.75      0.76        48\n",
            "    SaudiArabia\n",
            "       0.56      0.63      0.59        43\n",
            "          Sudan\n",
            "       1.00      1.00      1.00        51\n",
            "        Tunisia\n",
            "       0.97      0.92      0.95        39\n",
            "            UAE\n",
            "       0.71      0.62      0.66        52\n",
            "          Yemen\n",
            "       1.00      0.78      0.88        41\n",
            "\n",
            "        accuracy                           0.82       675\n",
            "       macro avg       0.84      0.83      0.83       675\n",
            "    weighted avg       0.85      0.82      0.83       675\n",
            "\n",
            "0.8237037037037037\n"
          ],
          "name": "stdout"
        }
      ]
    },
    {
      "cell_type": "code",
      "metadata": {
        "id": "pV38HRZ4GcyS",
        "colab_type": "code",
        "outputId": "2d9dcda7-3d36-4565-efaa-feefe196dd2f",
        "colab": {
          "base_uri": "https://localhost:8080/",
          "height": 918
        }
      },
      "source": [
        "#@title Modelo 6_VARIETY: BoWTextBi-(RandomForest)\n",
        "x = BoWTextBi\n",
        "y = realVariety\n",
        "\n",
        "from sklearn.model_selection import train_test_split  \n",
        "X_train, X_test, y_train, y_test = train_test_split(x, y, test_size=0.3, random_state=0)  \n",
        "from sklearn.ensemble import RandomForestClassifier\n",
        "classifier = RandomForestClassifier(n_estimators=10000, random_state=0)  \n",
        "classifier.fit(X_train, y_train)\n",
        "\n",
        "y_pred = classifier.predict(X_test) \n",
        "\n",
        "from sklearn.metrics import classification_report, confusion_matrix, accuracy_score\n",
        "print(confusion_matrix(y_test,y_pred))  \n",
        "print(classification_report(y_test,y_pred))  \n",
        "print(accuracy_score(y_test, y_pred))"
      ],
      "execution_count": 0,
      "outputs": [
        {
          "output_type": "stream",
          "text": [
            "[[ 8  0  6  0  0  5  4  5  2  0  1  2  2  0  2]\n",
            " [ 0 34  1  0  0  0  0  0  3  0  1  1  0  1  0]\n",
            " [ 2  0 18  2  2  1  2  3  1  2  3  0  1  1  2]\n",
            " [ 0  0 12  8  1  2  2  9  3  4  4  2  2  8  0]\n",
            " [ 1  0  2  0 33  1  0  0  5  0  0  0  0  0  0]\n",
            " [ 6  6  5  4  1 13  6  2  4  1  0  2  1  1  0]\n",
            " [ 3  0  2  0  0  1 39  0  0  0  0  2  2  0  0]\n",
            " [ 1  0  9  1  1  0  2 14  0  4  0  1  0  0  1]\n",
            " [ 2  2  8  1  4  1  0  1 24  1  2  0  1  1  1]\n",
            " [ 0  0  8  1  0  3  1  3  0 23  1  4  0  3  1]\n",
            " [ 0  0  5  4  0  3  0  9  1  4 14  0  1  1  1]\n",
            " [ 2  2  4  0  0  2  0  5  0  0  1 32  2  1  0]\n",
            " [ 1  0  3  0  1  2  4  5  1  0  0  0 22  0  0]\n",
            " [ 0  0  4  5  0  0  3  5  1  1  6  1  0 24  2]\n",
            " [ 0  0  1  5  0  2  0  3  1  2  1  0  1  0 25]]\n",
            "                  precision    recall  f1-score   support\n",
            "\n",
            "        Algeria\n",
            "       0.31      0.22      0.25        37\n",
            "          Egypt\n",
            "       0.77      0.83      0.80        41\n",
            "           Iraq\n",
            "       0.20      0.45      0.28        40\n",
            "         Kuwait\n",
            "       0.26      0.14      0.18        57\n",
            "   LebanonSyria\n",
            "       0.77      0.79      0.78        42\n",
            "          Libya\n",
            "       0.36      0.25      0.30        52\n",
            "        Morocco\n",
            "       0.62      0.80      0.70        49\n",
            "           Oman\n",
            "       0.22      0.41      0.29        34\n",
            "PalestineJordan\n",
            "       0.52      0.49      0.51        49\n",
            "          Qatar\n",
            "       0.55      0.48      0.51        48\n",
            "    SaudiArabia\n",
            "       0.41      0.33      0.36        43\n",
            "          Sudan\n",
            "       0.68      0.63      0.65        51\n",
            "        Tunisia\n",
            "       0.63      0.56      0.59        39\n",
            "            UAE\n",
            "       0.59      0.46      0.52        52\n",
            "          Yemen\n",
            "       0.71      0.61      0.66        41\n",
            "\n",
            "        accuracy                           0.49       675\n",
            "       macro avg       0.51      0.50      0.49       675\n",
            "    weighted avg       0.51      0.49      0.49       675\n",
            "\n",
            "0.49037037037037035\n"
          ],
          "name": "stdout"
        }
      ]
    },
    {
      "cell_type": "code",
      "metadata": {
        "id": "6l-9xHT2Gi-w",
        "colab_type": "code",
        "outputId": "54a21d8d-2884-4e41-ab8d-4925e84fe55e",
        "colab": {
          "base_uri": "https://localhost:8080/",
          "height": 918
        }
      },
      "source": [
        "#@title Modelo 7_VARIETY: BoWTextTri-(RandomForest)\n",
        "x = BoWTextTri\n",
        "y = realVariety\n",
        "\n",
        "from sklearn.model_selection import train_test_split  \n",
        "X_train, X_test, y_train, y_test = train_test_split(x, y, test_size=0.3, random_state=0)  \n",
        "from sklearn.ensemble import RandomForestClassifier\n",
        "classifier = RandomForestClassifier(n_estimators=10000, random_state=0)  \n",
        "classifier.fit(X_train, y_train)\n",
        "\n",
        "y_pred = classifier.predict(X_test) \n",
        "\n",
        "from sklearn.metrics import classification_report, confusion_matrix, accuracy_score\n",
        "print(confusion_matrix(y_test,y_pred))  \n",
        "print(classification_report(y_test,y_pred))  \n",
        "print(accuracy_score(y_test, y_pred))"
      ],
      "execution_count": 0,
      "outputs": [
        {
          "output_type": "stream",
          "text": [
            "[[ 3  0  3  0 12  3  2  5  0  2  2  0  1  3  1]\n",
            " [ 1 10  0  0 19  0  3  3  2  0  0  2  1  0  0]\n",
            " [ 1  0  8  0 21  0  0  0  2  1  2  1  0  0  4]\n",
            " [ 0  0  4  6 20  4  1  0  3  2  3  3  3  5  3]\n",
            " [ 1  0  3  0 29  0  1  0  2  0  2  1  2  0  1]\n",
            " [ 4  1  0  2 22  4  3  2  6  1  1  3  0  0  3]\n",
            " [ 0  1  1  0 25  3  4  2  1  2  2  2  1  1  4]\n",
            " [ 1  1  1  1 13  1  1  3  0  5  1  2  0  0  4]\n",
            " [ 1  1  7  4 23  1  0  0  4  1  2  3  0  0  2]\n",
            " [ 0  0  0  2 12  3  0  0  2  9  3  3  1  6  7]\n",
            " [ 0  0  2  1 12  3  0  3  5  4 10  2  0  0  1]\n",
            " [ 1  4  0  2 23  2  2  3  1  1  2  4  0  2  4]\n",
            " [ 1  1  1  0 12  3  3  0  0  2  2  4  8  0  2]\n",
            " [ 1  0  2  2  9  1  2  5  0  2  4  2  0 18  4]\n",
            " [ 1  0  1  5  4  1  1  1  2  3  3  2  2  1 14]]\n",
            "                  precision    recall  f1-score   support\n",
            "\n",
            "        Algeria\n",
            "       0.19      0.08      0.11        37\n",
            "          Egypt\n",
            "       0.53      0.24      0.33        41\n",
            "           Iraq\n",
            "       0.24      0.20      0.22        40\n",
            "         Kuwait\n",
            "       0.24      0.11      0.15        57\n",
            "   LebanonSyria\n",
            "       0.11      0.69      0.19        42\n",
            "          Libya\n",
            "       0.14      0.08      0.10        52\n",
            "        Morocco\n",
            "       0.17      0.08      0.11        49\n",
            "           Oman\n",
            "       0.11      0.09      0.10        34\n",
            "PalestineJordan\n",
            "       0.13      0.08      0.10        49\n",
            "          Qatar\n",
            "       0.26      0.19      0.22        48\n",
            "    SaudiArabia\n",
            "       0.26      0.23      0.24        43\n",
            "          Sudan\n",
            "       0.12      0.08      0.09        51\n",
            "        Tunisia\n",
            "       0.42      0.21      0.28        39\n",
            "            UAE\n",
            "       0.50      0.35      0.41        52\n",
            "          Yemen\n",
            "       0.26      0.34      0.29        41\n",
            "\n",
            "        accuracy                           0.20       675\n",
            "       macro avg       0.25      0.20      0.20       675\n",
            "    weighted avg       0.24      0.20      0.20       675\n",
            "\n",
            "0.1985185185185185\n"
          ],
          "name": "stdout"
        }
      ]
    },
    {
      "cell_type": "code",
      "metadata": {
        "id": "ubrvyZROGoJ7",
        "colab_type": "code",
        "outputId": "63909a40-dbbb-4ea8-f3dd-b9c34c2d0b9d",
        "colab": {
          "base_uri": "https://localhost:8080/",
          "height": 918
        }
      },
      "source": [
        "#@title Modelo 8_VARIETY: BoWEmoji-(RandomForest)\n",
        "x = BoWEmoji\n",
        "y = realVariety\n",
        "\n",
        "from sklearn.model_selection import train_test_split  \n",
        "X_train, X_test, y_train, y_test = train_test_split(x, y, test_size=0.3, random_state=0)  \n",
        "from sklearn.ensemble import RandomForestClassifier\n",
        "classifier = RandomForestClassifier(n_estimators=10000, random_state=0)  \n",
        "classifier.fit(X_train, y_train)\n",
        "\n",
        "y_pred = classifier.predict(X_test) \n",
        "\n",
        "from sklearn.metrics import classification_report, confusion_matrix, accuracy_score\n",
        "print(confusion_matrix(y_test,y_pred))  \n",
        "print(classification_report(y_test,y_pred))  \n",
        "print(accuracy_score(y_test, y_pred))"
      ],
      "execution_count": 0,
      "outputs": [
        {
          "output_type": "stream",
          "text": [
            "[[12  2  1  0  3  2  5  4  0  0  0  0  6  1  1]\n",
            " [ 0 18  0  0  1  3  1  1  3  0  1  2  4  4  3]\n",
            " [ 4  3  4  0  6  2  0  8  3  1  1  0  0  3  5]\n",
            " [ 1  4  0 11  2  0  2  3  1  7  7  3  0 14  2]\n",
            " [ 2  9  2  0  9  2  0  1  3  0  1  4  3  3  3]\n",
            " [ 5  3  3  2  3  4  5  4  1  0  6  7  3  1  5]\n",
            " [ 5  2  2  0  4  4 20  0  0  1  1  3  2  1  4]\n",
            " [ 0  1  3  2  1  1  0 12  0  2  1  3  2  3  3]\n",
            " [ 0  6  1  1  2  2  2  1 10  1  9  2  2  3  7]\n",
            " [ 2  3  0  7  0  5  1  2  1 10  5  0  2  5  5]\n",
            " [ 2  2  1  1  3  0  0  4  0  4 12  4  1  6  3]\n",
            " [ 1  4  2  0  2  3  4  4  3  2  4 12  6  1  3]\n",
            " [ 8  2  1  1  4  2  2  0  2  0  2  1  6  2  6]\n",
            " [ 0  2  2  1  1  1  0  5  1  7  3  0  1 19  9]\n",
            " [ 5  1  2  0  0  0  2  5  0  2  4  2  2  1 15]]\n",
            "                  precision    recall  f1-score   support\n",
            "\n",
            "        Algeria\n",
            "       0.26      0.32      0.29        37\n",
            "          Egypt\n",
            "       0.29      0.44      0.35        41\n",
            "           Iraq\n",
            "       0.17      0.10      0.12        40\n",
            "         Kuwait\n",
            "       0.42      0.19      0.27        57\n",
            "   LebanonSyria\n",
            "       0.22      0.21      0.22        42\n",
            "          Libya\n",
            "       0.13      0.08      0.10        52\n",
            "        Morocco\n",
            "       0.45      0.41      0.43        49\n",
            "           Oman\n",
            "       0.22      0.35      0.27        34\n",
            "PalestineJordan\n",
            "       0.36      0.20      0.26        49\n",
            "          Qatar\n",
            "       0.27      0.21      0.24        48\n",
            "    SaudiArabia\n",
            "       0.21      0.28      0.24        43\n",
            "          Sudan\n",
            "       0.28      0.24      0.26        51\n",
            "        Tunisia\n",
            "       0.15      0.15      0.15        39\n",
            "            UAE\n",
            "       0.28      0.37      0.32        52\n",
            "          Yemen\n",
            "       0.20      0.37      0.26        41\n",
            "\n",
            "        accuracy                           0.26       675\n",
            "       macro avg       0.26      0.26      0.25       675\n",
            "    weighted avg       0.27      0.26      0.25       675\n",
            "\n",
            "0.2577777777777778\n"
          ],
          "name": "stdout"
        }
      ]
    },
    {
      "cell_type": "code",
      "metadata": {
        "id": "6SBvQ3VHG3VD",
        "colab_type": "code",
        "outputId": "12f143c7-ff8d-4645-e64a-e6e4da3331fd",
        "colab": {
          "base_uri": "https://localhost:8080/",
          "height": 918
        }
      },
      "source": [
        "#@title Modelo 9_VARIETY: BoWEmojiBi-(RandomForest)\n",
        "x = BoWEmojiBi\n",
        "y = realVariety\n",
        "\n",
        "from sklearn.model_selection import train_test_split  \n",
        "X_train, X_test, y_train, y_test = train_test_split(x, y, test_size=0.3, random_state=0)  \n",
        "from sklearn.ensemble import RandomForestClassifier\n",
        "classifier = RandomForestClassifier(n_estimators=10000, random_state=0)  \n",
        "classifier.fit(X_train, y_train)\n",
        "\n",
        "y_pred = classifier.predict(X_test) \n",
        "\n",
        "from sklearn.metrics import classification_report, confusion_matrix, accuracy_score\n",
        "print(confusion_matrix(y_test,y_pred))  \n",
        "print(classification_report(y_test,y_pred))  \n",
        "print(accuracy_score(y_test, y_pred))"
      ],
      "execution_count": 0,
      "outputs": [
        {
          "output_type": "stream",
          "text": [
            "[[13  2  1  1  1  2  4  2  1  1  3  0  4  0  2]\n",
            " [ 1 17  0  0  2  1  2  1  2  1  0  1  5  4  4]\n",
            " [ 2  2  6  1  3  4  0  5  2  2  1  0  2  3  7]\n",
            " [ 0  6  5  7  4  0  2  3  0  3 10  2  1 10  4]\n",
            " [ 3  6  2  0  9  3  1  0  2  0  1  4  6  1  4]\n",
            " [ 3  4  3  0  0  2  8  2  1  1  4 11  4  2  7]\n",
            " [ 2  2  1  0  2  3 20  0  1  1  1  4  4  1  7]\n",
            " [ 1  2  3  2  4  2  0  9  0  0  0  4  1  3  3]\n",
            " [ 1  6  2  0  5  1  3  1  7  0  5  4  3  3  8]\n",
            " [ 2  2  0  0  2  5  1  5  1  9  7  1  2  6  5]\n",
            " [ 1  2  2  0  2  0  1  5  1  2 12  3  1  6  5]\n",
            " [ 2  2  1  1  2  2  6  1  3  0  4 13  4  1  9]\n",
            " [ 7  3  4  2  2  3  1  2  0  1  1  1  7  0  5]\n",
            " [ 0  1  1  2  1  2  1  5  0  4  6  1  3 13 12]\n",
            " [ 2  0  3  0  0  2  2  3  1  4  3  1  1  0 19]]\n",
            "                  precision    recall  f1-score   support\n",
            "\n",
            "        Algeria\n",
            "       0.33      0.35      0.34        37\n",
            "          Egypt\n",
            "       0.30      0.41      0.35        41\n",
            "           Iraq\n",
            "       0.18      0.15      0.16        40\n",
            "         Kuwait\n",
            "       0.44      0.12      0.19        57\n",
            "   LebanonSyria\n",
            "       0.23      0.21      0.22        42\n",
            "          Libya\n",
            "       0.06      0.04      0.05        52\n",
            "        Morocco\n",
            "       0.38      0.41      0.40        49\n",
            "           Oman\n",
            "       0.20      0.26      0.23        34\n",
            "PalestineJordan\n",
            "       0.32      0.14      0.20        49\n",
            "          Qatar\n",
            "       0.31      0.19      0.23        48\n",
            "    SaudiArabia\n",
            "       0.21      0.28      0.24        43\n",
            "          Sudan\n",
            "       0.26      0.25      0.26        51\n",
            "        Tunisia\n",
            "       0.15      0.18      0.16        39\n",
            "            UAE\n",
            "       0.25      0.25      0.25        52\n",
            "          Yemen\n",
            "       0.19      0.46      0.27        41\n",
            "\n",
            "        accuracy                           0.24       675\n",
            "       macro avg       0.25      0.25      0.24       675\n",
            "    weighted avg       0.26      0.24      0.23       675\n",
            "\n",
            "0.2414814814814815\n"
          ],
          "name": "stdout"
        }
      ]
    },
    {
      "cell_type": "code",
      "metadata": {
        "id": "TAzJvL1CG9qa",
        "colab_type": "code",
        "outputId": "c1daf593-1094-401f-cd41-e6fa9f9a5138",
        "colab": {
          "base_uri": "https://localhost:8080/",
          "height": 918
        }
      },
      "source": [
        "#@title Modelo 10_VARIETY: BoWEmojiTri-(RandomForest)\n",
        "x = BoWEmojiTri\n",
        "y = realVariety\n",
        "\n",
        "from sklearn.model_selection import train_test_split  \n",
        "X_train, X_test, y_train, y_test = train_test_split(x, y, test_size=0.3, random_state=0)  \n",
        "from sklearn.ensemble import RandomForestClassifier\n",
        "classifier = RandomForestClassifier(n_estimators=10000, random_state=0)  \n",
        "classifier.fit(X_train, y_train)\n",
        "\n",
        "y_pred = classifier.predict(X_test) \n",
        "\n",
        "from sklearn.metrics import classification_report, confusion_matrix, accuracy_score\n",
        "print(confusion_matrix(y_test,y_pred))  \n",
        "print(classification_report(y_test,y_pred))  \n",
        "print(accuracy_score(y_test, y_pred))"
      ],
      "execution_count": 0,
      "outputs": [
        {
          "output_type": "stream",
          "text": [
            "[[10  2  2  1  1  0  7  4  2  0  1  1  1  0  5]\n",
            " [ 3 10  0  2  2  2  1  1  4  1  2  1  4  1  7]\n",
            " [ 2  1  2  1  3  2  0  4  1  3  4  1  0  2 14]\n",
            " [ 2  2  4  4  4  4  5  6  0  4  6  1  3  6  6]\n",
            " [ 3  5  1  0  7  3  1  2  3  0  2  4  5  1  5]\n",
            " [ 2  3  5  2  3  6  7  2  1  1  2  7  1  2  8]\n",
            " [ 2  2  2  0  2  3 18  0  2  1  2  4  2  1  8]\n",
            " [ 4  2  2  2  1  2  0  1  1  3  5  4  1  2  4]\n",
            " [ 2  6  2  2  3  3  5  3  5  0  2  2  4  2  8]\n",
            " [ 3  2  1  0  8  3  2  1  2  4  5  0  2  6  9]\n",
            " [ 3  1  1  3  1  1  1  4  1  0 13  1  2  6  5]\n",
            " [ 1  2  4  1  1  4  5  3  1  0  3 11  3  0 12]\n",
            " [ 6  2  4  2  1  2  1  1  1  0  2  0  4  1 12]\n",
            " [ 2  3  1  2  3  2  1  5  1  2  4  1  1 10 14]\n",
            " [ 3  2  2  0  0  1  2  1  1  1  8  0  0  0 20]]\n",
            "                  precision    recall  f1-score   support\n",
            "\n",
            "        Algeria\n",
            "       0.21      0.27      0.24        37\n",
            "          Egypt\n",
            "       0.22      0.24      0.23        41\n",
            "           Iraq\n",
            "       0.06      0.05      0.05        40\n",
            "         Kuwait\n",
            "       0.18      0.07      0.10        57\n",
            "   LebanonSyria\n",
            "       0.17      0.17      0.17        42\n",
            "          Libya\n",
            "       0.16      0.12      0.13        52\n",
            "        Morocco\n",
            "       0.32      0.37      0.34        49\n",
            "           Oman\n",
            "       0.03      0.03      0.03        34\n",
            "PalestineJordan\n",
            "       0.19      0.10      0.13        49\n",
            "          Qatar\n",
            "       0.20      0.08      0.12        48\n",
            "    SaudiArabia\n",
            "       0.21      0.30      0.25        43\n",
            "          Sudan\n",
            "       0.29      0.22      0.25        51\n",
            "        Tunisia\n",
            "       0.12      0.10      0.11        39\n",
            "            UAE\n",
            "       0.25      0.19      0.22        52\n",
            "          Yemen\n",
            "       0.15      0.49      0.22        41\n",
            "\n",
            "        accuracy                           0.19       675\n",
            "       macro avg       0.18      0.19      0.17       675\n",
            "    weighted avg       0.19      0.19      0.18       675\n",
            "\n",
            "0.18518518518518517\n"
          ],
          "name": "stdout"
        }
      ]
    },
    {
      "cell_type": "markdown",
      "metadata": {
        "id": "Ks71gPURUpVS",
        "colab_type": "text"
      },
      "source": [
        "# 16. Lectura de ficheros de Test"
      ]
    },
    {
      "cell_type": "code",
      "metadata": {
        "id": "0U7ve5VwVSbU",
        "colab_type": "code",
        "colab": {
          "base_uri": "https://localhost:8080/",
          "height": 204
        },
        "outputId": "785c85eb-5a93-4290-fbf2-c9dfd3c05756"
      },
      "source": [
        "#@title Leer XML test y guardar en variables\n",
        "#Se eliminan las variables\n",
        "if 'authorTest' in locals():\n",
        "  del authorTest\n",
        "\n",
        "if 'dataTextTest' in locals():\n",
        "  del dataTextTest\n",
        "\n",
        "if 'emojiTextTest' in locals():\n",
        "  del emojiTextTest\n",
        "  \n",
        "if 'nTweetTest' in locals():\n",
        "  del nTweetTest\n",
        "\n",
        "authorTest = [None]*1000\n",
        "dataTextTest = [None]*1000\n",
        "emojiTextTest = [None]*1000\n",
        "nTweetTest = [None]*1000\n",
        "\n",
        "i = 0\n",
        "for root, dirs, files in os.walk(path_test):\n",
        "  files.sort()\n",
        "  for filename in files:\n",
        "    if (filename.find(\".xml\") != -1):\n",
        "\n",
        "      if (i > 100):\n",
        "        authorTest.append(\"\")\n",
        "        dataTextTest.append(\"\")\n",
        "        emojiTextTest.append(\"\")\n",
        "        nTweetTest.append(\"\")\n",
        "\n",
        "\n",
        "      authorTest[i] = filename[0:-4]\n",
        "      print(str(i+1) + \". \" + authorTest[i])\n",
        "\n",
        "\n",
        "      data = \"\"\n",
        "      dataTextTest[i] = \"\"\n",
        "      emojiTextTest[i] = \"\"\n",
        "      nTweetTest[i] = 0\n",
        "\n",
        "\n",
        "      root = ElementTree.parse(path_test + filename).getroot()\n",
        "      for tweet in root.iter('document'):\n",
        "        data = data + tweet.text\n",
        "        nTweetTest[i] = nTweetTest[i] + 1\n",
        "\n",
        "\n",
        "      #Extraer los emojis  \n",
        "      emojiTextTest[i] = extract_emojis(data)\n",
        "\n",
        "\n",
        "      #Se eliminan las url y menciones\n",
        "      for j in range(len(data)):\n",
        "          dataTextTest[i] = \" \".join([word for word in data.split()\n",
        "                                      if 'http' not in word and '@' not in word and '<' not in word])\n",
        "\n",
        "      #Se eliminan los emojis\n",
        "      dataTextTest[i] = remove_emoji(dataTextTest[i])\n",
        "\n",
        "      \n",
        "      i = i + 1\n",
        "\n",
        "        \n",
        "\n",
        "\n"
      ],
      "execution_count": 311,
      "outputs": [
        {
          "output_type": "stream",
          "text": [
            "710. fb7f5c83d9dc328e7522c161c7dc2762\n",
            "711. fbfe85d3dc8869bedca67da7aac52125\n",
            "712. fd544337aa98ac7fbf2b5f7c3a96c652\n",
            "713. fd899bdf8a8edd0b323e6c9388455d93\n",
            "714. fdb3db79eb46cccfd6e9a9be1702d861\n",
            "715. ff101d0a28cda4b0ecc781197fdb1942\n",
            "716. ff536435c3930271bfed556db8236982\n",
            "717. ff60b07f2bea3fd67b4bf3d2b22b44c5\n",
            "718. ff81cb98be950e893cbaa68a6e30d00d\n",
            "719. ffbf2088d8182934a68ebc89d83205ef\n",
            "720. fff27c009aabc25ad1479796b48492af\n"
          ],
          "name": "stdout"
        }
      ]
    },
    {
      "cell_type": "code",
      "metadata": {
        "id": "hgPKRw6ooUnP",
        "colab_type": "code",
        "colab": {}
      },
      "source": [
        "#@title Guardar las variables del test generadas con Pickle\n",
        "n_authorTest = i\n",
        "with open(path_directory + \"/\" + 'testVariables.pickle', 'wb') as f:\n",
        "  pickle.dump([authorTest, dataTextTest, emojiTextTest, nTweetTest, n_authorTest], f)"
      ],
      "execution_count": 0,
      "outputs": []
    },
    {
      "cell_type": "markdown",
      "metadata": {
        "id": "_ym8mCW2WmmS",
        "colab_type": "text"
      },
      "source": [
        "# 17. Tratamiento de las variables de Test"
      ]
    },
    {
      "cell_type": "code",
      "metadata": {
        "id": "11ncRtCGaS3x",
        "colab_type": "code",
        "colab": {}
      },
      "source": [
        "#@title Tokenizar los emojis del test\n",
        "from nltk.tokenize.casual import TweetTokenizer\n",
        "\n",
        "if 'emojiTokTest' in locals():\n",
        "  del emojiTokTest\n",
        "emojiTokTest = [0]\n",
        "\n",
        "\n",
        "for i in range(0, (n_authorTest)):\n",
        "  if (i > 0):\n",
        "    emojiTokTest.append(0)\n",
        "\n",
        "  emojiTokTest[i] = TweetTokenizer().tokenize(emojiTextTest[i])"
      ],
      "execution_count": 0,
      "outputs": []
    },
    {
      "cell_type": "code",
      "metadata": {
        "id": "N5reVyI1aSt1",
        "colab_type": "code",
        "colab": {}
      },
      "source": [
        "#@title Tokenizar el texto del test\n",
        "if 'textTokTest' in locals():\n",
        "  del textTokTest\n",
        "textTokTest = [0]\n",
        "\n",
        "for i in range(0, (n_authorTest)):\n",
        "  if (i > 0):\n",
        "    textTokTest.append(0)\n",
        "\n",
        "  textTokTest[i] = araby.tokenize(dataTextTest[i])"
      ],
      "execution_count": 0,
      "outputs": []
    },
    {
      "cell_type": "code",
      "metadata": {
        "id": "7zc-vkuJa-cv",
        "colab_type": "code",
        "colab": {}
      },
      "source": [
        "#@title Eliminar signos de puntuación del texto tokenizado de test\n",
        "import re\n",
        "\n",
        "if 'textTokPuncTest' in locals():\n",
        "  del textTokPuncTest\n",
        "textTokPuncTest = [0]\n",
        "\n",
        "for i in range(0, (n_authorTest)):\n",
        "  if (i > 0):\n",
        "    textTokPuncTest.append(0)\n",
        "  \n",
        "  textTokPuncTest[i] = re.sub(r'[^\\w\\s]','',dataTextTest[i])\n",
        "  textTokPuncTest[i] = araby.tokenize(textTokPuncTest[i])"
      ],
      "execution_count": 0,
      "outputs": []
    },
    {
      "cell_type": "code",
      "metadata": {
        "id": "2XhcbSwJcJ9d",
        "colab_type": "code",
        "colab": {}
      },
      "source": [
        "#@title Eliminar StopWordsFull\n",
        "if 'textTokSTFTest' in locals():\n",
        "  del textTokSTFTest\n",
        "textTokSTFTest = [0]\n",
        "\n",
        "for i in range(0, (n_authorTest)):\n",
        "  if (i > 0):\n",
        "    textTokSTFTest.append(0)\n",
        "    \n",
        "  j = 0\n",
        "  filtered_sent = [\"\"]\n",
        "  for w in textTokPuncTest[i]:\n",
        "    if w not in stopwordsfull_arabic:\n",
        "      if (j == 0):\n",
        "        filtered_sent[0] = w\n",
        "      else:\n",
        "        filtered_sent.append(w)\n",
        "      j = j + 1\n",
        "        \n",
        "  textTokSTFTest[i] = filtered_sent"
      ],
      "execution_count": 0,
      "outputs": []
    },
    {
      "cell_type": "code",
      "metadata": {
        "id": "JdA1KXsvc2b1",
        "colab_type": "code",
        "colab": {}
      },
      "source": [
        "#@title Generar BoWTextTest para textTokSTFTest\n",
        "BoWTextTest = Bow(textTokSTFTest,fullTextFrecSTF)"
      ],
      "execution_count": 0,
      "outputs": []
    },
    {
      "cell_type": "code",
      "metadata": {
        "id": "bZ99IqvOdMq1",
        "colab_type": "code",
        "colab": {}
      },
      "source": [
        "#@title Generar BoWTextNOSTTest para textTokTest sin StopWords\n",
        "BoWTextNOSTTest = Bow(textTokTest,fullTextFrec)"
      ],
      "execution_count": 0,
      "outputs": []
    },
    {
      "cell_type": "code",
      "metadata": {
        "id": "0-UX-1O5dh-E",
        "colab_type": "code",
        "colab": {}
      },
      "source": [
        "#@title Generar BoWEmojiTest para emojiTokTest\n",
        "BoWEmojiTest = Bow(emojiTokTest,fullEmojiFrec)"
      ],
      "execution_count": 0,
      "outputs": []
    },
    {
      "cell_type": "markdown",
      "metadata": {
        "id": "7uXkCtKJSvNo",
        "colab_type": "text"
      },
      "source": [
        "# 18. Obtención de predicciones"
      ]
    },
    {
      "cell_type": "code",
      "metadata": {
        "id": "Dhfq9hj7TJ-Y",
        "colab_type": "code",
        "colab": {}
      },
      "source": [
        "#@title Mejor Modelo de AGE: BoWTextNOST + BoWEmoji - (RandomForest)\n",
        "X_trainAge = np.zeros((len(BoWTextNOST), len(BoWTextNOST[0])+len(BoWEmoji[0])))\n",
        "for i in range(len(BoWTextNOST)):\n",
        "  X_trainAge[i] = np.append(BoWTextNOST[i],BoWEmoji[i])\n",
        "  \n",
        "  \n",
        "X_testAge = np.zeros((len(BoWTextNOSTTest), len(BoWTextNOSTTest[0])+len(BoWEmojiTest[0])))\n",
        "for i in range(len(BoWTextNOSTTest)):\n",
        "  X_testAge[i] = np.append(BoWTextNOSTTest[i],BoWEmojiTest[i])\n",
        "\n",
        "y_trainAge = realAge\n",
        "\n",
        "from sklearn.ensemble import RandomForestClassifier\n",
        "classifierAge = RandomForestClassifier(n_estimators=10000, random_state=0)  \n",
        "classifierAge.fit(X_trainAge, y_trainAge)\n",
        "\n",
        "y_predAge = classifierAge.predict(X_testAge) \n"
      ],
      "execution_count": 0,
      "outputs": []
    },
    {
      "cell_type": "code",
      "metadata": {
        "id": "Y5hZ5F1ITRnH",
        "colab_type": "code",
        "colab": {}
      },
      "source": [
        "#@title Mejor Modelo de GENDER: BoWTextNOST + BoWEmoji - (RandomForest)\n",
        "X_trainGender = np.zeros((len(BoWTextNOST), len(BoWTextNOST[0])+len(BoWEmoji[0])))\n",
        "for i in range(len(BoWTextNOST)):\n",
        "  X_trainGender[i] = np.append(BoWTextNOST[i],BoWEmoji[i])\n",
        "\n",
        "X_testGender = np.zeros((len(BoWTextNOSTTest), len(BoWTextNOSTTest[0])+len(BoWEmojiTest[0])))\n",
        "for i in range(len(BoWTextNOSTTest)):\n",
        "  X_testGender[i] = np.append(BoWTextNOSTTest[i],BoWEmojiTest[i])\n",
        "  \n",
        "y_trainGender = realGender\n",
        "\n",
        "from sklearn.ensemble import RandomForestClassifier\n",
        "classifierGender = RandomForestClassifier(n_estimators=10000, random_state=0)  \n",
        "classifierGender.fit(X_trainGender, y_trainGender)\n",
        "\n",
        "y_predGender = classifierGender.predict(X_testGender) \n",
        "\n"
      ],
      "execution_count": 0,
      "outputs": []
    },
    {
      "cell_type": "code",
      "metadata": {
        "id": "cRixgeBTTZIr",
        "colab_type": "code",
        "colab": {}
      },
      "source": [
        "#@title Mejor Modelo de VARIETY: BoWText + BoWEmoji - (RandomForest)\n",
        "X_trainVariety = np.zeros((len(BoWText), len(BoWText[0])+len(BoWEmoji[0])))\n",
        "for i in range(len(BoWText)):\n",
        "  X_trainVariety[i] = np.append(BoWText[i],BoWEmoji[i])\n",
        "\n",
        "X_testVariety = np.zeros((len(BoWTextTest), len(BoWTextTest[0])+len(BoWEmojiTest[0])))\n",
        "for i in range(len(BoWTextTest)):\n",
        "  X_testVariety[i] = np.append(BoWTextTest[i],BoWEmojiTest[i])\n",
        "  \n",
        "y_trainVariety = realVariety\n",
        "\n",
        "from sklearn.ensemble import RandomForestClassifier\n",
        "classifierVariety = RandomForestClassifier(n_estimators=10000, random_state=0)  \n",
        "classifierVariety.fit(X_trainVariety, y_trainVariety)\n",
        "\n",
        "y_predVariety = classifierVariety.predict(X_testVariety) \n",
        "\n"
      ],
      "execution_count": 0,
      "outputs": []
    },
    {
      "cell_type": "code",
      "metadata": {
        "id": "9j_9ANSCjbRL",
        "colab_type": "code",
        "colab": {}
      },
      "source": [
        "#@title Guardar los modelos generados(Ocupan 3 gbs, mejor no hacerlo)\n",
        "with open(path_directory + \"/\" + 'models.pickle', 'wb') as f:\n",
        "  pickle.dump([classifierAge, classifierGender, classifierVariety, y_predAge, y_predGender, y_predVariety], f)"
      ],
      "execution_count": 0,
      "outputs": []
    },
    {
      "cell_type": "code",
      "metadata": {
        "id": "vXKlcSEhkks-",
        "colab_type": "code",
        "colab": {}
      },
      "source": [
        "#@title Guardar las predicciones en fichero txt\n",
        "header = ['AuthorId', 'gender', 'age', 'variety'] \n",
        "\n",
        "\n",
        "import csv\n",
        "\n",
        "with open(path_directory + \"/\" + 'MagdalenaYVino_submission1.txt', 'w') as f:\n",
        "  w = csv.writer(f, delimiter=';')\n",
        "  w.writerow(header)\n",
        "  for i in range(n_authorTest):\n",
        "    row = [authorTest[i], y_predGender[i], y_predAge[i], y_predVariety[i]]\n",
        "    w.writerow(row)"
      ],
      "execution_count": 0,
      "outputs": []
    }
  ]
}